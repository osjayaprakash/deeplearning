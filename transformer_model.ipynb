{
 "cells": [
  {
   "cell_type": "markdown",
   "metadata": {
    "colab_type": "text",
    "id": "view-in-github"
   },
   "source": [
    "<a href=\"https://colab.research.google.com/github/osjayaprakash/deeplearning/blob/main/transformer_model.ipynb\" target=\"_parent\"><img src=\"https://colab.research.google.com/assets/colab-badge.svg\" alt=\"Open In Colab\"/></a>"
   ]
  },
  {
   "cell_type": "code",
   "execution_count": 1,
   "metadata": {
    "id": "xZgd8NVaFjfO"
   },
   "outputs": [
    {
     "name": "stdout",
     "output_type": "stream",
     "text": [
      "Warning: Looks like you're using an outdated `kagglehub` version, please consider updating (latest version: 0.3.4)\n",
      "Path to dataset files: /home/ubuntu/.cache/kagglehub/datasets/shahrukhkhan/im2latex100k/versions/7\n"
     ]
    }
   ],
   "source": [
    "import kagglehub\n",
    "\n",
    "# Download latest version\n",
    "root_dir = kagglehub.dataset_download(\"shahrukhkhan/im2latex100k\")\n",
    "# path = kagglehub.dataset_download(\"gregoryeritsyan/im2latex-230k\")\n",
    "\n",
    "print(\"Path to dataset files:\", root_dir)"
   ]
  },
  {
   "cell_type": "code",
   "execution_count": 2,
   "metadata": {
    "id": "6TKz3RA-FuOp"
   },
   "outputs": [
    {
     "name": "stderr",
     "output_type": "stream",
     "text": [
      "2024-11-30 02:47:09.182611: I tensorflow/core/platform/cpu_feature_guard.cc:182] This TensorFlow binary is optimized to use available CPU instructions in performance-critical operations.\n",
      "To enable the following instructions: AVX2 FMA, in other operations, rebuild TensorFlow with the appropriate compiler flags.\n",
      "2024-11-30 02:47:10.203545: W tensorflow/compiler/tf2tensorrt/utils/py_utils.cc:38] TF-TRT Warning: Could not find TensorRT\n"
     ]
    },
    {
     "name": "stdout",
     "output_type": "stream",
     "text": [
      "WARNING:tensorflow:Mixed precision compatibility check (mixed_float16): WARNING\n",
      "Your GPU may run slowly with dtype policy mixed_float16 because it does not have compute capability of at least 7.0. Your GPU:\n",
      "  Tesla K80, compute capability 3.7\n",
      "See https://developer.nvidia.com/cuda-gpus for a list of GPUs and their compute capabilities.\n",
      "If you will use compatible GPU(s) not attached to this host, e.g. by running a multi-worker model, you can ignore this warning. This message will only be logged once\n",
      "Python Platform: Linux-5.15.0-1071-aws-x86_64-with-glibc2.29\n",
      "Tensor Flow Version: 2.13.1\n",
      "\n",
      "Python 3.8.10 (default, Nov  7 2024, 13:10:47) \n",
      "[GCC 9.4.0]\n",
      "Pandas 2.0.3\n",
      "Scikit-Learn 1.3.2\n",
      "SciPy 1.10.1\n",
      "[PhysicalDevice(name='/physical_device:CPU:0', device_type='CPU'), PhysicalDevice(name='/physical_device:GPU:0', device_type='GPU')]\n"
     ]
    },
    {
     "name": "stderr",
     "output_type": "stream",
     "text": [
      "2024-11-30 02:47:11.989281: I tensorflow/compiler/xla/stream_executor/cuda/cuda_gpu_executor.cc:995] successful NUMA node read from SysFS had negative value (-1), but there must be at least one NUMA node, so returning NUMA node zero. See more at https://github.com/torvalds/linux/blob/v6.0/Documentation/ABI/testing/sysfs-bus-pci#L344-L355\n",
      "2024-11-30 02:47:12.028055: I tensorflow/compiler/xla/stream_executor/cuda/cuda_gpu_executor.cc:995] successful NUMA node read from SysFS had negative value (-1), but there must be at least one NUMA node, so returning NUMA node zero. See more at https://github.com/torvalds/linux/blob/v6.0/Documentation/ABI/testing/sysfs-bus-pci#L344-L355\n",
      "2024-11-30 02:47:12.028922: I tensorflow/compiler/xla/stream_executor/cuda/cuda_gpu_executor.cc:995] successful NUMA node read from SysFS had negative value (-1), but there must be at least one NUMA node, so returning NUMA node zero. See more at https://github.com/torvalds/linux/blob/v6.0/Documentation/ABI/testing/sysfs-bus-pci#L344-L355\n",
      "2024-11-30 02:47:12.029969: I tensorflow/compiler/xla/stream_executor/cuda/cuda_gpu_executor.cc:995] successful NUMA node read from SysFS had negative value (-1), but there must be at least one NUMA node, so returning NUMA node zero. See more at https://github.com/torvalds/linux/blob/v6.0/Documentation/ABI/testing/sysfs-bus-pci#L344-L355\n"
     ]
    }
   ],
   "source": [
    "import tensorflow as tf\n",
    "from tensorflow.keras.models import load_model\n",
    "from tensorflow.keras.layers import (Input, Conv2D, MaxPooling2D, Flatten,\n",
    "                                     Dense, GRU, Embedding, Bidirectional,\n",
    "                                     TimeDistributed, Concatenate, RepeatVector, LSTM, MultiHeadAttention, LayerNormalization, Add, Dropout )\n",
    "from tensorflow.keras.models import Model\n",
    "from tensorflow.keras.preprocessing.text import Tokenizer\n",
    "from tensorflow.keras.preprocessing.sequence import pad_sequences\n",
    "import numpy as np\n",
    "import matplotlib.pyplot as plt\n",
    "import platform\n",
    "import sys\n",
    "import pandas as pd\n",
    "import sklearn as sk\n",
    "import scipy as sp\n",
    "from tensorflow.python.ops.numpy_ops import np_config  \n",
    "import einops\n",
    "\n",
    "tf.keras.mixed_precision.set_global_policy('mixed_float16')\n",
    "np_config.enable_numpy_behavior()\n",
    "tf.config.experimental.list_physical_devices('GPU')\n",
    "tf.config.optimizer.set_jit(False)\n",
    "print(f\"Python Platform: {platform.platform()}\")\n",
    "print(f\"Tensor Flow Version: {tf.__version__}\")\n",
    "#print(f\"Keras Version: {tf.keras.__version__}\")\n",
    "print()\n",
    "print(f\"Python {sys.version}\")\n",
    "print(f\"Pandas {pd.__version__}\")\n",
    "print(f\"Scikit-Learn {sk.__version__}\")\n",
    "print(f\"SciPy {sp.__version__}\")\n",
    "print(tf.config.list_physical_devices())"
   ]
  },
  {
   "cell_type": "markdown",
   "metadata": {
    "id": "Qo6QNApGGgIk"
   },
   "source": [
    "# Preprocess"
   ]
  },
  {
   "cell_type": "code",
   "execution_count": 5,
   "metadata": {},
   "outputs": [],
   "source": [
    "image_size = 256  # We'll resize input images to this size\n",
    "IMG_SHAPE = (256, 256, 1)\n",
    "EMBEDDING_DIM = 256\n",
    "n = 1000"
   ]
  },
  {
   "cell_type": "code",
   "execution_count": 6,
   "metadata": {
    "id": "wAMBW0OFF_VN"
   },
   "outputs": [],
   "source": [
    "def preprocess_image(image):\n",
    "    \"\"\"Preprocess the input image: Resize and normalize.\"\"\"\n",
    "    image = tf.image.resize(image, (image_size, image_size))  # Resize to (50, 200)\n",
    "    image = image / 255.0  # Normalize to [0, 1]\n",
    "    return image\n",
    "\n",
    "def load_and_preprocess_images(image_paths):\n",
    "    \"\"\"Load and preprocess a batch of images.\"\"\"\n",
    "    # Use Gray scale\n",
    "    images = [preprocess_image(tf.io.decode_image(tf.io.read_file(path), channels=1))\n",
    "              for path in image_paths]\n",
    "    return tf.stack(images)\n",
    "\n",
    "def prepare_sequences(latex_texts, max_seq_length):\n",
    "    \"\"\"Convert LaTeX texts to padded sequences of tokens.\"\"\"\n",
    "    sequences = [text_to_sequence(text) for text in latex_texts]\n",
    "    return pad_sequences(sequences, maxlen=max_seq_length, padding='post')\n"
   ]
  },
  {
   "cell_type": "code",
   "execution_count": 7,
   "metadata": {
    "id": "4NIjhtisIi1W"
   },
   "outputs": [
    {
     "name": "stderr",
     "output_type": "stream",
     "text": [
      "2024-11-30 02:47:23.156815: I tensorflow/compiler/xla/stream_executor/cuda/cuda_gpu_executor.cc:995] successful NUMA node read from SysFS had negative value (-1), but there must be at least one NUMA node, so returning NUMA node zero. See more at https://github.com/torvalds/linux/blob/v6.0/Documentation/ABI/testing/sysfs-bus-pci#L344-L355\n",
      "2024-11-30 02:47:23.157683: I tensorflow/compiler/xla/stream_executor/cuda/cuda_gpu_executor.cc:995] successful NUMA node read from SysFS had negative value (-1), but there must be at least one NUMA node, so returning NUMA node zero. See more at https://github.com/torvalds/linux/blob/v6.0/Documentation/ABI/testing/sysfs-bus-pci#L344-L355\n",
      "2024-11-30 02:47:23.158518: I tensorflow/compiler/xla/stream_executor/cuda/cuda_gpu_executor.cc:995] successful NUMA node read from SysFS had negative value (-1), but there must be at least one NUMA node, so returning NUMA node zero. See more at https://github.com/torvalds/linux/blob/v6.0/Documentation/ABI/testing/sysfs-bus-pci#L344-L355\n",
      "2024-11-30 02:47:23.828769: I tensorflow/compiler/xla/stream_executor/cuda/cuda_gpu_executor.cc:995] successful NUMA node read from SysFS had negative value (-1), but there must be at least one NUMA node, so returning NUMA node zero. See more at https://github.com/torvalds/linux/blob/v6.0/Documentation/ABI/testing/sysfs-bus-pci#L344-L355\n",
      "2024-11-30 02:47:23.829581: I tensorflow/compiler/xla/stream_executor/cuda/cuda_gpu_executor.cc:995] successful NUMA node read from SysFS had negative value (-1), but there must be at least one NUMA node, so returning NUMA node zero. See more at https://github.com/torvalds/linux/blob/v6.0/Documentation/ABI/testing/sysfs-bus-pci#L344-L355\n",
      "2024-11-30 02:47:23.830409: I tensorflow/compiler/xla/stream_executor/cuda/cuda_gpu_executor.cc:995] successful NUMA node read from SysFS had negative value (-1), but there must be at least one NUMA node, so returning NUMA node zero. See more at https://github.com/torvalds/linux/blob/v6.0/Documentation/ABI/testing/sysfs-bus-pci#L344-L355\n",
      "2024-11-30 02:47:23.831126: I tensorflow/core/common_runtime/gpu/gpu_device.cc:1639] Created device /job:localhost/replica:0/task:0/device:GPU:0 with 10786 MB memory:  -> device: 0, name: Tesla K80, pci bus id: 0000:00:1e.0, compute capability: 3.7\n"
     ]
    }
   ],
   "source": [
    "# %%time\n",
    "# %%prun\n",
    "\n",
    "df = pd.read_csv(f\"{root_dir}/im2latex_train.csv\", nrows=n)\n",
    "\n",
    "train_image_paths = []\n",
    "train_latex_texts = []\n",
    "\n",
    "for index, row in df.iterrows():\n",
    "    train_image_paths += [f\"{root_dir}//formula_images_processed/formula_images_processed/{row.image}\"]\n",
    "    train_latex_texts += [\"[START] \" + row.formula + \" [END]\"]\n",
    "\n",
    "train_images = load_and_preprocess_images(train_image_paths)\n",
    "# Enable Numpy behaviour of TF\n",
    "# tf.experimental.numpy.experimental_enable_numpy_behavior()\n",
    "\n",
    "# vocab_size, max_seq_length = fit_tokenizer(train_latex_texts)\n",
    "\n",
    "# train_sequences = prepare_sequences(train_latex_texts, max_seq_length)\n",
    "# #train_sequences = np.expand_dims(train_sequences, -1)\n",
    "# print(\"train_images:\", train_images.shape)\n",
    "# print(\"train_sequences:\", train_sequences.shape)"
   ]
  },
  {
   "cell_type": "code",
   "execution_count": 8,
   "metadata": {
    "id": "GjYzQHDSAAI1"
   },
   "outputs": [],
   "source": [
    "vocabulary_size = 5000\n",
    "tokenizer = tf.keras.layers.TextVectorization(\n",
    "    max_tokens=vocabulary_size, standardize = None)"
   ]
  },
  {
   "cell_type": "code",
   "execution_count": 9,
   "metadata": {
    "id": "WpXdTtsaAAI1"
   },
   "outputs": [],
   "source": [
    "tokenizer.adapt(train_latex_texts)"
   ]
  },
  {
   "cell_type": "code",
   "execution_count": 10,
   "metadata": {
    "id": "WJgjaXn2AAI3"
   },
   "outputs": [],
   "source": [
    "latex_labels = tokenizer(train_latex_texts)\n",
    "train_sequences = np.asarray(latex_labels)\n",
    "input_labels = train_sequences[..., :-1]\n",
    "output_labels = train_sequences[..., 1:]"
   ]
  },
  {
   "cell_type": "code",
   "execution_count": 11,
   "metadata": {
    "id": "az_S8OFzIvc1"
   },
   "outputs": [
    {
     "name": "stdout",
     "output_type": "stream",
     "text": [
      "(1000, 149)\n",
      "(1000, 256, 256, 1)\n",
      "{'': 0, '[UNK]': 1, '}': 2, '{': 3, '_': 4, '^': 5, '2': 6, '(': 7, ')': 8, '=': 9, '1': 10, '-': 11, ',': 12, '[START]': 13, '[END]': 14, '+': 15, '\\\\frac': 16, 'i': 17, '0': 18, 'x': 19, 'a': 20, 'n': 21, '\\\\,': 22, '.': 23, 'd': 24, '\\\\mu': 25, 'm': 26, '\\\\partial': 27, 'e': 28, 'p': 29, 'k': 30, 'c': 31, '\\\\;': 32, '~': 33, 'j': 34, 'A': 35, 's': 36, '\\\\alpha': 37, 't': 38, 'r': 39, 'l': 40, '\\\\right)': 41, '\\\\left(': 42, '\\\\nu': 43, '3': 44, 'g': 45, '\\\\prime': 46, '4': 47, '\\\\': 48, '|': 49, '\\\\pi': 50, '\\\\mathrm': 51, '\\\\phi': 52, 'b': 53, '\\\\beta': 54, '[': 55, ']': 56, '\\\\delta': 57, 'z': 58, 'q': 59, 'D': 60, 'T': 61, '\\\\cal': 62, 'R': 63, '\\\\int': 64, '\\\\gamma': 65, '\\\\psi': 66, '\\\\\\\\': 67, 'N': 68, 'B': 69, 'y': 70, '\\\\operatorname': 71, '&': 72, 'S': 73, 'f': 74, '\\\\theta': 75, '\\\\lambda': 76, '/': 77, '\\\\bar': 78, 'L': 79, 'M': 80, 'h': 81, '\\\\hat': 82, 'H': 83, 'E': 84, 'F': 85, '\\\\tilde': 86, '\\\\sqrt': 87, '\\\\sum': 88, 'I': 89, '\\\\xi': 90, '\\\\rho': 91, 'u': 92, '\\\\sigma': 93, 'C': 94, '\\\\tau': 95, '\\\\quad': 96, 'o': 97, 'P': 98, 'G': 99, '\\\\eta': 100, '\\\\Phi': 101, '\\\\epsilon': 102, '\\\\bf': 103, 'V': 104, '\\\\pm': 105, 'X': 106, 'K': 107, '\\\\omega': 108, '\\\\Delta': 109, '\\\\end{array}': 110, '\\\\begin{array}': 111, 'Q': 112, ';': 113, '*': 114, 'Z': 115, 'J': 116, '\\\\infty': 117, '\\\\Gamma': 118, 'U': 119, '\\\\cdot': 120, '\\\\rangle': 121, '\\\\overline': 122, '\\\\right]': 123, '\\\\left[': 124, 'W': 125, '5': 126, '6': 127, '\\\\vec': 128, '\\\\qquad': 129, '\\\\varphi': 130, '\\\\Lambda': 131, 'v': 132, '\\\\kappa': 133, '\\\\equiv': 134, 'w': 135, '\\\\dagger': 136, '\\\\Psi': 137, '8': 138, '\\\\langle': 139, '\\\\Omega': 140, '\\\\varepsilon': 141, '\\\\zeta': 142, '\\\\}': 143, '\\\\Sigma': 144, '\\\\{': 145, '\\\\!': 146, '\\\\vert': 147, '\\\\chi': 148, '\\\\ldots': 149, '\\\\dot': 150, 'Y': 151, '>': 152, '\\\\nabla': 153, '\\\\hspace': 154, '\\\\cdots': 155, '\\\\rightarrow': 156, '\\\\mathcal': 157, '<': 158, ':': 159, '\\\\left\\\\{': 160, '\\\\Pi': 161, '\\\\times': 162, '\\\\sim': 163, '\\\\right|': 164, '\\\\prod': 165, '\\\\:': 166, '7': 167, '!': 168, '\\\\otimes': 169, '\\\\operatorname*': 170, '\\\\left|': 171, 'O': 172, '\\\\wedge': 173, '\\\\right\\\\}': 174, '\\\\ell': 175, '9': 176, '\\\\widehat': 177, '\\\\to': 178, '\\\\Big': 179, '\\\\widetilde': 180, '\\\\in': 181, '\\\\displaystyle': 182, '\\\\approx': 183, '\\\\boldmath': 184, '\\\\mathbf': 185, '\\\\dots': 186, '\\\\ast': 187, '\\\\vartheta': 188, '\\\\stackrel': 189, '\\\\right\\\\rangle': 190, '\\\\mp': 191, '\\\\Theta': 192, '\\\\textstyle': 193, '\\\\right.': 194, '\\\\Bigr': 195, '\\\\Bigl': 196, '\\\\triangle': 197, '\\\\star': 198, '\\\\neq': 199, '\\\\left\\\\langle': 200, '\\\\hbar': 201, '\\\\underline': 202, '\\\\simeq': 203, '\\\\left.': 204, '\\\\Xi': 205, '\\\\sp': 206, '\\\\nonumber': 207, '\\\\vspace': 208, '\\\\mid': 209, '\\\\dag': 210, '\\\\big': 211, '--': 212, '\\\\varrho': 213, '\\\\propto': 214, '\\\\longrightarrow': 215, '\\\\leq': 216, '\\\\geq': 217, '\\\\forall': 218, '\\\\ddot': 219, '\\\\biggl': 220, \"'\": 221, '\\\\textrm': 222, '\\\\small': 223, '\\\\perp': 224, '\\\\oint': 225, '\\\\mapsto': 226, '\\\\imath': 227, '\\\\cong': 228, '\\\\circ': 229, '\\\\biggr': 230, '\\\\bigg': 231, '\\\\Bigg': 232, '\\\\slash': 233, '\\\\scriptsize': 234, '\\\\rbrack': 235, '\\\\overrightarrow': 236, '\\\\oplus': 237, '\\\\lbrack': 238, '\\\\varpi': 239, '\\\\tiny': 240, '\\\\thinspace': 241, '\\\\smallskip': 242, '\\\\scriptstyle': 243, '\\\\rightleftharpoons': 244, '\\\\overleftarrow': 245, '\\\\leftrightarrow': 246, '\\\\le': 247, '\\\\jmath': 248, '\\\\binom': 249, '\\\\bigr': 250, '\\\\bigl': 251, '\\\\Rightarrow': 252, '\\\\wp': 253, '\\\\tt': 254, '\\\\subset': 255, '\\\\rightharpoonup': 256, '\\\\phantom': 257, '\\\\parallel': 258, '\\\\mathop': 259, '\\\\longleftrightarrow': 260, '\\\\left\\\\vert': 261, '\\\\it': 262, '\\\\hline': 263, '\\\\ge': 264, '\\\\footnotesize': 265, '\\\\d': 266, '\\\\c': 267, '\\\\breve': 268, '\\\\bot': 269, '\\\\bigtriangleup': 270, '\\\\b': 271, '\\\\Upsilon': 272, '\\\\Re': 273, '\\\\Longrightarrow': 274, '\\\\L': 275, '\\\\Im': 276}\n"
     ]
    }
   ],
   "source": [
    "print(latex_labels.shape)\n",
    "print(train_images.shape)\n",
    "vocab_dict = {name: id for id, name in enumerate(tokenizer.get_vocabulary())}\n",
    "print(vocab_dict)"
   ]
  },
  {
   "cell_type": "code",
   "execution_count": 12,
   "metadata": {},
   "outputs": [
    {
     "name": "stdout",
     "output_type": "stream",
     "text": [
      "[START] \\phi ( \\Gamma ) ( m ; p _ { i } ) = \\int _ { 0 } ^ { \\infty } \\frac { F _ { \\Gamma } ( r ; m ; p _ { i } ) } { r } d r , [END]\n",
      "[ 13  52   7 118   8   7  26 113  29   4   3  17   2   8   9  64   4   3\n",
      "  18   2   5   3 117   2  16   3  85   4   3 118   2   7  39 113  26 113\n",
      "  29   4   3  17   2   8   2   3  39   2  24  39  12  14   0   0   0   0\n",
      "   0   0   0   0   0   0   0   0   0   0   0   0   0   0   0   0   0   0\n",
      "   0   0   0   0   0   0   0   0   0   0   0   0   0   0   0   0   0   0\n",
      "   0   0   0   0   0   0   0   0   0   0   0   0   0   0   0   0   0   0\n",
      "   0   0   0   0   0   0   0   0   0   0   0   0   0   0   0   0   0   0\n",
      "   0   0   0   0   0   0   0   0   0   0   0   0   0   0   0   0   0   0\n",
      "   0   0   0   0]\n",
      "[ 52   7 118   8   7  26 113  29   4   3  17   2   8   9  64   4   3  18\n",
      "   2   5   3 117   2  16   3  85   4   3 118   2   7  39 113  26 113  29\n",
      "   4   3  17   2   8   2   3  39   2  24  39  12  14   0   0   0   0   0\n",
      "   0   0   0   0   0   0   0   0   0   0   0   0   0   0   0   0   0   0\n",
      "   0   0   0   0   0   0   0   0   0   0   0   0   0   0   0   0   0   0\n",
      "   0   0   0   0   0   0   0   0   0   0   0   0   0   0   0   0   0   0\n",
      "   0   0   0   0   0   0   0   0   0   0   0   0   0   0   0   0   0   0\n",
      "   0   0   0   0   0   0   0   0   0   0   0   0   0   0   0   0   0   0\n",
      "   0   0   0   0]\n"
     ]
    },
    {
     "data": {
      "image/png": "[encoded data removed]",
      "text/plain": [
       "<Figure size 640x480 with 1 Axes>"
      ]
     },
     "metadata": {},
     "output_type": "display_data"
    }
   ],
   "source": [
    "idx = np.random.choice(range(train_images.shape[0]))\n",
    "image = train_images[idx]\n",
    "plt.imshow(image.numpy(), cmap=\"gray\")\n",
    "print(train_latex_texts[idx])\n",
    "print(input_labels[idx])\n",
    "print(output_labels[idx])"
   ]
  },
  {
   "cell_type": "markdown",
   "metadata": {
    "id": "Yqt7tRm5AAI5"
   },
   "source": [
    "## Transformer Model"
   ]
  },
  {
   "cell_type": "code",
   "execution_count": 13,
   "metadata": {
    "id": "Accx5CSIGji3"
   },
   "outputs": [
    {
     "name": "stdout",
     "output_type": "stream",
     "text": [
      "1764\n"
     ]
    }
   ],
   "source": [
    "\n",
    "\n",
    "learning_rate = 0.001\n",
    "weight_decay = 0.0001\n",
    "batch_size = 256\n",
    "num_epochs = 10  # For real training, use num_epochs=100. 10 is a test value\n",
    "patch_size = 6  # Size of the patches to be extract from the input images\n",
    "num_patches = (image_size // patch_size) ** 2\n",
    "projection_dim = EMBEDDING_DIM\n",
    "num_heads = 4\n",
    "transformer_units = [\n",
    "    projection_dim * 2,\n",
    "    projection_dim,\n",
    "]  # Size of the transformer layers\n",
    "transformer_layers = 8\n",
    "mlp_head_units = [2048, 1024]\n",
    "\n",
    "lstm_units = 256\n",
    "max_seq_len_1 = max(len(seq) for seq in latex_labels) - 1\n",
    "print(num_patches)"
   ]
  },
  {
   "cell_type": "code",
   "execution_count": 14,
   "metadata": {
    "id": "XW0usbBPGATy"
   },
   "outputs": [],
   "source": [
    "class Patches(tf.keras.layers.Layer):\n",
    "    def __init__(self, patch_size):\n",
    "        super().__init__()\n",
    "        self.patch_size = patch_size\n",
    "\n",
    "    def call(self, images):\n",
    "        input_shape = tf.raw_ops.Shape(input=images)\n",
    "        batch_size = input_shape[0]\n",
    "        height = input_shape[1]\n",
    "        width = input_shape[2]\n",
    "        channels = input_shape[3]\n",
    "        num_patches_h = height // self.patch_size\n",
    "        num_patches_w = width // self.patch_size\n",
    "        patches = tf.image.extract_patches(images=images, sizes=[1,self.patch_size, self.patch_size,1], strides=[1,self.patch_size, self.patch_size,1], padding='VALID', rates=[1, 1, 1, 1])\n",
    "        new_shape = (batch_size, num_patches_h * num_patches_w, self.patch_size * self.patch_size * channels)\n",
    "        # print(f\"PATCHES: {patches.shape}\")\n",
    "        # print(f\"RESHAPE: {new_shape}\")\n",
    "        patches = tf.reshape(\n",
    "            patches,\n",
    "            shape=new_shape,\n",
    "        )\n",
    "        return patches\n",
    "\n",
    "    def get_config(self):\n",
    "        config = super().get_config()\n",
    "        config.update({\"patch_size\": self.patch_size})\n",
    "        return config"
   ]
  },
  {
   "cell_type": "code",
   "execution_count": 15,
   "metadata": {},
   "outputs": [],
   "source": [
    "# plt.imshow(image.numpy(), cmap=\"gray\")\n",
    "# plt.axis(\"off\")\n",
    "# image = tf.expand_dims(image, axis = 0)\n",
    "\n",
    "# print(f\"Image size: {image.shape}\")\n",
    "# patches = Patches(patch_size)(image)\n",
    "# print(f\"Image size: {image.shape}\")\n",
    "# print(f\"Patch size: {patch_size} X {patch_size}\")\n",
    "# print(f\"Patches per image: {patches.shape[1]}\")\n",
    "# print(f\"Elements per patch: {patches.shape[-1]}\")\n",
    "\n",
    "# n = int(np.sqrt(patches.shape[1]))\n",
    "# plt.figure(figsize=(4, 4))\n",
    "# for i, patch in enumerate(patches[0]):\n",
    "#     ax = plt.subplot(n, n, i + 1)\n",
    "#     patch_img = tf.reshape(patch, (patch_size, patch_size, 1))\n",
    "#     plt.imshow(patch_img.numpy(), cmap='gray')\n",
    "#     plt.axis(\"off\")"
   ]
  },
  {
   "cell_type": "code",
   "execution_count": 16,
   "metadata": {
    "id": "xnbps4-JHS4b"
   },
   "outputs": [],
   "source": [
    "def mlp(x, hidden_units, dropout_rate):\n",
    "    for units in hidden_units:\n",
    "        x = Dense(units, activation=tf.keras.activations.gelu)(x)\n",
    "        x = Dropout(dropout_rate)(x)\n",
    "    return x"
   ]
  },
  {
   "cell_type": "code",
   "execution_count": 17,
   "metadata": {
    "id": "DWhOTG_7GRpx"
   },
   "outputs": [],
   "source": [
    "class PatchEncoder(tf.keras.layers.Layer):\n",
    "    def __init__(self, num_patches, projection_dim):\n",
    "        super().__init__()\n",
    "        self.num_patches = num_patches\n",
    "        self.projection = Dense(units=projection_dim)\n",
    "        self.position_embedding = Embedding(\n",
    "            input_dim=num_patches, output_dim=projection_dim\n",
    "        )\n",
    "\n",
    "    def call(self, patch):\n",
    "        positions = tf.raw_ops.ExpandDims(\n",
    "           input = tf.experimental.numpy.arange(start=0, stop=self.num_patches, step=1), axis=0\n",
    "        )\n",
    "        projected_patches = self.projection(patch)\n",
    "        #print(projected_patches.shape)\n",
    "        position_embeddings = self.position_embedding(positions)\n",
    "        #print(position_embeddings.shape)\n",
    "        encoded = projected_patches + position_embeddings\n",
    "        return encoded\n",
    "\n",
    "    def get_config(self):\n",
    "        config = super().get_config()\n",
    "        config.update({\"num_patches\": self.num_patches})\n",
    "        return config"
   ]
  },
  {
   "cell_type": "code",
   "execution_count": 18,
   "metadata": {
    "id": "NHZEjUHRGYcS"
   },
   "outputs": [],
   "source": [
    "def vision_transformer_encoder(input_shape):\n",
    "    inputs =  Input(shape=input_shape)\n",
    "    # Create patches.\n",
    "    patches = Patches(patch_size)(inputs)\n",
    "    # Encode patches.\n",
    "    encoded_patches = PatchEncoder(num_patches, projection_dim)(patches)\n",
    "\n",
    "    # Create multiple layers of the Transformer block.\n",
    "    for _ in range(transformer_layers):\n",
    "        # Layer normalization 1.\n",
    "        x1 = LayerNormalization(epsilon=1e-6)(encoded_patches)\n",
    "        # Create a multi-head attention layer.\n",
    "        attention_output = MultiHeadAttention(\n",
    "            num_heads=num_heads, key_dim=projection_dim, dropout=0.1\n",
    "        )(x1, x1)\n",
    "        # Skip connection 1.\n",
    "        x2 = Add()([attention_output, encoded_patches])\n",
    "        # Layer normalization 2.\n",
    "        x3 = LayerNormalization(epsilon=1e-6)(x2)\n",
    "        # MLP.\n",
    "        x3 = mlp(x3, hidden_units=transformer_units, dropout_rate=0.1)\n",
    "        # Skip connection 2.\n",
    "        encoded_patches = tf.keras.layers.Add()([x3, x2])\n",
    "\n",
    "    # Create a [batch_size, projection_dim] tensor.\n",
    "    representation = LayerNormalization(epsilon=1e-6)(encoded_patches)\n",
    "    # representation = Flatten()(representation)\n",
    "    # representation = Dropout(0.2)(representation)\n",
    "    # Add MLP.\n",
    "    # features = mlp(representation, hidden_units=mlp_head_units, dropout_rate=0.2)\n",
    "    # Classify outputs.\n",
    "    #logits = tf.keras.layers.Dense(2)(features)\n",
    "    # Create the Keras model.\n",
    "    model = tf.keras.Model(inputs=inputs, outputs=representation)\n",
    "    return model"
   ]
  },
  {
   "cell_type": "code",
   "execution_count": 19,
   "metadata": {
    "id": "T8jXN2GlGyNC"
   },
   "outputs": [],
   "source": [
    "vit = vision_transformer_encoder(IMG_SHAPE)"
   ]
  },
  {
   "cell_type": "code",
   "execution_count": 20,
   "metadata": {
    "id": "_1htX_wlLj4W"
   },
   "outputs": [
    {
     "name": "stdout",
     "output_type": "stream",
     "text": [
      "Model: \"model\"\n",
      "__________________________________________________________________________________________________\n",
      " Layer (type)                Output Shape                 Param #   Connected to                  \n",
      "==================================================================================================\n",
      " input_1 (InputLayer)        [(None, 256, 256, 1)]        0         []                            \n",
      "                                                                                                  \n",
      " patches (Patches)           (None, 1764, 36)             0         ['input_1[0][0]']             \n",
      "                                                                                                  \n",
      " patch_encoder (PatchEncode  (None, 1764, 256)            461056    ['patches[0][0]']             \n",
      " r)                                                                                               \n",
      "                                                                                                  \n",
      " layer_normalization (Layer  (None, 1764, 256)            512       ['patch_encoder[0][0]']       \n",
      " Normalization)                                                                                   \n",
      "                                                                                                  \n",
      " multi_head_attention (Mult  (None, 1764, 256)            1051904   ['layer_normalization[0][0]', \n",
      " iHeadAttention)                                                     'layer_normalization[0][0]'] \n",
      "                                                                                                  \n",
      " add (Add)                   (None, 1764, 256)            0         ['multi_head_attention[0][0]',\n",
      "                                                                     'patch_encoder[0][0]']       \n",
      "                                                                                                  \n",
      " layer_normalization_1 (Lay  (None, 1764, 256)            512       ['add[0][0]']                 \n",
      " erNormalization)                                                                                 \n",
      "                                                                                                  \n",
      " dense_1 (Dense)             (None, 1764, 512)            131584    ['layer_normalization_1[0][0]'\n",
      "                                                                    ]                             \n",
      "                                                                                                  \n",
      " dropout (Dropout)           (None, 1764, 512)            0         ['dense_1[0][0]']             \n",
      "                                                                                                  \n",
      " dense_2 (Dense)             (None, 1764, 256)            131328    ['dropout[0][0]']             \n",
      "                                                                                                  \n",
      " dropout_1 (Dropout)         (None, 1764, 256)            0         ['dense_2[0][0]']             \n",
      "                                                                                                  \n",
      " add_1 (Add)                 (None, 1764, 256)            0         ['dropout_1[0][0]',           \n",
      "                                                                     'add[0][0]']                 \n",
      "                                                                                                  \n",
      " layer_normalization_2 (Lay  (None, 1764, 256)            512       ['add_1[0][0]']               \n",
      " erNormalization)                                                                                 \n",
      "                                                                                                  \n",
      " multi_head_attention_1 (Mu  (None, 1764, 256)            1051904   ['layer_normalization_2[0][0]'\n",
      " ltiHeadAttention)                                                  , 'layer_normalization_2[0][0]\n",
      "                                                                    ']                            \n",
      "                                                                                                  \n",
      " add_2 (Add)                 (None, 1764, 256)            0         ['multi_head_attention_1[0][0]\n",
      "                                                                    ',                            \n",
      "                                                                     'add_1[0][0]']               \n",
      "                                                                                                  \n",
      " layer_normalization_3 (Lay  (None, 1764, 256)            512       ['add_2[0][0]']               \n",
      " erNormalization)                                                                                 \n",
      "                                                                                                  \n",
      " dense_3 (Dense)             (None, 1764, 512)            131584    ['layer_normalization_3[0][0]'\n",
      "                                                                    ]                             \n",
      "                                                                                                  \n",
      " dropout_2 (Dropout)         (None, 1764, 512)            0         ['dense_3[0][0]']             \n",
      "                                                                                                  \n",
      " dense_4 (Dense)             (None, 1764, 256)            131328    ['dropout_2[0][0]']           \n",
      "                                                                                                  \n",
      " dropout_3 (Dropout)         (None, 1764, 256)            0         ['dense_4[0][0]']             \n",
      "                                                                                                  \n",
      " add_3 (Add)                 (None, 1764, 256)            0         ['dropout_3[0][0]',           \n",
      "                                                                     'add_2[0][0]']               \n",
      "                                                                                                  \n",
      " layer_normalization_4 (Lay  (None, 1764, 256)            512       ['add_3[0][0]']               \n",
      " erNormalization)                                                                                 \n",
      "                                                                                                  \n",
      " multi_head_attention_2 (Mu  (None, 1764, 256)            1051904   ['layer_normalization_4[0][0]'\n",
      " ltiHeadAttention)                                                  , 'layer_normalization_4[0][0]\n",
      "                                                                    ']                            \n",
      "                                                                                                  \n",
      " add_4 (Add)                 (None, 1764, 256)            0         ['multi_head_attention_2[0][0]\n",
      "                                                                    ',                            \n",
      "                                                                     'add_3[0][0]']               \n",
      "                                                                                                  \n",
      " layer_normalization_5 (Lay  (None, 1764, 256)            512       ['add_4[0][0]']               \n",
      " erNormalization)                                                                                 \n",
      "                                                                                                  \n",
      " dense_5 (Dense)             (None, 1764, 512)            131584    ['layer_normalization_5[0][0]'\n",
      "                                                                    ]                             \n",
      "                                                                                                  \n",
      " dropout_4 (Dropout)         (None, 1764, 512)            0         ['dense_5[0][0]']             \n",
      "                                                                                                  \n",
      " dense_6 (Dense)             (None, 1764, 256)            131328    ['dropout_4[0][0]']           \n",
      "                                                                                                  \n",
      " dropout_5 (Dropout)         (None, 1764, 256)            0         ['dense_6[0][0]']             \n",
      "                                                                                                  \n",
      " add_5 (Add)                 (None, 1764, 256)            0         ['dropout_5[0][0]',           \n",
      "                                                                     'add_4[0][0]']               \n",
      "                                                                                                  \n",
      " layer_normalization_6 (Lay  (None, 1764, 256)            512       ['add_5[0][0]']               \n",
      " erNormalization)                                                                                 \n",
      "                                                                                                  \n",
      " multi_head_attention_3 (Mu  (None, 1764, 256)            1051904   ['layer_normalization_6[0][0]'\n",
      " ltiHeadAttention)                                                  , 'layer_normalization_6[0][0]\n",
      "                                                                    ']                            \n",
      "                                                                                                  \n",
      " add_6 (Add)                 (None, 1764, 256)            0         ['multi_head_attention_3[0][0]\n",
      "                                                                    ',                            \n",
      "                                                                     'add_5[0][0]']               \n",
      "                                                                                                  \n",
      " layer_normalization_7 (Lay  (None, 1764, 256)            512       ['add_6[0][0]']               \n",
      " erNormalization)                                                                                 \n",
      "                                                                                                  \n",
      " dense_7 (Dense)             (None, 1764, 512)            131584    ['layer_normalization_7[0][0]'\n",
      "                                                                    ]                             \n",
      "                                                                                                  \n",
      " dropout_6 (Dropout)         (None, 1764, 512)            0         ['dense_7[0][0]']             \n",
      "                                                                                                  \n",
      " dense_8 (Dense)             (None, 1764, 256)            131328    ['dropout_6[0][0]']           \n",
      "                                                                                                  \n",
      " dropout_7 (Dropout)         (None, 1764, 256)            0         ['dense_8[0][0]']             \n",
      "                                                                                                  \n",
      " add_7 (Add)                 (None, 1764, 256)            0         ['dropout_7[0][0]',           \n",
      "                                                                     'add_6[0][0]']               \n",
      "                                                                                                  \n",
      " layer_normalization_8 (Lay  (None, 1764, 256)            512       ['add_7[0][0]']               \n",
      " erNormalization)                                                                                 \n",
      "                                                                                                  \n",
      " multi_head_attention_4 (Mu  (None, 1764, 256)            1051904   ['layer_normalization_8[0][0]'\n",
      " ltiHeadAttention)                                                  , 'layer_normalization_8[0][0]\n",
      "                                                                    ']                            \n",
      "                                                                                                  \n",
      " add_8 (Add)                 (None, 1764, 256)            0         ['multi_head_attention_4[0][0]\n",
      "                                                                    ',                            \n",
      "                                                                     'add_7[0][0]']               \n",
      "                                                                                                  \n",
      " layer_normalization_9 (Lay  (None, 1764, 256)            512       ['add_8[0][0]']               \n",
      " erNormalization)                                                                                 \n",
      "                                                                                                  \n",
      " dense_9 (Dense)             (None, 1764, 512)            131584    ['layer_normalization_9[0][0]'\n",
      "                                                                    ]                             \n",
      "                                                                                                  \n",
      " dropout_8 (Dropout)         (None, 1764, 512)            0         ['dense_9[0][0]']             \n",
      "                                                                                                  \n",
      " dense_10 (Dense)            (None, 1764, 256)            131328    ['dropout_8[0][0]']           \n",
      "                                                                                                  \n",
      " dropout_9 (Dropout)         (None, 1764, 256)            0         ['dense_10[0][0]']            \n",
      "                                                                                                  \n",
      " add_9 (Add)                 (None, 1764, 256)            0         ['dropout_9[0][0]',           \n",
      "                                                                     'add_8[0][0]']               \n",
      "                                                                                                  \n",
      " layer_normalization_10 (La  (None, 1764, 256)            512       ['add_9[0][0]']               \n",
      " yerNormalization)                                                                                \n",
      "                                                                                                  \n",
      " multi_head_attention_5 (Mu  (None, 1764, 256)            1051904   ['layer_normalization_10[0][0]\n",
      " ltiHeadAttention)                                                  ',                            \n",
      "                                                                     'layer_normalization_10[0][0]\n",
      "                                                                    ']                            \n",
      "                                                                                                  \n",
      " add_10 (Add)                (None, 1764, 256)            0         ['multi_head_attention_5[0][0]\n",
      "                                                                    ',                            \n",
      "                                                                     'add_9[0][0]']               \n",
      "                                                                                                  \n",
      " layer_normalization_11 (La  (None, 1764, 256)            512       ['add_10[0][0]']              \n",
      " yerNormalization)                                                                                \n",
      "                                                                                                  \n",
      " dense_11 (Dense)            (None, 1764, 512)            131584    ['layer_normalization_11[0][0]\n",
      "                                                                    ']                            \n",
      "                                                                                                  \n",
      " dropout_10 (Dropout)        (None, 1764, 512)            0         ['dense_11[0][0]']            \n",
      "                                                                                                  \n",
      " dense_12 (Dense)            (None, 1764, 256)            131328    ['dropout_10[0][0]']          \n",
      "                                                                                                  \n",
      " dropout_11 (Dropout)        (None, 1764, 256)            0         ['dense_12[0][0]']            \n",
      "                                                                                                  \n",
      " add_11 (Add)                (None, 1764, 256)            0         ['dropout_11[0][0]',          \n",
      "                                                                     'add_10[0][0]']              \n",
      "                                                                                                  \n",
      " layer_normalization_12 (La  (None, 1764, 256)            512       ['add_11[0][0]']              \n",
      " yerNormalization)                                                                                \n",
      "                                                                                                  \n",
      " multi_head_attention_6 (Mu  (None, 1764, 256)            1051904   ['layer_normalization_12[0][0]\n",
      " ltiHeadAttention)                                                  ',                            \n",
      "                                                                     'layer_normalization_12[0][0]\n",
      "                                                                    ']                            \n",
      "                                                                                                  \n",
      " add_12 (Add)                (None, 1764, 256)            0         ['multi_head_attention_6[0][0]\n",
      "                                                                    ',                            \n",
      "                                                                     'add_11[0][0]']              \n",
      "                                                                                                  \n",
      " layer_normalization_13 (La  (None, 1764, 256)            512       ['add_12[0][0]']              \n",
      " yerNormalization)                                                                                \n",
      "                                                                                                  \n",
      " dense_13 (Dense)            (None, 1764, 512)            131584    ['layer_normalization_13[0][0]\n",
      "                                                                    ']                            \n",
      "                                                                                                  \n",
      " dropout_12 (Dropout)        (None, 1764, 512)            0         ['dense_13[0][0]']            \n",
      "                                                                                                  \n",
      " dense_14 (Dense)            (None, 1764, 256)            131328    ['dropout_12[0][0]']          \n",
      "                                                                                                  \n",
      " dropout_13 (Dropout)        (None, 1764, 256)            0         ['dense_14[0][0]']            \n",
      "                                                                                                  \n",
      " add_13 (Add)                (None, 1764, 256)            0         ['dropout_13[0][0]',          \n",
      "                                                                     'add_12[0][0]']              \n",
      "                                                                                                  \n",
      " layer_normalization_14 (La  (None, 1764, 256)            512       ['add_13[0][0]']              \n",
      " yerNormalization)                                                                                \n",
      "                                                                                                  \n",
      " multi_head_attention_7 (Mu  (None, 1764, 256)            1051904   ['layer_normalization_14[0][0]\n",
      " ltiHeadAttention)                                                  ',                            \n",
      "                                                                     'layer_normalization_14[0][0]\n",
      "                                                                    ']                            \n",
      "                                                                                                  \n",
      " add_14 (Add)                (None, 1764, 256)            0         ['multi_head_attention_7[0][0]\n",
      "                                                                    ',                            \n",
      "                                                                     'add_13[0][0]']              \n",
      "                                                                                                  \n",
      " layer_normalization_15 (La  (None, 1764, 256)            512       ['add_14[0][0]']              \n",
      " yerNormalization)                                                                                \n",
      "                                                                                                  \n",
      " dense_15 (Dense)            (None, 1764, 512)            131584    ['layer_normalization_15[0][0]\n",
      "                                                                    ']                            \n",
      "                                                                                                  \n",
      " dropout_14 (Dropout)        (None, 1764, 512)            0         ['dense_15[0][0]']            \n",
      "                                                                                                  \n",
      " dense_16 (Dense)            (None, 1764, 256)            131328    ['dropout_14[0][0]']          \n",
      "                                                                                                  \n",
      " dropout_15 (Dropout)        (None, 1764, 256)            0         ['dense_16[0][0]']            \n",
      "                                                                                                  \n",
      " add_15 (Add)                (None, 1764, 256)            0         ['dropout_15[0][0]',          \n",
      "                                                                     'add_14[0][0]']              \n",
      "                                                                                                  \n",
      " layer_normalization_16 (La  (None, 1764, 256)            512       ['add_15[0][0]']              \n",
      " yerNormalization)                                                                                \n",
      "                                                                                                  \n",
      "==================================================================================================\n",
      "Total params: 10988288 (41.92 MB)\n",
      "Trainable params: 10988288 (41.92 MB)\n",
      "Non-trainable params: 0 (0.00 Byte)\n",
      "__________________________________________________________________________________________________\n"
     ]
    }
   ],
   "source": [
    "vit.summary()"
   ]
  },
  {
   "cell_type": "markdown",
   "metadata": {},
   "source": [
    "## Transformer Decoder"
   ]
  },
  {
   "cell_type": "code",
   "execution_count": 21,
   "metadata": {},
   "outputs": [],
   "source": [
    "class SeqEmbedding(tf.keras.layers.Layer):\n",
    "  def __init__(self, vocab_size, max_length, depth):\n",
    "    super().__init__()\n",
    "    self.pos_embedding = tf.keras.layers.Embedding(input_dim=max_length, output_dim=depth)\n",
    "\n",
    "    self.token_embedding = tf.keras.layers.Embedding(\n",
    "        input_dim=vocab_size,\n",
    "        output_dim=depth,\n",
    "        mask_zero=True)\n",
    "\n",
    "    self.add = tf.keras.layers.Add()\n",
    "\n",
    "  def call(self, seq):\n",
    "    seq = self.token_embedding(seq) # (batch, seq, depth)\n",
    "\n",
    "    x = tf.range(tf.shape(seq)[1])  # (seq)\n",
    "    x = x[tf.newaxis, :]  # (1, seq)\n",
    "    x = self.pos_embedding(x)  # (1, seq, depth)\n",
    "\n",
    "    return self.add([seq,x])"
   ]
  },
  {
   "cell_type": "code",
   "execution_count": 22,
   "metadata": {},
   "outputs": [],
   "source": [
    "class CausalSelfAttention(tf.keras.layers.Layer):\n",
    "  def __init__(self, **kwargs):\n",
    "    super().__init__()\n",
    "    self.mha = tf.keras.layers.MultiHeadAttention(**kwargs)\n",
    "    # Use Add instead of + so the keras mask propagates through.\n",
    "    self.add = tf.keras.layers.Add() \n",
    "    self.layernorm = tf.keras.layers.LayerNormalization()\n",
    "\n",
    "  def call(self, x):\n",
    "    attn = self.mha(query=x, value=x,\n",
    "                    use_causal_mask=True)\n",
    "    x = self.add([x, attn])\n",
    "    return self.layernorm(x)"
   ]
  },
  {
   "cell_type": "code",
   "execution_count": 23,
   "metadata": {},
   "outputs": [],
   "source": [
    "class CrossAttention(tf.keras.layers.Layer):\n",
    "  def __init__(self,**kwargs):\n",
    "    super().__init__()\n",
    "    self.mha = tf.keras.layers.MultiHeadAttention(**kwargs)\n",
    "    self.add = tf.keras.layers.Add() \n",
    "    self.layernorm = tf.keras.layers.LayerNormalization()\n",
    "\n",
    "  def call(self, x, y, **kwargs):\n",
    "    attn, attention_scores = self.mha(\n",
    "             query=x, value=y,\n",
    "             return_attention_scores=True)\n",
    "\n",
    "    self.last_attention_scores = attention_scores\n",
    "\n",
    "    x = self.add([x, attn])\n",
    "    return self.layernorm(x)"
   ]
  },
  {
   "cell_type": "code",
   "execution_count": 24,
   "metadata": {},
   "outputs": [],
   "source": [
    "class FeedForward(tf.keras.layers.Layer):\n",
    "  def __init__(self, units, dropout_rate=0.1):\n",
    "    super().__init__()\n",
    "    self.seq = tf.keras.Sequential([\n",
    "        tf.keras.layers.Dense(units=2*units, activation='relu'),\n",
    "        tf.keras.layers.Dense(units=units),\n",
    "        tf.keras.layers.Dropout(rate=dropout_rate),\n",
    "    ])\n",
    "\n",
    "    self.layernorm = tf.keras.layers.LayerNormalization()\n",
    "\n",
    "  def call(self, x):\n",
    "    x = x + self.seq(x)\n",
    "    return self.layernorm(x)"
   ]
  },
  {
   "cell_type": "code",
   "execution_count": 25,
   "metadata": {},
   "outputs": [],
   "source": [
    "class DecoderLayer(tf.keras.layers.Layer):\n",
    "  def __init__(self, units, num_heads=1, dropout_rate=0.1):\n",
    "    super().__init__()\n",
    "\n",
    "    self.self_attention = CausalSelfAttention(num_heads=num_heads,\n",
    "                                              key_dim=units,\n",
    "                                              dropout=dropout_rate)\n",
    "    self.cross_attention = CrossAttention(num_heads=num_heads,\n",
    "                                          key_dim=units,\n",
    "                                          dropout=dropout_rate)\n",
    "    self.ff = FeedForward(units=units, dropout_rate=dropout_rate)\n",
    "\n",
    "\n",
    "  def call(self, inputs, training=False):\n",
    "    in_seq, out_seq = inputs\n",
    "\n",
    "    # Text input\n",
    "    out_seq = self.self_attention(out_seq)\n",
    "\n",
    "    out_seq = self.cross_attention(out_seq, in_seq)\n",
    "\n",
    "    self.last_attention_scores = self.cross_attention.last_attention_scores\n",
    "\n",
    "    out_seq = self.ff(out_seq)\n",
    "\n",
    "    return out_seq"
   ]
  },
  {
   "cell_type": "code",
   "execution_count": 26,
   "metadata": {},
   "outputs": [],
   "source": [
    "class Captioner(tf.keras.Model):\n",
    "  @classmethod\n",
    "  def add_method(cls, fun):\n",
    "    setattr(cls, fun.__name__, fun)\n",
    "    return fun\n",
    "\n",
    "  def __init__(self, tokenizer, feature_extractor, output_layer, num_layers=1,\n",
    "               units=256, max_length=50, num_heads=1, dropout_rate=0.1):\n",
    "    super().__init__()\n",
    "    self.feature_extractor = feature_extractor\n",
    "    self.tokenizer = tokenizer\n",
    "    self.word_to_index = tf.keras.layers.StringLookup(\n",
    "        mask_token=\"\",\n",
    "        vocabulary=tokenizer.get_vocabulary())\n",
    "    self.index_to_word = tf.keras.layers.StringLookup(\n",
    "        mask_token=\"\",\n",
    "        vocabulary=tokenizer.get_vocabulary(),\n",
    "        invert=True) \n",
    "\n",
    "    self.seq_embedding = SeqEmbedding(\n",
    "        vocab_size=tokenizer.vocabulary_size(),\n",
    "        depth=units,\n",
    "        max_length=max_length)\n",
    "\n",
    "    self.decoder_layers = [\n",
    "        DecoderLayer(units, num_heads=num_heads, dropout_rate=dropout_rate)\n",
    "        for n in range(num_layers)]\n",
    "\n",
    "    self.output_layer = output_layer"
   ]
  },
  {
   "cell_type": "code",
   "execution_count": 27,
   "metadata": {},
   "outputs": [],
   "source": [
    "@Captioner.add_method\n",
    "def call(self, inputs):\n",
    "    image, txt = inputs\n",
    "    \n",
    "    image = self.feature_extractor(image)\n",
    "    #print(image.shape)\n",
    "    # Flatten the feature map\n",
    "    \n",
    "    #image = einops.rearrange(image, 'b h w c -> b (h w) c')\n",
    "    \n",
    "    if txt.dtype == tf.string:\n",
    "      # Apply the tokenizer if you get string inputs.\n",
    "      txt = tokenizer(txt)\n",
    "    \n",
    "    txt = self.seq_embedding(txt)\n",
    "    \n",
    "    # Look at the image\n",
    "    for dec_layer in self.decoder_layers:\n",
    "      txt = dec_layer(inputs=(image, txt))\n",
    "    \n",
    "    txt = self.output_layer(txt)\n",
    "    \n",
    "    return txt"
   ]
  },
  {
   "cell_type": "code",
   "execution_count": 28,
   "metadata": {},
   "outputs": [],
   "source": [
    "import collections \n",
    "import tqdm\n",
    "class TokenOutput(tf.keras.layers.Layer):\n",
    "  def __init__(self, tokenizer, banned_tokens=('', '[UNK]'), **kwargs):\n",
    "    super().__init__()\n",
    "\n",
    "    self.dense = tf.keras.layers.Dense(\n",
    "        units=tokenizer.vocabulary_size(), **kwargs)\n",
    "    self.tokenizer = tokenizer\n",
    "    self.banned_tokens = banned_tokens\n",
    "\n",
    "    self.bias = None\n",
    "\n",
    "  def adapt(self, ds):\n",
    "    counts = collections.Counter()\n",
    "    vocab_dict = {name: id \n",
    "                  for id, name in enumerate(self.tokenizer.get_vocabulary())}\n",
    "\n",
    "    for tokens in ds:\n",
    "      counts.update(tokens.flatten())\n",
    "\n",
    "    counts_arr = np.zeros(shape=(self.tokenizer.vocabulary_size(),))\n",
    "    counts_arr[np.array(list(counts.keys()), dtype=np.int32)] = list(counts.values())\n",
    "\n",
    "    counts_arr = counts_arr[:]\n",
    "    for token in self.banned_tokens:\n",
    "      counts_arr[vocab_dict[token]] = 0\n",
    "\n",
    "    total = counts_arr.sum()\n",
    "    p = counts_arr/total\n",
    "    p[counts_arr==0] = 1.0\n",
    "    log_p = np.log(p)  # log(1) == 0\n",
    "\n",
    "    entropy = -(log_p*p).sum()\n",
    "\n",
    "    print()\n",
    "    print(f\"Uniform entropy: {np.log(self.tokenizer.vocabulary_size()):0.2f}\")\n",
    "    print(f\"Marginal entropy: {entropy:0.2f}\")\n",
    "\n",
    "    self.bias = log_p\n",
    "    self.bias[counts_arr==0] = -1e9\n",
    "\n",
    "  def call(self, x):\n",
    "    x = self.dense(x)\n",
    "    # TODO(b/250038731): Fix this.\n",
    "    # An Add layer doesn't work because of the different shapes.\n",
    "    # This clears the mask, that's okay because it prevents keras from rescaling\n",
    "    # the losses.\n",
    "    return x + self.bias"
   ]
  },
  {
   "cell_type": "code",
   "execution_count": 29,
   "metadata": {},
   "outputs": [
    {
     "name": "stdout",
     "output_type": "stream",
     "text": [
      "\n",
      "Uniform entropy: 5.62\n",
      "Marginal entropy: 3.87\n"
     ]
    }
   ],
   "source": [
    "output_layer = TokenOutput(tokenizer, banned_tokens=('', '[UNK]'))\n",
    "# This might run a little faster if the dataset didn't also have to load the image data.\n",
    "output_layer.adapt(train_sequences)"
   ]
  },
  {
   "cell_type": "code",
   "execution_count": 30,
   "metadata": {},
   "outputs": [],
   "source": [
    "transformer_model = Captioner(tokenizer, feature_extractor=vision_transformer_encoder(IMG_SHAPE), output_layer=output_layer,\n",
    "                  units=256, dropout_rate=0.5, num_layers=4, num_heads=8)"
   ]
  },
  {
   "cell_type": "code",
   "execution_count": 31,
   "metadata": {},
   "outputs": [],
   "source": [
    "@Captioner.add_method\n",
    "def simple_gen(self, image, temperature=0):\n",
    "  initial = self.word_to_index([['[START]']]) # (batch, sequence)\n",
    "  #img_features = self.feature_extractor(image[tf.newaxis, ...])\n",
    "\n",
    "  tokens = initial # (batch, sequence)\n",
    "  for n in range(50):\n",
    "    preds = self((image[tf.newaxis, ...], tokens)).numpy()  # (batch, sequence, vocab)\n",
    "    preds = preds[:,-1, :]  #(batch, vocab)\n",
    "    if temperature==0:\n",
    "        next = tf.argmax(preds, axis=-1)[:, tf.newaxis]  # (batch, 1)\n",
    "    else:\n",
    "        next = tf.random.categorical(preds/temperature, num_samples=1)  # (batch, 1)\n",
    "    tokens = tf.concat([tokens, next], axis=1) # (batch, sequence) \n",
    "\n",
    "    if next[0] == self.word_to_index('[END]'):\n",
    "      break\n",
    "  words = self.index_to_word(tokens[0, 1:-1])\n",
    "  result = tf.strings.reduce_join(words, axis=-1, separator=' ')\n",
    "  return result.numpy().decode()"
   ]
  },
  {
   "cell_type": "code",
   "execution_count": 32,
   "metadata": {},
   "outputs": [
    {
     "name": "stdout",
     "output_type": "stream",
     "text": [
      "(256, 256, 1)\n"
     ]
    },
    {
     "name": "stderr",
     "output_type": "stream",
     "text": [
      "2024-11-30 02:48:01.688340: I tensorflow/compiler/xla/stream_executor/cuda/cuda_dnn.cc:432] Loaded cuDNN version 8700\n"
     ]
    },
    {
     "name": "stdout",
     "output_type": "stream",
     "text": [
      "{ } } - - } { } { } { } 2 = { } { } { } = { } { } 2 { { } 2 } { } } { } } } { } 2 } { } } { } = ^\n"
     ]
    }
   ],
   "source": [
    "print(image.shape)\n",
    "result = transformer_model.simple_gen(image, temperature=0)\n",
    "print(result)"
   ]
  },
  {
   "cell_type": "code",
   "execution_count": 36,
   "metadata": {},
   "outputs": [],
   "source": [
    "def masked_loss(labels, preds):  \n",
    "  loss = tf.nn.sparse_softmax_cross_entropy_with_logits(labels, preds)\n",
    "\n",
    "  mask = (labels != 0) & (loss < 1e8) \n",
    "  mask = tf.cast(mask, loss.dtype)\n",
    "\n",
    "  loss = loss*mask\n",
    "  loss = tf.reduce_sum(loss)/tf.reduce_sum(mask)\n",
    "  return loss\n",
    "\n",
    "def masked_acc(labels, preds):\n",
    "  mask = tf.cast(labels!=0, tf.float32)\n",
    "  preds = tf.argmax(preds, axis=-1)\n",
    "  labels = tf.cast(labels, tf.int64)\n",
    "  match = tf.cast(preds == labels, mask.dtype)\n",
    "  acc = tf.reduce_sum(match*mask)/tf.reduce_sum(mask)\n",
    "  return acc"
   ]
  },
  {
   "cell_type": "code",
   "execution_count": 37,
   "metadata": {},
   "outputs": [],
   "source": [
    "class GenerateText(tf.keras.callbacks.Callback):\n",
    "  def __init__(self):\n",
    "    self.image = image\n",
    "\n",
    "  def on_epoch_end(self, epochs=None, logs=None):\n",
    "    print()\n",
    "    print()\n",
    "    result = self.model.simple_gen(self.image, temperature=0)\n",
    "    print(result)\n",
    "    print()"
   ]
  },
  {
   "cell_type": "code",
   "execution_count": 35,
   "metadata": {},
   "outputs": [
    {
     "name": "stdout",
     "output_type": "stream",
     "text": [
      "\n",
      "\n",
      "{ } } - - } { } { } { } 2 = { } { } { } = { } { } 2 { { } 2 } { } } { } } } { } 2 } { } } { } = ^\n",
      "\n"
     ]
    }
   ],
   "source": [
    "g = GenerateText()\n",
    "g.model = transformer_model\n",
    "g.on_epoch_end(0)"
   ]
  },
  {
   "cell_type": "code",
   "execution_count": 38,
   "metadata": {},
   "outputs": [],
   "source": [
    "checkpoint_filepath = 'transformer_model'\n",
    "model_checkpoint_callback = tf.keras.callbacks.ModelCheckpoint(\n",
    "    filepath=checkpoint_filepath,\n",
    "    save_weights_only=True,\n",
    "    monitor='val_loss',  # Save the model with the best validation loss\n",
    "    mode='min',\n",
    "    save_best_only=True,\n",
    "    save_format='tf'\n",
    ")\n",
    "\n",
    "callbacks = [\n",
    "    GenerateText(),\n",
    "    model_checkpoint_callback,\n",
    "    tf.keras.callbacks.EarlyStopping(\n",
    "        patience=5, restore_best_weights=True, monitor='val_masked_acc')]\n"
   ]
  },
  {
   "cell_type": "code",
   "execution_count": 39,
   "metadata": {},
   "outputs": [
    {
     "ename": "ValueError",
     "evalue": "Received incompatible tensor with shape (413,) when attempting to restore variable with shape (277,) and name output_layer/dense/bias/.ATTRIBUTES/VARIABLE_VALUE.",
     "output_type": "error",
     "traceback": [
      "\u001b[0;31m---------------------------------------------------------------------------\u001b[0m",
      "\u001b[0;31mValueError\u001b[0m                                Traceback (most recent call last)",
      "Cell \u001b[0;32mIn[39], line 1\u001b[0m\n\u001b[0;32m----> 1\u001b[0m \u001b[43mtransformer_model\u001b[49m\u001b[38;5;241;43m.\u001b[39;49m\u001b[43mload_weights\u001b[49m\u001b[43m(\u001b[49m\u001b[43mcheckpoint_filepath\u001b[49m\u001b[43m)\u001b[49m\n",
      "File \u001b[0;32m~/tf/lib/python3.8/site-packages/keras/src/utils/traceback_utils.py:70\u001b[0m, in \u001b[0;36mfilter_traceback.<locals>.error_handler\u001b[0;34m(*args, **kwargs)\u001b[0m\n\u001b[1;32m     67\u001b[0m     filtered_tb \u001b[38;5;241m=\u001b[39m _process_traceback_frames(e\u001b[38;5;241m.\u001b[39m__traceback__)\n\u001b[1;32m     68\u001b[0m     \u001b[38;5;66;03m# To get the full stack trace, call:\u001b[39;00m\n\u001b[1;32m     69\u001b[0m     \u001b[38;5;66;03m# `tf.debugging.disable_traceback_filtering()`\u001b[39;00m\n\u001b[0;32m---> 70\u001b[0m     \u001b[38;5;28;01mraise\u001b[39;00m e\u001b[38;5;241m.\u001b[39mwith_traceback(filtered_tb) \u001b[38;5;28;01mfrom\u001b[39;00m \u001b[38;5;28;01mNone\u001b[39;00m\n\u001b[1;32m     71\u001b[0m \u001b[38;5;28;01mfinally\u001b[39;00m:\n\u001b[1;32m     72\u001b[0m     \u001b[38;5;28;01mdel\u001b[39;00m filtered_tb\n",
      "File \u001b[0;32m~/tf/lib/python3.8/site-packages/tensorflow/python/training/saving/saveable_object_util.py:140\u001b[0m, in \u001b[0;36mResourceVariableSaveable.restore\u001b[0;34m(self, restored_tensors, restored_shapes)\u001b[0m\n\u001b[1;32m    137\u001b[0m   assigned_variable \u001b[38;5;241m=\u001b[39m resource_variable_ops\u001b[38;5;241m.\u001b[39mshape_safe_assign_variable_handle(\n\u001b[1;32m    138\u001b[0m       \u001b[38;5;28mself\u001b[39m\u001b[38;5;241m.\u001b[39mhandle_op, \u001b[38;5;28mself\u001b[39m\u001b[38;5;241m.\u001b[39m_var_shape, restored_tensor)\n\u001b[1;32m    139\u001b[0m \u001b[38;5;28;01mexcept\u001b[39;00m \u001b[38;5;167;01mValueError\u001b[39;00m \u001b[38;5;28;01mas\u001b[39;00m e:\n\u001b[0;32m--> 140\u001b[0m   \u001b[38;5;28;01mraise\u001b[39;00m \u001b[38;5;167;01mValueError\u001b[39;00m(\n\u001b[1;32m    141\u001b[0m       \u001b[38;5;124mf\u001b[39m\u001b[38;5;124m\"\u001b[39m\u001b[38;5;124mReceived incompatible tensor with shape \u001b[39m\u001b[38;5;132;01m{\u001b[39;00mrestored_tensor\u001b[38;5;241m.\u001b[39mshape\u001b[38;5;132;01m}\u001b[39;00m\u001b[38;5;124m \u001b[39m\u001b[38;5;124m\"\u001b[39m\n\u001b[1;32m    142\u001b[0m       \u001b[38;5;124mf\u001b[39m\u001b[38;5;124m\"\u001b[39m\u001b[38;5;124mwhen attempting to restore variable with shape \u001b[39m\u001b[38;5;132;01m{\u001b[39;00m\u001b[38;5;28mself\u001b[39m\u001b[38;5;241m.\u001b[39m_var_shape\u001b[38;5;132;01m}\u001b[39;00m\u001b[38;5;124m \u001b[39m\u001b[38;5;124m\"\u001b[39m\n\u001b[1;32m    143\u001b[0m       \u001b[38;5;124mf\u001b[39m\u001b[38;5;124m\"\u001b[39m\u001b[38;5;124mand name \u001b[39m\u001b[38;5;132;01m{\u001b[39;00m\u001b[38;5;28mself\u001b[39m\u001b[38;5;241m.\u001b[39mname\u001b[38;5;132;01m}\u001b[39;00m\u001b[38;5;124m.\u001b[39m\u001b[38;5;124m\"\u001b[39m) \u001b[38;5;28;01mfrom\u001b[39;00m \u001b[38;5;21;01me\u001b[39;00m\n\u001b[1;32m    144\u001b[0m \u001b[38;5;28;01mreturn\u001b[39;00m assigned_variable\n",
      "\u001b[0;31mValueError\u001b[0m: Received incompatible tensor with shape (413,) when attempting to restore variable with shape (277,) and name output_layer/dense/bias/.ATTRIBUTES/VARIABLE_VALUE."
     ]
    }
   ],
   "source": [
    "transformer_model.load_weights(checkpoint_filepath)"
   ]
  },
  {
   "cell_type": "code",
   "execution_count": 40,
   "metadata": {},
   "outputs": [
    {
     "name": "stdout",
     "output_type": "stream",
     "text": [
      "25000000\n"
     ]
    }
   ],
   "source": [
    "print(int(100000 / 4 * 1000))\n",
    "learning_rate = tf.keras.optimizers.schedules.PolynomialDecay(1e-4, 4000, 1e-6)\n",
    "optimizer = tf.keras.optimizers.AdamW(learning_rate=1e-4, weight_decay=0.0001)\n",
    "\n",
    "transformer_model.compile(optimizer=optimizer,\n",
    "           loss=masked_loss,\n",
    "           metrics=[masked_acc])"
   ]
  },
  {
   "cell_type": "code",
   "execution_count": 41,
   "metadata": {},
   "outputs": [
    {
     "name": "stdout",
     "output_type": "stream",
     "text": [
      "Model: \"captioner\"\n",
      "_________________________________________________________________\n",
      " Layer (type)                Output Shape              Param #   \n",
      "=================================================================\n",
      " model_1 (Functional)        (None, 1764, 256)         10988288  \n",
      "                                                                 \n",
      " text_vectorization (TextVe  multiple                  0         \n",
      " ctorization)                                                    \n",
      "                                                                 \n",
      " string_lookup_1 (StringLoo  multiple                  0         \n",
      " kup)                                                            \n",
      "                                                                 \n",
      " string_lookup_2 (StringLoo  multiple                  0         \n",
      " kup)                                                            \n",
      "                                                                 \n",
      " seq_embedding (SeqEmbeddin  multiple                  83712     \n",
      " g)                                                              \n",
      "                                                                 \n",
      " decoder_layer (DecoderLaye  multiple                  4471552   \n",
      " r)                                                              \n",
      "                                                                 \n",
      " decoder_layer_1 (DecoderLa  multiple                  4471552   \n",
      " yer)                                                            \n",
      "                                                                 \n",
      " decoder_layer_2 (DecoderLa  multiple                  4471552   \n",
      " yer)                                                            \n",
      "                                                                 \n",
      " decoder_layer_3 (DecoderLa  multiple                  4471552   \n",
      " yer)                                                            \n",
      "                                                                 \n",
      " token_output (TokenOutput)  multiple                  71189     \n",
      "                                                                 \n",
      "=================================================================\n",
      "Total params: 29029397 (110.74 MB)\n",
      "Trainable params: 29029397 (110.74 MB)\n",
      "Non-trainable params: 0 (0.00 Byte)\n",
      "_________________________________________________________________\n"
     ]
    }
   ],
   "source": [
    "transformer_model.summary()"
   ]
  },
  {
   "cell_type": "code",
   "execution_count": 42,
   "metadata": {},
   "outputs": [
    {
     "name": "stdout",
     "output_type": "stream",
     "text": [
      "1000\n",
      "1000\n",
      "int64\n",
      "[[ 13 180  65 ...   0   0   0]\n",
      " [ 13   7   3 ...   0   0   0]\n",
      " [ 13  73   4 ...   0   0   0]\n",
      " ...\n",
      " [ 13 111   3 ...   0   0   0]\n",
      " [ 13  64   4 ...   0   0   0]\n",
      " [ 13 157   3 ...   0   0   0]]\n",
      "[[180  65   4 ...   0   0   0]\n",
      " [  7   3  62 ...   0   0   0]\n",
      " [ 73   4   3 ...   0   0   0]\n",
      " ...\n",
      " [111   3  31 ...   0   0   0]\n",
      " [ 64   4   3 ...   0   0   0]\n",
      " [157   3  79 ...   0   0   0]]\n"
     ]
    }
   ],
   "source": [
    "print(len(train_images))\n",
    "print(len(train_sequences))\n",
    "print(train_sequences.dtype)\n",
    "print(input_labels)\n",
    "print(output_labels)\n",
    "# print(train_sequences)\n",
    "# print(train_sequences[..., :-1])"
   ]
  },
  {
   "cell_type": "code",
   "execution_count": 43,
   "metadata": {},
   "outputs": [],
   "source": [
    "# dataset = tf.data.Dataset.from_tensor_slices(([train_images, input_labels], output_labels))\n",
    "# dataset = dataset.batch(32)"
   ]
  },
  {
   "cell_type": "code",
   "execution_count": null,
   "metadata": {},
   "outputs": [
    {
     "name": "stdout",
     "output_type": "stream",
     "text": [
      "Epoch 1/100\n"
     ]
    },
    {
     "name": "stderr",
     "output_type": "stream",
     "text": [
      "2024-11-30 02:50:12.680968: I tensorflow/compiler/xla/service/service.cc:168] XLA service 0x7f7588004460 initialized for platform CUDA (this does not guarantee that XLA will be used). Devices:\n",
      "2024-11-30 02:50:12.681020: I tensorflow/compiler/xla/service/service.cc:176]   StreamExecutor device (0): Tesla K80, Compute Capability 3.7\n",
      "2024-11-30 02:50:12.687185: I tensorflow/compiler/mlir/tensorflow/utils/dump_mlir_util.cc:255] disabling MLIR crash reproducer, set env var `MLIR_CRASH_REPRODUCER_DIRECTORY` to enable.\n",
      "2024-11-30 02:50:12.845031: I ./tensorflow/compiler/jit/device_compiler.h:186] Compiled cluster using XLA!  This line is logged at most once for the lifetime of the process.\n"
     ]
    },
    {
     "name": "stdout",
     "output_type": "stream",
     "text": [
      "200/200 [==============================] - ETA: 0s - loss: 4.1239 - masked_acc: 0.1878\n",
      "\n",
      "{ } } { { } } { } } } } { } { } } { } } } } } } } } } { } } } } } } } } } } } } } } } } } } } } }\n",
      "\n",
      "200/200 [==============================] - 614s 3s/step - loss: 4.1239 - masked_acc: 0.1878 - val_loss: 3.9752 - val_masked_acc: 0.2213\n",
      "Epoch 2/100\n",
      "200/200 [==============================] - ETA: 0s - loss: 3.9941 - masked_acc: 0.2032\n",
      "\n",
      "{ } } { { } } { } } } } { } { } } { } } } } { { } } } { } } } } } } } } } } } } } } } } } } } } }\n",
      "\n",
      "200/200 [==============================] - 542s 3s/step - loss: 3.9941 - masked_acc: 0.2032 - val_loss: 3.8987 - val_masked_acc: 0.2302\n",
      "Epoch 3/100\n",
      "200/200 [==============================] - ETA: 0s - loss: 3.9360 - masked_acc: 0.2159\n",
      "\n",
      "{ } } { { } } } } } } } { } { } } { } } } } { { } } } { } } } } } } } } } } } } } } } } } } } } }\n",
      "\n",
      "200/200 [==============================] - 538s 3s/step - loss: 3.9360 - masked_acc: 0.2159 - val_loss: 3.8526 - val_masked_acc: 0.2399\n",
      "Epoch 4/100\n",
      "200/200 [==============================] - ETA: 0s - loss: 3.8955 - masked_acc: 0.2249\n",
      "\n",
      "{ } } { { } } { } } } } { } { } } { } } } } { } } } } { } } } } } } } } } } } } } } } } } { } } }\n",
      "\n",
      "200/200 [==============================] - 541s 3s/step - loss: 3.8955 - masked_acc: 0.2249 - val_loss: 3.8179 - val_masked_acc: 0.2465\n",
      "Epoch 5/100\n",
      "200/200 [==============================] - ETA: 0s - loss: 3.8715 - masked_acc: 0.2304\n",
      "\n",
      "{ } } { { } } { } } } } { } { } } } } } } } { { } } } { } } } } } } } } } } } } } } } } } { } { {\n",
      "\n",
      "200/200 [==============================] - 537s 3s/step - loss: 3.8715 - masked_acc: 0.2304 - val_loss: 3.7860 - val_masked_acc: 0.2512\n",
      "Epoch 6/100\n",
      "200/200 [==============================] - ETA: 0s - loss: 3.8410 - masked_acc: 0.2353\n",
      "\n",
      "{ } } { { } } { } } } } { } { } } } } } } } { { } } } { } } } } } } } } } } } } } } } } } { } { {\n",
      "\n",
      "200/200 [==============================] - 542s 3s/step - loss: 3.8410 - masked_acc: 0.2353 - val_loss: 3.7581 - val_masked_acc: 0.2546\n",
      "Epoch 7/100\n",
      "200/200 [==============================] - ETA: 0s - loss: 3.8116 - masked_acc: 0.2415\n",
      "\n",
      "{ } } { { } } { } } } } { } { } } } } } } } { { } } } { } } } } } } } } } } } } } } } } } { } { {\n",
      "\n",
      "200/200 [==============================] - 537s 3s/step - loss: 3.8116 - masked_acc: 0.2415 - val_loss: 3.7316 - val_masked_acc: 0.2584\n",
      "Epoch 8/100\n",
      "200/200 [==============================] - ETA: 0s - loss: 3.7873 - masked_acc: 0.2457\n",
      "\n",
      "{ } } { { } } { } } } } { } { } } } } } } } { { } } } { } } } } } } } } } } } } } } } } } { } { {\n",
      "\n",
      "200/200 [==============================] - 541s 3s/step - loss: 3.7873 - masked_acc: 0.2457 - val_loss: 3.7053 - val_masked_acc: 0.2620\n",
      "Epoch 9/100\n",
      "200/200 [==============================] - ETA: 0s - loss: 3.7644 - masked_acc: 0.2521\n",
      "\n",
      "{ } } { { } } { } } } } { } { } } } } } } } { { } } } { } } } } } } } } } } } } } } } } } { } { {\n",
      "\n",
      "200/200 [==============================] - 538s 3s/step - loss: 3.7644 - masked_acc: 0.2521 - val_loss: 3.6800 - val_masked_acc: 0.2651\n",
      "Epoch 10/100\n",
      "200/200 [==============================] - ETA: 0s - loss: 3.7451 - masked_acc: 0.2534\n",
      "\n",
      "{ } } { { } } { } } } } } } { } } { } } } } { { } } } { } } } } } } } } } } } } } } } } } { } { {\n",
      "\n",
      "200/200 [==============================] - 541s 3s/step - loss: 3.7451 - masked_acc: 0.2534 - val_loss: 3.6553 - val_masked_acc: 0.2691\n",
      "Epoch 11/100\n",
      "200/200 [==============================] - ETA: 0s - loss: 3.7185 - masked_acc: 0.2587\n",
      "\n",
      "{ } { } { } } { } } } } } } { } } { } } } } { { } } } { } } } } } } } } } } } } } } } } } { } { {\n",
      "\n",
      "200/200 [==============================] - 538s 3s/step - loss: 3.7185 - masked_acc: 0.2587 - val_loss: 3.6317 - val_masked_acc: 0.2709\n",
      "Epoch 12/100\n",
      "200/200 [==============================] - ETA: 0s - loss: 3.7011 - masked_acc: 0.2613\n",
      "\n",
      "{ } } { { } } { } } } } } } { } } { } } } } { { } } } { } } } } } } } } } } } } } } } } } { } { {\n",
      "\n",
      "200/200 [==============================] - 542s 3s/step - loss: 3.7011 - masked_acc: 0.2613 - val_loss: 3.6091 - val_masked_acc: 0.2755\n",
      "Epoch 13/100\n",
      "200/200 [==============================] - ETA: 0s - loss: 3.6787 - masked_acc: 0.2641\n",
      "\n",
      "{ } { } } } { { } } } } } } { } } { } { { } } } } } { { } } } } } } } } } } } } } } } } } { } { {\n",
      "\n",
      "200/200 [==============================] - 538s 3s/step - loss: 3.6787 - masked_acc: 0.2641 - val_loss: 3.5886 - val_masked_acc: 0.2767\n",
      "Epoch 14/100\n",
      "200/200 [==============================] - ETA: 0s - loss: 3.6643 - masked_acc: 0.2667\n",
      "\n",
      "{ } { } } } { { } } } } } } { } } { } { { } } } } } { { } } } } } } } } } } } } } } } } } { - { {\n",
      "\n",
      "200/200 [==============================] - 542s 3s/step - loss: 3.6643 - masked_acc: 0.2667 - val_loss: 3.5683 - val_masked_acc: 0.2831\n",
      "Epoch 15/100\n",
      "166/200 [=======================>......] - ETA: 1:19 - loss: 3.6483 - masked_acc: 0.2707"
     ]
    }
   ],
   "source": [
    "with tf.device('/GPU:0'):\n",
    "    history = transformer_model.fit([train_images, input_labels],\n",
    "                  output_labels,\n",
    "                  epochs=100,\n",
    "                  batch_size=4,\n",
    "                  validation_split=0.2, callbacks=callbacks)"
   ]
  },
  {
   "cell_type": "code",
   "execution_count": null,
   "metadata": {
    "id": "eSQExklGAAI7"
   },
   "outputs": [],
   "source": [
    "def build_cnn_encoder(input_shape):\n",
    "    inputs = Input(shape=input_shape)\n",
    "    x = Conv2D(32, (3, 3), activation='relu', padding='same')(inputs)\n",
    "    x = MaxPooling2D((2, 2))(x)\n",
    "    x = Conv2D(64, (3, 3), activation='relu', padding='same')(x)\n",
    "    x = MaxPooling2D((2, 2))(x)\n",
    "    x = Conv2D(128, (3, 3), activation='relu', padding='same')(x)\n",
    "    x = MaxPooling2D((2, 2))(x)\n",
    "    x = Flatten()(x)\n",
    "    x = Dense(EMBEDDING_DIM, activation='relu')(x)\n",
    "    return Model(inputs, x)"
   ]
  },
  {
   "cell_type": "code",
   "execution_count": 81,
   "metadata": {
    "id": "md8Xz7JzAAI7"
   },
   "outputs": [],
   "source": [
    "def build_rnn_encoder(decoder_input, encoder_output, target_vocab_size, max_seq_len_1):\n",
    "\n",
    "    embedding_layer = Embedding(input_dim=target_vocab_size, output_dim=EMBEDDING_DIM, input_length=max_seq_len_1)\n",
    "    embedded_seq = embedding_layer(decoder_input)\n",
    "\n",
    "    decoder_lstm_input = tf.keras.layers.Concatenate(axis=-1)([encoder_output, embedded_seq])\n",
    "    decoder_lstm = LSTM(lstm_units, return_sequences=True)(decoder_lstm_input)\n",
    "    decoder_output = TimeDistributed(Dense(target_vocab_size, activation=\"softmax\"))(decoder_lstm)\n",
    "\n",
    "    return Model(inputs=[decoder_input, encoder_output], outputs= decoder_output)"
   ]
  },
  {
   "cell_type": "code",
   "execution_count": 193,
   "metadata": {
    "id": "xWJwvgriAAI7"
   },
   "outputs": [],
   "source": [
    "def build_model(input_shape, num_layers, d_model, num_heads, dff, target_vocab_size, max_seq_len_1):\n",
    "    #encoder = build_cnn_encoder(input_shape)\n",
    "    encoder = vision_transformer_encoder(input_shape)\n",
    "    image_input = Input(shape=input_shape, name=\"image_input\")\n",
    "\n",
    "    encoder_output = encoder(image_input)\n",
    "    encoder_output = RepeatVector(max_seq_len_1)(encoder_output)  # Repeat encoder output for each time step\n",
    "\n",
    "    decoder_input = Input(shape=(max_seq_len_1,), name=\"decoder_input\")\n",
    "    decoder = build_rnn_encoder(decoder_input, encoder_output, target_vocab_size, max_seq_len_1)\n",
    "\n",
    "    decoder_output = decoder([decoder_input, encoder_output])\n",
    "    return Model(inputs=[image_input, decoder_input], outputs=decoder_output)"
   ]
  },
  {
   "cell_type": "code",
   "execution_count": 194,
   "metadata": {
    "id": "DeU4cNTsAAI7"
   },
   "outputs": [
    {
     "name": "stdout",
     "output_type": "stream",
     "text": [
      "(None, None, 256)\n",
      "(1, 1764, 256)\n",
      "(None, None, 256)\n",
      "(1, 1764, 256)\n"
     ]
    },
    {
     "ename": "ValueError",
     "evalue": "Input 0 of layer \"repeat_vector_5\" is incompatible with the layer: expected ndim=2, found ndim=3. Full shape received: (None, 1764, 256)",
     "output_type": "error",
     "traceback": [
      "\u001b[0;31m---------------------------------------------------------------------------\u001b[0m",
      "\u001b[0;31mValueError\u001b[0m                                Traceback (most recent call last)",
      "Cell \u001b[0;32mIn[194], line 1\u001b[0m\n\u001b[0;32m----> 1\u001b[0m model \u001b[38;5;241m=\u001b[39m \u001b[43mbuild_model\u001b[49m\u001b[43m(\u001b[49m\u001b[43mIMG_SHAPE\u001b[49m\u001b[43m,\u001b[49m\u001b[43m \u001b[49m\u001b[38;5;241;43m2\u001b[39;49m\u001b[43m,\u001b[49m\u001b[43m \u001b[49m\u001b[38;5;241;43m256\u001b[39;49m\u001b[43m,\u001b[49m\u001b[43m \u001b[49m\u001b[38;5;241;43m2\u001b[39;49m\u001b[43m,\u001b[49m\u001b[43m \u001b[49m\u001b[38;5;241;43m256\u001b[39;49m\u001b[43m,\u001b[49m\u001b[43m \u001b[49m\u001b[43mtokenizer\u001b[49m\u001b[38;5;241;43m.\u001b[39;49m\u001b[43mvocabulary_size\u001b[49m\u001b[43m(\u001b[49m\u001b[43m)\u001b[49m\u001b[43m,\u001b[49m\u001b[43m \u001b[49m\u001b[43mmax_seq_len_1\u001b[49m\u001b[43m)\u001b[49m\n\u001b[1;32m      2\u001b[0m \u001b[38;5;66;03m#transformer_model = Transformer(tokenizer, output_layer=output_layer, units=128, dropout_rate=0.5, num_layers=2, num_heads=2)\u001b[39;00m\n",
      "Cell \u001b[0;32mIn[193], line 7\u001b[0m, in \u001b[0;36mbuild_model\u001b[0;34m(input_shape, num_layers, d_model, num_heads, dff, target_vocab_size, max_seq_len_1)\u001b[0m\n\u001b[1;32m      4\u001b[0m image_input \u001b[38;5;241m=\u001b[39m Input(shape\u001b[38;5;241m=\u001b[39minput_shape, name\u001b[38;5;241m=\u001b[39m\u001b[38;5;124m\"\u001b[39m\u001b[38;5;124mimage_input\u001b[39m\u001b[38;5;124m\"\u001b[39m)\n\u001b[1;32m      6\u001b[0m encoder_output \u001b[38;5;241m=\u001b[39m encoder(image_input)\n\u001b[0;32m----> 7\u001b[0m encoder_output \u001b[38;5;241m=\u001b[39m \u001b[43mRepeatVector\u001b[49m\u001b[43m(\u001b[49m\u001b[43mmax_seq_len_1\u001b[49m\u001b[43m)\u001b[49m\u001b[43m(\u001b[49m\u001b[43mencoder_output\u001b[49m\u001b[43m)\u001b[49m  \u001b[38;5;66;03m# Repeat encoder output for each time step\u001b[39;00m\n\u001b[1;32m      9\u001b[0m decoder_input \u001b[38;5;241m=\u001b[39m Input(shape\u001b[38;5;241m=\u001b[39m(max_seq_len_1,), name\u001b[38;5;241m=\u001b[39m\u001b[38;5;124m\"\u001b[39m\u001b[38;5;124mdecoder_input\u001b[39m\u001b[38;5;124m\"\u001b[39m)\n\u001b[1;32m     10\u001b[0m decoder \u001b[38;5;241m=\u001b[39m build_rnn_encoder(decoder_input, encoder_output, target_vocab_size, max_seq_len_1)\n",
      "File \u001b[0;32m~/tf/lib/python3.8/site-packages/keras/src/utils/traceback_utils.py:70\u001b[0m, in \u001b[0;36mfilter_traceback.<locals>.error_handler\u001b[0;34m(*args, **kwargs)\u001b[0m\n\u001b[1;32m     67\u001b[0m     filtered_tb \u001b[38;5;241m=\u001b[39m _process_traceback_frames(e\u001b[38;5;241m.\u001b[39m__traceback__)\n\u001b[1;32m     68\u001b[0m     \u001b[38;5;66;03m# To get the full stack trace, call:\u001b[39;00m\n\u001b[1;32m     69\u001b[0m     \u001b[38;5;66;03m# `tf.debugging.disable_traceback_filtering()`\u001b[39;00m\n\u001b[0;32m---> 70\u001b[0m     \u001b[38;5;28;01mraise\u001b[39;00m e\u001b[38;5;241m.\u001b[39mwith_traceback(filtered_tb) \u001b[38;5;28;01mfrom\u001b[39;00m \u001b[38;5;28;01mNone\u001b[39;00m\n\u001b[1;32m     71\u001b[0m \u001b[38;5;28;01mfinally\u001b[39;00m:\n\u001b[1;32m     72\u001b[0m     \u001b[38;5;28;01mdel\u001b[39;00m filtered_tb\n",
      "File \u001b[0;32m~/tf/lib/python3.8/site-packages/keras/src/engine/input_spec.py:235\u001b[0m, in \u001b[0;36massert_input_compatibility\u001b[0;34m(input_spec, inputs, layer_name)\u001b[0m\n\u001b[1;32m    233\u001b[0m     ndim \u001b[38;5;241m=\u001b[39m shape\u001b[38;5;241m.\u001b[39mrank\n\u001b[1;32m    234\u001b[0m     \u001b[38;5;28;01mif\u001b[39;00m ndim \u001b[38;5;241m!=\u001b[39m spec\u001b[38;5;241m.\u001b[39mndim:\n\u001b[0;32m--> 235\u001b[0m         \u001b[38;5;28;01mraise\u001b[39;00m \u001b[38;5;167;01mValueError\u001b[39;00m(\n\u001b[1;32m    236\u001b[0m             \u001b[38;5;124mf\u001b[39m\u001b[38;5;124m'\u001b[39m\u001b[38;5;124mInput \u001b[39m\u001b[38;5;132;01m{\u001b[39;00minput_index\u001b[38;5;132;01m}\u001b[39;00m\u001b[38;5;124m of layer \u001b[39m\u001b[38;5;124m\"\u001b[39m\u001b[38;5;132;01m{\u001b[39;00mlayer_name\u001b[38;5;132;01m}\u001b[39;00m\u001b[38;5;124m\"\u001b[39m\u001b[38;5;124m \u001b[39m\u001b[38;5;124m'\u001b[39m\n\u001b[1;32m    237\u001b[0m             \u001b[38;5;124m\"\u001b[39m\u001b[38;5;124mis incompatible with the layer: \u001b[39m\u001b[38;5;124m\"\u001b[39m\n\u001b[1;32m    238\u001b[0m             \u001b[38;5;124mf\u001b[39m\u001b[38;5;124m\"\u001b[39m\u001b[38;5;124mexpected ndim=\u001b[39m\u001b[38;5;132;01m{\u001b[39;00mspec\u001b[38;5;241m.\u001b[39mndim\u001b[38;5;132;01m}\u001b[39;00m\u001b[38;5;124m, found ndim=\u001b[39m\u001b[38;5;132;01m{\u001b[39;00mndim\u001b[38;5;132;01m}\u001b[39;00m\u001b[38;5;124m. \u001b[39m\u001b[38;5;124m\"\u001b[39m\n\u001b[1;32m    239\u001b[0m             \u001b[38;5;124mf\u001b[39m\u001b[38;5;124m\"\u001b[39m\u001b[38;5;124mFull shape received: \u001b[39m\u001b[38;5;132;01m{\u001b[39;00m\u001b[38;5;28mtuple\u001b[39m(shape)\u001b[38;5;132;01m}\u001b[39;00m\u001b[38;5;124m\"\u001b[39m\n\u001b[1;32m    240\u001b[0m         )\n\u001b[1;32m    241\u001b[0m \u001b[38;5;28;01mif\u001b[39;00m spec\u001b[38;5;241m.\u001b[39mmax_ndim \u001b[38;5;129;01mis\u001b[39;00m \u001b[38;5;129;01mnot\u001b[39;00m \u001b[38;5;28;01mNone\u001b[39;00m:\n\u001b[1;32m    242\u001b[0m     ndim \u001b[38;5;241m=\u001b[39m x\u001b[38;5;241m.\u001b[39mshape\u001b[38;5;241m.\u001b[39mrank\n",
      "\u001b[0;31mValueError\u001b[0m: Input 0 of layer \"repeat_vector_5\" is incompatible with the layer: expected ndim=2, found ndim=3. Full shape received: (None, 1764, 256)"
     ]
    }
   ],
   "source": [
    "model = build_model(IMG_SHAPE, 2, 256, 2, 256, tokenizer.vocabulary_size(), max_seq_len_1)\n",
    "#transformer_model = Transformer(tokenizer, output_layer=output_layer, units=128, dropout_rate=0.5, num_layers=2, num_heads=2)"
   ]
  },
  {
   "cell_type": "code",
   "execution_count": 84,
   "metadata": {
    "id": "ba5W_OZFAAI8"
   },
   "outputs": [
    {
     "name": "stdout",
     "output_type": "stream",
     "text": [
      "Model: \"model_17\"\n",
      "__________________________________________________________________________________________________\n",
      " Layer (type)                Output Shape                 Param #   Connected to                  \n",
      "==================================================================================================\n",
      " image_input (InputLayer)    [(None, 50, 200, 1)]         0         []                            \n",
      "                                                                                                  \n",
      " model_15 (Functional)       (None, 512)                  1380070   ['image_input[0][0]']         \n",
      "                                                          4                                       \n",
      "                                                                                                  \n",
      " decoder_input (InputLayer)  [(None, 91)]                 0         []                            \n",
      "                                                                                                  \n",
      " repeat_vector_4 (RepeatVec  (None, 91, 512)              0         ['model_15[0][0]']            \n",
      " tor)                                                                                             \n",
      "                                                                                                  \n",
      " model_16 (Functional)       (None, 91, 385)              1247105   ['decoder_input[0][0]',       \n",
      "                                                                     'repeat_vector_4[0][0]']     \n",
      "                                                                                                  \n",
      "==================================================================================================\n",
      "Total params: 15047809 (57.40 MB)\n",
      "Trainable params: 15047809 (57.40 MB)\n",
      "Non-trainable params: 0 (0.00 Byte)\n",
      "__________________________________________________________________________________________________\n"
     ]
    }
   ],
   "source": [
    "model.summary()"
   ]
  },
  {
   "cell_type": "code",
   "execution_count": 87,
   "metadata": {
    "id": "eDbtc_4eAAI8"
   },
   "outputs": [],
   "source": [
    "model.compile(optimizer = 'adam', loss='sparse_categorical_crossentropy', metrics=['accuracy'])\n",
    "#tf.keras.optimizers.AdamW(learning_rate=learning_rate, weight_decay=weight_decay)\n",
    "early_stopping = tf.keras.callbacks.EarlyStopping(\n",
    "    monitor='val_loss',  # Metric to monitor\n",
    "    patience=5,          # Number of epochs with no improvement after which training will be stopped\n",
    "    restore_best_weights=True  # Restore model weights from the epoch with the best value of the monitored metric\n",
    ")"
   ]
  },
  {
   "cell_type": "code",
   "execution_count": 88,
   "metadata": {
    "id": "FZZrLb4DAAI8"
   },
   "outputs": [
    {
     "name": "stdout",
     "output_type": "stream",
     "text": [
      "(50000, 91)\n",
      "(50000, 91)\n",
      "(50000, 92)\n"
     ]
    }
   ],
   "source": [
    "print(train_sequences[..., :-1].shape)\n",
    "print(train_sequences[..., 1:].shape)\n",
    "print(train_sequences.shape)"
   ]
  },
  {
   "cell_type": "code",
   "execution_count": 89,
   "metadata": {
    "id": "lzmbXT3WAAI8"
   },
   "outputs": [
    {
     "name": "stdout",
     "output_type": "stream",
     "text": [
      "Epoch 1/100\n",
      "625/625 [==============================] - 611s 935ms/step - loss: 1.6553 - accuracy: 0.7445 - val_loss: 1.6281 - val_accuracy: 0.7468\n",
      "Epoch 2/100\n",
      "625/625 [==============================] - 575s 920ms/step - loss: 1.6359 - accuracy: 0.7457 - val_loss: 1.6268 - val_accuracy: 0.7468\n",
      "Epoch 3/100\n",
      "625/625 [==============================] - 573s 917ms/step - loss: 1.6351 - accuracy: 0.7457 - val_loss: 1.6265 - val_accuracy: 0.7468\n",
      "Epoch 4/100\n",
      "625/625 [==============================] - 573s 917ms/step - loss: 1.6345 - accuracy: 0.7457 - val_loss: 1.6269 - val_accuracy: 0.7468\n",
      "Epoch 5/100\n",
      "625/625 [==============================] - 572s 916ms/step - loss: 1.6337 - accuracy: 0.7457 - val_loss: 1.6250 - val_accuracy: 0.7468\n",
      "Epoch 6/100\n",
      "625/625 [==============================] - 573s 917ms/step - loss: 1.6411 - accuracy: 0.7457 - val_loss: 1.6317 - val_accuracy: 0.7468\n",
      "Epoch 7/100\n",
      "625/625 [==============================] - 572s 915ms/step - loss: 1.6391 - accuracy: 0.7457 - val_loss: 1.6297 - val_accuracy: 0.7468\n",
      "Epoch 8/100\n",
      "625/625 [==============================] - 572s 915ms/step - loss: 1.6367 - accuracy: 0.7457 - val_loss: 1.6270 - val_accuracy: 0.7468\n",
      "Epoch 9/100\n",
      "625/625 [==============================] - 571s 914ms/step - loss: 1.6348 - accuracy: 0.7457 - val_loss: 1.6258 - val_accuracy: 0.7468\n",
      "Epoch 10/100\n",
      "625/625 [==============================] - 571s 914ms/step - loss: 1.6333 - accuracy: 0.7457 - val_loss: 1.6238 - val_accuracy: 0.7468\n",
      "Epoch 11/100\n",
      "625/625 [==============================] - 572s 915ms/step - loss: 1.6316 - accuracy: 0.7457 - val_loss: 1.6225 - val_accuracy: 0.7468\n",
      "Epoch 12/100\n",
      "625/625 [==============================] - 572s 915ms/step - loss: 1.6303 - accuracy: 0.7457 - val_loss: 1.6213 - val_accuracy: 0.7468\n",
      "Epoch 13/100\n",
      "625/625 [==============================] - 572s 915ms/step - loss: 1.6293 - accuracy: 0.7457 - val_loss: 1.6207 - val_accuracy: 0.7468\n",
      "Epoch 14/100\n",
      "625/625 [==============================] - 571s 915ms/step - loss: 1.6282 - accuracy: 0.7457 - val_loss: 1.6199 - val_accuracy: 0.7468\n",
      "Epoch 15/100\n",
      "625/625 [==============================] - 572s 915ms/step - loss: 1.6273 - accuracy: 0.7457 - val_loss: 1.6182 - val_accuracy: 0.7468\n",
      "Epoch 16/100\n",
      "625/625 [==============================] - 571s 914ms/step - loss: 1.6268 - accuracy: 0.7457 - val_loss: 1.6180 - val_accuracy: 0.7468\n",
      "Epoch 17/100\n",
      "625/625 [==============================] - 572s 915ms/step - loss: 1.6262 - accuracy: 0.7457 - val_loss: 1.6174 - val_accuracy: 0.7468\n",
      "Epoch 18/100\n",
      "625/625 [==============================] - 571s 914ms/step - loss: 1.6255 - accuracy: 0.7457 - val_loss: 1.6174 - val_accuracy: 0.7468\n",
      "Epoch 19/100\n",
      "625/625 [==============================] - 571s 914ms/step - loss: 1.6252 - accuracy: 0.7457 - val_loss: 1.6163 - val_accuracy: 0.7468\n",
      "Epoch 20/100\n",
      "625/625 [==============================] - 572s 915ms/step - loss: 1.6403 - accuracy: 0.7453 - val_loss: 1.6250 - val_accuracy: 0.7468\n",
      "Epoch 21/100\n",
      "108/625 [====>.........................] - ETA: 7:17 - loss: 1.6285 - accuracy: 0.7468"
     ]
    },
    {
     "ename": "KeyboardInterrupt",
     "evalue": "",
     "output_type": "error",
     "traceback": [
      "\u001b[0;31m---------------------------------------------------------------------------\u001b[0m",
      "\u001b[0;31mKeyboardInterrupt\u001b[0m                         Traceback (most recent call last)",
      "Cell \u001b[0;32mIn[89], line 2\u001b[0m\n\u001b[1;32m      1\u001b[0m \u001b[38;5;28;01mwith\u001b[39;00m tf\u001b[38;5;241m.\u001b[39mdevice(\u001b[38;5;124m'\u001b[39m\u001b[38;5;124m/GPU:0\u001b[39m\u001b[38;5;124m'\u001b[39m):\n\u001b[0;32m----> 2\u001b[0m     history \u001b[38;5;241m=\u001b[39m \u001b[43mmodel\u001b[49m\u001b[38;5;241;43m.\u001b[39;49m\u001b[43mfit\u001b[49m\u001b[43m(\u001b[49m\u001b[43m[\u001b[49m\u001b[43mtrain_images\u001b[49m\u001b[43m,\u001b[49m\u001b[43m \u001b[49m\u001b[43mtrain_sequences\u001b[49m\u001b[43m[\u001b[49m\u001b[38;5;241;43m.\u001b[39;49m\u001b[38;5;241;43m.\u001b[39;49m\u001b[38;5;241;43m.\u001b[39;49m\u001b[43m,\u001b[49m\u001b[43m \u001b[49m\u001b[43m:\u001b[49m\u001b[38;5;241;43m-\u001b[39;49m\u001b[38;5;241;43m1\u001b[39;49m\u001b[43m]\u001b[49m\u001b[43m]\u001b[49m\u001b[43m,\u001b[49m\n\u001b[1;32m      3\u001b[0m \u001b[43m              \u001b[49m\u001b[43mtrain_sequences\u001b[49m\u001b[43m[\u001b[49m\u001b[38;5;241;43m.\u001b[39;49m\u001b[38;5;241;43m.\u001b[39;49m\u001b[38;5;241;43m.\u001b[39;49m\u001b[43m,\u001b[49m\u001b[43m \u001b[49m\u001b[38;5;241;43m1\u001b[39;49m\u001b[43m:\u001b[49m\u001b[43m]\u001b[49m\u001b[43m,\u001b[49m\n\u001b[1;32m      4\u001b[0m \u001b[43m              \u001b[49m\u001b[43mepochs\u001b[49m\u001b[38;5;241;43m=\u001b[39;49m\u001b[38;5;241;43m100\u001b[39;49m\u001b[43m,\u001b[49m\n\u001b[1;32m      5\u001b[0m \u001b[43m              \u001b[49m\u001b[43mbatch_size\u001b[49m\u001b[38;5;241;43m=\u001b[39;49m\u001b[38;5;241;43m64\u001b[39;49m\u001b[43m,\u001b[49m\n\u001b[1;32m      6\u001b[0m \u001b[43m              \u001b[49m\u001b[43mvalidation_split\u001b[49m\u001b[38;5;241;43m=\u001b[39;49m\u001b[38;5;241;43m0.2\u001b[39;49m\u001b[43m,\u001b[49m\u001b[43m \u001b[49m\u001b[43mcallbacks\u001b[49m\u001b[38;5;241;43m=\u001b[39;49m\u001b[43m[\u001b[49m\u001b[43mearly_stopping\u001b[49m\u001b[43m]\u001b[49m\u001b[43m)\u001b[49m\n\u001b[1;32m      8\u001b[0m \u001b[38;5;28;01mfrom\u001b[39;00m \u001b[38;5;21;01mtensorflow\u001b[39;00m\u001b[38;5;21;01m.\u001b[39;00m\u001b[38;5;21;01mkeras\u001b[39;00m\u001b[38;5;21;01m.\u001b[39;00m\u001b[38;5;21;01mmodels\u001b[39;00m \u001b[38;5;28;01mimport\u001b[39;00m load_model\n",
      "File \u001b[0;32m~/tf/lib/python3.8/site-packages/keras/src/utils/traceback_utils.py:65\u001b[0m, in \u001b[0;36mfilter_traceback.<locals>.error_handler\u001b[0;34m(*args, **kwargs)\u001b[0m\n\u001b[1;32m     63\u001b[0m filtered_tb \u001b[38;5;241m=\u001b[39m \u001b[38;5;28;01mNone\u001b[39;00m\n\u001b[1;32m     64\u001b[0m \u001b[38;5;28;01mtry\u001b[39;00m:\n\u001b[0;32m---> 65\u001b[0m     \u001b[38;5;28;01mreturn\u001b[39;00m \u001b[43mfn\u001b[49m\u001b[43m(\u001b[49m\u001b[38;5;241;43m*\u001b[39;49m\u001b[43margs\u001b[49m\u001b[43m,\u001b[49m\u001b[43m \u001b[49m\u001b[38;5;241;43m*\u001b[39;49m\u001b[38;5;241;43m*\u001b[39;49m\u001b[43mkwargs\u001b[49m\u001b[43m)\u001b[49m\n\u001b[1;32m     66\u001b[0m \u001b[38;5;28;01mexcept\u001b[39;00m \u001b[38;5;167;01mException\u001b[39;00m \u001b[38;5;28;01mas\u001b[39;00m e:\n\u001b[1;32m     67\u001b[0m     filtered_tb \u001b[38;5;241m=\u001b[39m _process_traceback_frames(e\u001b[38;5;241m.\u001b[39m__traceback__)\n",
      "File \u001b[0;32m~/tf/lib/python3.8/site-packages/keras/src/engine/training.py:1742\u001b[0m, in \u001b[0;36mModel.fit\u001b[0;34m(self, x, y, batch_size, epochs, verbose, callbacks, validation_split, validation_data, shuffle, class_weight, sample_weight, initial_epoch, steps_per_epoch, validation_steps, validation_batch_size, validation_freq, max_queue_size, workers, use_multiprocessing)\u001b[0m\n\u001b[1;32m   1734\u001b[0m \u001b[38;5;28;01mwith\u001b[39;00m tf\u001b[38;5;241m.\u001b[39mprofiler\u001b[38;5;241m.\u001b[39mexperimental\u001b[38;5;241m.\u001b[39mTrace(\n\u001b[1;32m   1735\u001b[0m     \u001b[38;5;124m\"\u001b[39m\u001b[38;5;124mtrain\u001b[39m\u001b[38;5;124m\"\u001b[39m,\n\u001b[1;32m   1736\u001b[0m     epoch_num\u001b[38;5;241m=\u001b[39mepoch,\n\u001b[0;32m   (...)\u001b[0m\n\u001b[1;32m   1739\u001b[0m     _r\u001b[38;5;241m=\u001b[39m\u001b[38;5;241m1\u001b[39m,\n\u001b[1;32m   1740\u001b[0m ):\n\u001b[1;32m   1741\u001b[0m     callbacks\u001b[38;5;241m.\u001b[39mon_train_batch_begin(step)\n\u001b[0;32m-> 1742\u001b[0m     tmp_logs \u001b[38;5;241m=\u001b[39m \u001b[38;5;28;43mself\u001b[39;49m\u001b[38;5;241;43m.\u001b[39;49m\u001b[43mtrain_function\u001b[49m\u001b[43m(\u001b[49m\u001b[43miterator\u001b[49m\u001b[43m)\u001b[49m\n\u001b[1;32m   1743\u001b[0m     \u001b[38;5;28;01mif\u001b[39;00m data_handler\u001b[38;5;241m.\u001b[39mshould_sync:\n\u001b[1;32m   1744\u001b[0m         context\u001b[38;5;241m.\u001b[39masync_wait()\n",
      "File \u001b[0;32m~/tf/lib/python3.8/site-packages/tensorflow/python/util/traceback_utils.py:150\u001b[0m, in \u001b[0;36mfilter_traceback.<locals>.error_handler\u001b[0;34m(*args, **kwargs)\u001b[0m\n\u001b[1;32m    148\u001b[0m filtered_tb \u001b[38;5;241m=\u001b[39m \u001b[38;5;28;01mNone\u001b[39;00m\n\u001b[1;32m    149\u001b[0m \u001b[38;5;28;01mtry\u001b[39;00m:\n\u001b[0;32m--> 150\u001b[0m   \u001b[38;5;28;01mreturn\u001b[39;00m \u001b[43mfn\u001b[49m\u001b[43m(\u001b[49m\u001b[38;5;241;43m*\u001b[39;49m\u001b[43margs\u001b[49m\u001b[43m,\u001b[49m\u001b[43m \u001b[49m\u001b[38;5;241;43m*\u001b[39;49m\u001b[38;5;241;43m*\u001b[39;49m\u001b[43mkwargs\u001b[49m\u001b[43m)\u001b[49m\n\u001b[1;32m    151\u001b[0m \u001b[38;5;28;01mexcept\u001b[39;00m \u001b[38;5;167;01mException\u001b[39;00m \u001b[38;5;28;01mas\u001b[39;00m e:\n\u001b[1;32m    152\u001b[0m   filtered_tb \u001b[38;5;241m=\u001b[39m _process_traceback_frames(e\u001b[38;5;241m.\u001b[39m__traceback__)\n",
      "File \u001b[0;32m~/tf/lib/python3.8/site-packages/tensorflow/python/eager/polymorphic_function/polymorphic_function.py:825\u001b[0m, in \u001b[0;36mFunction.__call__\u001b[0;34m(self, *args, **kwds)\u001b[0m\n\u001b[1;32m    822\u001b[0m compiler \u001b[38;5;241m=\u001b[39m \u001b[38;5;124m\"\u001b[39m\u001b[38;5;124mxla\u001b[39m\u001b[38;5;124m\"\u001b[39m \u001b[38;5;28;01mif\u001b[39;00m \u001b[38;5;28mself\u001b[39m\u001b[38;5;241m.\u001b[39m_jit_compile \u001b[38;5;28;01melse\u001b[39;00m \u001b[38;5;124m\"\u001b[39m\u001b[38;5;124mnonXla\u001b[39m\u001b[38;5;124m\"\u001b[39m\n\u001b[1;32m    824\u001b[0m \u001b[38;5;28;01mwith\u001b[39;00m OptionalXlaContext(\u001b[38;5;28mself\u001b[39m\u001b[38;5;241m.\u001b[39m_jit_compile):\n\u001b[0;32m--> 825\u001b[0m   result \u001b[38;5;241m=\u001b[39m \u001b[38;5;28;43mself\u001b[39;49m\u001b[38;5;241;43m.\u001b[39;49m\u001b[43m_call\u001b[49m\u001b[43m(\u001b[49m\u001b[38;5;241;43m*\u001b[39;49m\u001b[43margs\u001b[49m\u001b[43m,\u001b[49m\u001b[43m \u001b[49m\u001b[38;5;241;43m*\u001b[39;49m\u001b[38;5;241;43m*\u001b[39;49m\u001b[43mkwds\u001b[49m\u001b[43m)\u001b[49m\n\u001b[1;32m    827\u001b[0m new_tracing_count \u001b[38;5;241m=\u001b[39m \u001b[38;5;28mself\u001b[39m\u001b[38;5;241m.\u001b[39mexperimental_get_tracing_count()\n\u001b[1;32m    828\u001b[0m without_tracing \u001b[38;5;241m=\u001b[39m (tracing_count \u001b[38;5;241m==\u001b[39m new_tracing_count)\n",
      "File \u001b[0;32m~/tf/lib/python3.8/site-packages/tensorflow/python/eager/polymorphic_function/polymorphic_function.py:857\u001b[0m, in \u001b[0;36mFunction._call\u001b[0;34m(self, *args, **kwds)\u001b[0m\n\u001b[1;32m    854\u001b[0m   \u001b[38;5;28mself\u001b[39m\u001b[38;5;241m.\u001b[39m_lock\u001b[38;5;241m.\u001b[39mrelease()\n\u001b[1;32m    855\u001b[0m   \u001b[38;5;66;03m# In this case we have created variables on the first call, so we run the\u001b[39;00m\n\u001b[1;32m    856\u001b[0m   \u001b[38;5;66;03m# defunned version which is guaranteed to never create variables.\u001b[39;00m\n\u001b[0;32m--> 857\u001b[0m   \u001b[38;5;28;01mreturn\u001b[39;00m \u001b[38;5;28;43mself\u001b[39;49m\u001b[38;5;241;43m.\u001b[39;49m\u001b[43m_no_variable_creation_fn\u001b[49m\u001b[43m(\u001b[49m\u001b[38;5;241;43m*\u001b[39;49m\u001b[43margs\u001b[49m\u001b[43m,\u001b[49m\u001b[43m \u001b[49m\u001b[38;5;241;43m*\u001b[39;49m\u001b[38;5;241;43m*\u001b[39;49m\u001b[43mkwds\u001b[49m\u001b[43m)\u001b[49m  \u001b[38;5;66;03m# pylint: disable=not-callable\u001b[39;00m\n\u001b[1;32m    858\u001b[0m \u001b[38;5;28;01melif\u001b[39;00m \u001b[38;5;28mself\u001b[39m\u001b[38;5;241m.\u001b[39m_variable_creation_fn \u001b[38;5;129;01mis\u001b[39;00m \u001b[38;5;129;01mnot\u001b[39;00m \u001b[38;5;28;01mNone\u001b[39;00m:\n\u001b[1;32m    859\u001b[0m   \u001b[38;5;66;03m# Release the lock early so that multiple threads can perform the call\u001b[39;00m\n\u001b[1;32m    860\u001b[0m   \u001b[38;5;66;03m# in parallel.\u001b[39;00m\n\u001b[1;32m    861\u001b[0m   \u001b[38;5;28mself\u001b[39m\u001b[38;5;241m.\u001b[39m_lock\u001b[38;5;241m.\u001b[39mrelease()\n",
      "File \u001b[0;32m~/tf/lib/python3.8/site-packages/tensorflow/python/eager/polymorphic_function/tracing_compiler.py:148\u001b[0m, in \u001b[0;36mTracingCompiler.__call__\u001b[0;34m(self, *args, **kwargs)\u001b[0m\n\u001b[1;32m    145\u001b[0m \u001b[38;5;28;01mwith\u001b[39;00m \u001b[38;5;28mself\u001b[39m\u001b[38;5;241m.\u001b[39m_lock:\n\u001b[1;32m    146\u001b[0m   (concrete_function,\n\u001b[1;32m    147\u001b[0m    filtered_flat_args) \u001b[38;5;241m=\u001b[39m \u001b[38;5;28mself\u001b[39m\u001b[38;5;241m.\u001b[39m_maybe_define_function(args, kwargs)\n\u001b[0;32m--> 148\u001b[0m \u001b[38;5;28;01mreturn\u001b[39;00m \u001b[43mconcrete_function\u001b[49m\u001b[38;5;241;43m.\u001b[39;49m\u001b[43m_call_flat\u001b[49m\u001b[43m(\u001b[49m\n\u001b[1;32m    149\u001b[0m \u001b[43m    \u001b[49m\u001b[43mfiltered_flat_args\u001b[49m\u001b[43m,\u001b[49m\u001b[43m \u001b[49m\u001b[43mcaptured_inputs\u001b[49m\u001b[38;5;241;43m=\u001b[39;49m\u001b[43mconcrete_function\u001b[49m\u001b[38;5;241;43m.\u001b[39;49m\u001b[43mcaptured_inputs\u001b[49m\u001b[43m)\u001b[49m\n",
      "File \u001b[0;32m~/tf/lib/python3.8/site-packages/tensorflow/python/eager/polymorphic_function/monomorphic_function.py:1349\u001b[0m, in \u001b[0;36mConcreteFunction._call_flat\u001b[0;34m(self, args, captured_inputs)\u001b[0m\n\u001b[1;32m   1345\u001b[0m possible_gradient_type \u001b[38;5;241m=\u001b[39m gradients_util\u001b[38;5;241m.\u001b[39mPossibleTapeGradientTypes(args)\n\u001b[1;32m   1346\u001b[0m \u001b[38;5;28;01mif\u001b[39;00m (possible_gradient_type \u001b[38;5;241m==\u001b[39m gradients_util\u001b[38;5;241m.\u001b[39mPOSSIBLE_GRADIENT_TYPES_NONE\n\u001b[1;32m   1347\u001b[0m     \u001b[38;5;129;01mand\u001b[39;00m executing_eagerly):\n\u001b[1;32m   1348\u001b[0m   \u001b[38;5;66;03m# No tape is watching; skip to running the function.\u001b[39;00m\n\u001b[0;32m-> 1349\u001b[0m   \u001b[38;5;28;01mreturn\u001b[39;00m \u001b[38;5;28mself\u001b[39m\u001b[38;5;241m.\u001b[39m_build_call_outputs(\u001b[38;5;28;43mself\u001b[39;49m\u001b[38;5;241;43m.\u001b[39;49m\u001b[43m_inference_function\u001b[49m\u001b[43m(\u001b[49m\u001b[38;5;241;43m*\u001b[39;49m\u001b[43margs\u001b[49m\u001b[43m)\u001b[49m)\n\u001b[1;32m   1350\u001b[0m forward_backward \u001b[38;5;241m=\u001b[39m \u001b[38;5;28mself\u001b[39m\u001b[38;5;241m.\u001b[39m_select_forward_and_backward_functions(\n\u001b[1;32m   1351\u001b[0m     args,\n\u001b[1;32m   1352\u001b[0m     possible_gradient_type,\n\u001b[1;32m   1353\u001b[0m     executing_eagerly)\n\u001b[1;32m   1354\u001b[0m forward_function, args_with_tangents \u001b[38;5;241m=\u001b[39m forward_backward\u001b[38;5;241m.\u001b[39mforward()\n",
      "File \u001b[0;32m~/tf/lib/python3.8/site-packages/tensorflow/python/eager/polymorphic_function/atomic_function.py:196\u001b[0m, in \u001b[0;36mAtomicFunction.__call__\u001b[0;34m(self, *args)\u001b[0m\n\u001b[1;32m    194\u001b[0m \u001b[38;5;28;01mwith\u001b[39;00m record\u001b[38;5;241m.\u001b[39mstop_recording():\n\u001b[1;32m    195\u001b[0m   \u001b[38;5;28;01mif\u001b[39;00m \u001b[38;5;28mself\u001b[39m\u001b[38;5;241m.\u001b[39m_bound_context\u001b[38;5;241m.\u001b[39mexecuting_eagerly():\n\u001b[0;32m--> 196\u001b[0m     outputs \u001b[38;5;241m=\u001b[39m \u001b[38;5;28;43mself\u001b[39;49m\u001b[38;5;241;43m.\u001b[39;49m\u001b[43m_bound_context\u001b[49m\u001b[38;5;241;43m.\u001b[39;49m\u001b[43mcall_function\u001b[49m\u001b[43m(\u001b[49m\n\u001b[1;32m    197\u001b[0m \u001b[43m        \u001b[49m\u001b[38;5;28;43mself\u001b[39;49m\u001b[38;5;241;43m.\u001b[39;49m\u001b[43mname\u001b[49m\u001b[43m,\u001b[49m\n\u001b[1;32m    198\u001b[0m \u001b[43m        \u001b[49m\u001b[38;5;28;43mlist\u001b[39;49m\u001b[43m(\u001b[49m\u001b[43margs\u001b[49m\u001b[43m)\u001b[49m\u001b[43m,\u001b[49m\n\u001b[1;32m    199\u001b[0m \u001b[43m        \u001b[49m\u001b[38;5;28;43mlen\u001b[39;49m\u001b[43m(\u001b[49m\u001b[38;5;28;43mself\u001b[39;49m\u001b[38;5;241;43m.\u001b[39;49m\u001b[43mfunction_type\u001b[49m\u001b[38;5;241;43m.\u001b[39;49m\u001b[43mflat_outputs\u001b[49m\u001b[43m)\u001b[49m\u001b[43m,\u001b[49m\n\u001b[1;32m    200\u001b[0m \u001b[43m    \u001b[49m\u001b[43m)\u001b[49m\n\u001b[1;32m    201\u001b[0m   \u001b[38;5;28;01melse\u001b[39;00m:\n\u001b[1;32m    202\u001b[0m     outputs \u001b[38;5;241m=\u001b[39m make_call_op_in_graph(\u001b[38;5;28mself\u001b[39m, \u001b[38;5;28mlist\u001b[39m(args))\n",
      "File \u001b[0;32m~/tf/lib/python3.8/site-packages/tensorflow/python/eager/context.py:1457\u001b[0m, in \u001b[0;36mContext.call_function\u001b[0;34m(self, name, tensor_inputs, num_outputs)\u001b[0m\n\u001b[1;32m   1455\u001b[0m cancellation_context \u001b[38;5;241m=\u001b[39m cancellation\u001b[38;5;241m.\u001b[39mcontext()\n\u001b[1;32m   1456\u001b[0m \u001b[38;5;28;01mif\u001b[39;00m cancellation_context \u001b[38;5;129;01mis\u001b[39;00m \u001b[38;5;28;01mNone\u001b[39;00m:\n\u001b[0;32m-> 1457\u001b[0m   outputs \u001b[38;5;241m=\u001b[39m \u001b[43mexecute\u001b[49m\u001b[38;5;241;43m.\u001b[39;49m\u001b[43mexecute\u001b[49m\u001b[43m(\u001b[49m\n\u001b[1;32m   1458\u001b[0m \u001b[43m      \u001b[49m\u001b[43mname\u001b[49m\u001b[38;5;241;43m.\u001b[39;49m\u001b[43mdecode\u001b[49m\u001b[43m(\u001b[49m\u001b[38;5;124;43m\"\u001b[39;49m\u001b[38;5;124;43mutf-8\u001b[39;49m\u001b[38;5;124;43m\"\u001b[39;49m\u001b[43m)\u001b[49m\u001b[43m,\u001b[49m\n\u001b[1;32m   1459\u001b[0m \u001b[43m      \u001b[49m\u001b[43mnum_outputs\u001b[49m\u001b[38;5;241;43m=\u001b[39;49m\u001b[43mnum_outputs\u001b[49m\u001b[43m,\u001b[49m\n\u001b[1;32m   1460\u001b[0m \u001b[43m      \u001b[49m\u001b[43minputs\u001b[49m\u001b[38;5;241;43m=\u001b[39;49m\u001b[43mtensor_inputs\u001b[49m\u001b[43m,\u001b[49m\n\u001b[1;32m   1461\u001b[0m \u001b[43m      \u001b[49m\u001b[43mattrs\u001b[49m\u001b[38;5;241;43m=\u001b[39;49m\u001b[43mattrs\u001b[49m\u001b[43m,\u001b[49m\n\u001b[1;32m   1462\u001b[0m \u001b[43m      \u001b[49m\u001b[43mctx\u001b[49m\u001b[38;5;241;43m=\u001b[39;49m\u001b[38;5;28;43mself\u001b[39;49m\u001b[43m,\u001b[49m\n\u001b[1;32m   1463\u001b[0m \u001b[43m  \u001b[49m\u001b[43m)\u001b[49m\n\u001b[1;32m   1464\u001b[0m \u001b[38;5;28;01melse\u001b[39;00m:\n\u001b[1;32m   1465\u001b[0m   outputs \u001b[38;5;241m=\u001b[39m execute\u001b[38;5;241m.\u001b[39mexecute_with_cancellation(\n\u001b[1;32m   1466\u001b[0m       name\u001b[38;5;241m.\u001b[39mdecode(\u001b[38;5;124m\"\u001b[39m\u001b[38;5;124mutf-8\u001b[39m\u001b[38;5;124m\"\u001b[39m),\n\u001b[1;32m   1467\u001b[0m       num_outputs\u001b[38;5;241m=\u001b[39mnum_outputs,\n\u001b[0;32m   (...)\u001b[0m\n\u001b[1;32m   1471\u001b[0m       cancellation_manager\u001b[38;5;241m=\u001b[39mcancellation_context,\n\u001b[1;32m   1472\u001b[0m   )\n",
      "File \u001b[0;32m~/tf/lib/python3.8/site-packages/tensorflow/python/eager/execute.py:53\u001b[0m, in \u001b[0;36mquick_execute\u001b[0;34m(op_name, num_outputs, inputs, attrs, ctx, name)\u001b[0m\n\u001b[1;32m     51\u001b[0m \u001b[38;5;28;01mtry\u001b[39;00m:\n\u001b[1;32m     52\u001b[0m   ctx\u001b[38;5;241m.\u001b[39mensure_initialized()\n\u001b[0;32m---> 53\u001b[0m   tensors \u001b[38;5;241m=\u001b[39m \u001b[43mpywrap_tfe\u001b[49m\u001b[38;5;241;43m.\u001b[39;49m\u001b[43mTFE_Py_Execute\u001b[49m\u001b[43m(\u001b[49m\u001b[43mctx\u001b[49m\u001b[38;5;241;43m.\u001b[39;49m\u001b[43m_handle\u001b[49m\u001b[43m,\u001b[49m\u001b[43m \u001b[49m\u001b[43mdevice_name\u001b[49m\u001b[43m,\u001b[49m\u001b[43m \u001b[49m\u001b[43mop_name\u001b[49m\u001b[43m,\u001b[49m\n\u001b[1;32m     54\u001b[0m \u001b[43m                                      \u001b[49m\u001b[43minputs\u001b[49m\u001b[43m,\u001b[49m\u001b[43m \u001b[49m\u001b[43mattrs\u001b[49m\u001b[43m,\u001b[49m\u001b[43m \u001b[49m\u001b[43mnum_outputs\u001b[49m\u001b[43m)\u001b[49m\n\u001b[1;32m     55\u001b[0m \u001b[38;5;28;01mexcept\u001b[39;00m core\u001b[38;5;241m.\u001b[39m_NotOkStatusException \u001b[38;5;28;01mas\u001b[39;00m e:\n\u001b[1;32m     56\u001b[0m   \u001b[38;5;28;01mif\u001b[39;00m name \u001b[38;5;129;01mis\u001b[39;00m \u001b[38;5;129;01mnot\u001b[39;00m \u001b[38;5;28;01mNone\u001b[39;00m:\n",
      "\u001b[0;31mKeyboardInterrupt\u001b[0m: "
     ]
    }
   ],
   "source": [
    "with tf.device('/GPU:0'):\n",
    "    history = model.fit([train_images, train_sequences[..., :-1]],\n",
    "              train_sequences[..., 1:],\n",
    "              epochs=100,\n",
    "              batch_size=64,\n",
    "              validation_split=0.2, callbacks=[early_stopping])\n"
   ]
  },
  {
   "cell_type": "code",
   "execution_count": null,
   "metadata": {
    "id": "rGz_H92VAAI8"
   },
   "outputs": [],
   "source": [
    "transformer_model.save('/home/ubuntu/model_av.keras')"
   ]
  },
  {
   "cell_type": "markdown",
   "metadata": {
    "id": "Jdeua_LzAAI9"
   },
   "source": [
    "# Model Training"
   ]
  },
  {
   "cell_type": "code",
   "execution_count": null,
   "metadata": {
    "id": "ePe5hVCKG0df"
   },
   "outputs": [],
   "source": [
    "with tf.device('/GPU:0'):\n",
    "    model.fit([train_images, train_sequences[:, :-1]],\n",
    "              train_sequences[:, 1:],\n",
    "              epochs=20,\n",
    "              batch_size=128,\n",
    "              validation_split=0.2)\n",
    "\n",
    "from tensorflow.keras.models import load_model\n",
    "model.save('/home/ubuntu/latex_model.keras')\n",
    "\n",
    "#model = load_model('latex_model.h5')\n"
   ]
  },
  {
   "cell_type": "code",
   "execution_count": null,
   "metadata": {
    "id": "Z_u6gxZzWVRk"
   },
   "outputs": [],
   "source": [
    "#dot_img_file =\n",
    "import keras\n",
    "keras.utils.plot_model(model,\n",
    "                       show_shapes=True,\n",
    "                       show_dtype=True,\n",
    "                       show_layer_names=True,\n",
    "                       expand_nested=True,\n",
    "                       show_layer_activations=True,\n",
    "                       )"
   ]
  },
  {
   "cell_type": "code",
   "execution_count": null,
   "metadata": {
    "id": "l_WwX-x7YWRb"
   },
   "outputs": [],
   "source": [
    "import keras\n",
    "keras.utils.plot_model(model,\n",
    "                       show_shapes=True,\n",
    "                       show_dtype=True,\n",
    "                       show_layer_names=True,\n",
    "                       expand_nested=True,\n",
    "                       show_layer_activations=True,\n",
    "                       to_file='/Users/jayaprakash/latex_model.png'\n",
    "                       )"
   ]
  },
  {
   "cell_type": "markdown",
   "metadata": {
    "id": "ixV3kbyDPr8X"
   },
   "source": [
    "# Predict"
   ]
  },
  {
   "cell_type": "code",
   "execution_count": null,
   "metadata": {
    "id": "vjCZXuZ_Jn-x"
   },
   "outputs": [],
   "source": [
    "import numpy as np\n",
    "\n",
    "def predict_latex_sequence(model, image, tokenizer):\n",
    "    \"\"\"\n",
    "    Predict LaTeX sequence from a single image.\n",
    "\n",
    "    Parameters:\n",
    "    - model: Trained Keras model for predicting LaTeX sequence.\n",
    "    - image: Input image (preprocessed to match training dimensions).\n",
    "    - tokenizer: Tokenizer fitted on LaTeX sequences for decoding predictions.\n",
    "    - max_seq_len: Maximum sequence length for the predicted sequence.\n",
    "\n",
    "    Returns:\n",
    "    - latex_sequence: Predicted LaTeX sequence as a string.\n",
    "    \"\"\"\n",
    "    # Prepare input image and initialize the sequence\n",
    "    image = np.expand_dims(image, axis=0)  # Add batch dimension\n",
    "    start_token = tokenizer.word_index[\"<START>\"]\n",
    "    end_token = tokenizer.word_index[\"<END>\"]\n",
    "\n",
    "    # Initial sequence with the start token\n",
    "    sequence = [start_token]\n",
    "\n",
    "    for _ in range(max_seq_len_1):\n",
    "        # Pad the current sequence to match input length\n",
    "        padded_sequence = np.pad(sequence, (0, max_seq_len_1 - len(sequence)), mode='constant')\n",
    "        padded_sequence = np.expand_dims(padded_sequence, axis=0)  # Add batch dimension\n",
    "\n",
    "        # Predict next token\n",
    "        preds = model.predict([image, padded_sequence])\n",
    "        next_token = np.argmax(preds[0, len(sequence) - 1, :])\n",
    "\n",
    "        # Break if end token is reached\n",
    "        if next_token == end_token:\n",
    "            break\n",
    "\n",
    "        # Add the predicted token to the sequence\n",
    "        sequence.append(next_token)\n",
    "\n",
    "    # Decode the token sequence to a string\n",
    "    latex_sequence = tokenizer.sequences_to_texts([sequence[1:]])[0]  # Skip the start token\n",
    "    return latex_sequence\n",
    "\n",
    "predicted_latex = predict_latex_sequence(model, train_images[12], tokenizer)\n",
    "print(\"Predicted LaTeX:\", predicted_latex)\n",
    "#print(\"Original Seq:\", train_sequences[0])\n",
    "print(\"Original Seq:\", train_latex_texts[12])"
   ]
  },
  {
   "cell_type": "code",
   "execution_count": null,
   "metadata": {
    "id": "eIlv7RgvQZ9y"
   },
   "outputs": [],
   "source": []
  },
  {
   "cell_type": "code",
   "execution_count": null,
   "metadata": {
    "id": "T9MKLOc1REDl"
   },
   "outputs": [],
   "source": []
  }
 ],
 "metadata": {
  "colab": {
   "include_colab_link": true,
   "private_outputs": true,
   "provenance": []
  },
  "kernelspec": {
   "display_name": "Python 3 (ipykernel)",
   "language": "python",
   "name": "python3"
  },
  "language_info": {
   "codemirror_mode": {
    "name": "ipython",
    "version": 3
   },
   "file_extension": ".py",
   "mimetype": "text/x-python",
   "name": "python",
   "nbconvert_exporter": "python",
   "pygments_lexer": "ipython3",
   "version": "3.8.10"
  }
 },
 "nbformat": 4,
 "nbformat_minor": 4
}

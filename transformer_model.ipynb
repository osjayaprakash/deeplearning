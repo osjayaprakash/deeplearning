{
 "cells": [
  {
   "cell_type": "markdown",
   "metadata": {
    "colab_type": "text",
    "id": "view-in-github"
   },
   "source": [
    "<a href=\"https://colab.research.google.com/github/osjayaprakash/deeplearning/blob/main/transformer_model.ipynb\" target=\"_parent\"><img src=\"https://colab.research.google.com/assets/colab-badge.svg\" alt=\"Open In Colab\"/></a>"
   ]
  },
  {
   "cell_type": "code",
   "execution_count": 1,
   "metadata": {
    "id": "6TKz3RA-FuOp"
   },
   "outputs": [
    {
     "name": "stderr",
     "output_type": "stream",
     "text": [
      "2024-12-02 02:19:43.568245: I tensorflow/core/platform/cpu_feature_guard.cc:182] This TensorFlow binary is optimized to use available CPU instructions in performance-critical operations.\n",
      "To enable the following instructions: AVX2 FMA, in other operations, rebuild TensorFlow with the appropriate compiler flags.\n",
      "2024-12-02 02:19:44.120590: W tensorflow/compiler/tf2tensorrt/utils/py_utils.cc:38] TF-TRT Warning: Could not find TensorRT\n"
     ]
    },
    {
     "name": "stdout",
     "output_type": "stream",
     "text": [
      "Python Platform: Linux-5.15.0-1044-aws-x86_64-with-glibc2.29\n",
      "Tensor Flow Version: 2.13.1\n",
      "\n",
      "Python 3.8.10 (default, Nov  7 2024, 13:10:47) \n",
      "[GCC 9.4.0]\n",
      "Pandas 2.0.3\n",
      "Scikit-Learn 1.3.2\n",
      "SciPy 1.10.1\n",
      "[PhysicalDevice(name='/physical_device:CPU:0', device_type='CPU'), PhysicalDevice(name='/physical_device:GPU:0', device_type='GPU')]\n"
     ]
    }
   ],
   "source": [
    "import tensorflow as tf\n",
    "from tensorflow.keras.models import load_model\n",
    "from tensorflow.keras.layers import (Input, Conv2D, MaxPooling2D, Flatten,\n",
    "                                     Dense, GRU, Embedding, Bidirectional,\n",
    "                                     TimeDistributed, Concatenate, RepeatVector, LSTM, MultiHeadAttention, LayerNormalization, Add, Dropout )\n",
    "from tensorflow.keras.models import Model\n",
    "from tensorflow.keras.preprocessing.text import Tokenizer\n",
    "from tensorflow.keras.preprocessing.sequence import pad_sequences\n",
    "import numpy as np\n",
    "import matplotlib.pyplot as plt\n",
    "import platform\n",
    "import sys\n",
    "import pandas as pd\n",
    "import sklearn as sk\n",
    "import scipy as sp\n",
    "from tensorflow.python.ops.numpy_ops import np_config  \n",
    "import einops\n",
    "\n",
    "np_config.enable_numpy_behavior()\n",
    "tf.config.experimental.list_physical_devices('GPU')\n",
    "print(f\"Python Platform: {platform.platform()}\")\n",
    "print(f\"Tensor Flow Version: {tf.__version__}\")\n",
    "#print(f\"Keras Version: {tf.keras.__version__}\")\n",
    "print()\n",
    "print(f\"Python {sys.version}\")\n",
    "print(f\"Pandas {pd.__version__}\")\n",
    "print(f\"Scikit-Learn {sk.__version__}\")\n",
    "print(f\"SciPy {sp.__version__}\")\n",
    "print(tf.config.list_physical_devices())"
   ]
  },
  {
   "cell_type": "code",
   "execution_count": 2,
   "metadata": {
    "id": "xZgd8NVaFjfO"
   },
   "outputs": [
    {
     "name": "stdout",
     "output_type": "stream",
     "text": [
      "Warning: Looks like you're using an outdated `kagglehub` version, please consider updating (latest version: 0.3.4)\n",
      "Path to dataset files: /home/ubuntu/.cache/kagglehub/datasets/shahrukhkhan/im2latex100k/versions/7\n"
     ]
    }
   ],
   "source": [
    "import kagglehub\n",
    "\n",
    "# Download latest version\n",
    "root_dir = kagglehub.dataset_download(\"shahrukhkhan/im2latex100k\")\n",
    "# path = kagglehub.dataset_download(\"gregoryeritsyan/im2latex-230k\")\n",
    "\n",
    "print(\"Path to dataset files:\", root_dir)"
   ]
  },
  {
   "cell_type": "markdown",
   "metadata": {
    "id": "Qo6QNApGGgIk"
   },
   "source": [
    "# Preprocess"
   ]
  },
  {
   "cell_type": "code",
   "execution_count": 3,
   "metadata": {},
   "outputs": [],
   "source": [
    "IMG_SHAPE = [50, 200, 1]\n",
    "EMBEDDING_DIM = 256\n",
    "max_seq_length = 250\n",
    "n = 50000\n",
    "max_seq_len_1 = max_seq_length - 1"
   ]
  },
  {
   "cell_type": "code",
   "execution_count": 4,
   "metadata": {
    "id": "wAMBW0OFF_VN"
   },
   "outputs": [],
   "source": [
    "def preprocess_image(image):\n",
    "    \"\"\"Preprocess the input image: Resize and normalize.\"\"\"\n",
    "    image = tf.image.resize(image, (50, 200))  # Resize to (50, 200)\n",
    "    image = image / 255.0  # Normalize to [0, 1]\n",
    "    return image\n",
    "\n",
    "def load_and_preprocess_images(image_paths):\n",
    "    \"\"\"Load and preprocess a batch of images.\"\"\"\n",
    "    # Use Gray scale\n",
    "    images = [preprocess_image(tf.io.decode_image(tf.io.read_file(path), channels=1))\n",
    "              for path in image_paths]\n",
    "    return tf.stack(images)\n",
    "\n",
    "def prepare_sequences(latex_texts, max_seq_length):\n",
    "    \"\"\"Convert LaTeX texts to padded sequences of tokens.\"\"\"\n",
    "    sequences = [text_to_sequence(text) for text in latex_texts]\n",
    "    return pad_sequences(sequences, maxlen=max_seq_length, padding='post')\n"
   ]
  },
  {
   "cell_type": "code",
   "execution_count": 5,
   "metadata": {
    "id": "4NIjhtisIi1W"
   },
   "outputs": [
    {
     "name": "stderr",
     "output_type": "stream",
     "text": [
      "2024-12-02 02:19:51.694700: I tensorflow/core/common_runtime/gpu/gpu_device.cc:1639] Created device /job:localhost/replica:0/task:0/device:GPU:0 with 20972 MB memory:  -> device: 0, name: NVIDIA L4, pci bus id: 0000:31:00.0, compute capability: 8.9\n"
     ]
    }
   ],
   "source": [
    "# %%time\n",
    "# %%prun\n",
    "\n",
    "df = pd.read_csv(f\"{root_dir}/im2latex_train.csv\", nrows=n)\n",
    "\n",
    "train_image_paths = []\n",
    "train_latex_texts = []\n",
    "\n",
    "for index, row in df.iterrows():\n",
    "    train_image_paths += [f\"{root_dir}//formula_images_processed/formula_images_processed/{row.image}\"]\n",
    "    train_latex_texts += [\"[START] \" + row.formula + \" [END]\"]\n",
    "\n",
    "train_images = load_and_preprocess_images(train_image_paths)"
   ]
  },
  {
   "cell_type": "markdown",
   "metadata": {},
   "source": [
    "## Transformer Model\n",
    "\n",
    "The code is adapted from these two official tensorflow/keras tutorials:\n",
    "- [Image classification with Vision Transformer](https://keras.io/examples/vision/image_classification_with_vision_transformer/) - Transformer encoder\n",
    "- [Image captioning with visual attention](https://www.tensorflow.org/text/tutorials/image_captioning) - Transformer decoder"
   ]
  },
  {
   "cell_type": "code",
   "execution_count": 6,
   "metadata": {
    "id": "GjYzQHDSAAI1"
   },
   "outputs": [],
   "source": [
    "tokenizer = tf.keras.layers.TextVectorization(max_tokens=max_seq_length, standardize = None)"
   ]
  },
  {
   "cell_type": "code",
   "execution_count": 7,
   "metadata": {
    "id": "WpXdTtsaAAI1"
   },
   "outputs": [],
   "source": [
    "tokenizer.adapt(train_latex_texts)"
   ]
  },
  {
   "cell_type": "code",
   "execution_count": 8,
   "metadata": {
    "id": "WJgjaXn2AAI3"
   },
   "outputs": [],
   "source": [
    "latex_labels = tokenizer(train_latex_texts)\n",
    "train_sequences = np.asarray(latex_labels)"
   ]
  },
  {
   "cell_type": "code",
   "execution_count": 9,
   "metadata": {
    "id": "az_S8OFzIvc1"
   },
   "outputs": [
    {
     "name": "stdout",
     "output_type": "stream",
     "text": [
      "(50000, 152)\n",
      "(50000, 50, 200, 1)\n",
      "{'': 0, '[UNK]': 1, '}': 2, '{': 3, '_': 4, '^': 5, '2': 6, '(': 7, ')': 8, '=': 9, '1': 10, '-': 11, ',': 12, '[START]': 13, '[END]': 14, '\\\\frac': 15, '+': 16, 'i': 17, '0': 18, 'x': 19, 'n': 20, '.': 21, '\\\\,': 22, 'd': 23, 'a': 24, '\\\\mu': 25, 'e': 26, 'k': 27, 'm': 28, 'c': 29, 'r': 30, 'p': 31, '\\\\partial': 32, '\\\\alpha': 33, 't': 34, 'A': 35, '~': 36, '\\\\;': 37, 'j': 38, 's': 39, '3': 40, 'l': 41, '\\\\right)': 42, '\\\\left(': 43, 'g': 44, '4': 45, '\\\\': 46, '\\\\nu': 47, '\\\\prime': 48, '\\\\pi': 49, 'b': 50, 'z': 51, '\\\\phi': 52, '|': 53, '\\\\mathrm': 54, '\\\\cal': 55, '\\\\delta': 56, 'f': 57, 'N': 58, '\\\\lambda': 59, 'T': 60, 'q': 61, 'S': 62, '\\\\beta': 63, ']': 64, '[': 65, 'R': 66, '\\\\bar': 67, '\\\\int': 68, 'L': 69, 'M': 70, 'D': 71, '\\\\operatorname': 72, 'B': 73, 'F': 74, '\\\\sigma': 75, 'y': 76, '\\\\theta': 77, '&': 78, '\\\\\\\\': 79, '\\\\psi': 80, 'h': 81, '/': 82, '\\\\gamma': 83, '\\\\hat': 84, '\\\\sqrt': 85, 'H': 86, '\\\\sum': 87, '\\\\rho': 88, '\\\\tilde': 89, 'u': 90, 'o': 91, '\\\\tau': 92, 'C': 93, 'P': 94, 'G': 95, 'V': 96, 'I': 97, '\\\\omega': 98, 'E': 99, '\\\\epsilon': 100, 'X': 101, '\\\\bf': 102, 'J': 103, '\\\\Phi': 104, '\\\\xi': 105, '\\\\eta': 106, '\\\\vec': 107, 'Q': 108, '\\\\quad': 109, 'v': 110, 'K': 111, '\\\\Gamma': 112, '\\\\infty': 113, '5': 114, '\\\\right]': 115, '\\\\left[': 116, '\\\\pm': 117, 'U': 118, 'W': 119, 'Z': 120, '\\\\dot': 121, '\\\\Lambda': 122, '\\\\Delta': 123, '\\\\end{array}': 124, '\\\\begin{array}': 125, '\\\\varphi': 126, '\\\\rangle': 127, '*': 128, '6': 129, 'w': 130, '\\\\Omega': 131, ';': 132, '\\\\chi': 133, '\\\\qquad': 134, '\\\\kappa': 135, '\\\\Psi': 136, '\\\\equiv': 137, '8': 138, '\\\\}': 139, '\\\\{': 140, '\\\\cdot': 141, '\\\\!': 142, '\\\\overline': 143, '\\\\langle': 144, '\\\\rightarrow': 145, '>': 146, '\\\\dagger': 147, '\\\\zeta': 148, '\\\\nabla': 149, '\\\\varepsilon': 150, 'O': 151, '<': 152, 'Y': 153, ':': 154, '\\\\cdots': 155, '\\\\Sigma': 156, '\\\\mathcal': 157, '\\\\ldots': 158, '\\\\left\\\\{': 159, '\\\\ell': 160, '\\\\:': 161, '\\\\wedge': 162, '\\\\otimes': 163, '\\\\sim': 164, '7': 165, '!': 166, '\\\\operatorname*': 167, '\\\\hbar': 168, '\\\\Pi': 169, '\\\\prod': 170, '\\\\vert': 171, '\\\\hspace': 172, '\\\\widetilde': 173, '\\\\in': 174, '9': 175, '\\\\right\\\\}': 176, '\\\\to': 177, '\\\\mid': 178, '\\\\Theta': 179, '\\\\times': 180, '\\\\Big': 181, '\\\\right|': 182, '\\\\mathbf': 183, '\\\\underline': 184, '\\\\dots': 185, '\\\\left|': 186, '\\\\approx': 187, '\\\\ast': 188, '\\\\leq': 189, '\\\\star': 190, '\\\\widehat': 191, '\\\\perp': 192, '\\\\big': 193, '\\\\stackrel': 194, '\\\\displaystyle': 195, '\\\\right.': 196, '\\\\left.': 197, '\\\\mp': 198, '\\\\Bigr': 199, '\\\\simeq': 200, '\\\\dag': 201, \"'\": 202, '\\\\geq': 203, '\\\\Bigl': 204, '\\\\vartheta': 205, '\\\\neq': 206, '\\\\circ': 207, '\\\\right\\\\rangle': 208, '\\\\oint': 209, '\\\\bigg': 210, '\\\\longrightarrow': 211, '\\\\biggr': 212, '\\\\biggl': 213, '\\\\ddot': 214, '\\\\left\\\\langle': 215, '\\\\textstyle': 216, '\\\\not': 217, '\\\\boldmath': 218, '\\\\bigl': 219, '\\\\bigr': 220, '\\\\oplus': 221, '\\\\Xi': 222, '\\\\propto': 223, '\\\\nonumber': 224, '\\\\varrho': 225, '\\\\check': 226, '\\\\triangle': 227, '\\\\le': 228, '\\\\imath': 229, '\\\\ge': 230, '\\\\right>': 231, '\\\\sp': 232, '\\\\scriptscriptstyle': 233, '\\\\forall': 234, '--': 235, '\\\\|': 236, '\\\\mapsto': 237, '\\\\leftrightarrow': 238, '\\\\lbrack': 239, '\\\\it': 240, '\\\\l': 241, '\\\\Rightarrow': 242, '\\\\scriptsize': 243, '\\\\iota': 244, '\\\\textrm': 245, '\\\\bot': 246, '\\\\subset': 247, '\\\\parallel': 248, '\\\\overrightarrow': 249}\n"
     ]
    }
   ],
   "source": [
    "print(latex_labels.shape)\n",
    "print(train_images.shape)\n",
    "vocab_dict = {name: id for id, name in enumerate(tokenizer.get_vocabulary())}\n",
    "print(vocab_dict)"
   ]
  },
  {
   "cell_type": "code",
   "execution_count": 10,
   "metadata": {},
   "outputs": [
    {
     "name": "stdout",
     "output_type": "stream",
     "text": [
      "[START] \\vec { \\nabla } ^ { 2 } t _ { n } ( \\vec { x } ) = \\vec { \\nabla } G _ { n } , [END]\n",
      "(152,)\n"
     ]
    },
    {
     "data": {
      "image/png": "[encoded data removed]",
      "text/plain": [
       "<Figure size 640x480 with 1 Axes>"
      ]
     },
     "metadata": {},
     "output_type": "display_data"
    }
   ],
   "source": [
    "idx = np.random.choice(range(train_images.shape[0]))\n",
    "img = train_images[idx]\n",
    "plt.imshow(img.numpy(), cmap=\"gray\")\n",
    "print(train_latex_texts[idx])\n",
    "\\vec { \\nabla } ^ { 2 } \\xi ( \\vec { x } ) = \\nabla \\times \\vec { \\nabla }\n",
    "print(train_sequences[idx].shape)"
   ]
  },
  {
   "cell_type": "markdown",
   "metadata": {
    "id": "Yqt7tRm5AAI5"
   },
   "source": [
    "### Vision Transformer Encoder"
   ]
  },
  {
   "cell_type": "code",
   "execution_count": 11,
   "metadata": {
    "id": "Accx5CSIGji3"
   },
   "outputs": [
    {
     "name": "stdout",
     "output_type": "stream",
     "text": [
      "100\n"
     ]
    }
   ],
   "source": [
    "patch_size = 10  # Size of the patches to be extract from the input images\n",
    "num_patches = (IMG_SHAPE[0] // patch_size) * (IMG_SHAPE[1] // patch_size)\n",
    "projection_dim = EMBEDDING_DIM\n",
    "num_heads = 4\n",
    "transformer_units = [\n",
    "    projection_dim * 2,\n",
    "    projection_dim,\n",
    "]  # Size of the transformer layers\n",
    "transformer_layers = 8\n",
    "mlp_head_units = [2048, 1024]\n",
    "print(num_patches)"
   ]
  },
  {
   "cell_type": "code",
   "execution_count": 12,
   "metadata": {
    "id": "XW0usbBPGATy"
   },
   "outputs": [],
   "source": [
    "class Patches(tf.keras.layers.Layer):\n",
    "    def __init__(self, patch_size):\n",
    "        super().__init__()\n",
    "        self.patch_size = patch_size\n",
    "\n",
    "    def call(self, images):\n",
    "        input_shape = tf.raw_ops.Shape(input=images)\n",
    "        batch_size = input_shape[0]\n",
    "        height = input_shape[1]\n",
    "        width = input_shape[2]\n",
    "        channels = input_shape[3]\n",
    "        num_patches_h = height // self.patch_size\n",
    "        num_patches_w = width // self.patch_size\n",
    "        patches = tf.image.extract_patches(images=images, sizes=[1,self.patch_size, self.patch_size,1], strides=[1,self.patch_size, self.patch_size,1], padding='VALID', rates=[1, 1, 1, 1])\n",
    "        new_shape = (batch_size, num_patches_h * num_patches_w, self.patch_size * self.patch_size * channels)\n",
    "        # print(f\"PATCHES: {patches.shape}\")\n",
    "        # print(f\"RESHAPE: {new_shape}\")\n",
    "        patches = tf.reshape(\n",
    "            patches,\n",
    "            shape=new_shape,\n",
    "        )\n",
    "        return patches\n",
    "\n",
    "    def get_config(self):\n",
    "        config = super().get_config()\n",
    "        config.update({\"patch_size\": self.patch_size})\n",
    "        return config"
   ]
  },
  {
   "cell_type": "code",
   "execution_count": 84,
   "metadata": {},
   "outputs": [
    {
     "name": "stdout",
     "output_type": "stream",
     "text": [
      "Image size: (1, 50, 200, 1)\n",
      "Image size: (1, 50, 200, 1)\n",
      "Patch size: 10 X 10\n",
      "Patches per image: 100\n",
      "Elements per patch: 100\n"
     ]
    },
    {
     "data": {
      "image/png": "[encoded data removed]",
      "text/plain": [
       "<Figure size 640x480 with 1 Axes>"
      ]
     },
     "metadata": {},
     "output_type": "display_data"
    },
    {
     "data": {
      "image/png": "[encoded data removed]",
      "text/plain": [
       "<Figure size 800x200 with 100 Axes>"
      ]
     },
     "metadata": {},
     "output_type": "display_data"
    }
   ],
   "source": [
    "plt.imshow(img.numpy(), cmap=\"gray\")\n",
    "plt.axis(\"off\")\n",
    "image = tf.expand_dims(img, axis = 0)\n",
    "\n",
    "print(f\"Image size: {image.shape}\")\n",
    "patches = Patches(patch_size)(image)\n",
    "print(f\"Image size: {image.shape}\")\n",
    "print(f\"Patch size: {patch_size} X {patch_size}\")\n",
    "print(f\"Patches per image: {patches.shape[1]}\")\n",
    "print(f\"Elements per patch: {patches.shape[-1]}\")\n",
    "\n",
    "rows = int(IMG_SHAPE[0] / patch_size)\n",
    "cols = int(IMG_SHAPE[1] / patch_size)\n",
    "plt.figure(figsize=(8, 2))\n",
    "for i, patch in enumerate(patches[0]):\n",
    "    ax = plt.subplot(rows, cols, i + 1)\n",
    "    patch_img = tf.reshape(patch, (patch_size, patch_size, 1))\n",
    "    plt.imshow(patch_img.numpy(), cmap='gray')\n",
    "    plt.axis(\"off\")"
   ]
  },
  {
   "cell_type": "code",
   "execution_count": 14,
   "metadata": {
    "id": "xnbps4-JHS4b"
   },
   "outputs": [],
   "source": [
    "def mlp(x, hidden_units, dropout_rate):\n",
    "    for units in hidden_units:\n",
    "        x = Dense(units, activation=tf.keras.activations.gelu)(x)\n",
    "        x = Dropout(dropout_rate)(x)\n",
    "    return x"
   ]
  },
  {
   "cell_type": "code",
   "execution_count": 15,
   "metadata": {
    "id": "DWhOTG_7GRpx"
   },
   "outputs": [],
   "source": [
    "class PatchEncoder(tf.keras.layers.Layer):\n",
    "    def __init__(self, num_patches, projection_dim):\n",
    "        super().__init__()\n",
    "        self.num_patches = num_patches\n",
    "        self.projection = Dense(units=projection_dim)\n",
    "        self.position_embedding = Embedding(\n",
    "            input_dim=num_patches, output_dim=projection_dim\n",
    "        )\n",
    "\n",
    "    def call(self, patch):\n",
    "        positions = tf.raw_ops.ExpandDims(\n",
    "           input = tf.experimental.numpy.arange(start=0, stop=self.num_patches, step=1), axis=0\n",
    "        )\n",
    "        projected_patches = self.projection(patch)\n",
    "        #print(projected_patches.shape)\n",
    "        position_embeddings = self.position_embedding(positions)\n",
    "        #print(position_embeddings.shape)\n",
    "        encoded = projected_patches + position_embeddings\n",
    "        return encoded\n",
    "\n",
    "    def get_config(self):\n",
    "        config = super().get_config()\n",
    "        config.update({\"num_patches\": self.num_patches})\n",
    "        return config"
   ]
  },
  {
   "cell_type": "code",
   "execution_count": 16,
   "metadata": {
    "id": "NHZEjUHRGYcS"
   },
   "outputs": [],
   "source": [
    "def vision_transformer_encoder(input_shape):\n",
    "    inputs =  Input(shape=input_shape)\n",
    "    # Create patches.\n",
    "    patches = Patches(patch_size)(inputs)\n",
    "    # Encode patches.\n",
    "    encoded_patches = PatchEncoder(num_patches, projection_dim)(patches)\n",
    "\n",
    "    # Create multiple layers of the Transformer block.\n",
    "    for _ in range(transformer_layers):\n",
    "        # Layer normalization 1.\n",
    "        x1 = LayerNormalization(epsilon=1e-6)(encoded_patches)\n",
    "        # Create a multi-head attention layer.\n",
    "        attention_output = MultiHeadAttention(\n",
    "            num_heads=num_heads, key_dim=projection_dim, dropout=0.5\n",
    "        )(x1, x1)\n",
    "        # Skip connection 1.\n",
    "        x2 = Add()([attention_output, encoded_patches])\n",
    "        # Layer normalization 2.\n",
    "        x3 = LayerNormalization(epsilon=1e-6)(x2)\n",
    "        # MLP.\n",
    "        x3 = mlp(x3, hidden_units=transformer_units, dropout_rate=0.5)\n",
    "        # Skip connection 2.\n",
    "        encoded_patches = tf.keras.layers.Add()([x3, x2])\n",
    "\n",
    "    # Create a [batch_size, projection_dim] tensor.\n",
    "    representation = LayerNormalization(epsilon=1e-6)(encoded_patches)\n",
    "    # representation = Flatten()(representation)\n",
    "    # representation = Dropout(0.2)(representation)\n",
    "    # Add MLP.\n",
    "    # features = mlp(representation, hidden_units=mlp_head_units, dropout_rate=0.2)\n",
    "    # Classify outputs.\n",
    "    #logits = tf.keras.layers.Dense(2)(features)\n",
    "    # Create the Keras model.\n",
    "    model = tf.keras.Model(inputs=inputs, outputs=representation)\n",
    "    return model"
   ]
  },
  {
   "cell_type": "code",
   "execution_count": 17,
   "metadata": {
    "id": "T8jXN2GlGyNC"
   },
   "outputs": [],
   "source": [
    "vit = vision_transformer_encoder(IMG_SHAPE)"
   ]
  },
  {
   "cell_type": "code",
   "execution_count": 18,
   "metadata": {
    "id": "_1htX_wlLj4W"
   },
   "outputs": [
    {
     "name": "stdout",
     "output_type": "stream",
     "text": [
      "Model: \"model\"\n",
      "__________________________________________________________________________________________________\n",
      " Layer (type)                Output Shape                 Param #   Connected to                  \n",
      "==================================================================================================\n",
      " input_1 (InputLayer)        [(None, 50, 200, 1)]         0         []                            \n",
      "                                                                                                  \n",
      " patches_1 (Patches)         (None, 100, 100)             0         ['input_1[0][0]']             \n",
      "                                                                                                  \n",
      " patch_encoder (PatchEncode  (None, 100, 256)             51456     ['patches_1[0][0]']           \n",
      " r)                                                                                               \n",
      "                                                                                                  \n",
      " layer_normalization (Layer  (None, 100, 256)             512       ['patch_encoder[0][0]']       \n",
      " Normalization)                                                                                   \n",
      "                                                                                                  \n",
      " multi_head_attention (Mult  (None, 100, 256)             1051904   ['layer_normalization[0][0]', \n",
      " iHeadAttention)                                                     'layer_normalization[0][0]'] \n",
      "                                                                                                  \n",
      " add (Add)                   (None, 100, 256)             0         ['multi_head_attention[0][0]',\n",
      "                                                                     'patch_encoder[0][0]']       \n",
      "                                                                                                  \n",
      " layer_normalization_1 (Lay  (None, 100, 256)             512       ['add[0][0]']                 \n",
      " erNormalization)                                                                                 \n",
      "                                                                                                  \n",
      " dense_1 (Dense)             (None, 100, 512)             131584    ['layer_normalization_1[0][0]'\n",
      "                                                                    ]                             \n",
      "                                                                                                  \n",
      " dropout (Dropout)           (None, 100, 512)             0         ['dense_1[0][0]']             \n",
      "                                                                                                  \n",
      " dense_2 (Dense)             (None, 100, 256)             131328    ['dropout[0][0]']             \n",
      "                                                                                                  \n",
      " dropout_1 (Dropout)         (None, 100, 256)             0         ['dense_2[0][0]']             \n",
      "                                                                                                  \n",
      " add_1 (Add)                 (None, 100, 256)             0         ['dropout_1[0][0]',           \n",
      "                                                                     'add[0][0]']                 \n",
      "                                                                                                  \n",
      " layer_normalization_2 (Lay  (None, 100, 256)             512       ['add_1[0][0]']               \n",
      " erNormalization)                                                                                 \n",
      "                                                                                                  \n",
      " multi_head_attention_1 (Mu  (None, 100, 256)             1051904   ['layer_normalization_2[0][0]'\n",
      " ltiHeadAttention)                                                  , 'layer_normalization_2[0][0]\n",
      "                                                                    ']                            \n",
      "                                                                                                  \n",
      " add_2 (Add)                 (None, 100, 256)             0         ['multi_head_attention_1[0][0]\n",
      "                                                                    ',                            \n",
      "                                                                     'add_1[0][0]']               \n",
      "                                                                                                  \n",
      " layer_normalization_3 (Lay  (None, 100, 256)             512       ['add_2[0][0]']               \n",
      " erNormalization)                                                                                 \n",
      "                                                                                                  \n",
      " dense_3 (Dense)             (None, 100, 512)             131584    ['layer_normalization_3[0][0]'\n",
      "                                                                    ]                             \n",
      "                                                                                                  \n",
      " dropout_2 (Dropout)         (None, 100, 512)             0         ['dense_3[0][0]']             \n",
      "                                                                                                  \n",
      " dense_4 (Dense)             (None, 100, 256)             131328    ['dropout_2[0][0]']           \n",
      "                                                                                                  \n",
      " dropout_3 (Dropout)         (None, 100, 256)             0         ['dense_4[0][0]']             \n",
      "                                                                                                  \n",
      " add_3 (Add)                 (None, 100, 256)             0         ['dropout_3[0][0]',           \n",
      "                                                                     'add_2[0][0]']               \n",
      "                                                                                                  \n",
      " layer_normalization_4 (Lay  (None, 100, 256)             512       ['add_3[0][0]']               \n",
      " erNormalization)                                                                                 \n",
      "                                                                                                  \n",
      " multi_head_attention_2 (Mu  (None, 100, 256)             1051904   ['layer_normalization_4[0][0]'\n",
      " ltiHeadAttention)                                                  , 'layer_normalization_4[0][0]\n",
      "                                                                    ']                            \n",
      "                                                                                                  \n",
      " add_4 (Add)                 (None, 100, 256)             0         ['multi_head_attention_2[0][0]\n",
      "                                                                    ',                            \n",
      "                                                                     'add_3[0][0]']               \n",
      "                                                                                                  \n",
      " layer_normalization_5 (Lay  (None, 100, 256)             512       ['add_4[0][0]']               \n",
      " erNormalization)                                                                                 \n",
      "                                                                                                  \n",
      " dense_5 (Dense)             (None, 100, 512)             131584    ['layer_normalization_5[0][0]'\n",
      "                                                                    ]                             \n",
      "                                                                                                  \n",
      " dropout_4 (Dropout)         (None, 100, 512)             0         ['dense_5[0][0]']             \n",
      "                                                                                                  \n",
      " dense_6 (Dense)             (None, 100, 256)             131328    ['dropout_4[0][0]']           \n",
      "                                                                                                  \n",
      " dropout_5 (Dropout)         (None, 100, 256)             0         ['dense_6[0][0]']             \n",
      "                                                                                                  \n",
      " add_5 (Add)                 (None, 100, 256)             0         ['dropout_5[0][0]',           \n",
      "                                                                     'add_4[0][0]']               \n",
      "                                                                                                  \n",
      " layer_normalization_6 (Lay  (None, 100, 256)             512       ['add_5[0][0]']               \n",
      " erNormalization)                                                                                 \n",
      "                                                                                                  \n",
      " multi_head_attention_3 (Mu  (None, 100, 256)             1051904   ['layer_normalization_6[0][0]'\n",
      " ltiHeadAttention)                                                  , 'layer_normalization_6[0][0]\n",
      "                                                                    ']                            \n",
      "                                                                                                  \n",
      " add_6 (Add)                 (None, 100, 256)             0         ['multi_head_attention_3[0][0]\n",
      "                                                                    ',                            \n",
      "                                                                     'add_5[0][0]']               \n",
      "                                                                                                  \n",
      " layer_normalization_7 (Lay  (None, 100, 256)             512       ['add_6[0][0]']               \n",
      " erNormalization)                                                                                 \n",
      "                                                                                                  \n",
      " dense_7 (Dense)             (None, 100, 512)             131584    ['layer_normalization_7[0][0]'\n",
      "                                                                    ]                             \n",
      "                                                                                                  \n",
      " dropout_6 (Dropout)         (None, 100, 512)             0         ['dense_7[0][0]']             \n",
      "                                                                                                  \n",
      " dense_8 (Dense)             (None, 100, 256)             131328    ['dropout_6[0][0]']           \n",
      "                                                                                                  \n",
      " dropout_7 (Dropout)         (None, 100, 256)             0         ['dense_8[0][0]']             \n",
      "                                                                                                  \n",
      " add_7 (Add)                 (None, 100, 256)             0         ['dropout_7[0][0]',           \n",
      "                                                                     'add_6[0][0]']               \n",
      "                                                                                                  \n",
      " layer_normalization_8 (Lay  (None, 100, 256)             512       ['add_7[0][0]']               \n",
      " erNormalization)                                                                                 \n",
      "                                                                                                  \n",
      " multi_head_attention_4 (Mu  (None, 100, 256)             1051904   ['layer_normalization_8[0][0]'\n",
      " ltiHeadAttention)                                                  , 'layer_normalization_8[0][0]\n",
      "                                                                    ']                            \n",
      "                                                                                                  \n",
      " add_8 (Add)                 (None, 100, 256)             0         ['multi_head_attention_4[0][0]\n",
      "                                                                    ',                            \n",
      "                                                                     'add_7[0][0]']               \n",
      "                                                                                                  \n",
      " layer_normalization_9 (Lay  (None, 100, 256)             512       ['add_8[0][0]']               \n",
      " erNormalization)                                                                                 \n",
      "                                                                                                  \n",
      " dense_9 (Dense)             (None, 100, 512)             131584    ['layer_normalization_9[0][0]'\n",
      "                                                                    ]                             \n",
      "                                                                                                  \n",
      " dropout_8 (Dropout)         (None, 100, 512)             0         ['dense_9[0][0]']             \n",
      "                                                                                                  \n",
      " dense_10 (Dense)            (None, 100, 256)             131328    ['dropout_8[0][0]']           \n",
      "                                                                                                  \n",
      " dropout_9 (Dropout)         (None, 100, 256)             0         ['dense_10[0][0]']            \n",
      "                                                                                                  \n",
      " add_9 (Add)                 (None, 100, 256)             0         ['dropout_9[0][0]',           \n",
      "                                                                     'add_8[0][0]']               \n",
      "                                                                                                  \n",
      " layer_normalization_10 (La  (None, 100, 256)             512       ['add_9[0][0]']               \n",
      " yerNormalization)                                                                                \n",
      "                                                                                                  \n",
      " multi_head_attention_5 (Mu  (None, 100, 256)             1051904   ['layer_normalization_10[0][0]\n",
      " ltiHeadAttention)                                                  ',                            \n",
      "                                                                     'layer_normalization_10[0][0]\n",
      "                                                                    ']                            \n",
      "                                                                                                  \n",
      " add_10 (Add)                (None, 100, 256)             0         ['multi_head_attention_5[0][0]\n",
      "                                                                    ',                            \n",
      "                                                                     'add_9[0][0]']               \n",
      "                                                                                                  \n",
      " layer_normalization_11 (La  (None, 100, 256)             512       ['add_10[0][0]']              \n",
      " yerNormalization)                                                                                \n",
      "                                                                                                  \n",
      " dense_11 (Dense)            (None, 100, 512)             131584    ['layer_normalization_11[0][0]\n",
      "                                                                    ']                            \n",
      "                                                                                                  \n",
      " dropout_10 (Dropout)        (None, 100, 512)             0         ['dense_11[0][0]']            \n",
      "                                                                                                  \n",
      " dense_12 (Dense)            (None, 100, 256)             131328    ['dropout_10[0][0]']          \n",
      "                                                                                                  \n",
      " dropout_11 (Dropout)        (None, 100, 256)             0         ['dense_12[0][0]']            \n",
      "                                                                                                  \n",
      " add_11 (Add)                (None, 100, 256)             0         ['dropout_11[0][0]',          \n",
      "                                                                     'add_10[0][0]']              \n",
      "                                                                                                  \n",
      " layer_normalization_12 (La  (None, 100, 256)             512       ['add_11[0][0]']              \n",
      " yerNormalization)                                                                                \n",
      "                                                                                                  \n",
      " multi_head_attention_6 (Mu  (None, 100, 256)             1051904   ['layer_normalization_12[0][0]\n",
      " ltiHeadAttention)                                                  ',                            \n",
      "                                                                     'layer_normalization_12[0][0]\n",
      "                                                                    ']                            \n",
      "                                                                                                  \n",
      " add_12 (Add)                (None, 100, 256)             0         ['multi_head_attention_6[0][0]\n",
      "                                                                    ',                            \n",
      "                                                                     'add_11[0][0]']              \n",
      "                                                                                                  \n",
      " layer_normalization_13 (La  (None, 100, 256)             512       ['add_12[0][0]']              \n",
      " yerNormalization)                                                                                \n",
      "                                                                                                  \n",
      " dense_13 (Dense)            (None, 100, 512)             131584    ['layer_normalization_13[0][0]\n",
      "                                                                    ']                            \n",
      "                                                                                                  \n",
      " dropout_12 (Dropout)        (None, 100, 512)             0         ['dense_13[0][0]']            \n",
      "                                                                                                  \n",
      " dense_14 (Dense)            (None, 100, 256)             131328    ['dropout_12[0][0]']          \n",
      "                                                                                                  \n",
      " dropout_13 (Dropout)        (None, 100, 256)             0         ['dense_14[0][0]']            \n",
      "                                                                                                  \n",
      " add_13 (Add)                (None, 100, 256)             0         ['dropout_13[0][0]',          \n",
      "                                                                     'add_12[0][0]']              \n",
      "                                                                                                  \n",
      " layer_normalization_14 (La  (None, 100, 256)             512       ['add_13[0][0]']              \n",
      " yerNormalization)                                                                                \n",
      "                                                                                                  \n",
      " multi_head_attention_7 (Mu  (None, 100, 256)             1051904   ['layer_normalization_14[0][0]\n",
      " ltiHeadAttention)                                                  ',                            \n",
      "                                                                     'layer_normalization_14[0][0]\n",
      "                                                                    ']                            \n",
      "                                                                                                  \n",
      " add_14 (Add)                (None, 100, 256)             0         ['multi_head_attention_7[0][0]\n",
      "                                                                    ',                            \n",
      "                                                                     'add_13[0][0]']              \n",
      "                                                                                                  \n",
      " layer_normalization_15 (La  (None, 100, 256)             512       ['add_14[0][0]']              \n",
      " yerNormalization)                                                                                \n",
      "                                                                                                  \n",
      " dense_15 (Dense)            (None, 100, 512)             131584    ['layer_normalization_15[0][0]\n",
      "                                                                    ']                            \n",
      "                                                                                                  \n",
      " dropout_14 (Dropout)        (None, 100, 512)             0         ['dense_15[0][0]']            \n",
      "                                                                                                  \n",
      " dense_16 (Dense)            (None, 100, 256)             131328    ['dropout_14[0][0]']          \n",
      "                                                                                                  \n",
      " dropout_15 (Dropout)        (None, 100, 256)             0         ['dense_16[0][0]']            \n",
      "                                                                                                  \n",
      " add_15 (Add)                (None, 100, 256)             0         ['dropout_15[0][0]',          \n",
      "                                                                     'add_14[0][0]']              \n",
      "                                                                                                  \n",
      " layer_normalization_16 (La  (None, 100, 256)             512       ['add_15[0][0]']              \n",
      " yerNormalization)                                                                                \n",
      "                                                                                                  \n",
      "==================================================================================================\n",
      "Total params: 10578688 (40.35 MB)\n",
      "Trainable params: 10578688 (40.35 MB)\n",
      "Non-trainable params: 0 (0.00 Byte)\n",
      "__________________________________________________________________________________________________\n"
     ]
    }
   ],
   "source": [
    "vit.summary()"
   ]
  },
  {
   "cell_type": "markdown",
   "metadata": {},
   "source": [
    "### Transformer Decoder"
   ]
  },
  {
   "cell_type": "code",
   "execution_count": 19,
   "metadata": {},
   "outputs": [],
   "source": [
    "class SeqEmbedding(tf.keras.layers.Layer):\n",
    "  def __init__(self, vocab_size, max_length, depth):\n",
    "    super().__init__()\n",
    "    self.pos_embedding = tf.keras.layers.Embedding(input_dim=max_length, output_dim=depth)\n",
    "\n",
    "    self.token_embedding = tf.keras.layers.Embedding(\n",
    "        input_dim=vocab_size,\n",
    "        output_dim=depth,\n",
    "        mask_zero=True)\n",
    "\n",
    "    self.add = tf.keras.layers.Add()\n",
    "\n",
    "  def call(self, seq):\n",
    "    seq = self.token_embedding(seq) # (batch, seq, depth)\n",
    "\n",
    "    x = tf.range(tf.shape(seq)[1])  # (seq)\n",
    "    x = x[tf.newaxis, :]  # (1, seq)\n",
    "    x = self.pos_embedding(x)  # (1, seq, depth)\n",
    "\n",
    "    return self.add([seq,x])"
   ]
  },
  {
   "cell_type": "code",
   "execution_count": 20,
   "metadata": {},
   "outputs": [],
   "source": [
    "class CausalSelfAttention(tf.keras.layers.Layer):\n",
    "  def __init__(self, **kwargs):\n",
    "    super().__init__()\n",
    "    self.mha = tf.keras.layers.MultiHeadAttention(**kwargs)\n",
    "    # Use Add instead of + so the keras mask propagates through.\n",
    "    self.add = tf.keras.layers.Add() \n",
    "    self.layernorm = tf.keras.layers.LayerNormalization()\n",
    "\n",
    "  def call(self, x):\n",
    "    attn = self.mha(query=x, value=x,\n",
    "                    use_causal_mask=True)\n",
    "    x = self.add([x, attn])\n",
    "    return self.layernorm(x)"
   ]
  },
  {
   "cell_type": "code",
   "execution_count": 21,
   "metadata": {},
   "outputs": [],
   "source": [
    "class CrossAttention(tf.keras.layers.Layer):\n",
    "  def __init__(self,**kwargs):\n",
    "    super().__init__()\n",
    "    self.mha = tf.keras.layers.MultiHeadAttention(**kwargs)\n",
    "    self.add = tf.keras.layers.Add() \n",
    "    self.layernorm = tf.keras.layers.LayerNormalization()\n",
    "\n",
    "  def call(self, x, y, **kwargs):\n",
    "    attn, attention_scores = self.mha(\n",
    "             query=x, value=y,\n",
    "             return_attention_scores=True)\n",
    "\n",
    "    self.last_attention_scores = attention_scores\n",
    "\n",
    "    x = self.add([x, attn])\n",
    "    return self.layernorm(x)"
   ]
  },
  {
   "cell_type": "code",
   "execution_count": 22,
   "metadata": {},
   "outputs": [],
   "source": [
    "class FeedForward(tf.keras.layers.Layer):\n",
    "  def __init__(self, units, dropout_rate=0.5):\n",
    "    super().__init__()\n",
    "    self.seq = tf.keras.Sequential([\n",
    "        tf.keras.layers.Dense(units=2*units, activation='relu'),\n",
    "        tf.keras.layers.Dense(units=units),\n",
    "        tf.keras.layers.Dropout(rate=dropout_rate),\n",
    "    ])\n",
    "\n",
    "    self.layernorm = tf.keras.layers.LayerNormalization()\n",
    "\n",
    "  def call(self, x):\n",
    "    x = x + self.seq(x)\n",
    "    return self.layernorm(x)"
   ]
  },
  {
   "cell_type": "code",
   "execution_count": 23,
   "metadata": {},
   "outputs": [],
   "source": [
    "class DecoderLayer(tf.keras.layers.Layer):\n",
    "  def __init__(self, units, num_heads=1, dropout_rate=0.5):\n",
    "    super().__init__()\n",
    "\n",
    "    self.self_attention = CausalSelfAttention(num_heads=num_heads,\n",
    "                                              key_dim=units,\n",
    "                                              dropout=dropout_rate)\n",
    "    self.cross_attention = CrossAttention(num_heads=num_heads,\n",
    "                                          key_dim=units,\n",
    "                                          dropout=dropout_rate)\n",
    "    self.ff = FeedForward(units=units, dropout_rate=dropout_rate)\n",
    "\n",
    "\n",
    "  def call(self, inputs, training=False):\n",
    "    in_seq, out_seq = inputs\n",
    "\n",
    "    # Text input\n",
    "    out_seq = self.self_attention(out_seq)\n",
    "\n",
    "    out_seq = self.cross_attention(out_seq, in_seq)\n",
    "\n",
    "    self.last_attention_scores = self.cross_attention.last_attention_scores\n",
    "\n",
    "    out_seq = self.ff(out_seq)\n",
    "\n",
    "    return out_seq"
   ]
  },
  {
   "cell_type": "code",
   "execution_count": 24,
   "metadata": {},
   "outputs": [],
   "source": [
    "class Captioner(tf.keras.Model):\n",
    "  @classmethod\n",
    "  def add_method(cls, fun):\n",
    "    setattr(cls, fun.__name__, fun)\n",
    "    return fun\n",
    "\n",
    "  def __init__(self, tokenizer, feature_extractor, output_layer, num_layers=1,\n",
    "               units=256, max_length=max_seq_len_1, num_heads=1, dropout_rate=0.5):\n",
    "    super().__init__()\n",
    "    self.feature_extractor = feature_extractor\n",
    "    self.tokenizer = tokenizer\n",
    "    self.word_to_index = tf.keras.layers.StringLookup(\n",
    "        mask_token=\"\",\n",
    "        vocabulary=tokenizer.get_vocabulary())\n",
    "    self.index_to_word = tf.keras.layers.StringLookup(\n",
    "        mask_token=\"\",\n",
    "        vocabulary=tokenizer.get_vocabulary(),\n",
    "        invert=True) \n",
    "\n",
    "    self.seq_embedding = SeqEmbedding(\n",
    "        vocab_size=tokenizer.vocabulary_size(),\n",
    "        depth=units,\n",
    "        max_length=max_length)\n",
    "\n",
    "    self.decoder_layers = [\n",
    "        DecoderLayer(units, num_heads=num_heads, dropout_rate=dropout_rate)\n",
    "        for n in range(num_layers)]\n",
    "\n",
    "    self.output_layer = output_layer"
   ]
  },
  {
   "cell_type": "code",
   "execution_count": 25,
   "metadata": {},
   "outputs": [],
   "source": [
    "@Captioner.add_method\n",
    "def call(self, inputs):\n",
    "    image, txt = inputs\n",
    "    \n",
    "    image = self.feature_extractor(image)\n",
    "    #print(image.shape)\n",
    "    # Flatten the feature map\n",
    "    \n",
    "    #image = einops.rearrange(image, 'b h w c -> b (h w) c')\n",
    "    \n",
    "    if txt.dtype == tf.string:\n",
    "      # Apply the tokenizer if you get string inputs.\n",
    "      txt = tokenizer(txt)\n",
    "    \n",
    "    txt = self.seq_embedding(txt)\n",
    "    \n",
    "    # Look at the image\n",
    "    for dec_layer in self.decoder_layers:\n",
    "      txt = dec_layer(inputs=(image, txt))\n",
    "    \n",
    "    txt = self.output_layer(txt)\n",
    "    \n",
    "    return txt"
   ]
  },
  {
   "cell_type": "code",
   "execution_count": 44,
   "metadata": {},
   "outputs": [],
   "source": [
    "import collections \n",
    "import tqdm\n",
    "class TokenOutput(tf.keras.layers.Layer):\n",
    "  def __init__(self, tokenizer, banned_tokens=('', '[UNK]'), **kwargs):\n",
    "    super().__init__()\n",
    "\n",
    "    self.dense = tf.keras.layers.Dense(\n",
    "        units=tokenizer.vocabulary_size(), **kwargs)\n",
    "    self.tokenizer = tokenizer\n",
    "    self.banned_tokens = banned_tokens\n",
    "\n",
    "    self.bias = None\n",
    "\n",
    "  def adapt(self, ds):\n",
    "    counts = collections.Counter()\n",
    "    vocab_dict = {name: id \n",
    "                  for id, name in enumerate(self.tokenizer.get_vocabulary())}\n",
    "\n",
    "    for tokens in ds:\n",
    "      counts.update(tokens.flatten())\n",
    "\n",
    "    counts_arr = np.zeros(shape=(self.tokenizer.vocabulary_size(),))\n",
    "    counts_arr[np.array(list(counts.keys()), dtype=np.int32)] = list(counts.values())\n",
    "\n",
    "    counts_arr = counts_arr[:]\n",
    "    for token in self.banned_tokens:\n",
    "      counts_arr[vocab_dict[token]] = 0\n",
    "\n",
    "    total = counts_arr.sum()\n",
    "    p = counts_arr/total\n",
    "    p[counts_arr==0] = 1.0\n",
    "    log_p = np.log(p)  # log(1) == 0\n",
    "\n",
    "    entropy = -(log_p*p).sum()\n",
    "\n",
    "    print()\n",
    "    print(f\"Uniform entropy: {np.log(self.tokenizer.vocabulary_size()):0.2f}\")\n",
    "    print(f\"Marginal entropy: {entropy:0.2f}\")\n",
    "\n",
    "    self.bias = log_p\n",
    "    self.bias[counts_arr==0] = -1e9\n",
    "\n",
    "  def call(self, x):\n",
    "    x = self.dense(x)\n",
    "    x + self.bias\n",
    "    # TODO(b/250038731): Fix this.\n",
    "    # An Add layer doesn't work because of the different shapes.\n",
    "    # This clears the mask, that's okay because it prevents keras from rescaling\n",
    "    # the losses.\n",
    "    return tf.keras.layers.Softmax()(x)"
   ]
  },
  {
   "cell_type": "code",
   "execution_count": 45,
   "metadata": {},
   "outputs": [
    {
     "name": "stdout",
     "output_type": "stream",
     "text": [
      "\n",
      "Uniform entropy: 5.52\n",
      "Marginal entropy: 3.85\n"
     ]
    }
   ],
   "source": [
    "output_layer = TokenOutput(tokenizer, banned_tokens=('', '[UNK]'))\n",
    "# This might run a little faster if the dataset didn't also have to load the image data.\n",
    "output_layer.adapt(train_sequences)"
   ]
  },
  {
   "cell_type": "code",
   "execution_count": 46,
   "metadata": {},
   "outputs": [],
   "source": [
    "transformer_model = Captioner(tokenizer, feature_extractor=vision_transformer_encoder(IMG_SHAPE), output_layer=output_layer,\n",
    "                  units=EMBEDDING_DIM, dropout_rate=0.5, num_layers=4, num_heads=8, max_length = max_seq_len_1)"
   ]
  },
  {
   "cell_type": "code",
   "execution_count": 47,
   "metadata": {},
   "outputs": [],
   "source": [
    "@Captioner.add_method\n",
    "def simple_gen(self, image, temperature=0):\n",
    "  initial = self.word_to_index([['[START]']]) # (batch, sequence)\n",
    "  #img_features = self.feature_extractor(image[tf.newaxis, ...])\n",
    "\n",
    "  tokens = initial # (batch, sequence)\n",
    "  for n in range(50):\n",
    "    preds = self((image[tf.newaxis, ...], tokens)).numpy()  # (batch, sequence, vocab)\n",
    "    preds = preds[:,-1, :]  #(batch, vocab)\n",
    "    if temperature==0:\n",
    "        next = tf.argmax(preds, axis=-1)[:, tf.newaxis]  # (batch, 1)\n",
    "    else:\n",
    "        next = tf.random.categorical(preds/temperature, num_samples=1)  # (batch, 1)\n",
    "    tokens = tf.concat([tokens, next], axis=1) # (batch, sequence) \n",
    "\n",
    "    if next[0] == self.word_to_index('[END]'):\n",
    "      break\n",
    "  words = self.index_to_word(tokens[0, 1:-1])\n",
    "  result = tf.strings.reduce_join(words, axis=-1, separator=' ')\n",
    "  return result.numpy().decode()"
   ]
  },
  {
   "cell_type": "code",
   "execution_count": 69,
   "metadata": {},
   "outputs": [
    {
     "name": "stdout",
     "output_type": "stream",
     "text": [
      "(50, 200, 1)\n",
      "\\vec { \\nabla } ^ { 2 } \\xi ( \\vec { x } ) = \\nabla \\times \\vec { \\nabla }\n"
     ]
    }
   ],
   "source": [
    "print(img.shape)\n",
    "result = transformer_model.simple_gen(img, temperature=0)\n",
    "print(result)"
   ]
  },
  {
   "cell_type": "code",
   "execution_count": 49,
   "metadata": {},
   "outputs": [],
   "source": [
    "def masked_loss(labels, preds):  \n",
    "  loss = tf.nn.sparse_softmax_cross_entropy_with_logits(labels, preds)\n",
    "\n",
    "  mask = (labels != 0) & (loss < 1e8) \n",
    "  mask = tf.cast(mask, loss.dtype)\n",
    "\n",
    "  loss = loss*mask\n",
    "  loss = tf.reduce_sum(loss)/tf.reduce_sum(mask)\n",
    "  return loss\n",
    "\n",
    "def masked_acc(labels, preds):\n",
    "  mask = tf.cast(labels!=0, tf.float32)\n",
    "  preds = tf.argmax(preds, axis=-1)\n",
    "  labels = tf.cast(labels, tf.int64)\n",
    "  match = tf.cast(preds == labels, mask.dtype)\n",
    "  acc = tf.reduce_sum(match*mask)/tf.reduce_sum(mask)\n",
    "  return acc"
   ]
  },
  {
   "cell_type": "code",
   "execution_count": 50,
   "metadata": {},
   "outputs": [],
   "source": [
    "class GenerateText(tf.keras.callbacks.Callback):\n",
    "  def __init__(self):\n",
    "    self.image = img\n",
    "\n",
    "  def on_epoch_end(self, epochs=None, logs=None):\n",
    "    print()\n",
    "    print()\n",
    "    result = self.model.simple_gen(self.image, temperature=0)\n",
    "    print(result)\n",
    "    print()"
   ]
  },
  {
   "cell_type": "code",
   "execution_count": 51,
   "metadata": {},
   "outputs": [
    {
     "name": "stdout",
     "output_type": "stream",
     "text": [
      "\n",
      "\n",
      "\\beta A N \\tau 0 \\right\\} \\circ g z \\dots \\dag \\circ R \\partial \\mathcal \\delta S \\circ \\right\\} 0 ; \\tau \\dots \\vartheta \\quad \\nabla Q \\partial \\mathcal \\mathcal \\left| \\right] \\mathrm N A 0 \\dots \\right| \\tau \\dots . \\Theta \\circ \\tau A \\Theta \\parallel \\tau \\simeq\n",
      "\n"
     ]
    }
   ],
   "source": [
    "g = GenerateText()\n",
    "g.model = transformer_model\n",
    "g.on_epoch_end(0)"
   ]
  },
  {
   "cell_type": "code",
   "execution_count": 52,
   "metadata": {},
   "outputs": [],
   "source": [
    "checkpoint_filepath = 'transformer_model'\n",
    "model_checkpoint_callback = tf.keras.callbacks.ModelCheckpoint(\n",
    "    filepath=checkpoint_filepath,\n",
    "    save_weights_only=True,\n",
    "    monitor='val_loss',  # Save the model with the best validation loss\n",
    "    mode='min',\n",
    "    save_best_only=True,\n",
    "    save_format='tf'\n",
    ")\n",
    "\n",
    "callbacks = [\n",
    "    model_checkpoint_callback,\n",
    "    tf.keras.callbacks.EarlyStopping(\n",
    "        patience=10, restore_best_weights=True, monitor='val_loss')]\n"
   ]
  },
  {
   "cell_type": "code",
   "execution_count": 53,
   "metadata": {},
   "outputs": [],
   "source": [
    "# transformer_model.load_weights(checkpoint_filepath)"
   ]
  },
  {
   "cell_type": "code",
   "execution_count": 58,
   "metadata": {},
   "outputs": [],
   "source": [
    "learning_rate = tf.keras.optimizers.schedules.PolynomialDecay(1e-4, 4000, 1e-6)\n",
    "optimizer = tf.keras.optimizers.AdamW(learning_rate=1e-4, weight_decay=0.0001)\n",
    "\n",
    "transformer_model.compile(optimizer=optimizer,\n",
    "           loss='sparse_categorical_crossentropy',\n",
    "           metrics=['accuracy'])"
   ]
  },
  {
   "cell_type": "code",
   "execution_count": 59,
   "metadata": {},
   "outputs": [
    {
     "name": "stdout",
     "output_type": "stream",
     "text": [
      "Model: \"captioner_1\"\n",
      "_________________________________________________________________\n",
      " Layer (type)                Output Shape              Param #   \n",
      "=================================================================\n",
      " model_2 (Functional)        (None, 100, 256)          10578688  \n",
      "                                                                 \n",
      " text_vectorization (TextVe  multiple                  0         \n",
      " ctorization)                                                    \n",
      "                                                                 \n",
      " string_lookup_3 (StringLoo  multiple                  0         \n",
      " kup)                                                            \n",
      "                                                                 \n",
      " string_lookup_4 (StringLoo  multiple                  0         \n",
      " kup)                                                            \n",
      "                                                                 \n",
      " seq_embedding_1 (SeqEmbedd  multiple                  127744    \n",
      " ing)                                                            \n",
      "                                                                 \n",
      " decoder_layer_4 (DecoderLa  multiple                  4471552   \n",
      " yer)                                                            \n",
      "                                                                 \n",
      " decoder_layer_5 (DecoderLa  multiple                  4471552   \n",
      " yer)                                                            \n",
      "                                                                 \n",
      " decoder_layer_6 (DecoderLa  multiple                  4471552   \n",
      " yer)                                                            \n",
      "                                                                 \n",
      " decoder_layer_7 (DecoderLa  multiple                  4471552   \n",
      " yer)                                                            \n",
      "                                                                 \n",
      " token_output_1 (TokenOutpu  multiple                  64250     \n",
      " t)                                                              \n",
      "                                                                 \n",
      "=================================================================\n",
      "Total params: 28656890 (109.32 MB)\n",
      "Trainable params: 28656890 (109.32 MB)\n",
      "Non-trainable params: 0 (0.00 Byte)\n",
      "_________________________________________________________________\n"
     ]
    }
   ],
   "source": [
    "transformer_model.summary()"
   ]
  },
  {
   "cell_type": "code",
   "execution_count": 60,
   "metadata": {},
   "outputs": [
    {
     "name": "stdout",
     "output_type": "stream",
     "text": [
      "(50000, 50, 200, 1)\n",
      "(50000, 152)\n"
     ]
    }
   ],
   "source": [
    "print(train_images.shape)\n",
    "print(train_sequences.shape)"
   ]
  },
  {
   "cell_type": "code",
   "execution_count": 61,
   "metadata": {},
   "outputs": [],
   "source": [
    "# dataset = tf.data.Dataset.from_tensor_slices(([train_images, input_labels], output_labels))\n",
    "# dataset = dataset.batch(32)"
   ]
  },
  {
   "cell_type": "code",
   "execution_count": 62,
   "metadata": {},
   "outputs": [
    {
     "name": "stderr",
     "output_type": "stream",
     "text": [
      "2024-12-02 05:34:39.939444: W tensorflow/tsl/framework/cpu_allocator_impl.cc:83] Allocation of 1600000000 exceeds 10% of free system memory.\n"
     ]
    },
    {
     "name": "stdout",
     "output_type": "stream",
     "text": [
      "Epoch 1/10000\n",
      "625/625 [==============================] - 244s 349ms/step - loss: 1.2056 - accuracy: 0.7538 - val_loss: 1.0421 - val_accuracy: 0.7807\n",
      "Epoch 2/10000\n",
      "625/625 [==============================] - 220s 352ms/step - loss: 0.9885 - accuracy: 0.7860 - val_loss: 0.8975 - val_accuracy: 0.8014\n",
      "Epoch 3/10000\n",
      "625/625 [==============================] - 223s 356ms/step - loss: 0.9032 - accuracy: 0.7989 - val_loss: 0.8448 - val_accuracy: 0.8095\n",
      "Epoch 4/10000\n",
      "625/625 [==============================] - 221s 353ms/step - loss: 0.8471 - accuracy: 0.8077 - val_loss: 0.8484 - val_accuracy: 0.8069\n",
      "Epoch 5/10000\n",
      "625/625 [==============================] - 224s 358ms/step - loss: 0.8060 - accuracy: 0.8141 - val_loss: 0.8193 - val_accuracy: 0.8131\n",
      "Epoch 6/10000\n",
      "625/625 [==============================] - 224s 358ms/step - loss: 0.7757 - accuracy: 0.8189 - val_loss: 0.8083 - val_accuracy: 0.8119\n",
      "Epoch 7/10000\n",
      "625/625 [==============================] - 224s 358ms/step - loss: 0.7517 - accuracy: 0.8231 - val_loss: 0.7690 - val_accuracy: 0.8207\n",
      "Epoch 8/10000\n",
      "625/625 [==============================] - 221s 354ms/step - loss: 0.7316 - accuracy: 0.8267 - val_loss: 0.7756 - val_accuracy: 0.8180\n",
      "Epoch 9/10000\n",
      "625/625 [==============================] - 224s 358ms/step - loss: 0.7145 - accuracy: 0.8297 - val_loss: 0.7388 - val_accuracy: 0.8269\n",
      "Epoch 10/10000\n",
      "625/625 [==============================] - 221s 354ms/step - loss: 0.6999 - accuracy: 0.8323 - val_loss: 0.7492 - val_accuracy: 0.8265\n",
      "Epoch 11/10000\n",
      "625/625 [==============================] - 222s 355ms/step - loss: 0.6862 - accuracy: 0.8348 - val_loss: 0.7551 - val_accuracy: 0.8261\n",
      "Epoch 12/10000\n",
      "625/625 [==============================] - 224s 359ms/step - loss: 0.6743 - accuracy: 0.8371 - val_loss: 0.7316 - val_accuracy: 0.8287\n",
      "Epoch 13/10000\n",
      "625/625 [==============================] - 224s 358ms/step - loss: 0.6631 - accuracy: 0.8391 - val_loss: 0.7034 - val_accuracy: 0.8343\n",
      "Epoch 14/10000\n",
      "625/625 [==============================] - 224s 358ms/step - loss: 0.6523 - accuracy: 0.8413 - val_loss: 0.6905 - val_accuracy: 0.8371\n",
      "Epoch 15/10000\n",
      "625/625 [==============================] - 221s 354ms/step - loss: 0.6427 - accuracy: 0.8432 - val_loss: 0.6913 - val_accuracy: 0.8373\n",
      "Epoch 16/10000\n",
      "625/625 [==============================] - 224s 358ms/step - loss: 0.6333 - accuracy: 0.8449 - val_loss: 0.6596 - val_accuracy: 0.8424\n",
      "Epoch 17/10000\n",
      "625/625 [==============================] - 224s 358ms/step - loss: 0.6239 - accuracy: 0.8469 - val_loss: 0.6444 - val_accuracy: 0.8451\n",
      "Epoch 18/10000\n",
      "625/625 [==============================] - 221s 354ms/step - loss: 0.6145 - accuracy: 0.8486 - val_loss: 0.6478 - val_accuracy: 0.8445\n",
      "Epoch 19/10000\n",
      "625/625 [==============================] - 224s 358ms/step - loss: 0.6049 - accuracy: 0.8504 - val_loss: 0.6265 - val_accuracy: 0.8491\n",
      "Epoch 20/10000\n",
      "625/625 [==============================] - 224s 358ms/step - loss: 0.5955 - accuracy: 0.8523 - val_loss: 0.6139 - val_accuracy: 0.8509\n",
      "Epoch 21/10000\n",
      "625/625 [==============================] - 224s 358ms/step - loss: 0.5863 - accuracy: 0.8542 - val_loss: 0.5962 - val_accuracy: 0.8548\n",
      "Epoch 22/10000\n",
      "625/625 [==============================] - 224s 358ms/step - loss: 0.5780 - accuracy: 0.8559 - val_loss: 0.5879 - val_accuracy: 0.8560\n",
      "Epoch 23/10000\n",
      "625/625 [==============================] - 221s 354ms/step - loss: 0.5695 - accuracy: 0.8577 - val_loss: 0.5884 - val_accuracy: 0.8565\n",
      "Epoch 24/10000\n",
      "625/625 [==============================] - 224s 359ms/step - loss: 0.5619 - accuracy: 0.8592 - val_loss: 0.5776 - val_accuracy: 0.8585\n",
      "Epoch 25/10000\n",
      "625/625 [==============================] - 224s 358ms/step - loss: 0.5542 - accuracy: 0.8606 - val_loss: 0.5707 - val_accuracy: 0.8603\n",
      "Epoch 26/10000\n",
      "625/625 [==============================] - 223s 357ms/step - loss: 0.5468 - accuracy: 0.8622 - val_loss: 0.5682 - val_accuracy: 0.8606\n",
      "Epoch 27/10000\n",
      "625/625 [==============================] - 224s 358ms/step - loss: 0.5400 - accuracy: 0.8637 - val_loss: 0.5680 - val_accuracy: 0.8608\n",
      "Epoch 28/10000\n",
      "625/625 [==============================] - 224s 358ms/step - loss: 0.5331 - accuracy: 0.8651 - val_loss: 0.5640 - val_accuracy: 0.8620\n",
      "Epoch 29/10000\n",
      "625/625 [==============================] - 224s 358ms/step - loss: 0.5266 - accuracy: 0.8664 - val_loss: 0.5581 - val_accuracy: 0.8630\n",
      "Epoch 30/10000\n",
      "625/625 [==============================] - 224s 358ms/step - loss: 0.5197 - accuracy: 0.8678 - val_loss: 0.5510 - val_accuracy: 0.8643\n",
      "Epoch 31/10000\n",
      "625/625 [==============================] - 224s 358ms/step - loss: 0.5133 - accuracy: 0.8690 - val_loss: 0.5500 - val_accuracy: 0.8646\n",
      "Epoch 32/10000\n",
      "625/625 [==============================] - 224s 358ms/step - loss: 0.5070 - accuracy: 0.8704 - val_loss: 0.5477 - val_accuracy: 0.8656\n",
      "Epoch 33/10000\n",
      "625/625 [==============================] - 224s 358ms/step - loss: 0.5008 - accuracy: 0.8718 - val_loss: 0.5446 - val_accuracy: 0.8664\n",
      "Epoch 34/10000\n",
      "625/625 [==============================] - 223s 358ms/step - loss: 0.4944 - accuracy: 0.8730 - val_loss: 0.5420 - val_accuracy: 0.8669\n",
      "Epoch 35/10000\n",
      "625/625 [==============================] - 224s 358ms/step - loss: 0.4882 - accuracy: 0.8741 - val_loss: 0.5399 - val_accuracy: 0.8673\n",
      "Epoch 36/10000\n",
      "625/625 [==============================] - 223s 357ms/step - loss: 0.4822 - accuracy: 0.8755 - val_loss: 0.5341 - val_accuracy: 0.8686\n",
      "Epoch 37/10000\n",
      "625/625 [==============================] - 223s 357ms/step - loss: 0.4761 - accuracy: 0.8766 - val_loss: 0.5318 - val_accuracy: 0.8688\n",
      "Epoch 38/10000\n",
      "625/625 [==============================] - 223s 358ms/step - loss: 0.4699 - accuracy: 0.8780 - val_loss: 0.5318 - val_accuracy: 0.8695\n",
      "Epoch 39/10000\n",
      "625/625 [==============================] - 221s 354ms/step - loss: 0.4640 - accuracy: 0.8790 - val_loss: 0.5328 - val_accuracy: 0.8694\n",
      "Epoch 40/10000\n",
      "625/625 [==============================] - 224s 358ms/step - loss: 0.4582 - accuracy: 0.8803 - val_loss: 0.5287 - val_accuracy: 0.8701\n",
      "Epoch 41/10000\n",
      "625/625 [==============================] - 224s 358ms/step - loss: 0.4526 - accuracy: 0.8814 - val_loss: 0.5250 - val_accuracy: 0.8713\n",
      "Epoch 42/10000\n",
      "625/625 [==============================] - 221s 354ms/step - loss: 0.4471 - accuracy: 0.8825 - val_loss: 0.5265 - val_accuracy: 0.8709\n",
      "Epoch 43/10000\n",
      "625/625 [==============================] - 221s 354ms/step - loss: 0.4417 - accuracy: 0.8836 - val_loss: 0.5267 - val_accuracy: 0.8707\n",
      "Epoch 44/10000\n",
      "625/625 [==============================] - 221s 354ms/step - loss: 0.4361 - accuracy: 0.8848 - val_loss: 0.5267 - val_accuracy: 0.8710\n",
      "Epoch 45/10000\n",
      "625/625 [==============================] - 224s 358ms/step - loss: 0.4309 - accuracy: 0.8859 - val_loss: 0.5226 - val_accuracy: 0.8722\n",
      "Epoch 46/10000\n",
      "625/625 [==============================] - 221s 354ms/step - loss: 0.4257 - accuracy: 0.8869 - val_loss: 0.5245 - val_accuracy: 0.8719\n",
      "Epoch 47/10000\n",
      "625/625 [==============================] - 224s 358ms/step - loss: 0.4206 - accuracy: 0.8880 - val_loss: 0.5219 - val_accuracy: 0.8726\n",
      "Epoch 48/10000\n",
      "625/625 [==============================] - 223s 357ms/step - loss: 0.4153 - accuracy: 0.8890 - val_loss: 0.5209 - val_accuracy: 0.8731\n",
      "Epoch 49/10000\n",
      "625/625 [==============================] - 221s 354ms/step - loss: 0.4106 - accuracy: 0.8900 - val_loss: 0.5230 - val_accuracy: 0.8725\n",
      "Epoch 50/10000\n",
      "625/625 [==============================] - 221s 354ms/step - loss: 0.4059 - accuracy: 0.8909 - val_loss: 0.5221 - val_accuracy: 0.8734\n",
      "Epoch 51/10000\n",
      "625/625 [==============================] - 221s 354ms/step - loss: 0.4009 - accuracy: 0.8920 - val_loss: 0.5220 - val_accuracy: 0.8736\n",
      "Epoch 52/10000\n",
      "625/625 [==============================] - 221s 354ms/step - loss: 0.3964 - accuracy: 0.8929 - val_loss: 0.5260 - val_accuracy: 0.8723\n",
      "Epoch 53/10000\n",
      "625/625 [==============================] - 221s 354ms/step - loss: 0.3917 - accuracy: 0.8939 - val_loss: 0.5276 - val_accuracy: 0.8724\n",
      "Epoch 54/10000\n",
      "625/625 [==============================] - 221s 354ms/step - loss: 0.3868 - accuracy: 0.8950 - val_loss: 0.5277 - val_accuracy: 0.8727\n",
      "Epoch 55/10000\n",
      "625/625 [==============================] - 221s 354ms/step - loss: 0.3826 - accuracy: 0.8958 - val_loss: 0.5235 - val_accuracy: 0.8738\n",
      "Epoch 56/10000\n",
      "625/625 [==============================] - 221s 354ms/step - loss: 0.3782 - accuracy: 0.8966 - val_loss: 0.5297 - val_accuracy: 0.8728\n",
      "Epoch 57/10000\n",
      "625/625 [==============================] - 221s 354ms/step - loss: 0.3740 - accuracy: 0.8976 - val_loss: 0.5293 - val_accuracy: 0.8729\n",
      "Epoch 58/10000\n",
      "625/625 [==============================] - 222s 355ms/step - loss: 0.3692 - accuracy: 0.8985 - val_loss: 0.5309 - val_accuracy: 0.8729\n"
     ]
    }
   ],
   "source": [
    "with tf.device('/GPU:0'):\n",
    "    history = transformer_model.fit([train_images, train_sequences[:, :-1]],\n",
    "                  train_sequences[:, 1:],\n",
    "                  epochs=10000,\n",
    "                  batch_size=64,\n",
    "                  validation_split=0.2, callbacks=callbacks)"
   ]
  },
  {
   "cell_type": "code",
   "execution_count": 67,
   "metadata": {},
   "outputs": [
    {
     "data": {
      "image/png": "[encoded data removed]",
      "text/plain": [
       "<Figure size 640x480 with 1 Axes>"
      ]
     },
     "metadata": {},
     "output_type": "display_data"
    }
   ],
   "source": [
    "plt.plot(history.history['loss'])\n",
    "plt.plot(history.history['val_loss'])\n",
    "plt.title('Transformer model loss')\n",
    "plt.ylabel('Loss')\n",
    "plt.xlabel('Epoch')\n",
    "plt.legend(['Train', 'Validation'], loc='upper right')\n",
    "plt.show()"
   ]
  },
  {
   "cell_type": "code",
   "execution_count": 68,
   "metadata": {},
   "outputs": [
    {
     "data": {
      "image/png": "[encoded data removed]",
      "text/plain": [
       "<Figure size 640x480 with 1 Axes>"
      ]
     },
     "metadata": {},
     "output_type": "display_data"
    }
   ],
   "source": [
    "plt.plot(history.history['accuracy'])\n",
    "plt.plot(history.history['val_accuracy'])\n",
    "plt.title('Transformer model accuracy')\n",
    "plt.ylabel('Accuracy')\n",
    "plt.xlabel('Epoch')\n",
    "plt.legend(['Train', 'Validation'], loc='upper right')\n",
    "plt.show()"
   ]
  },
  {
   "cell_type": "code",
   "execution_count": 85,
   "metadata": {},
   "outputs": [
    {
     "name": "stdout",
     "output_type": "stream",
     "text": [
      "WARNING:tensorflow:Model's `__init__()` arguments contain non-serializable objects. Please implement a `get_config()` method in the subclassed Model for proper saving and loading. Defaulting to empty config.\n",
      "WARNING:tensorflow:Model's `__init__()` arguments contain non-serializable objects. Please implement a `get_config()` method in the subclassed Model for proper saving and loading. Defaulting to empty config.\n",
      "WARNING:tensorflow:Model's `__init__()` arguments contain non-serializable objects. Please implement a `get_config()` method in the subclassed Model for proper saving and loading. Defaulting to empty config.\n"
     ]
    }
   ],
   "source": [
    "transformer_model.save('transformer_model.keras')"
   ]
  },
  {
   "cell_type": "markdown",
   "metadata": {},
   "source": [
    "## CNN/RNN model"
   ]
  },
  {
   "cell_type": "code",
   "execution_count": 53,
   "metadata": {},
   "outputs": [],
   "source": [
    "lstm_units = 256"
   ]
  },
  {
   "cell_type": "code",
   "execution_count": 54,
   "metadata": {
    "id": "eSQExklGAAI7"
   },
   "outputs": [],
   "source": [
    "def build_cnn_encoder(input_shape):\n",
    "    inputs = Input(shape=input_shape)\n",
    "    x = Conv2D(32, (3, 3), activation='relu', padding='same')(inputs)\n",
    "    x = MaxPooling2D((2, 2))(x)\n",
    "    x = Conv2D(64, (3, 3), activation='relu', padding='same')(x)\n",
    "    x = MaxPooling2D((2, 2))(x)\n",
    "    x = Conv2D(128, (3, 3), activation='relu', padding='same')(x)\n",
    "    x = MaxPooling2D((2, 2))(x)\n",
    "    x = Flatten()(x)\n",
    "    x = Dense(EMBEDDING_DIM, activation='relu')(x)\n",
    "    return Model(inputs, x)"
   ]
  },
  {
   "cell_type": "code",
   "execution_count": 84,
   "metadata": {
    "id": "md8Xz7JzAAI7"
   },
   "outputs": [],
   "source": [
    "def build_rnn_encoder(decoder_input, encoder_output, target_vocab_size, max_seq_len_1):\n",
    "\n",
    "    embedding_layer = Embedding(input_dim=target_vocab_size, output_dim=EMBEDDING_DIM, input_length=max_seq_len_1)\n",
    "    embedded_seq = embedding_layer(decoder_input)\n",
    "\n",
    "    decoder_lstm_input = tf.keras.layers.Concatenate(axis=-1)([encoder_output, embedded_seq])\n",
    "    decoder_lstm = LSTM(lstm_units, return_sequences=True)(decoder_lstm_input)\n",
    "    decoder_output = TimeDistributed(Dense(target_vocab_size))(decoder_lstm)\n",
    "\n",
    "    return Model(inputs=[decoder_input, encoder_output], outputs= decoder_output)"
   ]
  },
  {
   "cell_type": "code",
   "execution_count": 85,
   "metadata": {
    "id": "xWJwvgriAAI7"
   },
   "outputs": [],
   "source": [
    "def build_model(input_shape, target_vocab_size, max_seq_len_1):\n",
    "    encoder = build_cnn_encoder(input_shape)\n",
    "    image_input = Input(shape=input_shape, name=\"image_input\")\n",
    "\n",
    "    encoder_output = encoder(image_input)\n",
    "    encoder_output = RepeatVector(max_seq_len_1)(encoder_output)  # Repeat encoder output for each time step\n",
    "\n",
    "    decoder_input = Input(shape=(max_seq_len_1,), name=\"decoder_input\")\n",
    "    decoder = build_rnn_encoder(decoder_input, encoder_output, target_vocab_size, max_seq_len_1)\n",
    "    decoder_output = decoder([decoder_input, encoder_output])\n",
    "    return Model(inputs=[image_input, decoder_input], outputs=decoder_output)"
   ]
  },
  {
   "cell_type": "code",
   "execution_count": 86,
   "metadata": {
    "id": "DeU4cNTsAAI7"
   },
   "outputs": [],
   "source": [
    "model = build_model([50, 200, 1], tokenizer.vocabulary_size(), 151)\n",
    "#transformer_model = Transformer(tokenizer, output_layer=output_layer, units=128, dropout_rate=0.5, num_layers=2, num_heads=2)"
   ]
  },
  {
   "cell_type": "code",
   "execution_count": 87,
   "metadata": {
    "id": "ba5W_OZFAAI8"
   },
   "outputs": [
    {
     "name": "stdout",
     "output_type": "stream",
     "text": [
      "Model: \"model_15\"\n",
      "__________________________________________________________________________________________________\n",
      " Layer (type)                Output Shape                 Param #   Connected to                  \n",
      "==================================================================================================\n",
      " image_input (InputLayer)    [(None, 50, 200, 1)]         0         []                            \n",
      "                                                                                                  \n",
      " model_13 (Functional)       (None, 256)                  5008128   ['image_input[0][0]']         \n",
      "                                                                                                  \n",
      " decoder_input (InputLayer)  [(None, 151)]                0         []                            \n",
      "                                                                                                  \n",
      " repeat_vector_5 (RepeatVec  (None, 151, 256)             0         ['model_13[0][0]']            \n",
      " tor)                                                                                             \n",
      "                                                                                                  \n",
      " model_14 (Functional)       (None, 151, 250)             915706    ['decoder_input[0][0]',       \n",
      "                                                                     'repeat_vector_5[0][0]']     \n",
      "                                                                                                  \n",
      "==================================================================================================\n",
      "Total params: 5923834 (22.60 MB)\n",
      "Trainable params: 5923834 (22.60 MB)\n",
      "Non-trainable params: 0 (0.00 Byte)\n",
      "__________________________________________________________________________________________________\n"
     ]
    }
   ],
   "source": [
    "model.summary()"
   ]
  },
  {
   "cell_type": "code",
   "execution_count": 88,
   "metadata": {
    "id": "eDbtc_4eAAI8"
   },
   "outputs": [],
   "source": [
    "model.compile(optimizer='adam', loss=masked_loss, metrics=[masked_acc])\n",
    "#tf.keras.optimizers.AdamW(learning_rate=learning_rate, weight_decay=weight_decay)\n",
    "early_stopping = tf.keras.callbacks.EarlyStopping(\n",
    "    monitor='val_loss',  # Metric to monitor\n",
    "    patience=10,          # Number of epochs with no improvement after which training will be stopped\n",
    "    restore_best_weights=True  # Restore model weights from the epoch with the best value of the monitored metric\n",
    ")"
   ]
  },
  {
   "cell_type": "code",
   "execution_count": 89,
   "metadata": {
    "id": "FZZrLb4DAAI8"
   },
   "outputs": [
    {
     "name": "stdout",
     "output_type": "stream",
     "text": [
      "(50000, 151)\n",
      "(50000, 151)\n",
      "(50000, 152)\n"
     ]
    }
   ],
   "source": [
    "print(train_sequences[:, :-1].shape)\n",
    "print(train_sequences[:, 1:].shape)\n",
    "print(train_sequences.shape)\n",
    "# print(train_sequences[0])"
   ]
  },
  {
   "cell_type": "code",
   "execution_count": 90,
   "metadata": {
    "id": "lzmbXT3WAAI8"
   },
   "outputs": [
    {
     "name": "stdout",
     "output_type": "stream",
     "text": [
      "Epoch 1/100\n",
      "313/313 [==============================] - 15s 42ms/step - loss: 3.0863 - masked_acc: 0.3626 - val_loss: 2.5148 - val_masked_acc: 0.4630\n",
      "Epoch 2/100\n",
      "313/313 [==============================] - 11s 36ms/step - loss: 2.3701 - masked_acc: 0.4849 - val_loss: 2.2618 - val_masked_acc: 0.5026\n",
      "Epoch 3/100\n",
      "313/313 [==============================] - 11s 36ms/step - loss: 2.1884 - masked_acc: 0.5135 - val_loss: 2.1301 - val_masked_acc: 0.5234\n",
      "Epoch 4/100\n",
      "313/313 [==============================] - 11s 36ms/step - loss: 2.0735 - masked_acc: 0.5319 - val_loss: 2.0332 - val_masked_acc: 0.5405\n",
      "Epoch 5/100\n",
      "313/313 [==============================] - 11s 36ms/step - loss: 1.9875 - masked_acc: 0.5468 - val_loss: 1.9645 - val_masked_acc: 0.5519\n",
      "Epoch 6/100\n",
      "313/313 [==============================] - 11s 36ms/step - loss: 1.9170 - masked_acc: 0.5598 - val_loss: 1.9194 - val_masked_acc: 0.5594\n",
      "Epoch 7/100\n",
      "313/313 [==============================] - 11s 36ms/step - loss: 1.8583 - masked_acc: 0.5703 - val_loss: 1.8742 - val_masked_acc: 0.5663\n",
      "Epoch 8/100\n",
      "313/313 [==============================] - 11s 36ms/step - loss: 1.8022 - masked_acc: 0.5805 - val_loss: 1.8320 - val_masked_acc: 0.5747\n",
      "Epoch 9/100\n",
      "313/313 [==============================] - 11s 36ms/step - loss: 1.7545 - masked_acc: 0.5890 - val_loss: 1.7981 - val_masked_acc: 0.5809\n",
      "Epoch 10/100\n",
      "313/313 [==============================] - 11s 36ms/step - loss: 1.7124 - masked_acc: 0.5969 - val_loss: 1.7729 - val_masked_acc: 0.5854\n",
      "Epoch 11/100\n",
      "313/313 [==============================] - 11s 36ms/step - loss: 1.6740 - masked_acc: 0.6037 - val_loss: 1.7575 - val_masked_acc: 0.5875\n",
      "Epoch 12/100\n",
      "313/313 [==============================] - 11s 36ms/step - loss: 1.6402 - masked_acc: 0.6098 - val_loss: 1.7376 - val_masked_acc: 0.5916\n",
      "Epoch 13/100\n",
      "313/313 [==============================] - 11s 36ms/step - loss: 1.6074 - masked_acc: 0.6160 - val_loss: 1.7227 - val_masked_acc: 0.5944\n",
      "Epoch 14/100\n",
      "313/313 [==============================] - 11s 36ms/step - loss: 1.5789 - masked_acc: 0.6210 - val_loss: 1.7164 - val_masked_acc: 0.5951\n",
      "Epoch 15/100\n",
      "313/313 [==============================] - 11s 36ms/step - loss: 1.5517 - masked_acc: 0.6264 - val_loss: 1.7033 - val_masked_acc: 0.5978\n",
      "Epoch 16/100\n",
      "313/313 [==============================] - 11s 36ms/step - loss: 1.5275 - masked_acc: 0.6309 - val_loss: 1.7034 - val_masked_acc: 0.5978\n",
      "Epoch 17/100\n",
      "313/313 [==============================] - 11s 36ms/step - loss: 1.5023 - masked_acc: 0.6358 - val_loss: 1.7011 - val_masked_acc: 0.5992\n",
      "Epoch 18/100\n",
      "313/313 [==============================] - 11s 36ms/step - loss: 1.4816 - masked_acc: 0.6396 - val_loss: 1.6980 - val_masked_acc: 0.5993\n",
      "Epoch 19/100\n",
      "313/313 [==============================] - 11s 36ms/step - loss: 1.4606 - masked_acc: 0.6438 - val_loss: 1.6941 - val_masked_acc: 0.6004\n",
      "Epoch 20/100\n",
      "313/313 [==============================] - 11s 36ms/step - loss: 1.4424 - masked_acc: 0.6473 - val_loss: 1.6990 - val_masked_acc: 0.5999\n",
      "Epoch 21/100\n",
      "313/313 [==============================] - 11s 36ms/step - loss: 1.4235 - masked_acc: 0.6512 - val_loss: 1.7025 - val_masked_acc: 0.6000\n",
      "Epoch 22/100\n",
      "313/313 [==============================] - 11s 36ms/step - loss: 1.4055 - masked_acc: 0.6545 - val_loss: 1.7005 - val_masked_acc: 0.6008\n",
      "Epoch 23/100\n",
      "313/313 [==============================] - 11s 36ms/step - loss: 1.3914 - masked_acc: 0.6572 - val_loss: 1.7047 - val_masked_acc: 0.6011\n",
      "Epoch 24/100\n",
      "313/313 [==============================] - 11s 37ms/step - loss: 1.3760 - masked_acc: 0.6601 - val_loss: 1.7089 - val_masked_acc: 0.5996\n",
      "Epoch 25/100\n",
      "313/313 [==============================] - 11s 36ms/step - loss: 1.3615 - masked_acc: 0.6631 - val_loss: 1.7139 - val_masked_acc: 0.5996\n",
      "Epoch 26/100\n",
      "313/313 [==============================] - 11s 36ms/step - loss: 1.3474 - masked_acc: 0.6659 - val_loss: 1.7198 - val_masked_acc: 0.6006\n",
      "Epoch 27/100\n",
      "313/313 [==============================] - 11s 36ms/step - loss: 1.3332 - masked_acc: 0.6692 - val_loss: 1.7192 - val_masked_acc: 0.5991\n",
      "Epoch 28/100\n",
      "313/313 [==============================] - 11s 36ms/step - loss: 1.3218 - masked_acc: 0.6714 - val_loss: 1.7260 - val_masked_acc: 0.5991\n",
      "Epoch 29/100\n",
      "313/313 [==============================] - 11s 37ms/step - loss: 1.3101 - masked_acc: 0.6735 - val_loss: 1.7280 - val_masked_acc: 0.5984\n"
     ]
    }
   ],
   "source": [
    "history = model.fit([train_images, train_sequences[:, :-1]],\n",
    "          train_sequences[:, 1:],\n",
    "          epochs=100,\n",
    "          validation_split = 0.2,\n",
    "          batch_size=128, callbacks = [early_stopping])\n"
   ]
  },
  {
   "cell_type": "code",
   "execution_count": 91,
   "metadata": {},
   "outputs": [
    {
     "data": {
      "image/png": "[encoded data removed]",
      "text/plain": [
       "<Figure size 640x480 with 1 Axes>"
      ]
     },
     "metadata": {},
     "output_type": "display_data"
    }
   ],
   "source": [
    "plt.plot(history.history['loss'])\n",
    "plt.plot(history.history['val_loss'])\n",
    "plt.title('Baseline CNN-RNN model masked loss')\n",
    "plt.ylabel('Loss')\n",
    "plt.xlabel('Epoch')\n",
    "plt.legend(['Train', 'Validation'], loc='upper right')\n",
    "plt.show()"
   ]
  },
  {
   "cell_type": "code",
   "execution_count": 92,
   "metadata": {},
   "outputs": [
    {
     "data": {
      "image/png": "[encoded data removed]",
      "text/plain": [
       "<Figure size 640x480 with 1 Axes>"
      ]
     },
     "metadata": {},
     "output_type": "display_data"
    }
   ],
   "source": [
    "plt.plot(history.history['masked_acc'])\n",
    "plt.plot(history.history['val_masked_acc'])\n",
    "plt.title('Baseline CNN-RNN model masked accuracy')\n",
    "plt.ylabel('Accuracy')\n",
    "plt.xlabel('Epoch')\n",
    "plt.legend(['Train', 'Validation'], loc='upper right')\n",
    "plt.show()"
   ]
  },
  {
   "cell_type": "code",
   "execution_count": 72,
   "metadata": {
    "id": "rGz_H92VAAI8"
   },
   "outputs": [],
   "source": [
    "model.save('baseline_masked.keras')"
   ]
  }
 ],
 "metadata": {
  "colab": {
   "include_colab_link": true,
   "private_outputs": true,
   "provenance": []
  },
  "kernelspec": {
   "display_name": "Python 3 (ipykernel)",
   "language": "python",
   "name": "python3"
  },
  "language_info": {
   "codemirror_mode": {
    "name": "ipython",
    "version": 3
   },
   "file_extension": ".py",
   "mimetype": "text/x-python",
   "name": "python",
   "nbconvert_exporter": "python",
   "pygments_lexer": "ipython3",
   "version": "3.8.10"
  }
 },
 "nbformat": 4,
 "nbformat_minor": 4
}

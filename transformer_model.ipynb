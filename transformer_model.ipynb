{
 "cells": [
  {
   "cell_type": "markdown",
   "metadata": {
    "colab_type": "text",
    "id": "view-in-github"
   },
   "source": [
    "<a href=\"https://colab.research.google.com/github/osjayaprakash/deeplearning/blob/main/transformer_model.ipynb\" target=\"_parent\"><img src=\"https://colab.research.google.com/assets/colab-badge.svg\" alt=\"Open In Colab\"/></a>"
   ]
  },
  {
   "cell_type": "code",
   "execution_count": 1,
   "metadata": {
    "id": "6TKz3RA-FuOp"
   },
   "outputs": [
    {
     "name": "stderr",
     "output_type": "stream",
     "text": [
      "2024-12-04 02:20:05.322743: I tensorflow/core/platform/cpu_feature_guard.cc:182] This TensorFlow binary is optimized to use available CPU instructions in performance-critical operations.\n",
      "To enable the following instructions: AVX2 FMA, in other operations, rebuild TensorFlow with the appropriate compiler flags.\n",
      "2024-12-04 02:20:07.120877: W tensorflow/compiler/tf2tensorrt/utils/py_utils.cc:38] TF-TRT Warning: Could not find TensorRT\n"
     ]
    },
    {
     "name": "stdout",
     "output_type": "stream",
     "text": [
      "Python Platform: Linux-5.15.0-1044-aws-x86_64-with-glibc2.29\n",
      "Tensor Flow Version: 2.13.1\n",
      "\n",
      "Python 3.8.10 (default, Nov  7 2024, 13:10:47) \n",
      "[GCC 9.4.0]\n",
      "Pandas 2.0.3\n",
      "Scikit-Learn 1.3.2\n",
      "SciPy 1.10.1\n",
      "[PhysicalDevice(name='/physical_device:CPU:0', device_type='CPU'), PhysicalDevice(name='/physical_device:GPU:0', device_type='GPU')]\n"
     ]
    }
   ],
   "source": [
    "import tensorflow as tf\n",
    "from tensorflow.keras.models import load_model\n",
    "from tensorflow.keras.layers import (Input, Conv2D, MaxPooling2D, Flatten,\n",
    "                                     Dense, GRU, Embedding, Bidirectional,\n",
    "                                     TimeDistributed, Concatenate, RepeatVector, LSTM, MultiHeadAttention, LayerNormalization, Add, Dropout )\n",
    "from tensorflow.keras.models import Model\n",
    "from tensorflow.keras.preprocessing.text import Tokenizer\n",
    "from tensorflow.keras.preprocessing.sequence import pad_sequences\n",
    "import numpy as np\n",
    "import matplotlib.pyplot as plt\n",
    "import platform\n",
    "import sys\n",
    "import pandas as pd\n",
    "import sklearn as sk\n",
    "import scipy as sp\n",
    "from tensorflow.python.ops.numpy_ops import np_config  \n",
    "import einops\n",
    "\n",
    "np_config.enable_numpy_behavior()\n",
    "tf.config.experimental.list_physical_devices('GPU')\n",
    "print(f\"Python Platform: {platform.platform()}\")\n",
    "print(f\"Tensor Flow Version: {tf.__version__}\")\n",
    "#print(f\"Keras Version: {tf.keras.__version__}\")\n",
    "print()\n",
    "print(f\"Python {sys.version}\")\n",
    "print(f\"Pandas {pd.__version__}\")\n",
    "print(f\"Scikit-Learn {sk.__version__}\")\n",
    "print(f\"SciPy {sp.__version__}\")\n",
    "print(tf.config.list_physical_devices())"
   ]
  },
  {
   "cell_type": "code",
   "execution_count": 2,
   "metadata": {
    "id": "xZgd8NVaFjfO"
   },
   "outputs": [
    {
     "name": "stdout",
     "output_type": "stream",
     "text": [
      "Warning: Looks like you're using an outdated `kagglehub` version, please consider updating (latest version: 0.3.4)\n",
      "Path to dataset files: /home/ubuntu/.cache/kagglehub/datasets/shahrukhkhan/im2latex100k/versions/7\n"
     ]
    }
   ],
   "source": [
    "import kagglehub\n",
    "\n",
    "# Download latest version\n",
    "root_dir = kagglehub.dataset_download(\"shahrukhkhan/im2latex100k\")\n",
    "# path = kagglehub.dataset_download(\"gregoryeritsyan/im2latex-230k\")\n",
    "\n",
    "print(\"Path to dataset files:\", root_dir)"
   ]
  },
  {
   "cell_type": "markdown",
   "metadata": {
    "id": "Qo6QNApGGgIk"
   },
   "source": [
    "# Preprocess"
   ]
  },
  {
   "cell_type": "code",
   "execution_count": 3,
   "metadata": {},
   "outputs": [],
   "source": [
    "IMG_SHAPE = [50, 200, 1]\n",
    "EMBEDDING_DIM = 256\n",
    "max_seq_length = 152\n",
    "n = 50000\n",
    "max_seq_len_1 = max_seq_length - 1"
   ]
  },
  {
   "cell_type": "code",
   "execution_count": 4,
   "metadata": {
    "id": "wAMBW0OFF_VN"
   },
   "outputs": [],
   "source": [
    "def preprocess_image(image):\n",
    "    \"\"\"Preprocess the input image: Resize and normalize.\"\"\"\n",
    "    image = tf.image.resize(image, (50, 200))  # Resize to (50, 200)\n",
    "    image = image / 255.0  # Normalize to [0, 1]\n",
    "    return image\n",
    "\n",
    "def load_and_preprocess_images(image_paths):\n",
    "    \"\"\"Load and preprocess a batch of images.\"\"\"\n",
    "    # Use Gray scale\n",
    "    images = [preprocess_image(tf.io.decode_image(tf.io.read_file(path), channels=1))\n",
    "              for path in image_paths]\n",
    "    return tf.stack(images)\n",
    "\n",
    "def prepare_sequences(latex_texts, max_seq_length):\n",
    "    \"\"\"Convert LaTeX texts to padded sequences of tokens.\"\"\"\n",
    "    sequences = [text_to_sequence(text) for text in latex_texts]\n",
    "    return pad_sequences(sequences, maxlen=max_seq_length, padding='post')\n"
   ]
  },
  {
   "cell_type": "code",
   "execution_count": 5,
   "metadata": {
    "id": "4NIjhtisIi1W"
   },
   "outputs": [
    {
     "name": "stderr",
     "output_type": "stream",
     "text": [
      "2024-12-04 02:20:17.464319: I tensorflow/core/common_runtime/gpu/gpu_device.cc:1639] Created device /job:localhost/replica:0/task:0/device:GPU:0 with 20972 MB memory:  -> device: 0, name: NVIDIA L4, pci bus id: 0000:31:00.0, compute capability: 8.9\n"
     ]
    }
   ],
   "source": [
    "# %%time\n",
    "# %%prun\n",
    "\n",
    "df = pd.read_csv(f\"{root_dir}/im2latex_train.csv\", nrows=n)\n",
    "\n",
    "train_image_paths = []\n",
    "train_latex_texts = []\n",
    "\n",
    "for index, row in df.iterrows():\n",
    "    train_image_paths += [f\"{root_dir}//formula_images_processed/formula_images_processed/{row.image}\"]\n",
    "    train_latex_texts += [\"[START] \" + row.formula + \" [END]\"]\n",
    "\n",
    "train_images = load_and_preprocess_images(train_image_paths)"
   ]
  },
  {
   "cell_type": "markdown",
   "metadata": {},
   "source": [
    "## Transformer Model\n",
    "\n",
    "The code is adapted from these two official tensorflow/keras tutorials:\n",
    "- [Image classification with Vision Transformer](https://keras.io/examples/vision/image_classification_with_vision_transformer/) - Transformer encoder\n",
    "- [Image captioning with visual attention](https://www.tensorflow.org/text/tutorials/image_captioning) - Transformer decoder"
   ]
  },
  {
   "cell_type": "code",
   "execution_count": 6,
   "metadata": {
    "id": "GjYzQHDSAAI1"
   },
   "outputs": [],
   "source": [
    "tokenizer = tf.keras.layers.TextVectorization(max_tokens=max_seq_length, standardize = None)"
   ]
  },
  {
   "cell_type": "code",
   "execution_count": 7,
   "metadata": {
    "id": "WpXdTtsaAAI1"
   },
   "outputs": [],
   "source": [
    "tokenizer.adapt(train_latex_texts)"
   ]
  },
  {
   "cell_type": "code",
   "execution_count": 8,
   "metadata": {
    "id": "WJgjaXn2AAI3"
   },
   "outputs": [],
   "source": [
    "latex_labels = tokenizer(train_latex_texts)\n",
    "train_sequences = np.asarray(latex_labels)"
   ]
  },
  {
   "cell_type": "code",
   "execution_count": 9,
   "metadata": {
    "id": "az_S8OFzIvc1"
   },
   "outputs": [
    {
     "name": "stdout",
     "output_type": "stream",
     "text": [
      "(50000, 152)\n",
      "(50000, 50, 200, 1)\n",
      "{'': 0, '[UNK]': 1, '}': 2, '{': 3, '_': 4, '^': 5, '2': 6, '(': 7, ')': 8, '=': 9, '1': 10, '-': 11, ',': 12, '[START]': 13, '[END]': 14, '\\\\frac': 15, '+': 16, 'i': 17, '0': 18, 'x': 19, 'n': 20, '.': 21, '\\\\,': 22, 'd': 23, 'a': 24, '\\\\mu': 25, 'e': 26, 'k': 27, 'm': 28, 'c': 29, 'r': 30, 'p': 31, '\\\\partial': 32, '\\\\alpha': 33, 't': 34, 'A': 35, '~': 36, '\\\\;': 37, 'j': 38, 's': 39, '3': 40, 'l': 41, '\\\\right)': 42, '\\\\left(': 43, 'g': 44, '4': 45, '\\\\': 46, '\\\\nu': 47, '\\\\prime': 48, '\\\\pi': 49, 'b': 50, 'z': 51, '\\\\phi': 52, '|': 53, '\\\\mathrm': 54, '\\\\cal': 55, '\\\\delta': 56, 'f': 57, 'N': 58, '\\\\lambda': 59, 'T': 60, 'q': 61, 'S': 62, '\\\\beta': 63, ']': 64, '[': 65, 'R': 66, '\\\\bar': 67, '\\\\int': 68, 'L': 69, 'M': 70, 'D': 71, '\\\\operatorname': 72, 'B': 73, 'F': 74, '\\\\sigma': 75, 'y': 76, '\\\\theta': 77, '&': 78, '\\\\\\\\': 79, '\\\\psi': 80, 'h': 81, '/': 82, '\\\\gamma': 83, '\\\\hat': 84, '\\\\sqrt': 85, 'H': 86, '\\\\sum': 87, '\\\\rho': 88, '\\\\tilde': 89, 'u': 90, 'o': 91, '\\\\tau': 92, 'C': 93, 'P': 94, 'G': 95, 'V': 96, 'I': 97, '\\\\omega': 98, 'E': 99, '\\\\epsilon': 100, 'X': 101, '\\\\bf': 102, 'J': 103, '\\\\Phi': 104, '\\\\xi': 105, '\\\\eta': 106, '\\\\vec': 107, 'Q': 108, '\\\\quad': 109, 'v': 110, 'K': 111, '\\\\Gamma': 112, '\\\\infty': 113, '5': 114, '\\\\right]': 115, '\\\\left[': 116, '\\\\pm': 117, 'U': 118, 'W': 119, 'Z': 120, '\\\\dot': 121, '\\\\Lambda': 122, '\\\\Delta': 123, '\\\\end{array}': 124, '\\\\begin{array}': 125, '\\\\varphi': 126, '\\\\rangle': 127, '*': 128, '6': 129, 'w': 130, '\\\\Omega': 131, ';': 132, '\\\\chi': 133, '\\\\qquad': 134, '\\\\kappa': 135, '\\\\Psi': 136, '\\\\equiv': 137, '8': 138, '\\\\}': 139, '\\\\{': 140, '\\\\cdot': 141, '\\\\!': 142, '\\\\overline': 143, '\\\\langle': 144, '\\\\rightarrow': 145, '>': 146, '\\\\dagger': 147, '\\\\zeta': 148, '\\\\nabla': 149, '\\\\varepsilon': 150, 'O': 151}\n"
     ]
    }
   ],
   "source": [
    "print(latex_labels.shape)\n",
    "print(train_images.shape)\n",
    "vocab_dict = {name: id for id, name in enumerate(tokenizer.get_vocabulary())}\n",
    "print(vocab_dict)"
   ]
  },
  {
   "cell_type": "code",
   "execution_count": 10,
   "metadata": {},
   "outputs": [
    {
     "name": "stdout",
     "output_type": "stream",
     "text": [
      "[START] u _ { 1 } ^ { k } * u _ { 2 } ^ { - k } \\: = \\: 1 \\: = \\: u _ { 2 } ^ { k } * u _ { 1 } ^ { - k } . [END]\n",
      "(152,)\n"
     ]
    },
    {
     "data": {
      "image/png": "[encoded data removed]",
      "text/plain": [
       "<Figure size 640x480 with 1 Axes>"
      ]
     },
     "metadata": {},
     "output_type": "display_data"
    }
   ],
   "source": [
    "idx = np.random.choice(range(train_images.shape[0]))\n",
    "img = train_images[idx]\n",
    "plt.imshow(img.numpy(), cmap=\"gray\")\n",
    "print(train_latex_texts[idx])\n",
    "print(train_sequences[idx].shape)"
   ]
  },
  {
   "cell_type": "markdown",
   "metadata": {
    "id": "Yqt7tRm5AAI5"
   },
   "source": [
    "### Vision Transformer Encoder"
   ]
  },
  {
   "cell_type": "code",
   "execution_count": 11,
   "metadata": {
    "id": "Accx5CSIGji3"
   },
   "outputs": [
    {
     "name": "stdout",
     "output_type": "stream",
     "text": [
      "100\n"
     ]
    }
   ],
   "source": [
    "patch_size = 10  # Size of the patches to be extract from the input images\n",
    "num_patches = (IMG_SHAPE[0] // patch_size) * (IMG_SHAPE[1] // patch_size)\n",
    "projection_dim = EMBEDDING_DIM\n",
    "num_heads = 4\n",
    "transformer_units = [\n",
    "    projection_dim * 2,\n",
    "    projection_dim,\n",
    "]  # Size of the transformer layers\n",
    "transformer_layers = 8\n",
    "mlp_head_units = [2048, 1024]\n",
    "print(num_patches)"
   ]
  },
  {
   "cell_type": "code",
   "execution_count": 12,
   "metadata": {
    "id": "XW0usbBPGATy"
   },
   "outputs": [],
   "source": [
    "class Patches(tf.keras.layers.Layer):\n",
    "    def __init__(self, patch_size):\n",
    "        super().__init__()\n",
    "        self.patch_size = patch_size\n",
    "\n",
    "    def call(self, images):\n",
    "        input_shape = tf.raw_ops.Shape(input=images)\n",
    "        batch_size = input_shape[0]\n",
    "        height = input_shape[1]\n",
    "        width = input_shape[2]\n",
    "        channels = input_shape[3]\n",
    "        num_patches_h = height // self.patch_size\n",
    "        num_patches_w = width // self.patch_size\n",
    "        patches = tf.image.extract_patches(images=images, sizes=[1,self.patch_size, self.patch_size,1], strides=[1,self.patch_size, self.patch_size,1], padding='VALID', rates=[1, 1, 1, 1])\n",
    "        new_shape = (batch_size, num_patches_h * num_patches_w, self.patch_size * self.patch_size * channels)\n",
    "        # print(f\"PATCHES: {patches.shape}\")\n",
    "        # print(f\"RESHAPE: {new_shape}\")\n",
    "        patches = tf.reshape(\n",
    "            patches,\n",
    "            shape=new_shape,\n",
    "        )\n",
    "        return patches\n",
    "\n",
    "    def get_config(self):\n",
    "        config = super().get_config()\n",
    "        config.update({\"patch_size\": self.patch_size})\n",
    "        return config"
   ]
  },
  {
   "cell_type": "code",
   "execution_count": 13,
   "metadata": {},
   "outputs": [
    {
     "name": "stdout",
     "output_type": "stream",
     "text": [
      "Image size: (1, 50, 200, 1)\n",
      "Image size: (1, 50, 200, 1)\n",
      "Patch size: 10 X 10\n",
      "Patches per image: 100\n",
      "Elements per patch: 100\n"
     ]
    },
    {
     "data": {
      "image/png": "[encoded data removed]",
      "text/plain": [
       "<Figure size 640x480 with 1 Axes>"
      ]
     },
     "metadata": {},
     "output_type": "display_data"
    },
    {
     "data": {
      "image/png": "[encoded data removed]",
      "text/plain": [
       "<Figure size 800x200 with 100 Axes>"
      ]
     },
     "metadata": {},
     "output_type": "display_data"
    }
   ],
   "source": [
    "plt.imshow(img.numpy(), cmap=\"gray\")\n",
    "plt.axis(\"off\")\n",
    "image = tf.expand_dims(img, axis = 0)\n",
    "\n",
    "print(f\"Image size: {image.shape}\")\n",
    "patches = Patches(patch_size)(image)\n",
    "print(f\"Image size: {image.shape}\")\n",
    "print(f\"Patch size: {patch_size} X {patch_size}\")\n",
    "print(f\"Patches per image: {patches.shape[1]}\")\n",
    "print(f\"Elements per patch: {patches.shape[-1]}\")\n",
    "\n",
    "rows = int(IMG_SHAPE[0] / patch_size)\n",
    "cols = int(IMG_SHAPE[1] / patch_size)\n",
    "plt.figure(figsize=(8, 2))\n",
    "for i, patch in enumerate(patches[0]):\n",
    "    ax = plt.subplot(rows, cols, i + 1)\n",
    "    patch_img = tf.reshape(patch, (patch_size, patch_size, 1))\n",
    "    plt.imshow(patch_img.numpy(), cmap='gray')\n",
    "    plt.axis(\"off\")"
   ]
  },
  {
   "cell_type": "code",
   "execution_count": 14,
   "metadata": {
    "id": "xnbps4-JHS4b"
   },
   "outputs": [],
   "source": [
    "def mlp(x, hidden_units, dropout_rate):\n",
    "    for units in hidden_units:\n",
    "        x = Dense(units, activation=tf.keras.activations.gelu)(x)\n",
    "        x = Dropout(dropout_rate)(x)\n",
    "    return x"
   ]
  },
  {
   "cell_type": "code",
   "execution_count": 15,
   "metadata": {
    "id": "DWhOTG_7GRpx"
   },
   "outputs": [],
   "source": [
    "class PatchEncoder(tf.keras.layers.Layer):\n",
    "    def __init__(self, num_patches, projection_dim):\n",
    "        super().__init__()\n",
    "        self.num_patches = num_patches\n",
    "        self.projection = Dense(units=projection_dim)\n",
    "        self.position_embedding = Embedding(\n",
    "            input_dim=num_patches, output_dim=projection_dim\n",
    "        )\n",
    "\n",
    "    def call(self, patch):\n",
    "        positions = tf.raw_ops.ExpandDims(\n",
    "           input = tf.experimental.numpy.arange(start=0, stop=self.num_patches, step=1), axis=0\n",
    "        )\n",
    "        projected_patches = self.projection(patch)\n",
    "        #print(projected_patches.shape)\n",
    "        position_embeddings = self.position_embedding(positions)\n",
    "        #print(position_embeddings.shape)\n",
    "        encoded = projected_patches + position_embeddings\n",
    "        return encoded\n",
    "\n",
    "    def get_config(self):\n",
    "        config = super().get_config()\n",
    "        config.update({\"num_patches\": self.num_patches})\n",
    "        return config"
   ]
  },
  {
   "cell_type": "code",
   "execution_count": 16,
   "metadata": {
    "id": "NHZEjUHRGYcS"
   },
   "outputs": [],
   "source": [
    "def vision_transformer_encoder(input_shape):\n",
    "    inputs =  Input(shape=input_shape)\n",
    "    # Create patches.\n",
    "    patches = Patches(patch_size)(inputs)\n",
    "    # Encode patches.\n",
    "    encoded_patches = PatchEncoder(num_patches, projection_dim)(patches)\n",
    "\n",
    "    # Create multiple layers of the Transformer block.\n",
    "    for _ in range(transformer_layers):\n",
    "        # Layer normalization 1.\n",
    "        x1 = LayerNormalization(epsilon=1e-6)(encoded_patches)\n",
    "        # Create a multi-head attention layer.\n",
    "        attention_output = MultiHeadAttention(\n",
    "            num_heads=num_heads, key_dim=projection_dim, dropout=0.5\n",
    "        )(x1, x1)\n",
    "        # Skip connection 1.\n",
    "        x2 = Add()([attention_output, encoded_patches])\n",
    "        # Layer normalization 2.\n",
    "        x3 = LayerNormalization(epsilon=1e-6)(x2)\n",
    "        # MLP.\n",
    "        x3 = mlp(x3, hidden_units=transformer_units, dropout_rate=0.5)\n",
    "        # Skip connection 2.\n",
    "        encoded_patches = tf.keras.layers.Add()([x3, x2])\n",
    "\n",
    "    # Create a [batch_size, projection_dim] tensor.\n",
    "    representation = LayerNormalization(epsilon=1e-6)(encoded_patches)\n",
    "    # representation = Flatten()(representation)\n",
    "    # representation = Dropout(0.2)(representation)\n",
    "    # Add MLP.\n",
    "    # features = mlp(representation, hidden_units=mlp_head_units, dropout_rate=0.2)\n",
    "    # Classify outputs.\n",
    "    #logits = tf.keras.layers.Dense(2)(features)\n",
    "    # Create the Keras model.\n",
    "    model = tf.keras.Model(inputs=inputs, outputs=representation)\n",
    "    return model"
   ]
  },
  {
   "cell_type": "code",
   "execution_count": 17,
   "metadata": {
    "id": "T8jXN2GlGyNC"
   },
   "outputs": [],
   "source": [
    "vit = vision_transformer_encoder(IMG_SHAPE)"
   ]
  },
  {
   "cell_type": "code",
   "execution_count": 18,
   "metadata": {
    "id": "_1htX_wlLj4W"
   },
   "outputs": [
    {
     "name": "stdout",
     "output_type": "stream",
     "text": [
      "Model: \"model\"\n",
      "__________________________________________________________________________________________________\n",
      " Layer (type)                Output Shape                 Param #   Connected to                  \n",
      "==================================================================================================\n",
      " input_1 (InputLayer)        [(None, 50, 200, 1)]         0         []                            \n",
      "                                                                                                  \n",
      " patches_1 (Patches)         (None, 100, 100)             0         ['input_1[0][0]']             \n",
      "                                                                                                  \n",
      " patch_encoder (PatchEncode  (None, 100, 256)             51456     ['patches_1[0][0]']           \n",
      " r)                                                                                               \n",
      "                                                                                                  \n",
      " layer_normalization (Layer  (None, 100, 256)             512       ['patch_encoder[0][0]']       \n",
      " Normalization)                                                                                   \n",
      "                                                                                                  \n",
      " multi_head_attention (Mult  (None, 100, 256)             1051904   ['layer_normalization[0][0]', \n",
      " iHeadAttention)                                                     'layer_normalization[0][0]'] \n",
      "                                                                                                  \n",
      " add (Add)                   (None, 100, 256)             0         ['multi_head_attention[0][0]',\n",
      "                                                                     'patch_encoder[0][0]']       \n",
      "                                                                                                  \n",
      " layer_normalization_1 (Lay  (None, 100, 256)             512       ['add[0][0]']                 \n",
      " erNormalization)                                                                                 \n",
      "                                                                                                  \n",
      " dense_1 (Dense)             (None, 100, 512)             131584    ['layer_normalization_1[0][0]'\n",
      "                                                                    ]                             \n",
      "                                                                                                  \n",
      " dropout (Dropout)           (None, 100, 512)             0         ['dense_1[0][0]']             \n",
      "                                                                                                  \n",
      " dense_2 (Dense)             (None, 100, 256)             131328    ['dropout[0][0]']             \n",
      "                                                                                                  \n",
      " dropout_1 (Dropout)         (None, 100, 256)             0         ['dense_2[0][0]']             \n",
      "                                                                                                  \n",
      " add_1 (Add)                 (None, 100, 256)             0         ['dropout_1[0][0]',           \n",
      "                                                                     'add[0][0]']                 \n",
      "                                                                                                  \n",
      " layer_normalization_2 (Lay  (None, 100, 256)             512       ['add_1[0][0]']               \n",
      " erNormalization)                                                                                 \n",
      "                                                                                                  \n",
      " multi_head_attention_1 (Mu  (None, 100, 256)             1051904   ['layer_normalization_2[0][0]'\n",
      " ltiHeadAttention)                                                  , 'layer_normalization_2[0][0]\n",
      "                                                                    ']                            \n",
      "                                                                                                  \n",
      " add_2 (Add)                 (None, 100, 256)             0         ['multi_head_attention_1[0][0]\n",
      "                                                                    ',                            \n",
      "                                                                     'add_1[0][0]']               \n",
      "                                                                                                  \n",
      " layer_normalization_3 (Lay  (None, 100, 256)             512       ['add_2[0][0]']               \n",
      " erNormalization)                                                                                 \n",
      "                                                                                                  \n",
      " dense_3 (Dense)             (None, 100, 512)             131584    ['layer_normalization_3[0][0]'\n",
      "                                                                    ]                             \n",
      "                                                                                                  \n",
      " dropout_2 (Dropout)         (None, 100, 512)             0         ['dense_3[0][0]']             \n",
      "                                                                                                  \n",
      " dense_4 (Dense)             (None, 100, 256)             131328    ['dropout_2[0][0]']           \n",
      "                                                                                                  \n",
      " dropout_3 (Dropout)         (None, 100, 256)             0         ['dense_4[0][0]']             \n",
      "                                                                                                  \n",
      " add_3 (Add)                 (None, 100, 256)             0         ['dropout_3[0][0]',           \n",
      "                                                                     'add_2[0][0]']               \n",
      "                                                                                                  \n",
      " layer_normalization_4 (Lay  (None, 100, 256)             512       ['add_3[0][0]']               \n",
      " erNormalization)                                                                                 \n",
      "                                                                                                  \n",
      " multi_head_attention_2 (Mu  (None, 100, 256)             1051904   ['layer_normalization_4[0][0]'\n",
      " ltiHeadAttention)                                                  , 'layer_normalization_4[0][0]\n",
      "                                                                    ']                            \n",
      "                                                                                                  \n",
      " add_4 (Add)                 (None, 100, 256)             0         ['multi_head_attention_2[0][0]\n",
      "                                                                    ',                            \n",
      "                                                                     'add_3[0][0]']               \n",
      "                                                                                                  \n",
      " layer_normalization_5 (Lay  (None, 100, 256)             512       ['add_4[0][0]']               \n",
      " erNormalization)                                                                                 \n",
      "                                                                                                  \n",
      " dense_5 (Dense)             (None, 100, 512)             131584    ['layer_normalization_5[0][0]'\n",
      "                                                                    ]                             \n",
      "                                                                                                  \n",
      " dropout_4 (Dropout)         (None, 100, 512)             0         ['dense_5[0][0]']             \n",
      "                                                                                                  \n",
      " dense_6 (Dense)             (None, 100, 256)             131328    ['dropout_4[0][0]']           \n",
      "                                                                                                  \n",
      " dropout_5 (Dropout)         (None, 100, 256)             0         ['dense_6[0][0]']             \n",
      "                                                                                                  \n",
      " add_5 (Add)                 (None, 100, 256)             0         ['dropout_5[0][0]',           \n",
      "                                                                     'add_4[0][0]']               \n",
      "                                                                                                  \n",
      " layer_normalization_6 (Lay  (None, 100, 256)             512       ['add_5[0][0]']               \n",
      " erNormalization)                                                                                 \n",
      "                                                                                                  \n",
      " multi_head_attention_3 (Mu  (None, 100, 256)             1051904   ['layer_normalization_6[0][0]'\n",
      " ltiHeadAttention)                                                  , 'layer_normalization_6[0][0]\n",
      "                                                                    ']                            \n",
      "                                                                                                  \n",
      " add_6 (Add)                 (None, 100, 256)             0         ['multi_head_attention_3[0][0]\n",
      "                                                                    ',                            \n",
      "                                                                     'add_5[0][0]']               \n",
      "                                                                                                  \n",
      " layer_normalization_7 (Lay  (None, 100, 256)             512       ['add_6[0][0]']               \n",
      " erNormalization)                                                                                 \n",
      "                                                                                                  \n",
      " dense_7 (Dense)             (None, 100, 512)             131584    ['layer_normalization_7[0][0]'\n",
      "                                                                    ]                             \n",
      "                                                                                                  \n",
      " dropout_6 (Dropout)         (None, 100, 512)             0         ['dense_7[0][0]']             \n",
      "                                                                                                  \n",
      " dense_8 (Dense)             (None, 100, 256)             131328    ['dropout_6[0][0]']           \n",
      "                                                                                                  \n",
      " dropout_7 (Dropout)         (None, 100, 256)             0         ['dense_8[0][0]']             \n",
      "                                                                                                  \n",
      " add_7 (Add)                 (None, 100, 256)             0         ['dropout_7[0][0]',           \n",
      "                                                                     'add_6[0][0]']               \n",
      "                                                                                                  \n",
      " layer_normalization_8 (Lay  (None, 100, 256)             512       ['add_7[0][0]']               \n",
      " erNormalization)                                                                                 \n",
      "                                                                                                  \n",
      " multi_head_attention_4 (Mu  (None, 100, 256)             1051904   ['layer_normalization_8[0][0]'\n",
      " ltiHeadAttention)                                                  , 'layer_normalization_8[0][0]\n",
      "                                                                    ']                            \n",
      "                                                                                                  \n",
      " add_8 (Add)                 (None, 100, 256)             0         ['multi_head_attention_4[0][0]\n",
      "                                                                    ',                            \n",
      "                                                                     'add_7[0][0]']               \n",
      "                                                                                                  \n",
      " layer_normalization_9 (Lay  (None, 100, 256)             512       ['add_8[0][0]']               \n",
      " erNormalization)                                                                                 \n",
      "                                                                                                  \n",
      " dense_9 (Dense)             (None, 100, 512)             131584    ['layer_normalization_9[0][0]'\n",
      "                                                                    ]                             \n",
      "                                                                                                  \n",
      " dropout_8 (Dropout)         (None, 100, 512)             0         ['dense_9[0][0]']             \n",
      "                                                                                                  \n",
      " dense_10 (Dense)            (None, 100, 256)             131328    ['dropout_8[0][0]']           \n",
      "                                                                                                  \n",
      " dropout_9 (Dropout)         (None, 100, 256)             0         ['dense_10[0][0]']            \n",
      "                                                                                                  \n",
      " add_9 (Add)                 (None, 100, 256)             0         ['dropout_9[0][0]',           \n",
      "                                                                     'add_8[0][0]']               \n",
      "                                                                                                  \n",
      " layer_normalization_10 (La  (None, 100, 256)             512       ['add_9[0][0]']               \n",
      " yerNormalization)                                                                                \n",
      "                                                                                                  \n",
      " multi_head_attention_5 (Mu  (None, 100, 256)             1051904   ['layer_normalization_10[0][0]\n",
      " ltiHeadAttention)                                                  ',                            \n",
      "                                                                     'layer_normalization_10[0][0]\n",
      "                                                                    ']                            \n",
      "                                                                                                  \n",
      " add_10 (Add)                (None, 100, 256)             0         ['multi_head_attention_5[0][0]\n",
      "                                                                    ',                            \n",
      "                                                                     'add_9[0][0]']               \n",
      "                                                                                                  \n",
      " layer_normalization_11 (La  (None, 100, 256)             512       ['add_10[0][0]']              \n",
      " yerNormalization)                                                                                \n",
      "                                                                                                  \n",
      " dense_11 (Dense)            (None, 100, 512)             131584    ['layer_normalization_11[0][0]\n",
      "                                                                    ']                            \n",
      "                                                                                                  \n",
      " dropout_10 (Dropout)        (None, 100, 512)             0         ['dense_11[0][0]']            \n",
      "                                                                                                  \n",
      " dense_12 (Dense)            (None, 100, 256)             131328    ['dropout_10[0][0]']          \n",
      "                                                                                                  \n",
      " dropout_11 (Dropout)        (None, 100, 256)             0         ['dense_12[0][0]']            \n",
      "                                                                                                  \n",
      " add_11 (Add)                (None, 100, 256)             0         ['dropout_11[0][0]',          \n",
      "                                                                     'add_10[0][0]']              \n",
      "                                                                                                  \n",
      " layer_normalization_12 (La  (None, 100, 256)             512       ['add_11[0][0]']              \n",
      " yerNormalization)                                                                                \n",
      "                                                                                                  \n",
      " multi_head_attention_6 (Mu  (None, 100, 256)             1051904   ['layer_normalization_12[0][0]\n",
      " ltiHeadAttention)                                                  ',                            \n",
      "                                                                     'layer_normalization_12[0][0]\n",
      "                                                                    ']                            \n",
      "                                                                                                  \n",
      " add_12 (Add)                (None, 100, 256)             0         ['multi_head_attention_6[0][0]\n",
      "                                                                    ',                            \n",
      "                                                                     'add_11[0][0]']              \n",
      "                                                                                                  \n",
      " layer_normalization_13 (La  (None, 100, 256)             512       ['add_12[0][0]']              \n",
      " yerNormalization)                                                                                \n",
      "                                                                                                  \n",
      " dense_13 (Dense)            (None, 100, 512)             131584    ['layer_normalization_13[0][0]\n",
      "                                                                    ']                            \n",
      "                                                                                                  \n",
      " dropout_12 (Dropout)        (None, 100, 512)             0         ['dense_13[0][0]']            \n",
      "                                                                                                  \n",
      " dense_14 (Dense)            (None, 100, 256)             131328    ['dropout_12[0][0]']          \n",
      "                                                                                                  \n",
      " dropout_13 (Dropout)        (None, 100, 256)             0         ['dense_14[0][0]']            \n",
      "                                                                                                  \n",
      " add_13 (Add)                (None, 100, 256)             0         ['dropout_13[0][0]',          \n",
      "                                                                     'add_12[0][0]']              \n",
      "                                                                                                  \n",
      " layer_normalization_14 (La  (None, 100, 256)             512       ['add_13[0][0]']              \n",
      " yerNormalization)                                                                                \n",
      "                                                                                                  \n",
      " multi_head_attention_7 (Mu  (None, 100, 256)             1051904   ['layer_normalization_14[0][0]\n",
      " ltiHeadAttention)                                                  ',                            \n",
      "                                                                     'layer_normalization_14[0][0]\n",
      "                                                                    ']                            \n",
      "                                                                                                  \n",
      " add_14 (Add)                (None, 100, 256)             0         ['multi_head_attention_7[0][0]\n",
      "                                                                    ',                            \n",
      "                                                                     'add_13[0][0]']              \n",
      "                                                                                                  \n",
      " layer_normalization_15 (La  (None, 100, 256)             512       ['add_14[0][0]']              \n",
      " yerNormalization)                                                                                \n",
      "                                                                                                  \n",
      " dense_15 (Dense)            (None, 100, 512)             131584    ['layer_normalization_15[0][0]\n",
      "                                                                    ']                            \n",
      "                                                                                                  \n",
      " dropout_14 (Dropout)        (None, 100, 512)             0         ['dense_15[0][0]']            \n",
      "                                                                                                  \n",
      " dense_16 (Dense)            (None, 100, 256)             131328    ['dropout_14[0][0]']          \n",
      "                                                                                                  \n",
      " dropout_15 (Dropout)        (None, 100, 256)             0         ['dense_16[0][0]']            \n",
      "                                                                                                  \n",
      " add_15 (Add)                (None, 100, 256)             0         ['dropout_15[0][0]',          \n",
      "                                                                     'add_14[0][0]']              \n",
      "                                                                                                  \n",
      " layer_normalization_16 (La  (None, 100, 256)             512       ['add_15[0][0]']              \n",
      " yerNormalization)                                                                                \n",
      "                                                                                                  \n",
      "==================================================================================================\n",
      "Total params: 10578688 (40.35 MB)\n",
      "Trainable params: 10578688 (40.35 MB)\n",
      "Non-trainable params: 0 (0.00 Byte)\n",
      "__________________________________________________________________________________________________\n"
     ]
    }
   ],
   "source": [
    "vit.summary()"
   ]
  },
  {
   "cell_type": "markdown",
   "metadata": {},
   "source": [
    "### Transformer Decoder"
   ]
  },
  {
   "cell_type": "code",
   "execution_count": 19,
   "metadata": {},
   "outputs": [],
   "source": [
    "class SeqEmbedding(tf.keras.layers.Layer):\n",
    "  def __init__(self, vocab_size, max_length, depth):\n",
    "    super().__init__()\n",
    "    self.pos_embedding = tf.keras.layers.Embedding(input_dim=max_length, output_dim=depth)\n",
    "\n",
    "    self.token_embedding = tf.keras.layers.Embedding(\n",
    "        input_dim=vocab_size,\n",
    "        output_dim=depth,\n",
    "        mask_zero=True)\n",
    "\n",
    "    self.add = tf.keras.layers.Add()\n",
    "\n",
    "  def call(self, seq):\n",
    "    seq = self.token_embedding(seq) # (batch, seq, depth)\n",
    "\n",
    "    x = tf.range(tf.shape(seq)[1])  # (seq)\n",
    "    x = x[tf.newaxis, :]  # (1, seq)\n",
    "    x = self.pos_embedding(x)  # (1, seq, depth)\n",
    "\n",
    "    return self.add([seq,x])"
   ]
  },
  {
   "cell_type": "code",
   "execution_count": 20,
   "metadata": {},
   "outputs": [],
   "source": [
    "class CausalSelfAttention(tf.keras.layers.Layer):\n",
    "  def __init__(self, **kwargs):\n",
    "    super().__init__()\n",
    "    self.mha = tf.keras.layers.MultiHeadAttention(**kwargs)\n",
    "    # Use Add instead of + so the keras mask propagates through.\n",
    "    self.add = tf.keras.layers.Add() \n",
    "    self.layernorm = tf.keras.layers.LayerNormalization()\n",
    "\n",
    "  def call(self, x):\n",
    "    attn = self.mha(query=x, value=x,\n",
    "                    use_causal_mask=True)\n",
    "    x = self.add([x, attn])\n",
    "    return self.layernorm(x)"
   ]
  },
  {
   "cell_type": "code",
   "execution_count": 21,
   "metadata": {},
   "outputs": [],
   "source": [
    "class CrossAttention(tf.keras.layers.Layer):\n",
    "  def __init__(self,**kwargs):\n",
    "    super().__init__()\n",
    "    self.mha = tf.keras.layers.MultiHeadAttention(**kwargs)\n",
    "    self.add = tf.keras.layers.Add() \n",
    "    self.layernorm = tf.keras.layers.LayerNormalization()\n",
    "\n",
    "  def call(self, x, y, **kwargs):\n",
    "    attn, attention_scores = self.mha(\n",
    "             query=x, value=y,\n",
    "             return_attention_scores=True)\n",
    "\n",
    "    self.last_attention_scores = attention_scores\n",
    "\n",
    "    x = self.add([x, attn])\n",
    "    return self.layernorm(x)"
   ]
  },
  {
   "cell_type": "code",
   "execution_count": 22,
   "metadata": {},
   "outputs": [],
   "source": [
    "class FeedForward(tf.keras.layers.Layer):\n",
    "  def __init__(self, units, dropout_rate=0.5):\n",
    "    super().__init__()\n",
    "    self.seq = tf.keras.Sequential([\n",
    "        tf.keras.layers.Dense(units=2*units, activation='relu'),\n",
    "        tf.keras.layers.Dense(units=units),\n",
    "        tf.keras.layers.Dropout(rate=dropout_rate),\n",
    "    ])\n",
    "\n",
    "    self.layernorm = tf.keras.layers.LayerNormalization()\n",
    "\n",
    "  def call(self, x):\n",
    "    x = x + self.seq(x)\n",
    "    return self.layernorm(x)"
   ]
  },
  {
   "cell_type": "code",
   "execution_count": 23,
   "metadata": {},
   "outputs": [],
   "source": [
    "class DecoderLayer(tf.keras.layers.Layer):\n",
    "  def __init__(self, units, num_heads=1, dropout_rate=0.5):\n",
    "    super().__init__()\n",
    "\n",
    "    self.self_attention = CausalSelfAttention(num_heads=num_heads,\n",
    "                                              key_dim=units,\n",
    "                                              dropout=dropout_rate)\n",
    "    self.cross_attention = CrossAttention(num_heads=num_heads,\n",
    "                                          key_dim=units,\n",
    "                                          dropout=dropout_rate)\n",
    "    self.ff = FeedForward(units=units, dropout_rate=dropout_rate)\n",
    "\n",
    "\n",
    "  def call(self, inputs, training=False):\n",
    "    in_seq, out_seq = inputs\n",
    "\n",
    "    # Text input\n",
    "    out_seq = self.self_attention(out_seq)\n",
    "\n",
    "    out_seq = self.cross_attention(out_seq, in_seq)\n",
    "\n",
    "    self.last_attention_scores = self.cross_attention.last_attention_scores\n",
    "\n",
    "    out_seq = self.ff(out_seq)\n",
    "\n",
    "    return out_seq"
   ]
  },
  {
   "cell_type": "code",
   "execution_count": 24,
   "metadata": {},
   "outputs": [],
   "source": [
    "class Captioner(tf.keras.Model):\n",
    "  @classmethod\n",
    "  def add_method(cls, fun):\n",
    "    setattr(cls, fun.__name__, fun)\n",
    "    return fun\n",
    "\n",
    "  def __init__(self, tokenizer, feature_extractor, output_layer, num_layers=1,\n",
    "               units=256, max_length=max_seq_len_1, num_heads=1, dropout_rate=0.5):\n",
    "    super().__init__()\n",
    "    self.feature_extractor = feature_extractor\n",
    "    self.tokenizer = tokenizer\n",
    "    self.word_to_index = tf.keras.layers.StringLookup(\n",
    "        mask_token=\"\",\n",
    "        vocabulary=tokenizer.get_vocabulary())\n",
    "    self.index_to_word = tf.keras.layers.StringLookup(\n",
    "        mask_token=\"\",\n",
    "        vocabulary=tokenizer.get_vocabulary(),\n",
    "        invert=True) \n",
    "\n",
    "    self.seq_embedding = SeqEmbedding(\n",
    "        vocab_size=tokenizer.vocabulary_size(),\n",
    "        depth=units,\n",
    "        max_length=max_length)\n",
    "\n",
    "    self.decoder_layers = [\n",
    "        DecoderLayer(units, num_heads=num_heads, dropout_rate=dropout_rate)\n",
    "        for n in range(num_layers)]\n",
    "\n",
    "    self.output_layer = output_layer"
   ]
  },
  {
   "cell_type": "code",
   "execution_count": 25,
   "metadata": {},
   "outputs": [],
   "source": [
    "@Captioner.add_method\n",
    "def call(self, inputs):\n",
    "    image, txt = inputs\n",
    "    \n",
    "    image = self.feature_extractor(image)\n",
    "    #print(image.shape)\n",
    "    # Flatten the feature map\n",
    "    \n",
    "    #image = einops.rearrange(image, 'b h w c -> b (h w) c')\n",
    "    \n",
    "    if txt.dtype == tf.string:\n",
    "      # Apply the tokenizer if you get string inputs.\n",
    "      txt = tokenizer(txt)\n",
    "    \n",
    "    txt = self.seq_embedding(txt)\n",
    "    \n",
    "    # Look at the image\n",
    "    for dec_layer in self.decoder_layers:\n",
    "      txt = dec_layer(inputs=(image, txt))\n",
    "    \n",
    "    txt = self.output_layer(txt)\n",
    "    \n",
    "    return txt"
   ]
  },
  {
   "cell_type": "code",
   "execution_count": null,
   "metadata": {},
   "outputs": [],
   "source": [
    "import collections \n",
    "import tqdm\n",
    "class TokenOutput(tf.keras.layers.Layer):\n",
    "  def __init__(self, tokenizer, banned_tokens=('', '[UNK]'), **kwargs):\n",
    "    super().__init__()\n",
    "\n",
    "    self.dense = tf.keras.layers.Dense(\n",
    "        units=tokenizer.vocabulary_size(), **kwargs)\n",
    "    self.tokenizer = tokenizer\n",
    "    self.banned_tokens = banned_tokens\n",
    "\n",
    "    self.bias = None\n",
    "\n",
    "  def adapt(self, ds):\n",
    "    counts = collections.Counter()\n",
    "    vocab_dict = {name: id \n",
    "                  for id, name in enumerate(self.tokenizer.get_vocabulary())}\n",
    "\n",
    "    for tokens in ds:\n",
    "      counts.update(tokens.flatten())\n",
    "\n",
    "    counts_arr = np.zeros(shape=(self.tokenizer.vocabulary_size(),))\n",
    "    counts_arr[np.array(list(counts.keys()), dtype=np.int32)] = list(counts.values())\n",
    "\n",
    "    counts_arr = counts_arr[:]\n",
    "    for token in self.banned_tokens:\n",
    "      counts_arr[vocab_dict[token]] = 0\n",
    "\n",
    "    total = counts_arr.sum()\n",
    "    p = counts_arr/total\n",
    "    p[counts_arr==0] = 1.0\n",
    "    log_p = np.log(p)  # log(1) == 0\n",
    "\n",
    "    entropy = -(log_p*p).sum()\n",
    "\n",
    "    print()\n",
    "    print(f\"Uniform entropy: {np.log(self.tokenizer.vocabulary_size()):0.2f}\")\n",
    "    print(f\"Marginal entropy: {entropy:0.2f}\")\n",
    "\n",
    "    self.bias = log_p\n",
    "    self.bias[counts_arr==0] = -1e9\n",
    "\n",
    "  def call(self, x):\n",
    "    x = self.dense(x)\n",
    "    x + self.bias\n",
    "    # TODO(b/250038731): Fix this.\n",
    "    # An Add layer doesn't work because of the different shapes.\n",
    "    # This clears the mask, that's okay because it prevents keras from rescaling\n",
    "    # the losses.\n",
    "    return tf.keras.layers.Softmax()(x)"
   ]
  },
  {
   "cell_type": "code",
   "execution_count": 27,
   "metadata": {},
   "outputs": [
    {
     "name": "stdout",
     "output_type": "stream",
     "text": [
      "\n",
      "Uniform entropy: 5.02\n",
      "Marginal entropy: 3.75\n"
     ]
    }
   ],
   "source": [
    "output_layer = TokenOutput(tokenizer, banned_tokens=('', '[UNK]'))\n",
    "# This might run a little faster if the dataset didn't also have to load the image data.\n",
    "output_layer.adapt(train_sequences)"
   ]
  },
  {
   "cell_type": "code",
   "execution_count": 28,
   "metadata": {},
   "outputs": [],
   "source": [
    "transformer_model = Captioner(tokenizer, feature_extractor=vision_transformer_encoder(IMG_SHAPE), output_layer=output_layer,\n",
    "                  units=EMBEDDING_DIM, dropout_rate=0.5, num_layers=4, num_heads=8, max_length = max_seq_len_1)"
   ]
  },
  {
   "cell_type": "code",
   "execution_count": 29,
   "metadata": {},
   "outputs": [],
   "source": [
    "# transformer_model = tf.keras.models.load_model('transformer_model.keras')"
   ]
  },
  {
   "cell_type": "code",
   "execution_count": 30,
   "metadata": {},
   "outputs": [],
   "source": [
    "@Captioner.add_method\n",
    "def simple_gen(self, image, temperature=0):\n",
    "  initial = self.word_to_index([['[START]']]) # (batch, sequence)\n",
    "  #img_features = self.feature_extractor(image[tf.newaxis, ...])\n",
    "\n",
    "  tokens = initial # (batch, sequence)\n",
    "  for n in range(max_seq_len_1):\n",
    "    preds = self((image[tf.newaxis, ...], tokens)).numpy()  # (batch, sequence, vocab)\n",
    "    preds = preds[:,-1, :]  #(batch, vocab)\n",
    "    if temperature==0:\n",
    "        next = tf.argmax(preds, axis=-1)[:, tf.newaxis]  # (batch, 1)\n",
    "    else:\n",
    "        next = tf.random.categorical(preds/temperature, num_samples=1)  # (batch, 1)\n",
    "    tokens = tf.concat([tokens, next], axis=1) # (batch, sequence) \n",
    "\n",
    "    if next[0] == self.word_to_index('[END]'):\n",
    "      break\n",
    "  words = self.index_to_word(tokens[0, 1:-1])\n",
    "  result = tf.strings.reduce_join(words, axis=-1, separator=' ')\n",
    "  return result.numpy().decode()"
   ]
  },
  {
   "cell_type": "code",
   "execution_count": 31,
   "metadata": {},
   "outputs": [
    {
     "name": "stdout",
     "output_type": "stream",
     "text": [
      "(50, 200, 1)\n"
     ]
    },
    {
     "name": "stderr",
     "output_type": "stream",
     "text": [
      "2024-12-04 02:22:31.543323: I tensorflow/compiler/xla/stream_executor/cuda/cuda_blas.cc:606] TensorFloat-32 will be used for the matrix multiplication. This will only be logged once.\n",
      "2024-12-04 02:22:31.930548: I tensorflow/compiler/xla/stream_executor/cuda/cuda_dnn.cc:432] Loaded cuDNN version 8700\n"
     ]
    },
    {
     "name": "stdout",
     "output_type": "stream",
     "text": [
      "z \\pi \\\\ k k D \\Lambda ] - \\zeta \\rightarrow \\\\ m 3 k D \\Lambda r ] ( \\omega , [ ] \\end{array} \\; D D \\Lambda \\overline \\gamma \\Omega \\beta \\mu \\partial \\varepsilon , [ \\vec S S \\gamma \\zeta \\Omega \\gamma \\quad ] ( S 8 \\rightarrow ] \\, k D \\right] \\zeta S b \\zeta \\kappa z \\Phi m \\zeta \\; \\\\ ] ] S ] \\gamma [ \\begin{array} [ N S 5 ] \\qquad ( \\lambda 2 \\, } ( S Z \\Omega  k t \\rho f [ \\begin{array} S D D D 5 ; b S \\operatorname f [ ] ( F / \\ D D \\partial ; L [ ; ( ; k [ \\right) ] S 8 \\left[ \\rightarrow ] ] \\gamma \\zeta f [ \\begin{array} ] \\vec y ( S D \\Lambda \\sigma 8 \\rightarrow n P [ D\n"
     ]
    }
   ],
   "source": [
    "print(img.shape)\n",
    "result = transformer_model.simple_gen(img, temperature=0)\n",
    "print(result)"
   ]
  },
  {
   "cell_type": "code",
   "execution_count": 32,
   "metadata": {},
   "outputs": [],
   "source": [
    "def masked_loss(labels, preds):  \n",
    "  loss = tf.nn.sparse_softmax_cross_entropy_with_logits(labels, preds)\n",
    "\n",
    "  mask = (labels != 0) & (loss < 1e8) \n",
    "  mask = tf.cast(mask, loss.dtype)\n",
    "\n",
    "  loss = loss*mask\n",
    "  loss = tf.reduce_sum(loss)/tf.reduce_sum(mask)\n",
    "  return loss\n",
    "\n",
    "def masked_acc(labels, preds):\n",
    "  mask = tf.cast(labels!=0, tf.float32)\n",
    "  preds = tf.argmax(preds, axis=-1)\n",
    "  labels = tf.cast(labels, tf.int64)\n",
    "  match = tf.cast(preds == labels, mask.dtype)\n",
    "  acc = tf.reduce_sum(match*mask)/tf.reduce_sum(mask)\n",
    "  return acc"
   ]
  },
  {
   "cell_type": "code",
   "execution_count": 33,
   "metadata": {},
   "outputs": [],
   "source": [
    "class GenerateText(tf.keras.callbacks.Callback):\n",
    "  def __init__(self):\n",
    "    self.image = img\n",
    "\n",
    "  def on_epoch_end(self, epochs=None, logs=None):\n",
    "    print()\n",
    "    print()\n",
    "    result = self.model.simple_gen(self.image, temperature=0)\n",
    "    print(result)\n",
    "    print()"
   ]
  },
  {
   "cell_type": "code",
   "execution_count": 34,
   "metadata": {},
   "outputs": [
    {
     "name": "stdout",
     "output_type": "stream",
     "text": [
      "\n",
      "\n",
      "z \\pi \\\\ k k D \\Lambda ] - \\zeta \\rightarrow \\\\ m 3 k D \\Lambda r ] ( \\omega , [ ] \\end{array} \\; D D \\Lambda \\overline \\gamma \\Omega \\beta \\mu \\partial \\varepsilon , [ \\vec S S \\gamma \\zeta \\Omega \\gamma \\quad ] ( S 8 \\rightarrow ] \\, k D \\right] \\zeta S b \\zeta \\kappa z \\Phi m \\zeta \\; \\\\ ] ] S ] \\gamma [ \\begin{array} [ N S 5 ] \\qquad ( \\lambda 2 \\, } ( S Z \\Omega  k t \\rho f [ \\begin{array} S D D D 5 ; b S \\operatorname f [ ] ( F / \\ D D \\partial ; L [ ; ( ; k [ \\right) ] S 8 \\left[ \\rightarrow ] ] \\gamma \\zeta f [ \\begin{array} ] \\vec y ( S D \\Lambda \\sigma 8 \\rightarrow n P [ D\n",
      "\n"
     ]
    }
   ],
   "source": [
    "g = GenerateText()\n",
    "g.model = transformer_model\n",
    "g.on_epoch_end(0)"
   ]
  },
  {
   "cell_type": "code",
   "execution_count": 35,
   "metadata": {},
   "outputs": [],
   "source": [
    "checkpoint_filepath = 'transformer_model'\n",
    "model_checkpoint_callback = tf.keras.callbacks.ModelCheckpoint(\n",
    "    filepath=checkpoint_filepath,\n",
    "    save_weights_only=True,\n",
    "    monitor='val_loss',  # Save the model with the best validation loss\n",
    "    mode='min',\n",
    "    save_best_only=True,\n",
    "    save_format='tf'\n",
    ")\n",
    "\n",
    "callbacks = [\n",
    "    model_checkpoint_callback,\n",
    "    tf.keras.callbacks.EarlyStopping(\n",
    "        patience=10, restore_best_weights=True, monitor='val_loss')]\n"
   ]
  },
  {
   "cell_type": "code",
   "execution_count": 36,
   "metadata": {},
   "outputs": [],
   "source": [
    "# transformer_model.load_weights(checkpoint_filepath)"
   ]
  },
  {
   "cell_type": "code",
   "execution_count": 37,
   "metadata": {},
   "outputs": [],
   "source": [
    "learning_rate = tf.keras.optimizers.schedules.PolynomialDecay(1e-4, 4000, 1e-6)\n",
    "optimizer = tf.keras.optimizers.AdamW(learning_rate=1e-4, weight_decay=0.0001)\n",
    "\n",
    "transformer_model.compile(optimizer=optimizer,\n",
    "           loss='sparse_categorical_crossentropy',\n",
    "           metrics=['accuracy'])"
   ]
  },
  {
   "cell_type": "code",
   "execution_count": 38,
   "metadata": {},
   "outputs": [
    {
     "name": "stdout",
     "output_type": "stream",
     "text": [
      "Model: \"captioner\"\n",
      "_________________________________________________________________\n",
      " Layer (type)                Output Shape              Param #   \n",
      "=================================================================\n",
      " model_1 (Functional)        (None, 100, 256)          10578688  \n",
      "                                                                 \n",
      " text_vectorization (TextVe  multiple                  0         \n",
      " ctorization)                                                    \n",
      "                                                                 \n",
      " string_lookup_1 (StringLoo  multiple                  0         \n",
      " kup)                                                            \n",
      "                                                                 \n",
      " string_lookup_2 (StringLoo  multiple                  0         \n",
      " kup)                                                            \n",
      "                                                                 \n",
      " seq_embedding (SeqEmbeddin  multiple                  77568     \n",
      " g)                                                              \n",
      "                                                                 \n",
      " decoder_layer (DecoderLaye  multiple                  4471552   \n",
      " r)                                                              \n",
      "                                                                 \n",
      " decoder_layer_1 (DecoderLa  multiple                  4471552   \n",
      " yer)                                                            \n",
      "                                                                 \n",
      " decoder_layer_2 (DecoderLa  multiple                  4471552   \n",
      " yer)                                                            \n",
      "                                                                 \n",
      " decoder_layer_3 (DecoderLa  multiple                  4471552   \n",
      " yer)                                                            \n",
      "                                                                 \n",
      " token_output (TokenOutput)  multiple                  39064     \n",
      "                                                                 \n",
      "=================================================================\n",
      "Total params: 28581528 (109.03 MB)\n",
      "Trainable params: 28581528 (109.03 MB)\n",
      "Non-trainable params: 0 (0.00 Byte)\n",
      "_________________________________________________________________\n"
     ]
    }
   ],
   "source": [
    "transformer_model.summary()"
   ]
  },
  {
   "cell_type": "code",
   "execution_count": 39,
   "metadata": {},
   "outputs": [
    {
     "name": "stdout",
     "output_type": "stream",
     "text": [
      "(50000, 50, 200, 1)\n",
      "(50000, 152)\n"
     ]
    }
   ],
   "source": [
    "print(train_images.shape)\n",
    "print(train_sequences.shape)"
   ]
  },
  {
   "cell_type": "code",
   "execution_count": 40,
   "metadata": {},
   "outputs": [],
   "source": [
    "# dataset = tf.data.Dataset.from_tensor_slices(([train_images, input_labels], output_labels))\n",
    "# dataset = dataset.batch(32)"
   ]
  },
  {
   "cell_type": "code",
   "execution_count": 41,
   "metadata": {},
   "outputs": [
    {
     "name": "stderr",
     "output_type": "stream",
     "text": [
      "2024-12-04 02:23:37.803176: W tensorflow/tsl/framework/cpu_allocator_impl.cc:83] Allocation of 1600000000 exceeds 10% of free system memory.\n"
     ]
    },
    {
     "name": "stdout",
     "output_type": "stream",
     "text": [
      "Epoch 1/10000\n"
     ]
    },
    {
     "name": "stderr",
     "output_type": "stream",
     "text": [
      "2024-12-04 02:23:51.523926: I tensorflow/compiler/xla/service/service.cc:168] XLA service 0x7f1c342688a0 initialized for platform CUDA (this does not guarantee that XLA will be used). Devices:\n",
      "2024-12-04 02:23:51.523949: I tensorflow/compiler/xla/service/service.cc:176]   StreamExecutor device (0): NVIDIA L4, Compute Capability 8.9\n",
      "2024-12-04 02:23:51.575863: I tensorflow/compiler/mlir/tensorflow/utils/dump_mlir_util.cc:255] disabling MLIR crash reproducer, set env var `MLIR_CRASH_REPRODUCER_DIRECTORY` to enable.\n",
      "2024-12-04 02:23:51.985751: I ./tensorflow/compiler/jit/device_compiler.h:186] Compiled cluster using XLA!  This line is logged at most once for the lifetime of the process.\n"
     ]
    },
    {
     "name": "stdout",
     "output_type": "stream",
     "text": [
      "625/625 [==============================] - 246s 349ms/step - loss: 1.1664 - accuracy: 0.7545 - val_loss: 1.0599 - val_accuracy: 0.7742\n",
      "Epoch 2/10000\n",
      "625/625 [==============================] - 223s 356ms/step - loss: 0.9639 - accuracy: 0.7851 - val_loss: 0.9035 - val_accuracy: 0.7986\n",
      "Epoch 3/10000\n",
      "625/625 [==============================] - 226s 361ms/step - loss: 0.8808 - accuracy: 0.7979 - val_loss: 0.8538 - val_accuracy: 0.8038\n",
      "Epoch 4/10000\n",
      "625/625 [==============================] - 226s 362ms/step - loss: 0.8267 - accuracy: 0.8063 - val_loss: 0.8211 - val_accuracy: 0.8086\n",
      "Epoch 5/10000\n",
      "625/625 [==============================] - 226s 361ms/step - loss: 0.7876 - accuracy: 0.8128 - val_loss: 0.7944 - val_accuracy: 0.8124\n",
      "Epoch 6/10000\n",
      "625/625 [==============================] - 226s 361ms/step - loss: 0.7575 - accuracy: 0.8181 - val_loss: 0.7651 - val_accuracy: 0.8168\n",
      "Epoch 7/10000\n",
      "625/625 [==============================] - 225s 361ms/step - loss: 0.7343 - accuracy: 0.8224 - val_loss: 0.7421 - val_accuracy: 0.8207\n",
      "Epoch 8/10000\n",
      "625/625 [==============================] - 225s 360ms/step - loss: 0.7157 - accuracy: 0.8259 - val_loss: 0.7302 - val_accuracy: 0.8240\n",
      "Epoch 9/10000\n",
      "625/625 [==============================] - 225s 360ms/step - loss: 0.6995 - accuracy: 0.8290 - val_loss: 0.7291 - val_accuracy: 0.8242\n",
      "Epoch 10/10000\n",
      "625/625 [==============================] - 225s 360ms/step - loss: 0.6851 - accuracy: 0.8318 - val_loss: 0.7044 - val_accuracy: 0.8293\n",
      "Epoch 11/10000\n",
      "625/625 [==============================] - 225s 360ms/step - loss: 0.6725 - accuracy: 0.8343 - val_loss: 0.6962 - val_accuracy: 0.8311\n",
      "Epoch 12/10000\n",
      "625/625 [==============================] - 225s 360ms/step - loss: 0.6605 - accuracy: 0.8368 - val_loss: 0.6738 - val_accuracy: 0.8356\n",
      "Epoch 13/10000\n",
      "625/625 [==============================] - 225s 360ms/step - loss: 0.6498 - accuracy: 0.8390 - val_loss: 0.6631 - val_accuracy: 0.8376\n",
      "Epoch 14/10000\n",
      "625/625 [==============================] - 225s 361ms/step - loss: 0.6396 - accuracy: 0.8411 - val_loss: 0.6590 - val_accuracy: 0.8393\n",
      "Epoch 15/10000\n",
      "625/625 [==============================] - 225s 361ms/step - loss: 0.6298 - accuracy: 0.8430 - val_loss: 0.6439 - val_accuracy: 0.8425\n",
      "Epoch 16/10000\n",
      "625/625 [==============================] - 226s 361ms/step - loss: 0.6208 - accuracy: 0.8448 - val_loss: 0.6283 - val_accuracy: 0.8457\n",
      "Epoch 17/10000\n",
      "625/625 [==============================] - 225s 360ms/step - loss: 0.6121 - accuracy: 0.8467 - val_loss: 0.6226 - val_accuracy: 0.8466\n",
      "Epoch 18/10000\n",
      "625/625 [==============================] - 225s 361ms/step - loss: 0.6038 - accuracy: 0.8483 - val_loss: 0.6119 - val_accuracy: 0.8493\n",
      "Epoch 19/10000\n",
      "625/625 [==============================] - 225s 361ms/step - loss: 0.5946 - accuracy: 0.8502 - val_loss: 0.6032 - val_accuracy: 0.8510\n",
      "Epoch 20/10000\n",
      "625/625 [==============================] - 225s 360ms/step - loss: 0.5861 - accuracy: 0.8519 - val_loss: 0.5956 - val_accuracy: 0.8527\n",
      "Epoch 21/10000\n",
      "625/625 [==============================] - 225s 360ms/step - loss: 0.5777 - accuracy: 0.8537 - val_loss: 0.5883 - val_accuracy: 0.8541\n",
      "Epoch 22/10000\n",
      "625/625 [==============================] - 225s 360ms/step - loss: 0.5699 - accuracy: 0.8552 - val_loss: 0.5856 - val_accuracy: 0.8549\n",
      "Epoch 23/10000\n",
      "625/625 [==============================] - 225s 359ms/step - loss: 0.5622 - accuracy: 0.8568 - val_loss: 0.5807 - val_accuracy: 0.8557\n",
      "Epoch 24/10000\n",
      "625/625 [==============================] - 225s 360ms/step - loss: 0.5547 - accuracy: 0.8585 - val_loss: 0.5744 - val_accuracy: 0.8573\n",
      "Epoch 25/10000\n",
      "625/625 [==============================] - 225s 361ms/step - loss: 0.5472 - accuracy: 0.8601 - val_loss: 0.5664 - val_accuracy: 0.8588\n",
      "Epoch 26/10000\n",
      "625/625 [==============================] - 226s 361ms/step - loss: 0.5403 - accuracy: 0.8615 - val_loss: 0.5623 - val_accuracy: 0.8597\n",
      "Epoch 27/10000\n",
      "625/625 [==============================] - 226s 361ms/step - loss: 0.5339 - accuracy: 0.8627 - val_loss: 0.5588 - val_accuracy: 0.8606\n",
      "Epoch 28/10000\n",
      "625/625 [==============================] - 226s 362ms/step - loss: 0.5270 - accuracy: 0.8643 - val_loss: 0.5530 - val_accuracy: 0.8620\n",
      "Epoch 29/10000\n",
      "625/625 [==============================] - 226s 361ms/step - loss: 0.5206 - accuracy: 0.8656 - val_loss: 0.5495 - val_accuracy: 0.8629\n",
      "Epoch 30/10000\n",
      "625/625 [==============================] - 226s 361ms/step - loss: 0.5141 - accuracy: 0.8670 - val_loss: 0.5477 - val_accuracy: 0.8631\n",
      "Epoch 31/10000\n",
      "625/625 [==============================] - 225s 360ms/step - loss: 0.5076 - accuracy: 0.8684 - val_loss: 0.5416 - val_accuracy: 0.8643\n",
      "Epoch 32/10000\n",
      "625/625 [==============================] - 225s 361ms/step - loss: 0.5010 - accuracy: 0.8698 - val_loss: 0.5391 - val_accuracy: 0.8654\n",
      "Epoch 33/10000\n",
      "625/625 [==============================] - 226s 361ms/step - loss: 0.4946 - accuracy: 0.8710 - val_loss: 0.5387 - val_accuracy: 0.8655\n",
      "Epoch 34/10000\n",
      "625/625 [==============================] - 223s 357ms/step - loss: 0.4887 - accuracy: 0.8722 - val_loss: 0.5394 - val_accuracy: 0.8653\n",
      "Epoch 35/10000\n",
      "625/625 [==============================] - 226s 362ms/step - loss: 0.4823 - accuracy: 0.8738 - val_loss: 0.5343 - val_accuracy: 0.8668\n",
      "Epoch 36/10000\n",
      "625/625 [==============================] - 226s 362ms/step - loss: 0.4767 - accuracy: 0.8748 - val_loss: 0.5305 - val_accuracy: 0.8674\n",
      "Epoch 37/10000\n",
      "625/625 [==============================] - 226s 362ms/step - loss: 0.4707 - accuracy: 0.8762 - val_loss: 0.5265 - val_accuracy: 0.8684\n",
      "Epoch 38/10000\n",
      "625/625 [==============================] - 225s 360ms/step - loss: 0.4651 - accuracy: 0.8772 - val_loss: 0.5250 - val_accuracy: 0.8690\n",
      "Epoch 39/10000\n",
      "625/625 [==============================] - 223s 357ms/step - loss: 0.4599 - accuracy: 0.8783 - val_loss: 0.5296 - val_accuracy: 0.8683\n",
      "Epoch 40/10000\n",
      "625/625 [==============================] - 226s 362ms/step - loss: 0.4543 - accuracy: 0.8794 - val_loss: 0.5218 - val_accuracy: 0.8698\n",
      "Epoch 41/10000\n",
      "625/625 [==============================] - 223s 357ms/step - loss: 0.4486 - accuracy: 0.8807 - val_loss: 0.5226 - val_accuracy: 0.8699\n",
      "Epoch 42/10000\n",
      "625/625 [==============================] - 225s 361ms/step - loss: 0.4439 - accuracy: 0.8817 - val_loss: 0.5210 - val_accuracy: 0.8702\n",
      "Epoch 43/10000\n",
      "625/625 [==============================] - 226s 362ms/step - loss: 0.4385 - accuracy: 0.8829 - val_loss: 0.5185 - val_accuracy: 0.8706\n",
      "Epoch 44/10000\n",
      "625/625 [==============================] - 223s 358ms/step - loss: 0.4334 - accuracy: 0.8839 - val_loss: 0.5210 - val_accuracy: 0.8707\n",
      "Epoch 45/10000\n",
      "625/625 [==============================] - 223s 357ms/step - loss: 0.4289 - accuracy: 0.8848 - val_loss: 0.5212 - val_accuracy: 0.8708\n",
      "Epoch 46/10000\n",
      "625/625 [==============================] - 223s 357ms/step - loss: 0.4233 - accuracy: 0.8860 - val_loss: 0.5205 - val_accuracy: 0.8705\n",
      "Epoch 47/10000\n",
      "625/625 [==============================] - 223s 357ms/step - loss: 0.4192 - accuracy: 0.8869 - val_loss: 0.5229 - val_accuracy: 0.8707\n",
      "Epoch 48/10000\n",
      "625/625 [==============================] - 223s 357ms/step - loss: 0.4143 - accuracy: 0.8878 - val_loss: 0.5211 - val_accuracy: 0.8711\n",
      "Epoch 49/10000\n",
      "625/625 [==============================] - 225s 360ms/step - loss: 0.4096 - accuracy: 0.8888 - val_loss: 0.5183 - val_accuracy: 0.8720\n",
      "Epoch 50/10000\n",
      "625/625 [==============================] - 222s 356ms/step - loss: 0.4052 - accuracy: 0.8897 - val_loss: 0.5199 - val_accuracy: 0.8716\n",
      "Epoch 51/10000\n",
      "625/625 [==============================] - 223s 357ms/step - loss: 0.4003 - accuracy: 0.8908 - val_loss: 0.5225 - val_accuracy: 0.8716\n",
      "Epoch 52/10000\n",
      "625/625 [==============================] - 224s 358ms/step - loss: 0.3966 - accuracy: 0.8915 - val_loss: 0.5236 - val_accuracy: 0.8715\n",
      "Epoch 53/10000\n",
      "625/625 [==============================] - 223s 357ms/step - loss: 0.3923 - accuracy: 0.8926 - val_loss: 0.5247 - val_accuracy: 0.8712\n",
      "Epoch 54/10000\n",
      "625/625 [==============================] - 223s 357ms/step - loss: 0.3874 - accuracy: 0.8936 - val_loss: 0.5236 - val_accuracy: 0.8717\n",
      "Epoch 55/10000\n",
      "625/625 [==============================] - 223s 357ms/step - loss: 0.3832 - accuracy: 0.8944 - val_loss: 0.5260 - val_accuracy: 0.8716\n",
      "Epoch 56/10000\n",
      "625/625 [==============================] - 223s 358ms/step - loss: 0.3793 - accuracy: 0.8953 - val_loss: 0.5299 - val_accuracy: 0.8710\n",
      "Epoch 57/10000\n",
      "625/625 [==============================] - 223s 357ms/step - loss: 0.3749 - accuracy: 0.8961 - val_loss: 0.5282 - val_accuracy: 0.8717\n",
      "Epoch 58/10000\n",
      "625/625 [==============================] - 223s 357ms/step - loss: 0.3715 - accuracy: 0.8969 - val_loss: 0.5307 - val_accuracy: 0.8710\n",
      "Epoch 59/10000\n",
      "625/625 [==============================] - 223s 356ms/step - loss: 0.3670 - accuracy: 0.8978 - val_loss: 0.5311 - val_accuracy: 0.8713\n"
     ]
    }
   ],
   "source": [
    "with tf.device('/GPU:0'):\n",
    "    history = transformer_model.fit([train_images, train_sequences[:, :-1]],\n",
    "                  train_sequences[:, 1:],\n",
    "                  epochs=10000,\n",
    "                  batch_size=64,\n",
    "                  validation_split=0.2, callbacks=callbacks)"
   ]
  },
  {
   "cell_type": "code",
   "execution_count": 67,
   "metadata": {},
   "outputs": [
    {
     "data": {
      "image/png": "[encoded data removed]",
      "text/plain": [
       "<Figure size 640x480 with 1 Axes>"
      ]
     },
     "metadata": {},
     "output_type": "display_data"
    }
   ],
   "source": [
    "plt.plot(history.history['loss'])\n",
    "plt.plot(history.history['val_loss'])\n",
    "plt.title('Transformer model loss')\n",
    "plt.ylabel('Loss')\n",
    "plt.xlabel('Epoch')\n",
    "plt.legend(['Train', 'Validation'], loc='upper right')\n",
    "plt.show()"
   ]
  },
  {
   "cell_type": "code",
   "execution_count": 68,
   "metadata": {},
   "outputs": [
    {
     "data": {
      "image/png": "[encoded data removed]",
      "text/plain": [
       "<Figure size 640x480 with 1 Axes>"
      ]
     },
     "metadata": {},
     "output_type": "display_data"
    }
   ],
   "source": [
    "plt.plot(history.history['accuracy'])\n",
    "plt.plot(history.history['val_accuracy'])\n",
    "plt.title('Transformer model accuracy')\n",
    "plt.ylabel('Accuracy')\n",
    "plt.xlabel('Epoch')\n",
    "plt.legend(['Train', 'Validation'], loc='upper right')\n",
    "plt.show()"
   ]
  },
  {
   "cell_type": "code",
   "execution_count": 85,
   "metadata": {},
   "outputs": [
    {
     "name": "stdout",
     "output_type": "stream",
     "text": [
      "WARNING:tensorflow:Model's `__init__()` arguments contain non-serializable objects. Please implement a `get_config()` method in the subclassed Model for proper saving and loading. Defaulting to empty config.\n",
      "WARNING:tensorflow:Model's `__init__()` arguments contain non-serializable objects. Please implement a `get_config()` method in the subclassed Model for proper saving and loading. Defaulting to empty config.\n",
      "WARNING:tensorflow:Model's `__init__()` arguments contain non-serializable objects. Please implement a `get_config()` method in the subclassed Model for proper saving and loading. Defaulting to empty config.\n"
     ]
    }
   ],
   "source": [
    "transformer_model.save('transformer_model.keras')"
   ]
  },
  {
   "cell_type": "markdown",
   "metadata": {},
   "source": [
    "## CNN/RNN model"
   ]
  },
  {
   "cell_type": "code",
   "execution_count": 48,
   "metadata": {},
   "outputs": [],
   "source": [
    "lstm_units = 256"
   ]
  },
  {
   "cell_type": "code",
   "execution_count": 49,
   "metadata": {
    "id": "eSQExklGAAI7"
   },
   "outputs": [],
   "source": [
    "def build_cnn_encoder(input_shape):\n",
    "    inputs = Input(shape=input_shape)\n",
    "    x = Conv2D(32, (3, 3), activation='relu', padding='same')(inputs)\n",
    "    x = MaxPooling2D((2, 2))(x)\n",
    "    x = Conv2D(64, (3, 3), activation='relu', padding='same')(x)\n",
    "    x = MaxPooling2D((2, 2))(x)\n",
    "    x = Conv2D(128, (3, 3), activation='relu', padding='same')(x)\n",
    "    x = MaxPooling2D((2, 2))(x)\n",
    "    x = Flatten()(x)\n",
    "    x = Dense(EMBEDDING_DIM, activation='relu')(x)\n",
    "    return Model(inputs, x)"
   ]
  },
  {
   "cell_type": "code",
   "execution_count": 50,
   "metadata": {
    "id": "md8Xz7JzAAI7"
   },
   "outputs": [],
   "source": [
    "def build_rnn_encoder(decoder_input, encoder_output, target_vocab_size, max_seq_len_1):\n",
    "\n",
    "    embedding_layer = Embedding(input_dim=target_vocab_size, output_dim=EMBEDDING_DIM, input_length=max_seq_len_1)\n",
    "    embedded_seq = embedding_layer(decoder_input)\n",
    "\n",
    "    decoder_lstm_input = tf.keras.layers.Concatenate(axis=-1)([encoder_output, embedded_seq])\n",
    "    decoder_lstm = LSTM(lstm_units, return_sequences=True)(decoder_lstm_input)\n",
    "    decoder_output = TimeDistributed(Dense(target_vocab_size, activation='softmax'))(decoder_lstm)\n",
    "\n",
    "    return Model(inputs=[decoder_input, encoder_output], outputs= decoder_output)"
   ]
  },
  {
   "cell_type": "code",
   "execution_count": 51,
   "metadata": {
    "id": "xWJwvgriAAI7"
   },
   "outputs": [],
   "source": [
    "def build_model(input_shape, target_vocab_size, max_seq_len_1):\n",
    "    encoder = build_cnn_encoder(input_shape)\n",
    "    image_input = Input(shape=input_shape, name=\"image_input\")\n",
    "\n",
    "    encoder_output = encoder(image_input)\n",
    "    encoder_output = RepeatVector(max_seq_len_1)(encoder_output)  # Repeat encoder output for each time step\n",
    "\n",
    "    decoder_input = Input(shape=(max_seq_len_1,), name=\"decoder_input\")\n",
    "    decoder = build_rnn_encoder(decoder_input, encoder_output, target_vocab_size, max_seq_len_1)\n",
    "    decoder_output = decoder([decoder_input, encoder_output])\n",
    "    return Model(inputs=[image_input, decoder_input], outputs=decoder_output)"
   ]
  },
  {
   "cell_type": "code",
   "execution_count": 52,
   "metadata": {
    "id": "DeU4cNTsAAI7"
   },
   "outputs": [],
   "source": [
    "model = build_model([50, 200, 1], tokenizer.vocabulary_size(), 151)\n",
    "#transformer_model = Transformer(tokenizer, output_layer=output_layer, units=128, dropout_rate=0.5, num_layers=2, num_heads=2)"
   ]
  },
  {
   "cell_type": "code",
   "execution_count": 53,
   "metadata": {},
   "outputs": [
    {
     "data": {
      "text/plain": [
       "<tensorflow.python.checkpoint.checkpoint.CheckpointLoadStatus at 0x7f160de272b0>"
      ]
     },
     "execution_count": 53,
     "metadata": {},
     "output_type": "execute_result"
    }
   ],
   "source": [
    "model.load_weights('baseline_weights')"
   ]
  },
  {
   "cell_type": "code",
   "execution_count": 16,
   "metadata": {
    "id": "ba5W_OZFAAI8"
   },
   "outputs": [
    {
     "name": "stdout",
     "output_type": "stream",
     "text": [
      "Model: \"model_2\"\n",
      "__________________________________________________________________________________________________\n",
      " Layer (type)                Output Shape                 Param #   Connected to                  \n",
      "==================================================================================================\n",
      " image_input (InputLayer)    [(None, 50, 200, 1)]         0         []                            \n",
      "                                                                                                  \n",
      " model (Functional)          (None, 256)                  5008128   ['image_input[0][0]']         \n",
      "                                                                                                  \n",
      " decoder_input (InputLayer)  [(None, 151)]                0         []                            \n",
      "                                                                                                  \n",
      " repeat_vector (RepeatVecto  (None, 151, 256)             0         ['model[0][0]']               \n",
      " r)                                                                                               \n",
      "                                                                                                  \n",
      " model_1 (Functional)        (None, 151, 152)             865432    ['decoder_input[0][0]',       \n",
      "                                                                     'repeat_vector[0][0]']       \n",
      "                                                                                                  \n",
      "==================================================================================================\n",
      "Total params: 5873560 (22.41 MB)\n",
      "Trainable params: 5873560 (22.41 MB)\n",
      "Non-trainable params: 0 (0.00 Byte)\n",
      "__________________________________________________________________________________________________\n"
     ]
    }
   ],
   "source": [
    "model.summary()"
   ]
  },
  {
   "cell_type": "code",
   "execution_count": 17,
   "metadata": {},
   "outputs": [],
   "source": [
    "# model = tf.keras.models.load_model('baseline.keras')"
   ]
  },
  {
   "cell_type": "code",
   "execution_count": 18,
   "metadata": {
    "id": "eDbtc_4eAAI8"
   },
   "outputs": [],
   "source": [
    "model.compile(optimizer='adam', loss='sparse_categorical_crossentropy', metrics=['accuracy'])\n",
    "#tf.keras.optimizers.AdamW(learning_rate=learning_rate, weight_decay=weight_decay)\n",
    "early_stopping = tf.keras.callbacks.EarlyStopping(\n",
    "    monitor='val_loss',  # Metric to monitor\n",
    "    patience=10,          # Number of epochs with no improvement after which training will be stopped\n",
    "    restore_best_weights=True  # Restore model weights from the epoch with the best value of the monitored metric\n",
    ")"
   ]
  },
  {
   "cell_type": "code",
   "execution_count": 19,
   "metadata": {
    "id": "FZZrLb4DAAI8"
   },
   "outputs": [
    {
     "name": "stdout",
     "output_type": "stream",
     "text": [
      "(50000, 151)\n",
      "(50000, 151)\n",
      "(50000, 152)\n"
     ]
    }
   ],
   "source": [
    "print(train_sequences[:, :-1].shape)\n",
    "print(train_sequences[:, 1:].shape)\n",
    "print(train_sequences.shape)\n",
    "# print(train_sequences[0])"
   ]
  },
  {
   "cell_type": "code",
   "execution_count": 20,
   "metadata": {
    "id": "lzmbXT3WAAI8"
   },
   "outputs": [
    {
     "name": "stderr",
     "output_type": "stream",
     "text": [
      "2024-12-04 01:45:53.618905: W tensorflow/tsl/framework/cpu_allocator_impl.cc:83] Allocation of 1600000000 exceeds 10% of free system memory.\n"
     ]
    },
    {
     "name": "stdout",
     "output_type": "stream",
     "text": [
      "Epoch 1/100\n"
     ]
    },
    {
     "name": "stderr",
     "output_type": "stream",
     "text": [
      "2024-12-04 01:45:55.613424: I tensorflow/compiler/xla/stream_executor/cuda/cuda_dnn.cc:432] Loaded cuDNN version 8700\n",
      "2024-12-04 01:45:56.489211: I tensorflow/compiler/xla/stream_executor/cuda/cuda_blas.cc:606] TensorFloat-32 will be used for the matrix multiplication. This will only be logged once.\n",
      "2024-12-04 01:45:56.724964: I tensorflow/compiler/xla/service/service.cc:168] XLA service 0x7fe055616eb0 initialized for platform CUDA (this does not guarantee that XLA will be used). Devices:\n",
      "2024-12-04 01:45:56.725008: I tensorflow/compiler/xla/service/service.cc:176]   StreamExecutor device (0): NVIDIA L4, Compute Capability 8.9\n",
      "2024-12-04 01:45:56.776757: I tensorflow/compiler/mlir/tensorflow/utils/dump_mlir_util.cc:255] disabling MLIR crash reproducer, set env var `MLIR_CRASH_REPRODUCER_DIRECTORY` to enable.\n",
      "2024-12-04 01:45:57.093609: I ./tensorflow/compiler/jit/device_compiler.h:186] Compiled cluster using XLA!  This line is logged at most once for the lifetime of the process.\n"
     ]
    },
    {
     "name": "stdout",
     "output_type": "stream",
     "text": [
      "313/313 [==============================] - 18s 41ms/step - loss: 1.3472 - accuracy: 0.7230 - val_loss: 1.0783 - val_accuracy: 0.7658\n",
      "Epoch 2/100\n",
      "313/313 [==============================] - 12s 37ms/step - loss: 1.0227 - accuracy: 0.7771 - val_loss: 0.9655 - val_accuracy: 0.7879\n",
      "Epoch 3/100\n",
      "313/313 [==============================] - 12s 37ms/step - loss: 0.9305 - accuracy: 0.7942 - val_loss: 0.8901 - val_accuracy: 0.8018\n",
      "Epoch 4/100\n",
      "313/313 [==============================] - 11s 37ms/step - loss: 0.8707 - accuracy: 0.8045 - val_loss: 0.8418 - val_accuracy: 0.8099\n",
      "Epoch 5/100\n",
      "313/313 [==============================] - 11s 37ms/step - loss: 0.8245 - accuracy: 0.8119 - val_loss: 0.8006 - val_accuracy: 0.8160\n",
      "Epoch 6/100\n",
      "313/313 [==============================] - 11s 37ms/step - loss: 0.7859 - accuracy: 0.8185 - val_loss: 0.7671 - val_accuracy: 0.8219\n",
      "Epoch 7/100\n",
      "313/313 [==============================] - 12s 37ms/step - loss: 0.7558 - accuracy: 0.8235 - val_loss: 0.7446 - val_accuracy: 0.8261\n",
      "Epoch 8/100\n",
      "313/313 [==============================] - 12s 37ms/step - loss: 0.7315 - accuracy: 0.8279 - val_loss: 0.7235 - val_accuracy: 0.8295\n",
      "Epoch 9/100\n",
      "313/313 [==============================] - 12s 37ms/step - loss: 0.7116 - accuracy: 0.8315 - val_loss: 0.7089 - val_accuracy: 0.8323\n",
      "Epoch 10/100\n",
      "313/313 [==============================] - 12s 37ms/step - loss: 0.6937 - accuracy: 0.8349 - val_loss: 0.6984 - val_accuracy: 0.8338\n",
      "Epoch 11/100\n",
      "313/313 [==============================] - 12s 37ms/step - loss: 0.6771 - accuracy: 0.8378 - val_loss: 0.6820 - val_accuracy: 0.8368\n",
      "Epoch 12/100\n",
      "313/313 [==============================] - 12s 37ms/step - loss: 0.6620 - accuracy: 0.8406 - val_loss: 0.6708 - val_accuracy: 0.8391\n",
      "Epoch 13/100\n",
      "313/313 [==============================] - 12s 37ms/step - loss: 0.6480 - accuracy: 0.8432 - val_loss: 0.6640 - val_accuracy: 0.8399\n",
      "Epoch 14/100\n",
      "313/313 [==============================] - 12s 38ms/step - loss: 0.6351 - accuracy: 0.8457 - val_loss: 0.6542 - val_accuracy: 0.8421\n",
      "Epoch 15/100\n",
      "313/313 [==============================] - 12s 37ms/step - loss: 0.6230 - accuracy: 0.8480 - val_loss: 0.6497 - val_accuracy: 0.8430\n",
      "Epoch 16/100\n",
      "313/313 [==============================] - 12s 37ms/step - loss: 0.6109 - accuracy: 0.8505 - val_loss: 0.6426 - val_accuracy: 0.8441\n",
      "Epoch 17/100\n",
      "313/313 [==============================] - 12s 37ms/step - loss: 0.5998 - accuracy: 0.8527 - val_loss: 0.6378 - val_accuracy: 0.8454\n",
      "Epoch 18/100\n",
      "313/313 [==============================] - 12s 37ms/step - loss: 0.5892 - accuracy: 0.8547 - val_loss: 0.6391 - val_accuracy: 0.8456\n",
      "Epoch 19/100\n",
      "313/313 [==============================] - 12s 38ms/step - loss: 0.5788 - accuracy: 0.8568 - val_loss: 0.6311 - val_accuracy: 0.8465\n",
      "Epoch 20/100\n",
      "313/313 [==============================] - 12s 38ms/step - loss: 0.5698 - accuracy: 0.8587 - val_loss: 0.6315 - val_accuracy: 0.8469\n",
      "Epoch 21/100\n",
      "313/313 [==============================] - 12s 38ms/step - loss: 0.5602 - accuracy: 0.8606 - val_loss: 0.6292 - val_accuracy: 0.8468\n",
      "Epoch 22/100\n",
      "313/313 [==============================] - 12s 38ms/step - loss: 0.5516 - accuracy: 0.8624 - val_loss: 0.6295 - val_accuracy: 0.8470\n",
      "Epoch 23/100\n",
      "313/313 [==============================] - 12s 38ms/step - loss: 0.5440 - accuracy: 0.8639 - val_loss: 0.6297 - val_accuracy: 0.8473\n",
      "Epoch 24/100\n",
      "313/313 [==============================] - 12s 38ms/step - loss: 0.5359 - accuracy: 0.8657 - val_loss: 0.6281 - val_accuracy: 0.8481\n",
      "Epoch 25/100\n",
      "313/313 [==============================] - 12s 38ms/step - loss: 0.5290 - accuracy: 0.8670 - val_loss: 0.6326 - val_accuracy: 0.8474\n",
      "Epoch 26/100\n",
      "313/313 [==============================] - 12s 38ms/step - loss: 0.5231 - accuracy: 0.8682 - val_loss: 0.6293 - val_accuracy: 0.8484\n",
      "Epoch 27/100\n",
      "313/313 [==============================] - 12s 38ms/step - loss: 0.5154 - accuracy: 0.8698 - val_loss: 0.6331 - val_accuracy: 0.8476\n",
      "Epoch 28/100\n",
      "313/313 [==============================] - 12s 38ms/step - loss: 0.5098 - accuracy: 0.8710 - val_loss: 0.6336 - val_accuracy: 0.8475\n",
      "Epoch 29/100\n",
      "313/313 [==============================] - 12s 38ms/step - loss: 0.5039 - accuracy: 0.8723 - val_loss: 0.6354 - val_accuracy: 0.8475\n",
      "Epoch 30/100\n",
      "313/313 [==============================] - 12s 38ms/step - loss: 0.4988 - accuracy: 0.8734 - val_loss: 0.6387 - val_accuracy: 0.8470\n",
      "Epoch 31/100\n",
      "313/313 [==============================] - 12s 38ms/step - loss: 0.4931 - accuracy: 0.8746 - val_loss: 0.6434 - val_accuracy: 0.8468\n",
      "Epoch 32/100\n",
      "313/313 [==============================] - 12s 38ms/step - loss: 0.4884 - accuracy: 0.8756 - val_loss: 0.6450 - val_accuracy: 0.8463\n",
      "Epoch 33/100\n",
      "313/313 [==============================] - 12s 38ms/step - loss: 0.4838 - accuracy: 0.8766 - val_loss: 0.6459 - val_accuracy: 0.8462\n",
      "Epoch 34/100\n",
      "313/313 [==============================] - 12s 38ms/step - loss: 0.4827 - accuracy: 0.8767 - val_loss: 0.6496 - val_accuracy: 0.8465\n"
     ]
    }
   ],
   "source": [
    "history = model.fit([train_images, train_sequences[:, :-1]],\n",
    "          train_sequences[:, 1:],\n",
    "          epochs=100,\n",
    "          validation_split = 0.2,\n",
    "          batch_size=128, callbacks = [early_stopping])\n"
   ]
  },
  {
   "cell_type": "code",
   "execution_count": 21,
   "metadata": {},
   "outputs": [],
   "source": [
    "model.save_weights('baseline_weights')"
   ]
  },
  {
   "cell_type": "code",
   "execution_count": 91,
   "metadata": {},
   "outputs": [
    {
     "data": {
      "image/png": "[encoded data removed]",
      "text/plain": [
       "<Figure size 640x480 with 1 Axes>"
      ]
     },
     "metadata": {},
     "output_type": "display_data"
    }
   ],
   "source": [
    "plt.plot(history.history['loss'])\n",
    "plt.plot(history.history['val_loss'])\n",
    "plt.title('Baseline CNN-RNN model masked loss')\n",
    "plt.ylabel('Loss')\n",
    "plt.xlabel('Epoch')\n",
    "plt.legend(['Train', 'Validation'], loc='upper right')\n",
    "plt.show()"
   ]
  },
  {
   "cell_type": "code",
   "execution_count": 92,
   "metadata": {},
   "outputs": [
    {
     "data": {
      "image/png": "[encoded data removed]",
      "text/plain": [
       "<Figure size 640x480 with 1 Axes>"
      ]
     },
     "metadata": {},
     "output_type": "display_data"
    }
   ],
   "source": [
    "plt.plot(history.history['masked_acc'])\n",
    "plt.plot(history.history['val_masked_acc'])\n",
    "plt.title('Baseline CNN-RNN model masked accuracy')\n",
    "plt.ylabel('Accuracy')\n",
    "plt.xlabel('Epoch')\n",
    "plt.legend(['Train', 'Validation'], loc='upper right')\n",
    "plt.show()"
   ]
  },
  {
   "cell_type": "code",
   "execution_count": 72,
   "metadata": {
    "id": "rGz_H92VAAI8"
   },
   "outputs": [],
   "source": [
    "model.save('baseline_masked.keras')"
   ]
  },
  {
   "cell_type": "code",
   "execution_count": 54,
   "metadata": {},
   "outputs": [
    {
     "name": "stdout",
     "output_type": "stream",
     "text": [
      "100\n",
      "0\n",
      "1\n",
      "2\n",
      "3\n",
      "4\n",
      "5\n",
      "6\n",
      "7\n",
      "8\n",
      "9\n",
      "10\n",
      "11\n",
      "12\n",
      "13\n",
      "14\n",
      "15\n",
      "16\n",
      "17\n",
      "18\n",
      "19\n",
      "20\n",
      "21\n",
      "22\n",
      "23\n",
      "24\n",
      "25\n",
      "26\n",
      "27\n",
      "28\n",
      "29\n",
      "30\n",
      "31\n",
      "32\n",
      "33\n",
      "34\n",
      "35\n",
      "36\n",
      "37\n",
      "38\n",
      "39\n",
      "40\n",
      "41\n",
      "42\n",
      "43\n",
      "44\n",
      "45\n",
      "46\n",
      "47\n",
      "48\n",
      "49\n",
      "50\n",
      "51\n",
      "52\n",
      "53\n",
      "54\n",
      "55\n",
      "56\n",
      "57\n",
      "58\n",
      "59\n",
      "60\n",
      "61\n",
      "62\n",
      "63\n",
      "64\n",
      "65\n",
      "66\n",
      "67\n",
      "68\n",
      "69\n",
      "70\n",
      "71\n",
      "72\n",
      "73\n",
      "74\n",
      "75\n",
      "76\n",
      "77\n",
      "78\n",
      "79\n",
      "80\n",
      "81\n",
      "82\n",
      "83\n",
      "84\n",
      "85\n",
      "86\n",
      "87\n",
      "88\n",
      "89\n",
      "90\n",
      "91\n",
      "92\n",
      "93\n",
      "94\n",
      "95\n",
      "96\n",
      "97\n",
      "98\n",
      "99\n",
      "Metrics for CNN-RNN: \n",
      "Mean BLEU-4 score:  0.42901871727111457\n",
      "Mean Levenshtein similarity:  0.35467743058504225\n"
     ]
    }
   ],
   "source": [
    "import collections\n",
    "import math\n",
    "\n",
    "def lev_distance(sequence_one, sequence_two):\n",
    "    rows = len(sequence_one)\n",
    "    cols = len(sequence_two)\n",
    "    dist_tab = np.zeros((rows + 1, cols + 1), dtype=int)\n",
    "    for i in range(1, rows + 1):\n",
    "      dist_tab[i][0] = i\n",
    "    for i in range(1, cols + 1):\n",
    "      dist_tab[0][i] = i\n",
    "    for r in range(1, rows + 1):\n",
    "      for c in range(1, cols + 1):\n",
    "\n",
    "        #if tokens match\n",
    "        if sequence_one[r - 1] == sequence_two[c - 1]:\n",
    "\n",
    "          #same cost as min cost from prev tokens\n",
    "          dist_tab[r][c] = dist_tab[r - 1][c - 1]\n",
    "        else:\n",
    "\n",
    "          #min of deletion, insertion, or substitution respectively\n",
    "          dist_tab[r][c] = 1 + min(dist_tab[r - 1][c], dist_tab[r][c - 1], dist_tab[r - 1][c - 1])\n",
    "    return 1 - (dist_tab[rows][cols] / max(rows, cols)) #return top right corner of table: min edit distance, normalized by length of max sequence\n",
    "\n",
    "def bleu_n_score(generated_sequence, true_sequence, n):\n",
    "    gen_len = len(generated_sequence)\n",
    "    true_len = len(true_sequence)\n",
    "    scores = []\n",
    "\n",
    "    #calculate overlap for 1-grams to n-grams\n",
    "    for gram_size in range(1,n+1):\n",
    "\n",
    "      #generate grams\n",
    "      gen_ngrams = [tuple(generated_sequence[i:i+gram_size]) for i in range(gen_len - gram_size + 1)]\n",
    "      true_ngrams = [tuple(true_sequence[i:i+gram_size]) for i in range(true_len - gram_size + 1)]\n",
    "\n",
    "      gen_grams_count = collections.Counter(gen_ngrams) #freq dictionaries of grams\n",
    "      true_grams_count = collections.Counter(true_ngrams)\n",
    "\n",
    "      #sum of how many grams appear in both the gen sequence and the true\n",
    "      matching_grams_sum = sum(min(gen_grams_count[gram], true_grams_count[gram]) for gram in gen_grams_count)\n",
    "\n",
    "      #divide sum of matching grams by total number of grams in the gen sequence (precision)\n",
    "      gram_score = 0\n",
    "      if len(gen_grams_count) > 0:\n",
    "        gram_score = matching_grams_sum / len(gen_grams_count)\n",
    "      scores.append(gram_score)\n",
    "\n",
    "    #calculate geometric mean of scores for each gram 1-n\n",
    "    geo_mean = 0.0\n",
    "    for gram_score in scores:\n",
    "      if gram_score == 0.0:\n",
    "        #return 0 early: a score of 0 zeroes out mean and thus bleu score\n",
    "        return 0.0\n",
    "      geo_mean += math.log(gram_score)\n",
    "    geo_mean = math.exp(geo_mean/n)\n",
    "\n",
    "    #include brevity penalty in cases where gen sequence is longer than true sequence\n",
    "    if gen_len < true_len:\n",
    "      return math.exp(1 - true_len / gen_len) * geo_mean\n",
    "    return geo_mean #no penalty otherwise\n",
    "\n",
    "def decode_text(encoded_text, tokenizer):\n",
    "    vocabulary = tokenizer.get_vocabulary()\n",
    "    decoded_text = [vocabulary[index] if index < len(vocabulary) else \"[UNK]\" for index in encoded_text]\n",
    "    return \" \".join(decoded_text)\n",
    "\n",
    "def predict_latex_sequence_cnn(model, image, tokenizer):\n",
    "    \"\"\"\n",
    "    Predict LaTeX sequence from a single image.\n",
    "\n",
    "    Parameters:\n",
    "    - model: Trained Keras model for predicting LaTeX sequence.\n",
    "    - image: Input image (preprocessed to match training dimensions).\n",
    "    - tokenizer: Tokenizer fitted on LaTeX sequences for decoding predictions.\n",
    "    - max_seq_len: Maximum sequence length for the predicted sequence.\n",
    "\n",
    "    Returns:\n",
    "    - latex_sequence: Predicted LaTeX sequence as a string.\n",
    "    \"\"\"\n",
    "    # Prepare input image and initialize the sequence\n",
    "    image = np.expand_dims(image, axis=0)  # Add batch dimension\n",
    "    vocab_dict = {name: id for id, name in enumerate(tokenizer.get_vocabulary())}\n",
    "    start_token = vocab_dict[\"[START]\"]#word_index[\"[START]\"]\n",
    "    end_token = vocab_dict[\"[END]\"]\n",
    "\n",
    "    # Initial sequence with the start token\n",
    "    sequence = [start_token]\n",
    "    # print(max_seq_len_1)\n",
    "    for _ in range(max_seq_len_1):\n",
    "        # Pad the current sequence to match input length\n",
    "        padded_sequence = np.pad(sequence, (0, max_seq_len_1 - len(sequence)), mode='constant')\n",
    "        padded_sequence = np.expand_dims(padded_sequence, axis=0)  # Add batch dimension\n",
    "\n",
    "        # Predict next token\n",
    "        preds = model.predict([image, padded_sequence], verbose = 0)\n",
    "        next_token = np.argmax(preds[0, len(sequence) - 1, :])\n",
    "\n",
    "        # Break if end token is reached\n",
    "        if next_token == end_token:\n",
    "            break\n",
    "\n",
    "        # Add the predicted token to the sequence\n",
    "        sequence.append(next_token)\n",
    "\n",
    "    # print(sequence)\n",
    "    # Decode the token sequence to a string\n",
    "    latex_sequence = decode_text(sequence[1:], tokenizer) #tokenizer.sequences_to_texts([sequence[1:]])[0]  # Skip the start token\n",
    "    return latex_sequence\n",
    "\n",
    "def compute_mean_metrics(predicted, truth):\n",
    "   num_sequences = len(predicted)\n",
    "   #uses BLEU-4 score\n",
    "   mean_bleu = sum(bleu_n_score(predicted[i], truth[i], 4) for i in range(num_sequences)) / num_sequences\n",
    "   mean_lev = sum(lev_distance(predicted[i], truth[i]) for i in range(num_sequences)) / num_sequences\n",
    "   print(\"Mean BLEU-4 score: \", mean_bleu)\n",
    "   print(\"Mean Levenshtein similarity: \", mean_lev)\n",
    "\n",
    "def predict_latex_sequences_cnn(model, images, tokenizer):\n",
    "    result = []\n",
    "    i = 0\n",
    "    for image in images:\n",
    "        print(i)\n",
    "        i+=1\n",
    "        sequence_str = predict_latex_sequence_cnn(model, image, tokenizer)\n",
    "        #print(sequence_str)\n",
    "        result.append(sequence_str.split())\n",
    "    return result\n",
    "\n",
    "def predict_latex_sequences_transformer(images):\n",
    "    result = []\n",
    "    i = 0\n",
    "    for image in images:\n",
    "        print(i)\n",
    "        i+=1\n",
    "        sequence_str = transformer_model.simple_gen(image, temperature = 0)\n",
    "        #print(sequence_str)\n",
    "        result.append(sequence_str.split())\n",
    "    return result  \n",
    "\n",
    "test_images = train_images[:100]\n",
    "print(len(test_images))\n",
    "predicted_sequences = predict_latex_sequences_cnn(model, test_images, tokenizer)\n",
    "#predicted_sequences = predict_latex_sequences_transformer(test_images)\n",
    "test_sequences = [str.split() for str in train_latex_texts[:100]]\n",
    "print(\"Metrics for CNN-RNN: \")\n",
    "compute_mean_metrics(predicted_sequences, test_sequences)\n",
    "\n",
    "# #predicted_sequences = predict_latex_sequences_transform(test_images)\n",
    "# print(\"Metrics for CNN-RNN: \")\n",
    "# compute_mean_metrics(predicted_sequences, test_sequences)"
   ]
  },
  {
   "cell_type": "code",
   "execution_count": 45,
   "metadata": {},
   "outputs": [
    {
     "name": "stdout",
     "output_type": "stream",
     "text": [
      "Mean BLEU-4 score:  0.6723768965196989\n",
      "Mean Levenshtein similarity:  0.36054421768707484\n"
     ]
    }
   ],
   "source": [
    "compute_mean_metrics(predicted_sequences, test_sequences)"
   ]
  },
  {
   "cell_type": "code",
   "execution_count": null,
   "metadata": {},
   "outputs": [],
   "source": []
  }
 ],
 "metadata": {
  "colab": {
   "include_colab_link": true,
   "private_outputs": true,
   "provenance": []
  },
  "kernelspec": {
   "display_name": "Python 3 (ipykernel)",
   "language": "python",
   "name": "python3"
  },
  "language_info": {
   "codemirror_mode": {
    "name": "ipython",
    "version": 3
   },
   "file_extension": ".py",
   "mimetype": "text/x-python",
   "name": "python",
   "nbconvert_exporter": "python",
   "pygments_lexer": "ipython3",
   "version": "3.8.10"
  }
 },
 "nbformat": 4,
 "nbformat_minor": 4
}

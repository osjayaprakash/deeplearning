{
 "cells": [
  {
   "cell_type": "markdown",
   "metadata": {
    "colab_type": "text",
    "id": "view-in-github"
   },
   "source": [
    "<a href=\"https://colab.research.google.com/github/osjayaprakash/deeplearning/blob/main/transformer_model.ipynb\" target=\"_parent\"><img src=\"https://colab.research.google.com/assets/colab-badge.svg\" alt=\"Open In Colab\"/></a>"
   ]
  },
  {
   "cell_type": "code",
   "execution_count": 38,
   "metadata": {
    "id": "6TKz3RA-FuOp"
   },
   "outputs": [
    {
     "name": "stdout",
     "output_type": "stream",
     "text": [
      "Python Platform: Linux-5.15.0-1044-aws-x86_64-with-glibc2.29\n",
      "Tensor Flow Version: 2.13.1\n",
      "\n",
      "Python 3.8.10 (default, Nov  7 2024, 13:10:47) \n",
      "[GCC 9.4.0]\n",
      "Pandas 2.0.3\n",
      "Scikit-Learn 1.3.2\n",
      "SciPy 1.10.1\n",
      "[PhysicalDevice(name='/physical_device:CPU:0', device_type='CPU'), PhysicalDevice(name='/physical_device:GPU:0', device_type='GPU')]\n"
     ]
    }
   ],
   "source": [
    "import tensorflow as tf\n",
    "from tensorflow.keras.models import load_model\n",
    "from tensorflow.keras.layers import (Input, Conv2D, MaxPooling2D, Flatten,\n",
    "                                     Dense, GRU, Embedding, Bidirectional,\n",
    "                                     TimeDistributed, Concatenate, RepeatVector, LSTM, MultiHeadAttention, LayerNormalization, Add, Dropout )\n",
    "from tensorflow.keras.models import Model\n",
    "from tensorflow.keras.preprocessing.text import Tokenizer\n",
    "from tensorflow.keras.preprocessing.sequence import pad_sequences\n",
    "import numpy as np\n",
    "import matplotlib.pyplot as plt\n",
    "import platform\n",
    "import sys\n",
    "import pandas as pd\n",
    "import sklearn as sk\n",
    "import scipy as sp\n",
    "from tensorflow.python.ops.numpy_ops import np_config  \n",
    "import einops\n",
    "\n",
    "np_config.enable_numpy_behavior()\n",
    "tf.config.experimental.list_physical_devices('GPU')\n",
    "print(f\"Python Platform: {platform.platform()}\")\n",
    "print(f\"Tensor Flow Version: {tf.__version__}\")\n",
    "#print(f\"Keras Version: {tf.keras.__version__}\")\n",
    "print()\n",
    "print(f\"Python {sys.version}\")\n",
    "print(f\"Pandas {pd.__version__}\")\n",
    "print(f\"Scikit-Learn {sk.__version__}\")\n",
    "print(f\"SciPy {sp.__version__}\")\n",
    "print(tf.config.list_physical_devices())"
   ]
  },
  {
   "cell_type": "code",
   "execution_count": 39,
   "metadata": {
    "id": "xZgd8NVaFjfO"
   },
   "outputs": [
    {
     "name": "stdout",
     "output_type": "stream",
     "text": [
      "Warning: Looks like you're using an outdated `kagglehub` version, please consider updating (latest version: 0.3.4)\n",
      "Path to dataset files: /home/ubuntu/.cache/kagglehub/datasets/shahrukhkhan/im2latex100k/versions/7\n"
     ]
    }
   ],
   "source": [
    "import kagglehub\n",
    "\n",
    "# Download latest version\n",
    "root_dir = kagglehub.dataset_download(\"shahrukhkhan/im2latex100k\")\n",
    "# path = kagglehub.dataset_download(\"gregoryeritsyan/im2latex-230k\")\n",
    "\n",
    "print(\"Path to dataset files:\", root_dir)"
   ]
  },
  {
   "cell_type": "markdown",
   "metadata": {
    "id": "Qo6QNApGGgIk"
   },
   "source": [
    "# Preprocess"
   ]
  },
  {
   "cell_type": "code",
   "execution_count": 112,
   "metadata": {},
   "outputs": [],
   "source": [
    "IMG_SHAPE = [50, 200, 1]\n",
    "EMBEDDING_DIM = 256\n",
    "max_seq_length = 250\n",
    "n = 50000\n",
    "max_seq_len_1 = max_seq_length - 1"
   ]
  },
  {
   "cell_type": "code",
   "execution_count": 113,
   "metadata": {
    "id": "wAMBW0OFF_VN"
   },
   "outputs": [],
   "source": [
    "def preprocess_image(image):\n",
    "    \"\"\"Preprocess the input image: Resize and normalize.\"\"\"\n",
    "    image = tf.image.resize(image, (50, 200))  # Resize to (50, 200)\n",
    "    image = image / 255.0  # Normalize to [0, 1]\n",
    "    return image\n",
    "\n",
    "def load_and_preprocess_images(image_paths):\n",
    "    \"\"\"Load and preprocess a batch of images.\"\"\"\n",
    "    # Use Gray scale\n",
    "    images = [preprocess_image(tf.io.decode_image(tf.io.read_file(path), channels=1))\n",
    "              for path in image_paths]\n",
    "    return tf.stack(images)\n",
    "\n",
    "def prepare_sequences(latex_texts, max_seq_length):\n",
    "    \"\"\"Convert LaTeX texts to padded sequences of tokens.\"\"\"\n",
    "    sequences = [text_to_sequence(text) for text in latex_texts]\n",
    "    return pad_sequences(sequences, maxlen=max_seq_length, padding='post')\n"
   ]
  },
  {
   "cell_type": "code",
   "execution_count": 114,
   "metadata": {
    "id": "4NIjhtisIi1W"
   },
   "outputs": [],
   "source": [
    "# %%time\n",
    "# %%prun\n",
    "\n",
    "df = pd.read_csv(f\"{root_dir}/im2latex_train.csv\", nrows=n)\n",
    "\n",
    "train_image_paths = []\n",
    "train_latex_texts = []\n",
    "\n",
    "for index, row in df.iterrows():\n",
    "    train_image_paths += [f\"{root_dir}//formula_images_processed/formula_images_processed/{row.image}\"]\n",
    "    train_latex_texts += [\"[START] \" + row.formula + \" [END]\"]\n",
    "\n",
    "train_images = load_and_preprocess_images(train_image_paths)"
   ]
  },
  {
   "cell_type": "markdown",
   "metadata": {},
   "source": [
    "## Transformer Model"
   ]
  },
  {
   "cell_type": "code",
   "execution_count": 254,
   "metadata": {
    "id": "GjYzQHDSAAI1"
   },
   "outputs": [],
   "source": [
    "tokenizer = tf.keras.layers.TextVectorization(max_tokens=None, standardize = None)"
   ]
  },
  {
   "cell_type": "code",
   "execution_count": 255,
   "metadata": {
    "id": "WpXdTtsaAAI1"
   },
   "outputs": [],
   "source": [
    "tokenizer.adapt(train_latex_texts)"
   ]
  },
  {
   "cell_type": "code",
   "execution_count": 256,
   "metadata": {
    "id": "WJgjaXn2AAI3"
   },
   "outputs": [],
   "source": [
    "latex_labels = tokenizer(train_latex_texts)\n",
    "train_sequences = np.asarray(latex_labels)\n",
    "#input_labels = train_sequences[..., :-1]\n",
    "#output_labels = train_sequences[..., 1:]"
   ]
  },
  {
   "cell_type": "code",
   "execution_count": 257,
   "metadata": {
    "id": "az_S8OFzIvc1"
   },
   "outputs": [
    {
     "name": "stdout",
     "output_type": "stream",
     "text": [
      "(50000, 152)\n",
      "(50000, 50, 200, 1)\n",
      "{'': 0, '[UNK]': 1, '}': 2, '{': 3, '_': 4, '^': 5, '2': 6, '(': 7, ')': 8, '=': 9, '1': 10, '-': 11, ',': 12, '[START]': 13, '[END]': 14, '\\\\frac': 15, '+': 16, 'i': 17, '0': 18, 'x': 19, 'n': 20, '.': 21, '\\\\,': 22, 'd': 23, 'a': 24, '\\\\mu': 25, 'e': 26, 'k': 27, 'm': 28, 'c': 29, 'r': 30, 'p': 31, '\\\\partial': 32, '\\\\alpha': 33, 't': 34, 'A': 35, '~': 36, '\\\\;': 37, 'j': 38, 's': 39, '3': 40, 'l': 41, '\\\\right)': 42, '\\\\left(': 43, 'g': 44, '4': 45, '\\\\': 46, '\\\\nu': 47, '\\\\prime': 48, '\\\\pi': 49, 'b': 50, 'z': 51, '\\\\phi': 52, '|': 53, '\\\\mathrm': 54, '\\\\cal': 55, '\\\\delta': 56, 'f': 57, 'N': 58, '\\\\lambda': 59, 'T': 60, 'q': 61, 'S': 62, '\\\\beta': 63, ']': 64, '[': 65, 'R': 66, '\\\\bar': 67, '\\\\int': 68, 'L': 69, 'M': 70, 'D': 71, '\\\\operatorname': 72, 'B': 73, 'F': 74, '\\\\sigma': 75, 'y': 76, '\\\\theta': 77, '&': 78, '\\\\\\\\': 79, '\\\\psi': 80, 'h': 81, '/': 82, '\\\\gamma': 83, '\\\\hat': 84, '\\\\sqrt': 85, 'H': 86, '\\\\sum': 87, '\\\\rho': 88, '\\\\tilde': 89, 'u': 90, 'o': 91, '\\\\tau': 92, 'C': 93, 'P': 94, 'G': 95, 'V': 96, 'I': 97, '\\\\omega': 98, 'E': 99, '\\\\epsilon': 100, 'X': 101, '\\\\bf': 102, 'J': 103, '\\\\Phi': 104, '\\\\xi': 105, '\\\\eta': 106, '\\\\vec': 107, 'Q': 108, '\\\\quad': 109, 'v': 110, 'K': 111, '\\\\Gamma': 112, '\\\\infty': 113, '5': 114, '\\\\right]': 115, '\\\\left[': 116, '\\\\pm': 117, 'U': 118, 'W': 119, 'Z': 120, '\\\\dot': 121, '\\\\Lambda': 122, '\\\\Delta': 123, '\\\\end{array}': 124, '\\\\begin{array}': 125, '\\\\varphi': 126, '\\\\rangle': 127, '*': 128, '6': 129, 'w': 130, '\\\\Omega': 131, ';': 132, '\\\\chi': 133, '\\\\qquad': 134, '\\\\kappa': 135, '\\\\Psi': 136, '\\\\equiv': 137, '8': 138, '\\\\}': 139, '\\\\{': 140, '\\\\cdot': 141, '\\\\!': 142, '\\\\overline': 143, '\\\\langle': 144, '\\\\rightarrow': 145, '>': 146, '\\\\dagger': 147, '\\\\zeta': 148, '\\\\nabla': 149, '\\\\varepsilon': 150, 'O': 151, '<': 152, 'Y': 153, ':': 154, '\\\\cdots': 155, '\\\\Sigma': 156, '\\\\mathcal': 157, '\\\\ldots': 158, '\\\\left\\\\{': 159, '\\\\ell': 160, '\\\\:': 161, '\\\\wedge': 162, '\\\\otimes': 163, '\\\\sim': 164, '7': 165, '!': 166, '\\\\operatorname*': 167, '\\\\hbar': 168, '\\\\Pi': 169, '\\\\prod': 170, '\\\\vert': 171, '\\\\hspace': 172, '\\\\widetilde': 173, '\\\\in': 174, '9': 175, '\\\\right\\\\}': 176, '\\\\to': 177, '\\\\mid': 178, '\\\\Theta': 179, '\\\\times': 180, '\\\\Big': 181, '\\\\right|': 182, '\\\\mathbf': 183, '\\\\underline': 184, '\\\\dots': 185, '\\\\left|': 186, '\\\\approx': 187, '\\\\ast': 188, '\\\\leq': 189, '\\\\star': 190, '\\\\widehat': 191, '\\\\perp': 192, '\\\\big': 193, '\\\\stackrel': 194, '\\\\displaystyle': 195, '\\\\right.': 196, '\\\\left.': 197, '\\\\mp': 198, '\\\\Bigr': 199, '\\\\simeq': 200, '\\\\dag': 201, \"'\": 202, '\\\\geq': 203, '\\\\Bigl': 204, '\\\\vartheta': 205, '\\\\neq': 206, '\\\\circ': 207, '\\\\right\\\\rangle': 208, '\\\\oint': 209, '\\\\bigg': 210, '\\\\longrightarrow': 211, '\\\\biggr': 212, '\\\\biggl': 213, '\\\\ddot': 214, '\\\\left\\\\langle': 215, '\\\\textstyle': 216, '\\\\not': 217, '\\\\boldmath': 218, '\\\\bigl': 219, '\\\\bigr': 220, '\\\\oplus': 221, '\\\\Xi': 222, '\\\\propto': 223, '\\\\nonumber': 224, '\\\\varrho': 225, '\\\\check': 226, '\\\\triangle': 227, '\\\\le': 228, '\\\\imath': 229, '\\\\ge': 230, '\\\\right>': 231, '\\\\sp': 232, '\\\\scriptscriptstyle': 233, '\\\\forall': 234, '--': 235, '\\\\|': 236, '\\\\mapsto': 237, '\\\\leftrightarrow': 238, '\\\\lbrack': 239, '\\\\it': 240, '\\\\l': 241, '\\\\Rightarrow': 242, '\\\\scriptsize': 243, '\\\\iota': 244, '\\\\textrm': 245, '\\\\bot': 246, '\\\\subset': 247, '\\\\parallel': 248, '\\\\overrightarrow': 249, '\\\\binom': 250, '\\\\Bigg': 251, '\\\\phantom': 252, '\\\\ll': 253, '\\\\left<': 254, '\\\\ne': 255, '\\\\cong': 256, '\\\\jmath': 257, '\\\\Biggr': 258, '\\\\gg': 259, '\\\\Biggl': 260, '\\\\tiny': 261, '\\\\d': 262, '\\\\downarrow': 263, '\\\\vee': 264, '\\\\sf': 265, '\\\\L': 266, '\\\\o': 267, '\\\\wp': 268, '\\\\bullet': 269, '\\\\scriptstyle': 270, '\\\\bigoplus': 271, '\\\\Upsilon': 272, '\\\\breve': 273, '\\\\atop': 274, '\\\\uparrow': 275, '\\\\slash': 276, '\\\\kern': 277, '\\\\hline': 278, '\\\\sb': 279, '\\\\#': 280, '\\\\Re': 281, '\\\\Im': 282, '\\\\varpi': 283, '\\\\rbrack': 284, '\\\\cup': 285, '\\\\vdots': 286, '\\\\cap': 287, '\\\\small': 288, '\\\\mit': 289, '\\\\Longrightarrow': 290, '\\\\acute': 291, '\\\\supset': 292, '\\\\protect': 293, '\\\\underbrace': 294, '\\\\varsigma': 295, '\\\\i': 296, '\\\\upsilon': 297, '\\\\vspace': 298, '\\\\lbrace': 299, '\\\\Leftrightarrow': 300, '\\\\rbrace': 301, '\\\\leftarrow': 302, '\\\\O': 303, '`': 304, '\\\\bigtriangleup': 305, '\\\\S': 306, '\\\\longleftrightarrow': 307, '\\\\llap': 308, '\\\\Vert': 309, '\\\\Longleftrightarrow': 310, '\\\\left\\\\vert': 311, '\\\\cdotp': 312, '\\\\right\\\\vert': 313, '\\\\mathsf': 314, '\\\\bigotimes': 315, '\\\\right\\\\|': 316, '\\\\left\\\\|': 317, '\\\\footnotesize': 318, '\\\\enspace': 319, '\\\\makebox': 320, '\\\\hfill': 321, '\\\\doteq': 322, '\\\\buildrel': 323, '\\\\textbf': 324, '\\\\raise': 325, '\\\\mathit': 326, '\\\\P': 327, '\\\\tt': 328, '\\\\sl': 329, '\\\\Large': 330, 'ule': 331, '\\\\rightharpoonup': 332, '\\\\put': 333, '\\\\overleftarrow': 334, '\\\\ddots': 335, '\\\\sharp': 336, '\\\\label': 337, '\\\\backslash': 338, 'mm': 339, '\\\\vphantom': 340, '\\\\ref': 341, '\\\\large': 342, '\\\\_': 343, '\"': 344, '\\\\textup': 345, '\\\\subseteq': 346, '\\\\raisebox': 347, '\\\\mathop': 348, '\\\\bigcup': 349, '\\\\/': 350, '\\\\rfloor': 351, 'cm': 352, '\\\\overbrace': 353, '\\\\fbox': 354, '\\\\odot': 355, '\\\\noalign': 356, '\\\\emptyset': 357, '\\\\diamond': 358, '\\\\bigwedge': 359, '\\\\unitlength': 360, '\\\\setlength': 361, '\\\\ni': 362, '\\\\flat': 363, '[object': 364, 'Object]': 365, '\\\\vrule': 366, '\\\\thinspace': 367, '\\\\pounds': 368, '\\\\longmapsto': 369, '\\\\strut': 370, '\\\\right\\\\rbrack': 371, '\\\\left\\\\lbrack': 372, '\\\\b': 373, '\\\\lfloor': 374, '\\\\hrule': 375, '\\\\bigtriangledown': 376, '\\\\aleph': 377, '\\\\texttt': 378, '\\\\line': 379, '\\\\hookrightarrow': 380, '\\\\circle': 381, '\\\\bigcap': 382, 'pt': 383, '\\\\right\\\\rfloor': 384, '\\\\right\\\\rbrace': 385, '\\\\relax': 386, '\\\\left\\\\lbrace': 387, '\\\\diamondsuit': 388, '\\\\colon': 389, '\\\\vskip': 390, '\\\\vline': 391, '\\\\smallskip': 392, '\\\\rlap': 393, '\\\\ominus': 394, '\\\\normalsize': 395, '\\\\lower': 396, '\\\\hfil': 397, '\\\\framebox': 398, '\\\\c': 399, '\\\\-': 400, '?': 401, '\\\\top': 402, '\\\\textit': 403, '\\\\setminus': 404, '\\\\natural': 405, '\\\\m': 406, '\\\\exists': 407, '\\\\ddagger': 408, '\\\\&': 409, '0.4': 410, '\\\\triangleright': 411, '\\\\textnormal': 412, '\\\\ss': 413, '\\\\space': 414, '\\\\pmod': 415, '\\\\null': 416, '\\\\mkern': 417, '\\\\medskip': 418, '\\\\lefteqn': 419, '\\\\land': 420, '\\\\do': 421, '\\\\bmod': 422, '\\\\Huge': 423, '\\\\unboldmath': 424, '\\\\thicklines': 425, '\\\\surd': 426, '\\\\sqcup': 427, '\\\\setcounter': 428, '\\\\sc': 429, '\\\\renewcommand': 430, '\\\\ooalign': 431, '\\\\lceil': 432, '\\\\hphantom': 433, '\\\\crcr': 434, '\\\\cite': 435, '\\\\asymp': 436, '\\\\arraystretch': 437, '\\\\arraycolsep': 438, '\\\\ae': 439, '\\\\Longleftarrow': 440, '\\\\LARGE': 441, '\\\\Bigm': 442, '\\\\*': 443, '8.5': 444, '0.14': 445, '\\\\vdash': 446, '\\\\vcenter': 447, '\\\\textsf': 448, '\\\\supseteq': 449, '\\\\succeq': 450, '\\\\special': 451, '\\\\smile': 452, '\\\\rightleftharpoons': 453, '\\\\protectu': 454, '\\\\parbox': 455, '\\\\oslash': 456, '\\\\notin': 457, '\\\\multiput': 458, '\\\\multicolumn': 459, '\\\\mathversion': 460, '\\\\mathbin': 461, '\\\\lq': 462, '\\\\longleftarrow': 463, '\\\\left\\\\lfloor': 464, '\\\\grave': 465, '\\\\fboxsep': 466, '\\\\enskip': 467, '\\\\ddag': 468, '\\\\bigm': 469, '\\\\arrowvert': 470, '\\\\SS': 471, '\\\\Biggm': 472, \"\\\\'\": 473, '0.5': 474, '---': 475, '\\\\verb': 476, '\\\\vector': 477, '\\\\triangleleft': 478, '\\\\succ': 479, '\\\\smash': 480, '\\\\skew': 481, '\\\\root': 482, '\\\\rightarrowfill': 483, '\\\\rgroup': 484, '\\\\protectm': 485, '\\\\protecte': 486, '\\\\protectZ': 487, '\\\\protectE': 488, '\\\\prec': 489, '\\\\overwithdelims': 490, '\\\\of': 491, '\\\\nolinebreak': 492, '\\\\newcommand': 493, '\\\\nearrow': 494, '\\\\mathord': 495, '\\\\mathaccent': 496, '\\\\lgroup': 497, '\\\\left/': 498, '\\\\j': 499, '\\\\fill': 500, '\\\\ensuremath': 501, '\\\\em': 502, '\\\\brack': 503, '\\\\bigvee': 504, '\\\\bigsqcup': 505, '\\\\biggm': 506, '\\\\^': 507, '20': 508, '2.1': 509, '10': 510, '1.7': 511, '0.9': 512, '#': 513}\n"
     ]
    }
   ],
   "source": [
    "print(latex_labels.shape)\n",
    "print(train_images.shape)\n",
    "vocab_dict = {name: id for id, name in enumerate(tokenizer.get_vocabulary())}\n",
    "print(vocab_dict)"
   ]
  },
  {
   "cell_type": "code",
   "execution_count": 258,
   "metadata": {},
   "outputs": [
    {
     "name": "stdout",
     "output_type": "stream",
     "text": [
      "[START] \\varphi _ { 0 } = \\left[ \\begin{array} { c } { e ^ { - q V ( x ) } } \\\\ { 0 } \\\\ \\end{array} \\right] [END]\n"
     ]
    },
    {
     "data": {
      "image/png": "[encoded data removed]",
      "text/plain": [
       "<Figure size 640x480 with 1 Axes>"
      ]
     },
     "metadata": {},
     "output_type": "display_data"
    }
   ],
   "source": [
    "idx = np.random.choice(range(train_images.shape[0]))\n",
    "img = train_images[idx]\n",
    "plt.imshow(img.numpy(), cmap=\"gray\")\n",
    "print(train_latex_texts[idx])"
   ]
  },
  {
   "cell_type": "markdown",
   "metadata": {
    "id": "Yqt7tRm5AAI5"
   },
   "source": [
    "## Transformer Model"
   ]
  },
  {
   "cell_type": "code",
   "execution_count": 267,
   "metadata": {
    "id": "Accx5CSIGji3"
   },
   "outputs": [
    {
     "name": "stdout",
     "output_type": "stream",
     "text": [
      "264\n"
     ]
    }
   ],
   "source": [
    "patch_size = 6  # Size of the patches to be extract from the input images\n",
    "num_patches = (IMG_SHAPE[0] // patch_size) * (IMG_SHAPE[1] // patch_size)\n",
    "projection_dim = EMBEDDING_DIM\n",
    "num_heads = 4\n",
    "transformer_units = [\n",
    "    projection_dim * 2,\n",
    "    projection_dim,\n",
    "]  # Size of the transformer layers\n",
    "transformer_layers = 8\n",
    "mlp_head_units = [2048, 1024]\n",
    "print(num_patches)"
   ]
  },
  {
   "cell_type": "code",
   "execution_count": 268,
   "metadata": {
    "id": "XW0usbBPGATy"
   },
   "outputs": [],
   "source": [
    "class Patches(tf.keras.layers.Layer):\n",
    "    def __init__(self, patch_size):\n",
    "        super().__init__()\n",
    "        self.patch_size = patch_size\n",
    "\n",
    "    def call(self, images):\n",
    "        input_shape = tf.raw_ops.Shape(input=images)\n",
    "        batch_size = input_shape[0]\n",
    "        height = input_shape[1]\n",
    "        width = input_shape[2]\n",
    "        channels = input_shape[3]\n",
    "        num_patches_h = height // self.patch_size\n",
    "        num_patches_w = width // self.patch_size\n",
    "        patches = tf.image.extract_patches(images=images, sizes=[1,self.patch_size, self.patch_size,1], strides=[1,self.patch_size, self.patch_size,1], padding='VALID', rates=[1, 1, 1, 1])\n",
    "        new_shape = (batch_size, num_patches_h * num_patches_w, self.patch_size * self.patch_size * channels)\n",
    "        # print(f\"PATCHES: {patches.shape}\")\n",
    "        # print(f\"RESHAPE: {new_shape}\")\n",
    "        patches = tf.reshape(\n",
    "            patches,\n",
    "            shape=new_shape,\n",
    "        )\n",
    "        return patches\n",
    "\n",
    "    def get_config(self):\n",
    "        config = super().get_config()\n",
    "        config.update({\"patch_size\": self.patch_size})\n",
    "        return config"
   ]
  },
  {
   "cell_type": "code",
   "execution_count": 274,
   "metadata": {},
   "outputs": [
    {
     "name": "stdout",
     "output_type": "stream",
     "text": [
      "Image size: (1, 50, 200, 1)\n",
      "Image size: (1, 50, 200, 1)\n",
      "Patch size: 6 X 6\n",
      "Patches per image: 264\n",
      "Elements per patch: 36\n"
     ]
    },
    {
     "data": {
      "image/png": "[encoded data removed]",
      "text/plain": [
       "<Figure size 640x480 with 1 Axes>"
      ]
     },
     "metadata": {},
     "output_type": "display_data"
    },
    {
     "data": {
      "image/png": "[encoded data removed]",
      "text/plain": [
       "<Figure size 400x400 with 264 Axes>"
      ]
     },
     "metadata": {},
     "output_type": "display_data"
    }
   ],
   "source": [
    "plt.imshow(img.numpy(), cmap=\"gray\")\n",
    "plt.axis(\"off\")\n",
    "image = tf.expand_dims(img, axis = 0)\n",
    "\n",
    "print(f\"Image size: {image.shape}\")\n",
    "patches = Patches(patch_size)(image)\n",
    "print(f\"Image size: {image.shape}\")\n",
    "print(f\"Patch size: {patch_size} X {patch_size}\")\n",
    "print(f\"Patches per image: {patches.shape[1]}\")\n",
    "print(f\"Elements per patch: {patches.shape[-1]}\")\n",
    "\n",
    "n = int(np.sqrt(patches.shape[1])) +1\n",
    "plt.figure(figsize=(4, 4))\n",
    "for i, patch in enumerate(patches[0]):\n",
    "    ax = plt.subplot(n, n, i + 1)\n",
    "    patch_img = tf.reshape(patch, (patch_size, patch_size, 1))\n",
    "    plt.imshow(patch_img.numpy(), cmap='gray')\n",
    "    plt.axis(\"off\")"
   ]
  },
  {
   "cell_type": "code",
   "execution_count": 296,
   "metadata": {
    "id": "xnbps4-JHS4b"
   },
   "outputs": [],
   "source": [
    "def mlp(x, hidden_units, dropout_rate):\n",
    "    for units in hidden_units:\n",
    "        x = Dense(units, activation=tf.keras.activations.gelu)(x)\n",
    "        x = Dropout(dropout_rate)(x)\n",
    "    return x"
   ]
  },
  {
   "cell_type": "code",
   "execution_count": 297,
   "metadata": {
    "id": "DWhOTG_7GRpx"
   },
   "outputs": [],
   "source": [
    "class PatchEncoder(tf.keras.layers.Layer):\n",
    "    def __init__(self, num_patches, projection_dim):\n",
    "        super().__init__()\n",
    "        self.num_patches = num_patches\n",
    "        self.projection = Dense(units=projection_dim)\n",
    "        self.position_embedding = Embedding(\n",
    "            input_dim=num_patches, output_dim=projection_dim\n",
    "        )\n",
    "\n",
    "    def call(self, patch):\n",
    "        positions = tf.raw_ops.ExpandDims(\n",
    "           input = tf.experimental.numpy.arange(start=0, stop=self.num_patches, step=1), axis=0\n",
    "        )\n",
    "        projected_patches = self.projection(patch)\n",
    "        #print(projected_patches.shape)\n",
    "        position_embeddings = self.position_embedding(positions)\n",
    "        #print(position_embeddings.shape)\n",
    "        encoded = projected_patches + position_embeddings\n",
    "        return encoded\n",
    "\n",
    "    def get_config(self):\n",
    "        config = super().get_config()\n",
    "        config.update({\"num_patches\": self.num_patches})\n",
    "        return config"
   ]
  },
  {
   "cell_type": "code",
   "execution_count": 298,
   "metadata": {
    "id": "NHZEjUHRGYcS"
   },
   "outputs": [],
   "source": [
    "def vision_transformer_encoder(input_shape):\n",
    "    inputs =  Input(shape=input_shape)\n",
    "    # Create patches.\n",
    "    patches = Patches(patch_size)(inputs)\n",
    "    # Encode patches.\n",
    "    encoded_patches = PatchEncoder(num_patches, projection_dim)(patches)\n",
    "\n",
    "    # Create multiple layers of the Transformer block.\n",
    "    for _ in range(transformer_layers):\n",
    "        # Layer normalization 1.\n",
    "        x1 = LayerNormalization(epsilon=1e-6)(encoded_patches)\n",
    "        # Create a multi-head attention layer.\n",
    "        attention_output = MultiHeadAttention(\n",
    "            num_heads=num_heads, key_dim=projection_dim, dropout=0.5\n",
    "        )(x1, x1)\n",
    "        # Skip connection 1.\n",
    "        x2 = Add()([attention_output, encoded_patches])\n",
    "        # Layer normalization 2.\n",
    "        x3 = LayerNormalization(epsilon=1e-6)(x2)\n",
    "        # MLP.\n",
    "        x3 = mlp(x3, hidden_units=transformer_units, dropout_rate=0.5)\n",
    "        # Skip connection 2.\n",
    "        encoded_patches = tf.keras.layers.Add()([x3, x2])\n",
    "\n",
    "    # Create a [batch_size, projection_dim] tensor.\n",
    "    representation = LayerNormalization(epsilon=1e-6)(encoded_patches)\n",
    "    # representation = Flatten()(representation)\n",
    "    # representation = Dropout(0.2)(representation)\n",
    "    # Add MLP.\n",
    "    # features = mlp(representation, hidden_units=mlp_head_units, dropout_rate=0.2)\n",
    "    # Classify outputs.\n",
    "    #logits = tf.keras.layers.Dense(2)(features)\n",
    "    # Create the Keras model.\n",
    "    model = tf.keras.Model(inputs=inputs, outputs=representation)\n",
    "    return model"
   ]
  },
  {
   "cell_type": "code",
   "execution_count": 299,
   "metadata": {
    "id": "T8jXN2GlGyNC"
   },
   "outputs": [],
   "source": [
    "vit = vision_transformer_encoder(IMG_SHAPE)"
   ]
  },
  {
   "cell_type": "code",
   "execution_count": 300,
   "metadata": {
    "id": "_1htX_wlLj4W"
   },
   "outputs": [
    {
     "name": "stdout",
     "output_type": "stream",
     "text": [
      "Model: \"model_24\"\n",
      "__________________________________________________________________________________________________\n",
      " Layer (type)                Output Shape                 Param #   Connected to                  \n",
      "==================================================================================================\n",
      " input_21 (InputLayer)       [(None, 50, 200, 1)]         0         []                            \n",
      "                                                                                                  \n",
      " patches_27 (Patches)        (None, 264, 36)              0         ['input_21[0][0]']            \n",
      "                                                                                                  \n",
      " patch_encoder_12 (PatchEnc  (None, 264, 256)             77056     ['patches_27[0][0]']          \n",
      " oder)                                                                                            \n",
      "                                                                                                  \n",
      " layer_normalization_259 (L  (None, 264, 256)             512       ['patch_encoder_12[0][0]']    \n",
      " ayerNormalization)                                                                               \n",
      "                                                                                                  \n",
      " multi_head_attention_136 (  (None, 264, 256)             1051904   ['layer_normalization_259[0][0\n",
      " MultiHeadAttention)                                                ]',                           \n",
      "                                                                     'layer_normalization_259[0][0\n",
      "                                                                    ]']                           \n",
      "                                                                                                  \n",
      " add_230 (Add)               (None, 264, 256)             0         ['multi_head_attention_136[0][\n",
      "                                                                    0]',                          \n",
      "                                                                     'patch_encoder_12[0][0]']    \n",
      "                                                                                                  \n",
      " layer_normalization_260 (L  (None, 264, 256)             512       ['add_230[0][0]']             \n",
      " ayerNormalization)                                                                               \n",
      "                                                                                                  \n",
      " dense_252 (Dense)           (None, 264, 512)             131584    ['layer_normalization_260[0][0\n",
      "                                                                    ]']                           \n",
      "                                                                                                  \n",
      " dropout_224 (Dropout)       (None, 264, 512)             0         ['dense_252[0][0]']           \n",
      "                                                                                                  \n",
      " dense_253 (Dense)           (None, 264, 256)             131328    ['dropout_224[0][0]']         \n",
      "                                                                                                  \n",
      " dropout_225 (Dropout)       (None, 264, 256)             0         ['dense_253[0][0]']           \n",
      "                                                                                                  \n",
      " add_231 (Add)               (None, 264, 256)             0         ['dropout_225[0][0]',         \n",
      "                                                                     'add_230[0][0]']             \n",
      "                                                                                                  \n",
      " layer_normalization_261 (L  (None, 264, 256)             512       ['add_231[0][0]']             \n",
      " ayerNormalization)                                                                               \n",
      "                                                                                                  \n",
      " multi_head_attention_137 (  (None, 264, 256)             1051904   ['layer_normalization_261[0][0\n",
      " MultiHeadAttention)                                                ]',                           \n",
      "                                                                     'layer_normalization_261[0][0\n",
      "                                                                    ]']                           \n",
      "                                                                                                  \n",
      " add_232 (Add)               (None, 264, 256)             0         ['multi_head_attention_137[0][\n",
      "                                                                    0]',                          \n",
      "                                                                     'add_231[0][0]']             \n",
      "                                                                                                  \n",
      " layer_normalization_262 (L  (None, 264, 256)             512       ['add_232[0][0]']             \n",
      " ayerNormalization)                                                                               \n",
      "                                                                                                  \n",
      " dense_254 (Dense)           (None, 264, 512)             131584    ['layer_normalization_262[0][0\n",
      "                                                                    ]']                           \n",
      "                                                                                                  \n",
      " dropout_226 (Dropout)       (None, 264, 512)             0         ['dense_254[0][0]']           \n",
      "                                                                                                  \n",
      " dense_255 (Dense)           (None, 264, 256)             131328    ['dropout_226[0][0]']         \n",
      "                                                                                                  \n",
      " dropout_227 (Dropout)       (None, 264, 256)             0         ['dense_255[0][0]']           \n",
      "                                                                                                  \n",
      " add_233 (Add)               (None, 264, 256)             0         ['dropout_227[0][0]',         \n",
      "                                                                     'add_232[0][0]']             \n",
      "                                                                                                  \n",
      " layer_normalization_263 (L  (None, 264, 256)             512       ['add_233[0][0]']             \n",
      " ayerNormalization)                                                                               \n",
      "                                                                                                  \n",
      " multi_head_attention_138 (  (None, 264, 256)             1051904   ['layer_normalization_263[0][0\n",
      " MultiHeadAttention)                                                ]',                           \n",
      "                                                                     'layer_normalization_263[0][0\n",
      "                                                                    ]']                           \n",
      "                                                                                                  \n",
      " add_234 (Add)               (None, 264, 256)             0         ['multi_head_attention_138[0][\n",
      "                                                                    0]',                          \n",
      "                                                                     'add_233[0][0]']             \n",
      "                                                                                                  \n",
      " layer_normalization_264 (L  (None, 264, 256)             512       ['add_234[0][0]']             \n",
      " ayerNormalization)                                                                               \n",
      "                                                                                                  \n",
      " dense_256 (Dense)           (None, 264, 512)             131584    ['layer_normalization_264[0][0\n",
      "                                                                    ]']                           \n",
      "                                                                                                  \n",
      " dropout_228 (Dropout)       (None, 264, 512)             0         ['dense_256[0][0]']           \n",
      "                                                                                                  \n",
      " dense_257 (Dense)           (None, 264, 256)             131328    ['dropout_228[0][0]']         \n",
      "                                                                                                  \n",
      " dropout_229 (Dropout)       (None, 264, 256)             0         ['dense_257[0][0]']           \n",
      "                                                                                                  \n",
      " add_235 (Add)               (None, 264, 256)             0         ['dropout_229[0][0]',         \n",
      "                                                                     'add_234[0][0]']             \n",
      "                                                                                                  \n",
      " layer_normalization_265 (L  (None, 264, 256)             512       ['add_235[0][0]']             \n",
      " ayerNormalization)                                                                               \n",
      "                                                                                                  \n",
      " multi_head_attention_139 (  (None, 264, 256)             1051904   ['layer_normalization_265[0][0\n",
      " MultiHeadAttention)                                                ]',                           \n",
      "                                                                     'layer_normalization_265[0][0\n",
      "                                                                    ]']                           \n",
      "                                                                                                  \n",
      " add_236 (Add)               (None, 264, 256)             0         ['multi_head_attention_139[0][\n",
      "                                                                    0]',                          \n",
      "                                                                     'add_235[0][0]']             \n",
      "                                                                                                  \n",
      " layer_normalization_266 (L  (None, 264, 256)             512       ['add_236[0][0]']             \n",
      " ayerNormalization)                                                                               \n",
      "                                                                                                  \n",
      " dense_258 (Dense)           (None, 264, 512)             131584    ['layer_normalization_266[0][0\n",
      "                                                                    ]']                           \n",
      "                                                                                                  \n",
      " dropout_230 (Dropout)       (None, 264, 512)             0         ['dense_258[0][0]']           \n",
      "                                                                                                  \n",
      " dense_259 (Dense)           (None, 264, 256)             131328    ['dropout_230[0][0]']         \n",
      "                                                                                                  \n",
      " dropout_231 (Dropout)       (None, 264, 256)             0         ['dense_259[0][0]']           \n",
      "                                                                                                  \n",
      " add_237 (Add)               (None, 264, 256)             0         ['dropout_231[0][0]',         \n",
      "                                                                     'add_236[0][0]']             \n",
      "                                                                                                  \n",
      " layer_normalization_267 (L  (None, 264, 256)             512       ['add_237[0][0]']             \n",
      " ayerNormalization)                                                                               \n",
      "                                                                                                  \n",
      " multi_head_attention_140 (  (None, 264, 256)             1051904   ['layer_normalization_267[0][0\n",
      " MultiHeadAttention)                                                ]',                           \n",
      "                                                                     'layer_normalization_267[0][0\n",
      "                                                                    ]']                           \n",
      "                                                                                                  \n",
      " add_238 (Add)               (None, 264, 256)             0         ['multi_head_attention_140[0][\n",
      "                                                                    0]',                          \n",
      "                                                                     'add_237[0][0]']             \n",
      "                                                                                                  \n",
      " layer_normalization_268 (L  (None, 264, 256)             512       ['add_238[0][0]']             \n",
      " ayerNormalization)                                                                               \n",
      "                                                                                                  \n",
      " dense_260 (Dense)           (None, 264, 512)             131584    ['layer_normalization_268[0][0\n",
      "                                                                    ]']                           \n",
      "                                                                                                  \n",
      " dropout_232 (Dropout)       (None, 264, 512)             0         ['dense_260[0][0]']           \n",
      "                                                                                                  \n",
      " dense_261 (Dense)           (None, 264, 256)             131328    ['dropout_232[0][0]']         \n",
      "                                                                                                  \n",
      " dropout_233 (Dropout)       (None, 264, 256)             0         ['dense_261[0][0]']           \n",
      "                                                                                                  \n",
      " add_239 (Add)               (None, 264, 256)             0         ['dropout_233[0][0]',         \n",
      "                                                                     'add_238[0][0]']             \n",
      "                                                                                                  \n",
      " layer_normalization_269 (L  (None, 264, 256)             512       ['add_239[0][0]']             \n",
      " ayerNormalization)                                                                               \n",
      "                                                                                                  \n",
      " multi_head_attention_141 (  (None, 264, 256)             1051904   ['layer_normalization_269[0][0\n",
      " MultiHeadAttention)                                                ]',                           \n",
      "                                                                     'layer_normalization_269[0][0\n",
      "                                                                    ]']                           \n",
      "                                                                                                  \n",
      " add_240 (Add)               (None, 264, 256)             0         ['multi_head_attention_141[0][\n",
      "                                                                    0]',                          \n",
      "                                                                     'add_239[0][0]']             \n",
      "                                                                                                  \n",
      " layer_normalization_270 (L  (None, 264, 256)             512       ['add_240[0][0]']             \n",
      " ayerNormalization)                                                                               \n",
      "                                                                                                  \n",
      " dense_262 (Dense)           (None, 264, 512)             131584    ['layer_normalization_270[0][0\n",
      "                                                                    ]']                           \n",
      "                                                                                                  \n",
      " dropout_234 (Dropout)       (None, 264, 512)             0         ['dense_262[0][0]']           \n",
      "                                                                                                  \n",
      " dense_263 (Dense)           (None, 264, 256)             131328    ['dropout_234[0][0]']         \n",
      "                                                                                                  \n",
      " dropout_235 (Dropout)       (None, 264, 256)             0         ['dense_263[0][0]']           \n",
      "                                                                                                  \n",
      " add_241 (Add)               (None, 264, 256)             0         ['dropout_235[0][0]',         \n",
      "                                                                     'add_240[0][0]']             \n",
      "                                                                                                  \n",
      " layer_normalization_271 (L  (None, 264, 256)             512       ['add_241[0][0]']             \n",
      " ayerNormalization)                                                                               \n",
      "                                                                                                  \n",
      " multi_head_attention_142 (  (None, 264, 256)             1051904   ['layer_normalization_271[0][0\n",
      " MultiHeadAttention)                                                ]',                           \n",
      "                                                                     'layer_normalization_271[0][0\n",
      "                                                                    ]']                           \n",
      "                                                                                                  \n",
      " add_242 (Add)               (None, 264, 256)             0         ['multi_head_attention_142[0][\n",
      "                                                                    0]',                          \n",
      "                                                                     'add_241[0][0]']             \n",
      "                                                                                                  \n",
      " layer_normalization_272 (L  (None, 264, 256)             512       ['add_242[0][0]']             \n",
      " ayerNormalization)                                                                               \n",
      "                                                                                                  \n",
      " dense_264 (Dense)           (None, 264, 512)             131584    ['layer_normalization_272[0][0\n",
      "                                                                    ]']                           \n",
      "                                                                                                  \n",
      " dropout_236 (Dropout)       (None, 264, 512)             0         ['dense_264[0][0]']           \n",
      "                                                                                                  \n",
      " dense_265 (Dense)           (None, 264, 256)             131328    ['dropout_236[0][0]']         \n",
      "                                                                                                  \n",
      " dropout_237 (Dropout)       (None, 264, 256)             0         ['dense_265[0][0]']           \n",
      "                                                                                                  \n",
      " add_243 (Add)               (None, 264, 256)             0         ['dropout_237[0][0]',         \n",
      "                                                                     'add_242[0][0]']             \n",
      "                                                                                                  \n",
      " layer_normalization_273 (L  (None, 264, 256)             512       ['add_243[0][0]']             \n",
      " ayerNormalization)                                                                               \n",
      "                                                                                                  \n",
      " multi_head_attention_143 (  (None, 264, 256)             1051904   ['layer_normalization_273[0][0\n",
      " MultiHeadAttention)                                                ]',                           \n",
      "                                                                     'layer_normalization_273[0][0\n",
      "                                                                    ]']                           \n",
      "                                                                                                  \n",
      " add_244 (Add)               (None, 264, 256)             0         ['multi_head_attention_143[0][\n",
      "                                                                    0]',                          \n",
      "                                                                     'add_243[0][0]']             \n",
      "                                                                                                  \n",
      " layer_normalization_274 (L  (None, 264, 256)             512       ['add_244[0][0]']             \n",
      " ayerNormalization)                                                                               \n",
      "                                                                                                  \n",
      " dense_266 (Dense)           (None, 264, 512)             131584    ['layer_normalization_274[0][0\n",
      "                                                                    ]']                           \n",
      "                                                                                                  \n",
      " dropout_238 (Dropout)       (None, 264, 512)             0         ['dense_266[0][0]']           \n",
      "                                                                                                  \n",
      " dense_267 (Dense)           (None, 264, 256)             131328    ['dropout_238[0][0]']         \n",
      "                                                                                                  \n",
      " dropout_239 (Dropout)       (None, 264, 256)             0         ['dense_267[0][0]']           \n",
      "                                                                                                  \n",
      " add_245 (Add)               (None, 264, 256)             0         ['dropout_239[0][0]',         \n",
      "                                                                     'add_244[0][0]']             \n",
      "                                                                                                  \n",
      " layer_normalization_275 (L  (None, 264, 256)             512       ['add_245[0][0]']             \n",
      " ayerNormalization)                                                                               \n",
      "                                                                                                  \n",
      "==================================================================================================\n",
      "Total params: 10604288 (40.45 MB)\n",
      "Trainable params: 10604288 (40.45 MB)\n",
      "Non-trainable params: 0 (0.00 Byte)\n",
      "__________________________________________________________________________________________________\n"
     ]
    }
   ],
   "source": [
    "vit.summary()"
   ]
  },
  {
   "cell_type": "markdown",
   "metadata": {},
   "source": [
    "### Transformer Decoder"
   ]
  },
  {
   "cell_type": "code",
   "execution_count": 301,
   "metadata": {},
   "outputs": [],
   "source": [
    "class SeqEmbedding(tf.keras.layers.Layer):\n",
    "  def __init__(self, vocab_size, max_length, depth):\n",
    "    super().__init__()\n",
    "    self.pos_embedding = tf.keras.layers.Embedding(input_dim=max_length, output_dim=depth)\n",
    "\n",
    "    self.token_embedding = tf.keras.layers.Embedding(\n",
    "        input_dim=vocab_size,\n",
    "        output_dim=depth,\n",
    "        mask_zero=True)\n",
    "\n",
    "    self.add = tf.keras.layers.Add()\n",
    "\n",
    "  def call(self, seq):\n",
    "    seq = self.token_embedding(seq) # (batch, seq, depth)\n",
    "\n",
    "    x = tf.range(tf.shape(seq)[1])  # (seq)\n",
    "    x = x[tf.newaxis, :]  # (1, seq)\n",
    "    x = self.pos_embedding(x)  # (1, seq, depth)\n",
    "\n",
    "    return self.add([seq,x])"
   ]
  },
  {
   "cell_type": "code",
   "execution_count": 302,
   "metadata": {},
   "outputs": [],
   "source": [
    "class CausalSelfAttention(tf.keras.layers.Layer):\n",
    "  def __init__(self, **kwargs):\n",
    "    super().__init__()\n",
    "    self.mha = tf.keras.layers.MultiHeadAttention(**kwargs)\n",
    "    # Use Add instead of + so the keras mask propagates through.\n",
    "    self.add = tf.keras.layers.Add() \n",
    "    self.layernorm = tf.keras.layers.LayerNormalization()\n",
    "\n",
    "  def call(self, x):\n",
    "    attn = self.mha(query=x, value=x,\n",
    "                    use_causal_mask=True)\n",
    "    x = self.add([x, attn])\n",
    "    return self.layernorm(x)"
   ]
  },
  {
   "cell_type": "code",
   "execution_count": 303,
   "metadata": {},
   "outputs": [],
   "source": [
    "class CrossAttention(tf.keras.layers.Layer):\n",
    "  def __init__(self,**kwargs):\n",
    "    super().__init__()\n",
    "    self.mha = tf.keras.layers.MultiHeadAttention(**kwargs)\n",
    "    self.add = tf.keras.layers.Add() \n",
    "    self.layernorm = tf.keras.layers.LayerNormalization()\n",
    "\n",
    "  def call(self, x, y, **kwargs):\n",
    "    attn, attention_scores = self.mha(\n",
    "             query=x, value=y,\n",
    "             return_attention_scores=True)\n",
    "\n",
    "    self.last_attention_scores = attention_scores\n",
    "\n",
    "    x = self.add([x, attn])\n",
    "    return self.layernorm(x)"
   ]
  },
  {
   "cell_type": "code",
   "execution_count": 304,
   "metadata": {},
   "outputs": [],
   "source": [
    "class FeedForward(tf.keras.layers.Layer):\n",
    "  def __init__(self, units, dropout_rate=0.5):\n",
    "    super().__init__()\n",
    "    self.seq = tf.keras.Sequential([\n",
    "        tf.keras.layers.Dense(units=2*units, activation='relu'),\n",
    "        tf.keras.layers.Dense(units=units),\n",
    "        tf.keras.layers.Dropout(rate=dropout_rate),\n",
    "    ])\n",
    "\n",
    "    self.layernorm = tf.keras.layers.LayerNormalization()\n",
    "\n",
    "  def call(self, x):\n",
    "    x = x + self.seq(x)\n",
    "    return self.layernorm(x)"
   ]
  },
  {
   "cell_type": "code",
   "execution_count": 305,
   "metadata": {},
   "outputs": [],
   "source": [
    "class DecoderLayer(tf.keras.layers.Layer):\n",
    "  def __init__(self, units, num_heads=1, dropout_rate=0.5):\n",
    "    super().__init__()\n",
    "\n",
    "    self.self_attention = CausalSelfAttention(num_heads=num_heads,\n",
    "                                              key_dim=units,\n",
    "                                              dropout=dropout_rate)\n",
    "    self.cross_attention = CrossAttention(num_heads=num_heads,\n",
    "                                          key_dim=units,\n",
    "                                          dropout=dropout_rate)\n",
    "    self.ff = FeedForward(units=units, dropout_rate=dropout_rate)\n",
    "\n",
    "\n",
    "  def call(self, inputs, training=False):\n",
    "    in_seq, out_seq = inputs\n",
    "\n",
    "    # Text input\n",
    "    out_seq = self.self_attention(out_seq)\n",
    "\n",
    "    out_seq = self.cross_attention(out_seq, in_seq)\n",
    "\n",
    "    self.last_attention_scores = self.cross_attention.last_attention_scores\n",
    "\n",
    "    out_seq = self.ff(out_seq)\n",
    "\n",
    "    return out_seq"
   ]
  },
  {
   "cell_type": "code",
   "execution_count": 306,
   "metadata": {},
   "outputs": [],
   "source": [
    "class Captioner(tf.keras.Model):\n",
    "  @classmethod\n",
    "  def add_method(cls, fun):\n",
    "    setattr(cls, fun.__name__, fun)\n",
    "    return fun\n",
    "\n",
    "  def __init__(self, tokenizer, feature_extractor, output_layer, num_layers=1,\n",
    "               units=256, max_length=max_seq_len_1, num_heads=1, dropout_rate=0.5):\n",
    "    super().__init__()\n",
    "    self.feature_extractor = feature_extractor\n",
    "    self.tokenizer = tokenizer\n",
    "    self.word_to_index = tf.keras.layers.StringLookup(\n",
    "        mask_token=\"\",\n",
    "        vocabulary=tokenizer.get_vocabulary())\n",
    "    self.index_to_word = tf.keras.layers.StringLookup(\n",
    "        mask_token=\"\",\n",
    "        vocabulary=tokenizer.get_vocabulary(),\n",
    "        invert=True) \n",
    "\n",
    "    self.seq_embedding = SeqEmbedding(\n",
    "        vocab_size=tokenizer.vocabulary_size(),\n",
    "        depth=units,\n",
    "        max_length=max_length)\n",
    "\n",
    "    self.decoder_layers = [\n",
    "        DecoderLayer(units, num_heads=num_heads, dropout_rate=dropout_rate)\n",
    "        for n in range(num_layers)]\n",
    "\n",
    "    self.output_layer = output_layer"
   ]
  },
  {
   "cell_type": "code",
   "execution_count": 307,
   "metadata": {},
   "outputs": [],
   "source": [
    "@Captioner.add_method\n",
    "def call(self, inputs):\n",
    "    image, txt = inputs\n",
    "    \n",
    "    image = self.feature_extractor(image)\n",
    "    #print(image.shape)\n",
    "    # Flatten the feature map\n",
    "    \n",
    "    #image = einops.rearrange(image, 'b h w c -> b (h w) c')\n",
    "    \n",
    "    if txt.dtype == tf.string:\n",
    "      # Apply the tokenizer if you get string inputs.\n",
    "      txt = tokenizer(txt)\n",
    "    \n",
    "    txt = self.seq_embedding(txt)\n",
    "    \n",
    "    # Look at the image\n",
    "    for dec_layer in self.decoder_layers:\n",
    "      txt = dec_layer(inputs=(image, txt))\n",
    "    \n",
    "    txt = self.output_layer(txt)\n",
    "    \n",
    "    return txt"
   ]
  },
  {
   "cell_type": "code",
   "execution_count": 308,
   "metadata": {},
   "outputs": [],
   "source": [
    "import collections \n",
    "import tqdm\n",
    "class TokenOutput(tf.keras.layers.Layer):\n",
    "  def __init__(self, tokenizer, banned_tokens=('', '[UNK]'), **kwargs):\n",
    "    super().__init__()\n",
    "\n",
    "    self.dense = tf.keras.layers.Dense(\n",
    "        units=tokenizer.vocabulary_size(), **kwargs)\n",
    "    self.tokenizer = tokenizer\n",
    "    self.banned_tokens = banned_tokens\n",
    "\n",
    "    self.bias = None\n",
    "\n",
    "  def adapt(self, ds):\n",
    "    counts = collections.Counter()\n",
    "    vocab_dict = {name: id \n",
    "                  for id, name in enumerate(self.tokenizer.get_vocabulary())}\n",
    "\n",
    "    for tokens in ds:\n",
    "      counts.update(tokens.flatten())\n",
    "\n",
    "    counts_arr = np.zeros(shape=(self.tokenizer.vocabulary_size(),))\n",
    "    counts_arr[np.array(list(counts.keys()), dtype=np.int32)] = list(counts.values())\n",
    "\n",
    "    counts_arr = counts_arr[:]\n",
    "    for token in self.banned_tokens:\n",
    "      counts_arr[vocab_dict[token]] = 0\n",
    "\n",
    "    total = counts_arr.sum()\n",
    "    p = counts_arr/total\n",
    "    p[counts_arr==0] = 1.0\n",
    "    log_p = np.log(p)  # log(1) == 0\n",
    "\n",
    "    entropy = -(log_p*p).sum()\n",
    "\n",
    "    print()\n",
    "    print(f\"Uniform entropy: {np.log(self.tokenizer.vocabulary_size()):0.2f}\")\n",
    "    print(f\"Marginal entropy: {entropy:0.2f}\")\n",
    "\n",
    "    self.bias = log_p\n",
    "    self.bias[counts_arr==0] = -1e9\n",
    "\n",
    "  def call(self, x):\n",
    "    x = self.dense(x)\n",
    "    # TODO(b/250038731): Fix this.\n",
    "    # An Add layer doesn't work because of the different shapes.\n",
    "    # This clears the mask, that's okay because it prevents keras from rescaling\n",
    "    # the losses.\n",
    "    return x + self.bias"
   ]
  },
  {
   "cell_type": "code",
   "execution_count": 309,
   "metadata": {},
   "outputs": [
    {
     "name": "stdout",
     "output_type": "stream",
     "text": [
      "\n",
      "Uniform entropy: 6.24\n",
      "Marginal entropy: 3.86\n"
     ]
    }
   ],
   "source": [
    "output_layer = TokenOutput(tokenizer, banned_tokens=('', '[UNK]'))\n",
    "# This might run a little faster if the dataset didn't also have to load the image data.\n",
    "output_layer.adapt(train_sequences)"
   ]
  },
  {
   "cell_type": "code",
   "execution_count": 310,
   "metadata": {},
   "outputs": [],
   "source": [
    "transformer_model = Captioner(tokenizer, feature_extractor=vision_transformer_encoder(IMG_SHAPE), output_layer=output_layer,\n",
    "                  units=EMBEDDING_DIM, dropout_rate=0.5, num_layers=4, num_heads=8, max_length = max_seq_len_1)"
   ]
  },
  {
   "cell_type": "code",
   "execution_count": 311,
   "metadata": {},
   "outputs": [],
   "source": [
    "@Captioner.add_method\n",
    "def simple_gen(self, image, temperature=0):\n",
    "  initial = self.word_to_index([['[START]']]) # (batch, sequence)\n",
    "  #img_features = self.feature_extractor(image[tf.newaxis, ...])\n",
    "\n",
    "  tokens = initial # (batch, sequence)\n",
    "  for n in range(50):\n",
    "    preds = self((image[tf.newaxis, ...], tokens)).numpy()  # (batch, sequence, vocab)\n",
    "    preds = preds[:,-1, :]  #(batch, vocab)\n",
    "    if temperature==0:\n",
    "        next = tf.argmax(preds, axis=-1)[:, tf.newaxis]  # (batch, 1)\n",
    "    else:\n",
    "        next = tf.random.categorical(preds/temperature, num_samples=1)  # (batch, 1)\n",
    "    tokens = tf.concat([tokens, next], axis=1) # (batch, sequence) \n",
    "\n",
    "    if next[0] == self.word_to_index('[END]'):\n",
    "      break\n",
    "  words = self.index_to_word(tokens[0, 1:-1])\n",
    "  result = tf.strings.reduce_join(words, axis=-1, separator=' ')\n",
    "  return result.numpy().decode()"
   ]
  },
  {
   "cell_type": "code",
   "execution_count": 312,
   "metadata": {},
   "outputs": [
    {
     "name": "stdout",
     "output_type": "stream",
     "text": [
      "(50, 200, 1)\n",
      "{ { { { { 2 } } { { { { { { { { { { { _ { { { { { { { { { { { { { { { { { { { { { { { { _ { { { {\n"
     ]
    }
   ],
   "source": [
    "print(img.shape)\n",
    "result = transformer_model.simple_gen(img, temperature=0)\n",
    "print(result)"
   ]
  },
  {
   "cell_type": "code",
   "execution_count": 313,
   "metadata": {},
   "outputs": [],
   "source": [
    "def masked_loss(labels, preds):  \n",
    "  loss = tf.nn.sparse_softmax_cross_entropy_with_logits(labels, preds)\n",
    "\n",
    "  mask = (labels != 0) & (loss < 1e8) \n",
    "  mask = tf.cast(mask, loss.dtype)\n",
    "\n",
    "  loss = loss*mask\n",
    "  loss = tf.reduce_sum(loss)/tf.reduce_sum(mask)\n",
    "  return loss\n",
    "\n",
    "def masked_acc(labels, preds):\n",
    "  mask = tf.cast(labels!=0, tf.float32)\n",
    "  preds = tf.argmax(preds, axis=-1)\n",
    "  labels = tf.cast(labels, tf.int64)\n",
    "  match = tf.cast(preds == labels, mask.dtype)\n",
    "  acc = tf.reduce_sum(match*mask)/tf.reduce_sum(mask)\n",
    "  return acc"
   ]
  },
  {
   "cell_type": "code",
   "execution_count": 314,
   "metadata": {},
   "outputs": [],
   "source": [
    "class GenerateText(tf.keras.callbacks.Callback):\n",
    "  def __init__(self):\n",
    "    self.image = img\n",
    "\n",
    "  def on_epoch_end(self, epochs=None, logs=None):\n",
    "    print()\n",
    "    print()\n",
    "    result = self.model.simple_gen(self.image, temperature=0)\n",
    "    print(result)\n",
    "    print()"
   ]
  },
  {
   "cell_type": "code",
   "execution_count": 315,
   "metadata": {},
   "outputs": [
    {
     "name": "stdout",
     "output_type": "stream",
     "text": [
      "\n",
      "\n",
      "{ { { { { 2 } } { { { { { { { { { { { _ { { { { { { { { { { { { { { { { { { { { { { { { _ { { { {\n",
      "\n"
     ]
    }
   ],
   "source": [
    "g = GenerateText()\n",
    "g.model = transformer_model\n",
    "g.on_epoch_end(0)"
   ]
  },
  {
   "cell_type": "code",
   "execution_count": 317,
   "metadata": {},
   "outputs": [],
   "source": [
    "checkpoint_filepath = 'transformer_model'\n",
    "model_checkpoint_callback = tf.keras.callbacks.ModelCheckpoint(\n",
    "    filepath=checkpoint_filepath,\n",
    "    save_weights_only=True,\n",
    "    monitor='val_loss',  # Save the model with the best validation loss\n",
    "    mode='min',\n",
    "    save_best_only=True,\n",
    "    save_format='tf'\n",
    ")\n",
    "\n",
    "callbacks = [\n",
    "    model_checkpoint_callback,\n",
    "    tf.keras.callbacks.EarlyStopping(\n",
    "        patience=50, restore_best_weights=True, monitor='val_loss')]\n"
   ]
  },
  {
   "cell_type": "code",
   "execution_count": 192,
   "metadata": {},
   "outputs": [
    {
     "data": {
      "text/plain": [
       "<tensorflow.python.checkpoint.checkpoint.CheckpointLoadStatus at 0x7f69e64e5070>"
      ]
     },
     "execution_count": 192,
     "metadata": {},
     "output_type": "execute_result"
    }
   ],
   "source": [
    "transformer_model.load_weights(checkpoint_filepath)"
   ]
  },
  {
   "cell_type": "code",
   "execution_count": 318,
   "metadata": {},
   "outputs": [
    {
     "name": "stdout",
     "output_type": "stream",
     "text": [
      "25000000\n"
     ]
    }
   ],
   "source": [
    "print(int(100000 / 4 * 1000))\n",
    "learning_rate = tf.keras.optimizers.schedules.PolynomialDecay(1e-4, 4000, 1e-6)\n",
    "optimizer = tf.keras.optimizers.AdamW(learning_rate=1e-4, weight_decay=0.0001)\n",
    "\n",
    "transformer_model.compile(optimizer=optimizer,\n",
    "           loss='sparse_categorical_crossentropy',\n",
    "           metrics=['accuracy'])"
   ]
  },
  {
   "cell_type": "code",
   "execution_count": 319,
   "metadata": {},
   "outputs": [
    {
     "name": "stdout",
     "output_type": "stream",
     "text": [
      "Model: \"captioner_6\"\n",
      "_________________________________________________________________\n",
      " Layer (type)                Output Shape              Param #   \n",
      "=================================================================\n",
      " model_25 (Functional)       (None, 264, 256)          10604288  \n",
      "                                                                 \n",
      " text_vectorization_5 (Text  multiple                  0         \n",
      " Vectorization)                                                  \n",
      "                                                                 \n",
      " string_lookup_18 (StringLo  multiple                  0         \n",
      " okup)                                                           \n",
      "                                                                 \n",
      " string_lookup_19 (StringLo  multiple                  0         \n",
      " okup)                                                           \n",
      "                                                                 \n",
      " seq_embedding_6 (SeqEmbedd  multiple                  195328    \n",
      " ing)                                                            \n",
      "                                                                 \n",
      " decoder_layer_24 (DecoderL  multiple                  4471552   \n",
      " ayer)                                                           \n",
      "                                                                 \n",
      " decoder_layer_25 (DecoderL  multiple                  4471552   \n",
      " ayer)                                                           \n",
      "                                                                 \n",
      " decoder_layer_26 (DecoderL  multiple                  4471552   \n",
      " ayer)                                                           \n",
      "                                                                 \n",
      " decoder_layer_27 (DecoderL  multiple                  4471552   \n",
      " ayer)                                                           \n",
      "                                                                 \n",
      " token_output_5 (TokenOutpu  multiple                  132098    \n",
      " t)                                                              \n",
      "                                                                 \n",
      "=================================================================\n",
      "Total params: 28817922 (109.93 MB)\n",
      "Trainable params: 28817922 (109.93 MB)\n",
      "Non-trainable params: 0 (0.00 Byte)\n",
      "_________________________________________________________________\n"
     ]
    }
   ],
   "source": [
    "transformer_model.summary()"
   ]
  },
  {
   "cell_type": "code",
   "execution_count": 329,
   "metadata": {},
   "outputs": [
    {
     "name": "stdout",
     "output_type": "stream",
     "text": [
      "(50000, 50, 200, 1)\n",
      "(50000, 152)\n"
     ]
    }
   ],
   "source": [
    "print(train_images.shape)\n",
    "print(train_sequences.shape)"
   ]
  },
  {
   "cell_type": "code",
   "execution_count": 330,
   "metadata": {},
   "outputs": [],
   "source": [
    "# dataset = tf.data.Dataset.from_tensor_slices(([train_images, input_labels], output_labels))\n",
    "# dataset = dataset.batch(32)"
   ]
  },
  {
   "cell_type": "code",
   "execution_count": 234,
   "metadata": {},
   "outputs": [
    {
     "name": "stdout",
     "output_type": "stream",
     "text": [
      "Epoch 1/10000\n",
      "625/625 [==============================] - 730s 1s/step - loss: 6.2422 - accuracy: 0.0109 - val_loss: 6.2422 - val_accuracy: 0.0113\n",
      "Epoch 2/10000\n",
      "625/625 [==============================] - 703s 1s/step - loss: 6.2422 - accuracy: 0.0107 - val_loss: 6.2422 - val_accuracy: 0.0113\n",
      "Epoch 3/10000\n",
      "625/625 [==============================] - 703s 1s/step - loss: 6.2422 - accuracy: 0.0107 - val_loss: 6.2422 - val_accuracy: 0.0113\n",
      "Epoch 4/10000\n",
      " 29/625 [>.............................] - ETA: 10:18 - loss: 6.2422 - accuracy: 0.0106"
     ]
    },
    {
     "ename": "KeyboardInterrupt",
     "evalue": "",
     "output_type": "error",
     "traceback": [
      "\u001b[0;31m---------------------------------------------------------------------------\u001b[0m",
      "\u001b[0;31mKeyboardInterrupt\u001b[0m                         Traceback (most recent call last)",
      "Cell \u001b[0;32mIn[234], line 2\u001b[0m\n\u001b[1;32m      1\u001b[0m \u001b[38;5;28;01mwith\u001b[39;00m tf\u001b[38;5;241m.\u001b[39mdevice(\u001b[38;5;124m'\u001b[39m\u001b[38;5;124m/GPU:0\u001b[39m\u001b[38;5;124m'\u001b[39m):\n\u001b[0;32m----> 2\u001b[0m     history \u001b[38;5;241m=\u001b[39m \u001b[43mtransformer_model\u001b[49m\u001b[38;5;241;43m.\u001b[39;49m\u001b[43mfit\u001b[49m\u001b[43m(\u001b[49m\u001b[43m[\u001b[49m\u001b[43mtrain_images\u001b[49m\u001b[43m,\u001b[49m\u001b[43m \u001b[49m\u001b[43mtrain_sequences\u001b[49m\u001b[43m[\u001b[49m\u001b[43m:\u001b[49m\u001b[43m,\u001b[49m\u001b[43m \u001b[49m\u001b[43m:\u001b[49m\u001b[38;5;241;43m-\u001b[39;49m\u001b[38;5;241;43m1\u001b[39;49m\u001b[43m]\u001b[49m\u001b[43m]\u001b[49m\u001b[43m,\u001b[49m\n\u001b[1;32m      3\u001b[0m \u001b[43m                  \u001b[49m\u001b[43mtrain_sequences\u001b[49m\u001b[43m[\u001b[49m\u001b[43m:\u001b[49m\u001b[43m,\u001b[49m\u001b[43m \u001b[49m\u001b[38;5;241;43m1\u001b[39;49m\u001b[43m:\u001b[49m\u001b[43m]\u001b[49m\u001b[43m,\u001b[49m\n\u001b[1;32m      4\u001b[0m \u001b[43m                  \u001b[49m\u001b[43mepochs\u001b[49m\u001b[38;5;241;43m=\u001b[39;49m\u001b[38;5;241;43m10000\u001b[39;49m\u001b[43m,\u001b[49m\n\u001b[1;32m      5\u001b[0m \u001b[43m                  \u001b[49m\u001b[43mbatch_size\u001b[49m\u001b[38;5;241;43m=\u001b[39;49m\u001b[38;5;241;43m64\u001b[39;49m\u001b[43m,\u001b[49m\n\u001b[1;32m      6\u001b[0m \u001b[43m                  \u001b[49m\u001b[43mvalidation_split\u001b[49m\u001b[38;5;241;43m=\u001b[39;49m\u001b[38;5;241;43m0.2\u001b[39;49m\u001b[43m,\u001b[49m\u001b[43m \u001b[49m\u001b[43mcallbacks\u001b[49m\u001b[38;5;241;43m=\u001b[39;49m\u001b[43mcallbacks\u001b[49m\u001b[43m)\u001b[49m\n",
      "File \u001b[0;32m~/tf/lib/python3.8/site-packages/keras/src/utils/traceback_utils.py:65\u001b[0m, in \u001b[0;36mfilter_traceback.<locals>.error_handler\u001b[0;34m(*args, **kwargs)\u001b[0m\n\u001b[1;32m     63\u001b[0m filtered_tb \u001b[38;5;241m=\u001b[39m \u001b[38;5;28;01mNone\u001b[39;00m\n\u001b[1;32m     64\u001b[0m \u001b[38;5;28;01mtry\u001b[39;00m:\n\u001b[0;32m---> 65\u001b[0m     \u001b[38;5;28;01mreturn\u001b[39;00m \u001b[43mfn\u001b[49m\u001b[43m(\u001b[49m\u001b[38;5;241;43m*\u001b[39;49m\u001b[43margs\u001b[49m\u001b[43m,\u001b[49m\u001b[43m \u001b[49m\u001b[38;5;241;43m*\u001b[39;49m\u001b[38;5;241;43m*\u001b[39;49m\u001b[43mkwargs\u001b[49m\u001b[43m)\u001b[49m\n\u001b[1;32m     66\u001b[0m \u001b[38;5;28;01mexcept\u001b[39;00m \u001b[38;5;167;01mException\u001b[39;00m \u001b[38;5;28;01mas\u001b[39;00m e:\n\u001b[1;32m     67\u001b[0m     filtered_tb \u001b[38;5;241m=\u001b[39m _process_traceback_frames(e\u001b[38;5;241m.\u001b[39m__traceback__)\n",
      "File \u001b[0;32m~/tf/lib/python3.8/site-packages/keras/src/engine/training.py:1748\u001b[0m, in \u001b[0;36mModel.fit\u001b[0;34m(self, x, y, batch_size, epochs, verbose, callbacks, validation_split, validation_data, shuffle, class_weight, sample_weight, initial_epoch, steps_per_epoch, validation_steps, validation_batch_size, validation_freq, max_queue_size, workers, use_multiprocessing)\u001b[0m\n\u001b[1;32m   1746\u001b[0m logs \u001b[38;5;241m=\u001b[39m tmp_logs\n\u001b[1;32m   1747\u001b[0m end_step \u001b[38;5;241m=\u001b[39m step \u001b[38;5;241m+\u001b[39m data_handler\u001b[38;5;241m.\u001b[39mstep_increment\n\u001b[0;32m-> 1748\u001b[0m \u001b[43mcallbacks\u001b[49m\u001b[38;5;241;43m.\u001b[39;49m\u001b[43mon_train_batch_end\u001b[49m\u001b[43m(\u001b[49m\u001b[43mend_step\u001b[49m\u001b[43m,\u001b[49m\u001b[43m \u001b[49m\u001b[43mlogs\u001b[49m\u001b[43m)\u001b[49m\n\u001b[1;32m   1749\u001b[0m \u001b[38;5;28;01mif\u001b[39;00m \u001b[38;5;28mself\u001b[39m\u001b[38;5;241m.\u001b[39mstop_training:\n\u001b[1;32m   1750\u001b[0m     \u001b[38;5;28;01mbreak\u001b[39;00m\n",
      "File \u001b[0;32m~/tf/lib/python3.8/site-packages/keras/src/callbacks.py:475\u001b[0m, in \u001b[0;36mCallbackList.on_train_batch_end\u001b[0;34m(self, batch, logs)\u001b[0m\n\u001b[1;32m    468\u001b[0m \u001b[38;5;250m\u001b[39m\u001b[38;5;124;03m\"\"\"Calls the `on_train_batch_end` methods of its callbacks.\u001b[39;00m\n\u001b[1;32m    469\u001b[0m \n\u001b[1;32m    470\u001b[0m \u001b[38;5;124;03mArgs:\u001b[39;00m\n\u001b[1;32m    471\u001b[0m \u001b[38;5;124;03m    batch: Integer, index of batch within the current epoch.\u001b[39;00m\n\u001b[1;32m    472\u001b[0m \u001b[38;5;124;03m    logs: Dict. Aggregated metric results up until this batch.\u001b[39;00m\n\u001b[1;32m    473\u001b[0m \u001b[38;5;124;03m\"\"\"\u001b[39;00m\n\u001b[1;32m    474\u001b[0m \u001b[38;5;28;01mif\u001b[39;00m \u001b[38;5;28mself\u001b[39m\u001b[38;5;241m.\u001b[39m_should_call_train_batch_hooks:\n\u001b[0;32m--> 475\u001b[0m     \u001b[38;5;28;43mself\u001b[39;49m\u001b[38;5;241;43m.\u001b[39;49m\u001b[43m_call_batch_hook\u001b[49m\u001b[43m(\u001b[49m\u001b[43mModeKeys\u001b[49m\u001b[38;5;241;43m.\u001b[39;49m\u001b[43mTRAIN\u001b[49m\u001b[43m,\u001b[49m\u001b[43m \u001b[49m\u001b[38;5;124;43m\"\u001b[39;49m\u001b[38;5;124;43mend\u001b[39;49m\u001b[38;5;124;43m\"\u001b[39;49m\u001b[43m,\u001b[49m\u001b[43m \u001b[49m\u001b[43mbatch\u001b[49m\u001b[43m,\u001b[49m\u001b[43m \u001b[49m\u001b[43mlogs\u001b[49m\u001b[38;5;241;43m=\u001b[39;49m\u001b[43mlogs\u001b[49m\u001b[43m)\u001b[49m\n",
      "File \u001b[0;32m~/tf/lib/python3.8/site-packages/keras/src/callbacks.py:322\u001b[0m, in \u001b[0;36mCallbackList._call_batch_hook\u001b[0;34m(self, mode, hook, batch, logs)\u001b[0m\n\u001b[1;32m    320\u001b[0m     \u001b[38;5;28mself\u001b[39m\u001b[38;5;241m.\u001b[39m_call_batch_begin_hook(mode, batch, logs)\n\u001b[1;32m    321\u001b[0m \u001b[38;5;28;01melif\u001b[39;00m hook \u001b[38;5;241m==\u001b[39m \u001b[38;5;124m\"\u001b[39m\u001b[38;5;124mend\u001b[39m\u001b[38;5;124m\"\u001b[39m:\n\u001b[0;32m--> 322\u001b[0m     \u001b[38;5;28;43mself\u001b[39;49m\u001b[38;5;241;43m.\u001b[39;49m\u001b[43m_call_batch_end_hook\u001b[49m\u001b[43m(\u001b[49m\u001b[43mmode\u001b[49m\u001b[43m,\u001b[49m\u001b[43m \u001b[49m\u001b[43mbatch\u001b[49m\u001b[43m,\u001b[49m\u001b[43m \u001b[49m\u001b[43mlogs\u001b[49m\u001b[43m)\u001b[49m\n\u001b[1;32m    323\u001b[0m \u001b[38;5;28;01melse\u001b[39;00m:\n\u001b[1;32m    324\u001b[0m     \u001b[38;5;28;01mraise\u001b[39;00m \u001b[38;5;167;01mValueError\u001b[39;00m(\n\u001b[1;32m    325\u001b[0m         \u001b[38;5;124mf\u001b[39m\u001b[38;5;124m\"\u001b[39m\u001b[38;5;124mUnrecognized hook: \u001b[39m\u001b[38;5;132;01m{\u001b[39;00mhook\u001b[38;5;132;01m}\u001b[39;00m\u001b[38;5;124m. \u001b[39m\u001b[38;5;124m\"\u001b[39m\n\u001b[1;32m    326\u001b[0m         \u001b[38;5;124m'\u001b[39m\u001b[38;5;124mExpected values are [\u001b[39m\u001b[38;5;124m\"\u001b[39m\u001b[38;5;124mbegin\u001b[39m\u001b[38;5;124m\"\u001b[39m\u001b[38;5;124m, \u001b[39m\u001b[38;5;124m\"\u001b[39m\u001b[38;5;124mend\u001b[39m\u001b[38;5;124m\"\u001b[39m\u001b[38;5;124m]\u001b[39m\u001b[38;5;124m'\u001b[39m\n\u001b[1;32m    327\u001b[0m     )\n",
      "File \u001b[0;32m~/tf/lib/python3.8/site-packages/keras/src/callbacks.py:345\u001b[0m, in \u001b[0;36mCallbackList._call_batch_end_hook\u001b[0;34m(self, mode, batch, logs)\u001b[0m\n\u001b[1;32m    342\u001b[0m     batch_time \u001b[38;5;241m=\u001b[39m time\u001b[38;5;241m.\u001b[39mtime() \u001b[38;5;241m-\u001b[39m \u001b[38;5;28mself\u001b[39m\u001b[38;5;241m.\u001b[39m_batch_start_time\n\u001b[1;32m    343\u001b[0m     \u001b[38;5;28mself\u001b[39m\u001b[38;5;241m.\u001b[39m_batch_times\u001b[38;5;241m.\u001b[39mappend(batch_time)\n\u001b[0;32m--> 345\u001b[0m \u001b[38;5;28;43mself\u001b[39;49m\u001b[38;5;241;43m.\u001b[39;49m\u001b[43m_call_batch_hook_helper\u001b[49m\u001b[43m(\u001b[49m\u001b[43mhook_name\u001b[49m\u001b[43m,\u001b[49m\u001b[43m \u001b[49m\u001b[43mbatch\u001b[49m\u001b[43m,\u001b[49m\u001b[43m \u001b[49m\u001b[43mlogs\u001b[49m\u001b[43m)\u001b[49m\n\u001b[1;32m    347\u001b[0m \u001b[38;5;28;01mif\u001b[39;00m \u001b[38;5;28mlen\u001b[39m(\u001b[38;5;28mself\u001b[39m\u001b[38;5;241m.\u001b[39m_batch_times) \u001b[38;5;241m>\u001b[39m\u001b[38;5;241m=\u001b[39m \u001b[38;5;28mself\u001b[39m\u001b[38;5;241m.\u001b[39m_num_batches_for_timing_check:\n\u001b[1;32m    348\u001b[0m     end_hook_name \u001b[38;5;241m=\u001b[39m hook_name\n",
      "File \u001b[0;32m~/tf/lib/python3.8/site-packages/keras/src/callbacks.py:393\u001b[0m, in \u001b[0;36mCallbackList._call_batch_hook_helper\u001b[0;34m(self, hook_name, batch, logs)\u001b[0m\n\u001b[1;32m    391\u001b[0m \u001b[38;5;28;01mfor\u001b[39;00m callback \u001b[38;5;129;01min\u001b[39;00m \u001b[38;5;28mself\u001b[39m\u001b[38;5;241m.\u001b[39mcallbacks:\n\u001b[1;32m    392\u001b[0m     hook \u001b[38;5;241m=\u001b[39m \u001b[38;5;28mgetattr\u001b[39m(callback, hook_name)\n\u001b[0;32m--> 393\u001b[0m     \u001b[43mhook\u001b[49m\u001b[43m(\u001b[49m\u001b[43mbatch\u001b[49m\u001b[43m,\u001b[49m\u001b[43m \u001b[49m\u001b[43mlogs\u001b[49m\u001b[43m)\u001b[49m\n\u001b[1;32m    395\u001b[0m \u001b[38;5;28;01mif\u001b[39;00m \u001b[38;5;28mself\u001b[39m\u001b[38;5;241m.\u001b[39m_check_timing:\n\u001b[1;32m    396\u001b[0m     \u001b[38;5;28;01mif\u001b[39;00m hook_name \u001b[38;5;129;01mnot\u001b[39;00m \u001b[38;5;129;01min\u001b[39;00m \u001b[38;5;28mself\u001b[39m\u001b[38;5;241m.\u001b[39m_hook_times:\n",
      "File \u001b[0;32m~/tf/lib/python3.8/site-packages/keras/src/callbacks.py:1093\u001b[0m, in \u001b[0;36mProgbarLogger.on_train_batch_end\u001b[0;34m(self, batch, logs)\u001b[0m\n\u001b[1;32m   1092\u001b[0m \u001b[38;5;28;01mdef\u001b[39;00m \u001b[38;5;21mon_train_batch_end\u001b[39m(\u001b[38;5;28mself\u001b[39m, batch, logs\u001b[38;5;241m=\u001b[39m\u001b[38;5;28;01mNone\u001b[39;00m):\n\u001b[0;32m-> 1093\u001b[0m     \u001b[38;5;28;43mself\u001b[39;49m\u001b[38;5;241;43m.\u001b[39;49m\u001b[43m_batch_update_progbar\u001b[49m\u001b[43m(\u001b[49m\u001b[43mbatch\u001b[49m\u001b[43m,\u001b[49m\u001b[43m \u001b[49m\u001b[43mlogs\u001b[49m\u001b[43m)\u001b[49m\n",
      "File \u001b[0;32m~/tf/lib/python3.8/site-packages/keras/src/callbacks.py:1169\u001b[0m, in \u001b[0;36mProgbarLogger._batch_update_progbar\u001b[0;34m(self, batch, logs)\u001b[0m\n\u001b[1;32m   1165\u001b[0m     \u001b[38;5;28mself\u001b[39m\u001b[38;5;241m.\u001b[39mseen \u001b[38;5;241m+\u001b[39m\u001b[38;5;241m=\u001b[39m add_seen\n\u001b[1;32m   1167\u001b[0m \u001b[38;5;28;01mif\u001b[39;00m \u001b[38;5;28mself\u001b[39m\u001b[38;5;241m.\u001b[39mverbose \u001b[38;5;241m==\u001b[39m \u001b[38;5;241m1\u001b[39m:\n\u001b[1;32m   1168\u001b[0m     \u001b[38;5;66;03m# Only block async when verbose = 1.\u001b[39;00m\n\u001b[0;32m-> 1169\u001b[0m     logs \u001b[38;5;241m=\u001b[39m \u001b[43mtf_utils\u001b[49m\u001b[38;5;241;43m.\u001b[39;49m\u001b[43msync_to_numpy_or_python_type\u001b[49m\u001b[43m(\u001b[49m\u001b[43mlogs\u001b[49m\u001b[43m)\u001b[49m\n\u001b[1;32m   1170\u001b[0m     \u001b[38;5;28mself\u001b[39m\u001b[38;5;241m.\u001b[39mprogbar\u001b[38;5;241m.\u001b[39mupdate(\u001b[38;5;28mself\u001b[39m\u001b[38;5;241m.\u001b[39mseen, \u001b[38;5;28mlist\u001b[39m(logs\u001b[38;5;241m.\u001b[39mitems()), finalize\u001b[38;5;241m=\u001b[39m\u001b[38;5;28;01mFalse\u001b[39;00m)\n",
      "File \u001b[0;32m~/tf/lib/python3.8/site-packages/keras/src/utils/tf_utils.py:694\u001b[0m, in \u001b[0;36msync_to_numpy_or_python_type\u001b[0;34m(tensors)\u001b[0m\n\u001b[1;32m    691\u001b[0m         \u001b[38;5;28;01mreturn\u001b[39;00m t\n\u001b[1;32m    692\u001b[0m     \u001b[38;5;28;01mreturn\u001b[39;00m t\u001b[38;5;241m.\u001b[39mitem() \u001b[38;5;28;01mif\u001b[39;00m np\u001b[38;5;241m.\u001b[39mndim(t) \u001b[38;5;241m==\u001b[39m \u001b[38;5;241m0\u001b[39m \u001b[38;5;28;01melse\u001b[39;00m t\n\u001b[0;32m--> 694\u001b[0m \u001b[38;5;28;01mreturn\u001b[39;00m \u001b[43mtf\u001b[49m\u001b[38;5;241;43m.\u001b[39;49m\u001b[43mnest\u001b[49m\u001b[38;5;241;43m.\u001b[39;49m\u001b[43mmap_structure\u001b[49m\u001b[43m(\u001b[49m\u001b[43m_to_single_numpy_or_python_type\u001b[49m\u001b[43m,\u001b[49m\u001b[43m \u001b[49m\u001b[43mtensors\u001b[49m\u001b[43m)\u001b[49m\n",
      "File \u001b[0;32m~/tf/lib/python3.8/site-packages/tensorflow/python/util/nest.py:624\u001b[0m, in \u001b[0;36mmap_structure\u001b[0;34m(func, *structure, **kwargs)\u001b[0m\n\u001b[1;32m    538\u001b[0m \u001b[38;5;129m@tf_export\u001b[39m(\u001b[38;5;124m\"\u001b[39m\u001b[38;5;124mnest.map_structure\u001b[39m\u001b[38;5;124m\"\u001b[39m)\n\u001b[1;32m    539\u001b[0m \u001b[38;5;28;01mdef\u001b[39;00m \u001b[38;5;21mmap_structure\u001b[39m(func, \u001b[38;5;241m*\u001b[39mstructure, \u001b[38;5;241m*\u001b[39m\u001b[38;5;241m*\u001b[39mkwargs):\n\u001b[1;32m    540\u001b[0m \u001b[38;5;250m  \u001b[39m\u001b[38;5;124;03m\"\"\"Creates a new structure by applying `func` to each atom in `structure`.\u001b[39;00m\n\u001b[1;32m    541\u001b[0m \n\u001b[1;32m    542\u001b[0m \u001b[38;5;124;03m  Refer to [tf.nest](https://www.tensorflow.org/api_docs/python/tf/nest)\u001b[39;00m\n\u001b[0;32m   (...)\u001b[0m\n\u001b[1;32m    622\u001b[0m \u001b[38;5;124;03m    ValueError: If wrong keyword arguments are provided.\u001b[39;00m\n\u001b[1;32m    623\u001b[0m \u001b[38;5;124;03m  \"\"\"\u001b[39;00m\n\u001b[0;32m--> 624\u001b[0m   \u001b[38;5;28;01mreturn\u001b[39;00m \u001b[43mnest_util\u001b[49m\u001b[38;5;241;43m.\u001b[39;49m\u001b[43mmap_structure\u001b[49m\u001b[43m(\u001b[49m\n\u001b[1;32m    625\u001b[0m \u001b[43m      \u001b[49m\u001b[43mnest_util\u001b[49m\u001b[38;5;241;43m.\u001b[39;49m\u001b[43mModality\u001b[49m\u001b[38;5;241;43m.\u001b[39;49m\u001b[43mCORE\u001b[49m\u001b[43m,\u001b[49m\u001b[43m \u001b[49m\u001b[43mfunc\u001b[49m\u001b[43m,\u001b[49m\u001b[43m \u001b[49m\u001b[38;5;241;43m*\u001b[39;49m\u001b[43mstructure\u001b[49m\u001b[43m,\u001b[49m\u001b[43m \u001b[49m\u001b[38;5;241;43m*\u001b[39;49m\u001b[38;5;241;43m*\u001b[39;49m\u001b[43mkwargs\u001b[49m\n\u001b[1;32m    626\u001b[0m \u001b[43m  \u001b[49m\u001b[43m)\u001b[49m\n",
      "File \u001b[0;32m~/tf/lib/python3.8/site-packages/tensorflow/python/util/nest_util.py:1054\u001b[0m, in \u001b[0;36mmap_structure\u001b[0;34m(modality, func, *structure, **kwargs)\u001b[0m\n\u001b[1;32m    957\u001b[0m \u001b[38;5;250m\u001b[39m\u001b[38;5;124;03m\"\"\"Creates a new structure by applying `func` to each atom in `structure`.\u001b[39;00m\n\u001b[1;32m    958\u001b[0m \n\u001b[1;32m    959\u001b[0m \u001b[38;5;124;03m- For Modality.CORE: Refer to\u001b[39;00m\n\u001b[0;32m   (...)\u001b[0m\n\u001b[1;32m   1051\u001b[0m \u001b[38;5;124;03m  ValueError: If wrong keyword arguments are provided.\u001b[39;00m\n\u001b[1;32m   1052\u001b[0m \u001b[38;5;124;03m\"\"\"\u001b[39;00m\n\u001b[1;32m   1053\u001b[0m \u001b[38;5;28;01mif\u001b[39;00m modality \u001b[38;5;241m==\u001b[39m Modality\u001b[38;5;241m.\u001b[39mCORE:\n\u001b[0;32m-> 1054\u001b[0m   \u001b[38;5;28;01mreturn\u001b[39;00m \u001b[43m_tf_core_map_structure\u001b[49m\u001b[43m(\u001b[49m\u001b[43mfunc\u001b[49m\u001b[43m,\u001b[49m\u001b[43m \u001b[49m\u001b[38;5;241;43m*\u001b[39;49m\u001b[43mstructure\u001b[49m\u001b[43m,\u001b[49m\u001b[43m \u001b[49m\u001b[38;5;241;43m*\u001b[39;49m\u001b[38;5;241;43m*\u001b[39;49m\u001b[43mkwargs\u001b[49m\u001b[43m)\u001b[49m\n\u001b[1;32m   1055\u001b[0m \u001b[38;5;28;01melif\u001b[39;00m modality \u001b[38;5;241m==\u001b[39m Modality\u001b[38;5;241m.\u001b[39mDATA:\n\u001b[1;32m   1056\u001b[0m   \u001b[38;5;28;01mreturn\u001b[39;00m _tf_data_map_structure(func, \u001b[38;5;241m*\u001b[39mstructure, \u001b[38;5;241m*\u001b[39m\u001b[38;5;241m*\u001b[39mkwargs)\n",
      "File \u001b[0;32m~/tf/lib/python3.8/site-packages/tensorflow/python/util/nest_util.py:1094\u001b[0m, in \u001b[0;36m_tf_core_map_structure\u001b[0;34m(func, *structure, **kwargs)\u001b[0m\n\u001b[1;32m   1089\u001b[0m flat_structure \u001b[38;5;241m=\u001b[39m (_tf_core_flatten(s, expand_composites) \u001b[38;5;28;01mfor\u001b[39;00m s \u001b[38;5;129;01min\u001b[39;00m structure)\n\u001b[1;32m   1090\u001b[0m entries \u001b[38;5;241m=\u001b[39m \u001b[38;5;28mzip\u001b[39m(\u001b[38;5;241m*\u001b[39mflat_structure)\n\u001b[1;32m   1092\u001b[0m \u001b[38;5;28;01mreturn\u001b[39;00m _tf_core_pack_sequence_as(\n\u001b[1;32m   1093\u001b[0m     structure[\u001b[38;5;241m0\u001b[39m],\n\u001b[0;32m-> 1094\u001b[0m     [func(\u001b[38;5;241m*\u001b[39mx) \u001b[38;5;28;01mfor\u001b[39;00m x \u001b[38;5;129;01min\u001b[39;00m entries],\n\u001b[1;32m   1095\u001b[0m     expand_composites\u001b[38;5;241m=\u001b[39mexpand_composites,\n\u001b[1;32m   1096\u001b[0m )\n",
      "File \u001b[0;32m~/tf/lib/python3.8/site-packages/tensorflow/python/util/nest_util.py:1094\u001b[0m, in \u001b[0;36m<listcomp>\u001b[0;34m(.0)\u001b[0m\n\u001b[1;32m   1089\u001b[0m flat_structure \u001b[38;5;241m=\u001b[39m (_tf_core_flatten(s, expand_composites) \u001b[38;5;28;01mfor\u001b[39;00m s \u001b[38;5;129;01min\u001b[39;00m structure)\n\u001b[1;32m   1090\u001b[0m entries \u001b[38;5;241m=\u001b[39m \u001b[38;5;28mzip\u001b[39m(\u001b[38;5;241m*\u001b[39mflat_structure)\n\u001b[1;32m   1092\u001b[0m \u001b[38;5;28;01mreturn\u001b[39;00m _tf_core_pack_sequence_as(\n\u001b[1;32m   1093\u001b[0m     structure[\u001b[38;5;241m0\u001b[39m],\n\u001b[0;32m-> 1094\u001b[0m     [\u001b[43mfunc\u001b[49m\u001b[43m(\u001b[49m\u001b[38;5;241;43m*\u001b[39;49m\u001b[43mx\u001b[49m\u001b[43m)\u001b[49m \u001b[38;5;28;01mfor\u001b[39;00m x \u001b[38;5;129;01min\u001b[39;00m entries],\n\u001b[1;32m   1095\u001b[0m     expand_composites\u001b[38;5;241m=\u001b[39mexpand_composites,\n\u001b[1;32m   1096\u001b[0m )\n",
      "File \u001b[0;32m~/tf/lib/python3.8/site-packages/keras/src/utils/tf_utils.py:687\u001b[0m, in \u001b[0;36msync_to_numpy_or_python_type.<locals>._to_single_numpy_or_python_type\u001b[0;34m(t)\u001b[0m\n\u001b[1;32m    684\u001b[0m \u001b[38;5;28;01mdef\u001b[39;00m \u001b[38;5;21m_to_single_numpy_or_python_type\u001b[39m(t):\n\u001b[1;32m    685\u001b[0m     \u001b[38;5;66;03m# Don't turn ragged or sparse tensors to NumPy.\u001b[39;00m\n\u001b[1;32m    686\u001b[0m     \u001b[38;5;28;01mif\u001b[39;00m \u001b[38;5;28misinstance\u001b[39m(t, tf\u001b[38;5;241m.\u001b[39mTensor):\n\u001b[0;32m--> 687\u001b[0m         t \u001b[38;5;241m=\u001b[39m \u001b[43mt\u001b[49m\u001b[38;5;241;43m.\u001b[39;49m\u001b[43mnumpy\u001b[49m\u001b[43m(\u001b[49m\u001b[43m)\u001b[49m\n\u001b[1;32m    688\u001b[0m     \u001b[38;5;66;03m# Strings, ragged and sparse tensors don't have .item(). Return them\u001b[39;00m\n\u001b[1;32m    689\u001b[0m     \u001b[38;5;66;03m# as-is.\u001b[39;00m\n\u001b[1;32m    690\u001b[0m     \u001b[38;5;28;01mif\u001b[39;00m \u001b[38;5;129;01mnot\u001b[39;00m \u001b[38;5;28misinstance\u001b[39m(t, (np\u001b[38;5;241m.\u001b[39mndarray, np\u001b[38;5;241m.\u001b[39mgeneric)):\n",
      "File \u001b[0;32m~/tf/lib/python3.8/site-packages/tensorflow/python/framework/ops.py:1141\u001b[0m, in \u001b[0;36m_EagerTensorBase.numpy\u001b[0;34m(self)\u001b[0m\n\u001b[1;32m   1118\u001b[0m \u001b[38;5;250m\u001b[39m\u001b[38;5;124;03m\"\"\"Copy of the contents of this Tensor into a NumPy array or scalar.\u001b[39;00m\n\u001b[1;32m   1119\u001b[0m \n\u001b[1;32m   1120\u001b[0m \u001b[38;5;124;03mUnlike NumPy arrays, Tensors are immutable, so this method has to copy\u001b[39;00m\n\u001b[0;32m   (...)\u001b[0m\n\u001b[1;32m   1138\u001b[0m \u001b[38;5;124;03m    NumPy dtype.\u001b[39;00m\n\u001b[1;32m   1139\u001b[0m \u001b[38;5;124;03m\"\"\"\u001b[39;00m\n\u001b[1;32m   1140\u001b[0m \u001b[38;5;66;03m# TODO(slebedev): Consider avoiding a copy for non-CPU or remote tensors.\u001b[39;00m\n\u001b[0;32m-> 1141\u001b[0m maybe_arr \u001b[38;5;241m=\u001b[39m \u001b[38;5;28;43mself\u001b[39;49m\u001b[38;5;241;43m.\u001b[39;49m\u001b[43m_numpy\u001b[49m\u001b[43m(\u001b[49m\u001b[43m)\u001b[49m  \u001b[38;5;66;03m# pylint: disable=protected-access\u001b[39;00m\n\u001b[1;32m   1142\u001b[0m \u001b[38;5;28;01mreturn\u001b[39;00m maybe_arr\u001b[38;5;241m.\u001b[39mcopy() \u001b[38;5;28;01mif\u001b[39;00m \u001b[38;5;28misinstance\u001b[39m(maybe_arr, np\u001b[38;5;241m.\u001b[39mndarray) \u001b[38;5;28;01melse\u001b[39;00m maybe_arr\n",
      "File \u001b[0;32m~/tf/lib/python3.8/site-packages/tensorflow/python/framework/ops.py:1107\u001b[0m, in \u001b[0;36m_EagerTensorBase._numpy\u001b[0;34m(self)\u001b[0m\n\u001b[1;32m   1105\u001b[0m \u001b[38;5;28;01mdef\u001b[39;00m \u001b[38;5;21m_numpy\u001b[39m(\u001b[38;5;28mself\u001b[39m):\n\u001b[1;32m   1106\u001b[0m   \u001b[38;5;28;01mtry\u001b[39;00m:\n\u001b[0;32m-> 1107\u001b[0m     \u001b[38;5;28;01mreturn\u001b[39;00m \u001b[38;5;28;43mself\u001b[39;49m\u001b[38;5;241;43m.\u001b[39;49m\u001b[43m_numpy_internal\u001b[49m\u001b[43m(\u001b[49m\u001b[43m)\u001b[49m\n\u001b[1;32m   1108\u001b[0m   \u001b[38;5;28;01mexcept\u001b[39;00m core\u001b[38;5;241m.\u001b[39m_NotOkStatusException \u001b[38;5;28;01mas\u001b[39;00m e:  \u001b[38;5;66;03m# pylint: disable=protected-access\u001b[39;00m\n\u001b[1;32m   1109\u001b[0m     \u001b[38;5;28;01mraise\u001b[39;00m core\u001b[38;5;241m.\u001b[39m_status_to_exception(e) \u001b[38;5;28;01mfrom\u001b[39;00m \u001b[38;5;28;01mNone\u001b[39;00m\n",
      "\u001b[0;31mKeyboardInterrupt\u001b[0m: "
     ]
    }
   ],
   "source": [
    "with tf.device('/GPU:0'):\n",
    "    history = transformer_model.fit([train_images, train_sequences[:, :-1]],\n",
    "                  train_sequences[:, 1:],\n",
    "                  epochs=10000,\n",
    "                  batch_size=64,\n",
    "                  validation_split=0.2, callbacks=callbacks)"
   ]
  },
  {
   "cell_type": "code",
   "execution_count": 236,
   "metadata": {},
   "outputs": [
    {
     "data": {
      "image/png": "[encoded data removed]",
      "text/plain": [
       "<Figure size 640x480 with 1 Axes>"
      ]
     },
     "metadata": {},
     "output_type": "display_data"
    }
   ],
   "source": [
    "plt.plot(history.history['loss'])\n",
    "plt.plot(history.history['val_loss'])\n",
    "plt.title('Transformer model loss')\n",
    "plt.ylabel('Loss')\n",
    "plt.xlabel('Epoch')\n",
    "plt.legend(['Train', 'Validation'], loc='upper right')\n",
    "plt.show()"
   ]
  },
  {
   "cell_type": "code",
   "execution_count": null,
   "metadata": {},
   "outputs": [],
   "source": [
    "plt.plot(history.history['accuracy'])\n",
    "plt.plot(history.history['val_accuracy'])\n",
    "plt.title('Transformer model accuracy')\n",
    "plt.ylabel('Accuracy')\n",
    "plt.xlabel('Epoch')\n",
    "plt.legend(['Train', 'Validation'], loc='upper right')\n",
    "plt.show()"
   ]
  },
  {
   "cell_type": "markdown",
   "metadata": {},
   "source": [
    "## CNN/RNN model"
   ]
  },
  {
   "cell_type": "code",
   "execution_count": 238,
   "metadata": {},
   "outputs": [],
   "source": [
    "tokenizer = Tokenizer(num_words=None, filters='', lower=False)\n",
    "def fit_tokenizer(texts):\n",
    "    \"\"\"Fit the tokenizer on the LaTeX text corpus.\"\"\"\n",
    "    tokenizer.fit_on_texts(texts)\n",
    "    vocab_size = len(tokenizer.word_index) + 1\n",
    "    # max_seq_length = max(len(seq) for seq in tokenizer.texts_to_sequences(texts))\n",
    "    acutal_max_seq_length = max(len(seq) for seq in tokenizer.texts_to_sequences(texts))\n",
    "    assert max_seq_length >= acutal_max_seq_length,  f\"max_seq_length ({max_seq_length}) should be greater than or equal to acutal_max_seq_length ({acutal_max_seq_length})\"\n",
    "    print(f\"Vocabulary size: {vocab_size}, Max sequence length: {max_seq_length}\")\n",
    "    return vocab_size, max_seq_length\n",
    "\n",
    "def text_to_sequence(text):\n",
    "    \"\"\"Convert LaTeX text to a sequence of tokens.\"\"\"\n",
    "    return tokenizer.texts_to_sequences([text])[0]\n",
    "\n",
    "def sequence_to_text(sequence):\n",
    "    \"\"\"Convert token sequence back to LaTeX text.\"\"\"\n",
    "    return tokenizer.sequences_to_texts([sequence])[0]\n",
    "    "
   ]
  },
  {
   "cell_type": "code",
   "execution_count": 239,
   "metadata": {},
   "outputs": [
    {
     "name": "stdout",
     "output_type": "stream",
     "text": [
      "Vocabulary size: 513, Max sequence length: 250\n"
     ]
    }
   ],
   "source": [
    "vocab_size, max_seq_length = fit_tokenizer(train_latex_texts)\n",
    "train_sequences = prepare_sequences(train_latex_texts, max_seq_length)\n",
    "max_seq_len1 = max_seq_length - 1\n",
    "train_sequences = np.expand_dims(train_sequences, -1)\n",
    "lstm_units = 256"
   ]
  },
  {
   "cell_type": "code",
   "execution_count": 240,
   "metadata": {
    "id": "eSQExklGAAI7"
   },
   "outputs": [],
   "source": [
    "def build_cnn_encoder(input_shape):\n",
    "    inputs = Input(shape=input_shape)\n",
    "    x = Conv2D(32, (3, 3), activation='relu', padding='same')(inputs)\n",
    "    x = MaxPooling2D((2, 2))(x)\n",
    "    x = Conv2D(64, (3, 3), activation='relu', padding='same')(x)\n",
    "    x = MaxPooling2D((2, 2))(x)\n",
    "    x = Conv2D(128, (3, 3), activation='relu', padding='same')(x)\n",
    "    x = MaxPooling2D((2, 2))(x)\n",
    "    x = Flatten()(x)\n",
    "    x = Dense(EMBEDDING_DIM, activation='relu')(x)\n",
    "    return Model(inputs, x)"
   ]
  },
  {
   "cell_type": "code",
   "execution_count": 242,
   "metadata": {
    "id": "md8Xz7JzAAI7"
   },
   "outputs": [],
   "source": [
    "def build_rnn_encoder(decoder_input, encoder_output, target_vocab_size, max_seq_len_1):\n",
    "\n",
    "    embedding_layer = Embedding(input_dim=target_vocab_size, output_dim=EMBEDDING_DIM, input_length=max_seq_len_1)\n",
    "    embedded_seq = embedding_layer(decoder_input)\n",
    "\n",
    "    decoder_lstm_input = tf.keras.layers.Concatenate(axis=-1)([encoder_output, embedded_seq])\n",
    "    decoder_lstm = LSTM(lstm_units, return_sequences=True)(decoder_lstm_input)\n",
    "    decoder_output = TimeDistributed(Dense(target_vocab_size, activation=\"softmax\"))(decoder_lstm)\n",
    "\n",
    "    return Model(inputs=[decoder_input, encoder_output], outputs= decoder_output)"
   ]
  },
  {
   "cell_type": "code",
   "execution_count": 243,
   "metadata": {
    "id": "xWJwvgriAAI7"
   },
   "outputs": [],
   "source": [
    "def build_model(input_shape, target_vocab_size, max_seq_len_1):\n",
    "    encoder = build_cnn_encoder(input_shape)\n",
    "    image_input = Input(shape=input_shape, name=\"image_input\")\n",
    "\n",
    "    encoder_output = encoder(image_input)\n",
    "    encoder_output = RepeatVector(max_seq_len_1)(encoder_output)  # Repeat encoder output for each time step\n",
    "\n",
    "    decoder_input = Input(shape=(max_seq_len_1,), name=\"decoder_input\")\n",
    "    decoder = build_rnn_encoder(decoder_input, encoder_output, target_vocab_size, max_seq_len_1)\n",
    "    decoder_output = decoder([decoder_input, encoder_output])\n",
    "    return Model(inputs=[image_input, decoder_input], outputs=decoder_output)"
   ]
  },
  {
   "cell_type": "code",
   "execution_count": 244,
   "metadata": {
    "id": "DeU4cNTsAAI7"
   },
   "outputs": [],
   "source": [
    "model = build_model([50, 200, 1], vocab_size, max_seq_len_1)\n",
    "#transformer_model = Transformer(tokenizer, output_layer=output_layer, units=128, dropout_rate=0.5, num_layers=2, num_heads=2)"
   ]
  },
  {
   "cell_type": "code",
   "execution_count": 245,
   "metadata": {
    "id": "ba5W_OZFAAI8"
   },
   "outputs": [
    {
     "name": "stdout",
     "output_type": "stream",
     "text": [
      "Model: \"model_20\"\n",
      "__________________________________________________________________________________________________\n",
      " Layer (type)                Output Shape                 Param #   Connected to                  \n",
      "==================================================================================================\n",
      " image_input (InputLayer)    [(None, 50, 200, 1)]         0         []                            \n",
      "                                                                                                  \n",
      " model_18 (Functional)       (None, 256)                  5008128   ['image_input[0][0]']         \n",
      "                                                                                                  \n",
      " decoder_input (InputLayer)  [(None, 249)]                0         []                            \n",
      "                                                                                                  \n",
      " repeat_vector_4 (RepeatVec  (None, 249, 256)             0         ['model_18[0][0]']            \n",
      " tor)                                                                                             \n",
      "                                                                                                  \n",
      " model_19 (Functional)       (None, 249, 513)             1050625   ['decoder_input[0][0]',       \n",
      "                                                                     'repeat_vector_4[0][0]']     \n",
      "                                                                                                  \n",
      "==================================================================================================\n",
      "Total params: 6058753 (23.11 MB)\n",
      "Trainable params: 6058753 (23.11 MB)\n",
      "Non-trainable params: 0 (0.00 Byte)\n",
      "__________________________________________________________________________________________________\n"
     ]
    }
   ],
   "source": [
    "model.summary()"
   ]
  },
  {
   "cell_type": "code",
   "execution_count": 247,
   "metadata": {
    "id": "eDbtc_4eAAI8"
   },
   "outputs": [],
   "source": [
    "model.compile(optimizer='adam', loss='sparse_categorical_crossentropy', metrics=['accuracy'])\n",
    "#tf.keras.optimizers.AdamW(learning_rate=learning_rate, weight_decay=weight_decay)\n",
    "early_stopping = tf.keras.callbacks.EarlyStopping(\n",
    "    monitor='val_loss',  # Metric to monitor\n",
    "    patience=10,          # Number of epochs with no improvement after which training will be stopped\n",
    "    restore_best_weights=True  # Restore model weights from the epoch with the best value of the monitored metric\n",
    ")"
   ]
  },
  {
   "cell_type": "code",
   "execution_count": 248,
   "metadata": {
    "id": "FZZrLb4DAAI8"
   },
   "outputs": [
    {
     "name": "stdout",
     "output_type": "stream",
     "text": [
      "(50000, 249, 1)\n",
      "(50000, 249, 1)\n",
      "(50000, 250, 1)\n"
     ]
    }
   ],
   "source": [
    "print(train_sequences[:, :-1].shape)\n",
    "print(train_sequences[:, 1:].shape)\n",
    "print(train_sequences.shape)\n",
    "# print(train_sequences[0])"
   ]
  },
  {
   "cell_type": "code",
   "execution_count": 249,
   "metadata": {
    "id": "lzmbXT3WAAI8"
   },
   "outputs": [
    {
     "name": "stdout",
     "output_type": "stream",
     "text": [
      "Epoch 1/100\n",
      "313/313 [==============================] - 25s 72ms/step - loss: 1.0337 - accuracy: 0.8055 - val_loss: 0.8003 - val_accuracy: 0.8388\n",
      "Epoch 2/100\n",
      "313/313 [==============================] - 18s 59ms/step - loss: 0.7396 - accuracy: 0.8450 - val_loss: 0.6911 - val_accuracy: 0.8546\n",
      "Epoch 3/100\n",
      "313/313 [==============================] - 18s 59ms/step - loss: 0.6724 - accuracy: 0.8584 - val_loss: 0.6476 - val_accuracy: 0.8630\n",
      "Epoch 4/100\n",
      "313/313 [==============================] - 19s 59ms/step - loss: 0.6345 - accuracy: 0.8650 - val_loss: 0.6113 - val_accuracy: 0.8699\n",
      "Epoch 5/100\n",
      "313/313 [==============================] - 18s 59ms/step - loss: 0.5985 - accuracy: 0.8724 - val_loss: 0.5780 - val_accuracy: 0.8760\n",
      "Epoch 6/100\n",
      "313/313 [==============================] - 19s 59ms/step - loss: 0.5647 - accuracy: 0.8780 - val_loss: 0.5510 - val_accuracy: 0.8804\n",
      "Epoch 7/100\n",
      "313/313 [==============================] - 19s 59ms/step - loss: 0.5350 - accuracy: 0.8831 - val_loss: 0.5212 - val_accuracy: 0.8856\n",
      "Epoch 8/100\n",
      "313/313 [==============================] - 18s 59ms/step - loss: 0.5115 - accuracy: 0.8870 - val_loss: 0.5001 - val_accuracy: 0.8892\n",
      "Epoch 9/100\n",
      "313/313 [==============================] - 18s 59ms/step - loss: 0.4911 - accuracy: 0.8903 - val_loss: 0.4834 - val_accuracy: 0.8918\n",
      "Epoch 10/100\n",
      "313/313 [==============================] - 19s 59ms/step - loss: 0.4735 - accuracy: 0.8932 - val_loss: 0.4665 - val_accuracy: 0.8945\n",
      "Epoch 11/100\n",
      "313/313 [==============================] - 19s 59ms/step - loss: 0.4587 - accuracy: 0.8957 - val_loss: 0.4552 - val_accuracy: 0.8965\n",
      "Epoch 12/100\n",
      "313/313 [==============================] - 18s 59ms/step - loss: 0.4456 - accuracy: 0.8979 - val_loss: 0.4464 - val_accuracy: 0.8979\n",
      "Epoch 13/100\n",
      "313/313 [==============================] - 18s 59ms/step - loss: 0.4341 - accuracy: 0.8999 - val_loss: 0.4365 - val_accuracy: 0.8997\n",
      "Epoch 14/100\n",
      "313/313 [==============================] - 18s 59ms/step - loss: 0.4234 - accuracy: 0.9018 - val_loss: 0.4313 - val_accuracy: 0.9004\n",
      "Epoch 15/100\n",
      "313/313 [==============================] - 19s 59ms/step - loss: 0.4133 - accuracy: 0.9036 - val_loss: 0.4229 - val_accuracy: 0.9018\n",
      "Epoch 16/100\n",
      "313/313 [==============================] - 19s 59ms/step - loss: 0.4038 - accuracy: 0.9052 - val_loss: 0.4179 - val_accuracy: 0.9025\n",
      "Epoch 17/100\n",
      "313/313 [==============================] - 19s 59ms/step - loss: 0.3948 - accuracy: 0.9069 - val_loss: 0.4129 - val_accuracy: 0.9035\n",
      "Epoch 18/100\n",
      "313/313 [==============================] - 19s 59ms/step - loss: 0.3864 - accuracy: 0.9084 - val_loss: 0.4088 - val_accuracy: 0.9043\n",
      "Epoch 19/100\n",
      "313/313 [==============================] - 19s 59ms/step - loss: 0.3783 - accuracy: 0.9099 - val_loss: 0.4058 - val_accuracy: 0.9047\n",
      "Epoch 20/100\n",
      "313/313 [==============================] - 19s 59ms/step - loss: 0.3705 - accuracy: 0.9114 - val_loss: 0.4021 - val_accuracy: 0.9053\n",
      "Epoch 21/100\n",
      "313/313 [==============================] - 19s 60ms/step - loss: 0.3636 - accuracy: 0.9126 - val_loss: 0.3994 - val_accuracy: 0.9060\n",
      "Epoch 22/100\n",
      "313/313 [==============================] - 19s 59ms/step - loss: 0.3568 - accuracy: 0.9139 - val_loss: 0.3986 - val_accuracy: 0.9061\n",
      "Epoch 23/100\n",
      "313/313 [==============================] - 19s 60ms/step - loss: 0.3505 - accuracy: 0.9150 - val_loss: 0.3972 - val_accuracy: 0.9064\n",
      "Epoch 24/100\n",
      "313/313 [==============================] - 19s 59ms/step - loss: 0.3446 - accuracy: 0.9162 - val_loss: 0.3968 - val_accuracy: 0.9065\n",
      "Epoch 25/100\n",
      "313/313 [==============================] - 19s 59ms/step - loss: 0.3392 - accuracy: 0.9173 - val_loss: 0.3989 - val_accuracy: 0.9061\n",
      "Epoch 26/100\n",
      "313/313 [==============================] - 19s 59ms/step - loss: 0.3339 - accuracy: 0.9183 - val_loss: 0.3959 - val_accuracy: 0.9067\n",
      "Epoch 27/100\n",
      "313/313 [==============================] - 19s 60ms/step - loss: 0.3290 - accuracy: 0.9192 - val_loss: 0.3985 - val_accuracy: 0.9063\n",
      "Epoch 28/100\n",
      "313/313 [==============================] - 19s 60ms/step - loss: 0.3242 - accuracy: 0.9201 - val_loss: 0.3970 - val_accuracy: 0.9068\n",
      "Epoch 29/100\n",
      "313/313 [==============================] - 19s 59ms/step - loss: 0.3199 - accuracy: 0.9210 - val_loss: 0.4004 - val_accuracy: 0.9060\n",
      "Epoch 30/100\n",
      "313/313 [==============================] - 19s 60ms/step - loss: 0.3156 - accuracy: 0.9218 - val_loss: 0.4002 - val_accuracy: 0.9062\n",
      "Epoch 31/100\n",
      "313/313 [==============================] - 19s 60ms/step - loss: 0.3119 - accuracy: 0.9225 - val_loss: 0.4012 - val_accuracy: 0.9063\n",
      "Epoch 32/100\n",
      "313/313 [==============================] - 19s 59ms/step - loss: 0.3081 - accuracy: 0.9233 - val_loss: 0.4022 - val_accuracy: 0.9061\n",
      "Epoch 33/100\n",
      "313/313 [==============================] - 19s 59ms/step - loss: 0.3048 - accuracy: 0.9240 - val_loss: 0.4045 - val_accuracy: 0.9061\n",
      "Epoch 34/100\n",
      "313/313 [==============================] - 19s 60ms/step - loss: 0.3013 - accuracy: 0.9247 - val_loss: 0.4062 - val_accuracy: 0.9055\n",
      "Epoch 35/100\n",
      "313/313 [==============================] - 19s 60ms/step - loss: 0.2982 - accuracy: 0.9253 - val_loss: 0.4081 - val_accuracy: 0.9057\n",
      "Epoch 36/100\n",
      "313/313 [==============================] - 19s 59ms/step - loss: 0.2947 - accuracy: 0.9260 - val_loss: 0.4117 - val_accuracy: 0.9055\n"
     ]
    }
   ],
   "source": [
    "history = model.fit([train_images, train_sequences[:, :-1]],\n",
    "          train_sequences[:, 1:],\n",
    "          epochs=100,\n",
    "          validation_split = 0.2,\n",
    "          batch_size=128, callbacks = [early_stopping])\n"
   ]
  },
  {
   "cell_type": "code",
   "execution_count": 251,
   "metadata": {},
   "outputs": [
    {
     "data": {
      "image/png": "[encoded data removed]",
      "text/plain": [
       "<Figure size 640x480 with 1 Axes>"
      ]
     },
     "metadata": {},
     "output_type": "display_data"
    }
   ],
   "source": [
    "plt.plot(history.history['loss'])\n",
    "plt.plot(history.history['val_loss'])\n",
    "plt.title('Baseline CNN-RNN model loss')\n",
    "plt.ylabel('Loss')\n",
    "plt.xlabel('Epoch')\n",
    "plt.legend(['Train', 'Validation'], loc='upper right')\n",
    "plt.show()"
   ]
  },
  {
   "cell_type": "code",
   "execution_count": 252,
   "metadata": {},
   "outputs": [
    {
     "data": {
      "image/png": "[encoded data removed]",
      "text/plain": [
       "<Figure size 640x480 with 1 Axes>"
      ]
     },
     "metadata": {},
     "output_type": "display_data"
    }
   ],
   "source": [
    "plt.plot(history.history['accuracy'])\n",
    "plt.plot(history.history['val_accuracy'])\n",
    "plt.title('Baseline CNN-RNN model accuracy')\n",
    "plt.ylabel('Accuracy')\n",
    "plt.xlabel('Epoch')\n",
    "plt.legend(['Train', 'Validation'], loc='upper right')\n",
    "plt.show()"
   ]
  },
  {
   "cell_type": "code",
   "execution_count": 253,
   "metadata": {
    "id": "rGz_H92VAAI8"
   },
   "outputs": [],
   "source": [
    "model.save('baseline.keras')"
   ]
  },
  {
   "cell_type": "markdown",
   "metadata": {
    "id": "Jdeua_LzAAI9"
   },
   "source": [
    "# Model Training"
   ]
  },
  {
   "cell_type": "code",
   "execution_count": null,
   "metadata": {
    "id": "ePe5hVCKG0df"
   },
   "outputs": [],
   "source": [
    "with tf.device('/GPU:0'):\n",
    "    model.fit([train_images, train_sequences[:, :-1]],\n",
    "              train_sequences[:, 1:],\n",
    "              epochs=20,\n",
    "              batch_size=128,\n",
    "              validation_split=0.2)\n",
    "\n",
    "from tensorflow.keras.models import load_model\n",
    "model.save('/home/ubuntu/latex_model.keras')\n",
    "\n",
    "#model = load_model('latex_model.h5')\n"
   ]
  },
  {
   "cell_type": "code",
   "execution_count": null,
   "metadata": {
    "id": "Z_u6gxZzWVRk"
   },
   "outputs": [],
   "source": [
    "#dot_img_file =\n",
    "import keras\n",
    "keras.utils.plot_model(model,\n",
    "                       show_shapes=True,\n",
    "                       show_dtype=True,\n",
    "                       show_layer_names=True,\n",
    "                       expand_nested=True,\n",
    "                       show_layer_activations=True,\n",
    "                       )"
   ]
  },
  {
   "cell_type": "code",
   "execution_count": null,
   "metadata": {
    "id": "l_WwX-x7YWRb"
   },
   "outputs": [],
   "source": [
    "import keras\n",
    "keras.utils.plot_model(model,\n",
    "                       show_shapes=True,\n",
    "                       show_dtype=True,\n",
    "                       show_layer_names=True,\n",
    "                       expand_nested=True,\n",
    "                       show_layer_activations=True,\n",
    "                       to_file='/Users/jayaprakash/latex_model.png'\n",
    "                       )"
   ]
  },
  {
   "cell_type": "markdown",
   "metadata": {
    "id": "ixV3kbyDPr8X"
   },
   "source": [
    "# Predict"
   ]
  },
  {
   "cell_type": "code",
   "execution_count": null,
   "metadata": {
    "id": "vjCZXuZ_Jn-x"
   },
   "outputs": [],
   "source": [
    "import numpy as np\n",
    "\n",
    "def predict_latex_sequence(model, image, tokenizer):\n",
    "    \"\"\"\n",
    "    Predict LaTeX sequence from a single image.\n",
    "\n",
    "    Parameters:\n",
    "    - model: Trained Keras model for predicting LaTeX sequence.\n",
    "    - image: Input image (preprocessed to match training dimensions).\n",
    "    - tokenizer: Tokenizer fitted on LaTeX sequences for decoding predictions.\n",
    "    - max_seq_len: Maximum sequence length for the predicted sequence.\n",
    "\n",
    "    Returns:\n",
    "    - latex_sequence: Predicted LaTeX sequence as a string.\n",
    "    \"\"\"\n",
    "    # Prepare input image and initialize the sequence\n",
    "    image = np.expand_dims(image, axis=0)  # Add batch dimension\n",
    "    start_token = tokenizer.word_index[\"<START>\"]\n",
    "    end_token = tokenizer.word_index[\"<END>\"]\n",
    "\n",
    "    # Initial sequence with the start token\n",
    "    sequence = [start_token]\n",
    "\n",
    "    for _ in range(max_seq_len_1):\n",
    "        # Pad the current sequence to match input length\n",
    "        padded_sequence = np.pad(sequence, (0, max_seq_len_1 - len(sequence)), mode='constant')\n",
    "        padded_sequence = np.expand_dims(padded_sequence, axis=0)  # Add batch dimension\n",
    "\n",
    "        # Predict next token\n",
    "        preds = model.predict([image, padded_sequence])\n",
    "        next_token = np.argmax(preds[0, len(sequence) - 1, :])\n",
    "\n",
    "        # Break if end token is reached\n",
    "        if next_token == end_token:\n",
    "            break\n",
    "\n",
    "        # Add the predicted token to the sequence\n",
    "        sequence.append(next_token)\n",
    "\n",
    "    # Decode the token sequence to a string\n",
    "    latex_sequence = tokenizer.sequences_to_texts([sequence[1:]])[0]  # Skip the start token\n",
    "    return latex_sequence\n",
    "\n",
    "predicted_latex = predict_latex_sequence(model, train_images[12], tokenizer)\n",
    "print(\"Predicted LaTeX:\", predicted_latex)\n",
    "#print(\"Original Seq:\", train_sequences[0])\n",
    "print(\"Original Seq:\", train_latex_texts[12])"
   ]
  },
  {
   "cell_type": "code",
   "execution_count": null,
   "metadata": {
    "id": "eIlv7RgvQZ9y"
   },
   "outputs": [],
   "source": []
  },
  {
   "cell_type": "code",
   "execution_count": null,
   "metadata": {
    "id": "T9MKLOc1REDl"
   },
   "outputs": [],
   "source": []
  }
 ],
 "metadata": {
  "colab": {
   "include_colab_link": true,
   "private_outputs": true,
   "provenance": []
  },
  "kernelspec": {
   "display_name": "Python 3 (ipykernel)",
   "language": "python",
   "name": "python3"
  },
  "language_info": {
   "codemirror_mode": {
    "name": "ipython",
    "version": 3
   },
   "file_extension": ".py",
   "mimetype": "text/x-python",
   "name": "python",
   "nbconvert_exporter": "python",
   "pygments_lexer": "ipython3",
   "version": "3.8.10"
  }
 },
 "nbformat": 4,
 "nbformat_minor": 4
}
